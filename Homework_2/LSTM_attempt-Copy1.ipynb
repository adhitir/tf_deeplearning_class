{
 "cells": [
  {
   "cell_type": "code",
   "execution_count": 1,
   "metadata": {},
   "outputs": [
    {
     "name": "stdout",
     "output_type": "stream",
     "text": [
      "WARNING:tensorflow:\n",
      "The TensorFlow contrib module will not be included in TensorFlow 2.0.\n",
      "For more information, please see:\n",
      "  * https://github.com/tensorflow/community/blob/master/rfcs/20180907-contrib-sunset.md\n",
      "  * https://github.com/tensorflow/addons\n",
      "  * https://github.com/tensorflow/io (for I/O related ops)\n",
      "If you depend on functionality not listed there, please file an issue.\n",
      "\n"
     ]
    }
   ],
   "source": [
    "from __future__ import absolute_import, division, print_function, unicode_literals\n",
    "import random\n",
    "import json\n",
    "import os\n",
    "import time\n",
    "import tensorflow as tf\n",
    "from tensorflow.contrib import rnn\n",
    "\n",
    "\n",
    "import matplotlib.pyplot as plt\n",
    "import matplotlib.ticker as ticker\n",
    "#from sklearn.model_selection import train_test_split\n",
    "import tensorflow.contrib.legacy_seq2seq as seq2seq\n",
    "from utilities import show_graph\n",
    "#from util import inv_sigmoid, linear_decay, dec_print_train, dec_print_val, dec_print_test\n",
    "\n",
    "import unicodedata\n",
    "import re\n",
    "import numpy as np\n",
    "import os\n",
    "import io\n",
    "import time\n",
    "import collections\n",
    "import json\n",
    "import string\n",
    "\n",
    "from sklearn.preprocessing import LabelEncoder\n",
    "from sklearn.preprocessing import OneHotEncoder"
   ]
  },
  {
   "cell_type": "code",
   "execution_count": 2,
   "metadata": {},
   "outputs": [],
   "source": [
    "random.seed(0)\n",
    "np.random.seed(0)\n",
    "tf.set_random_seed(0)\n",
    "\n",
    "n_inputs        = 4096\n",
    "n_hidden        = 600\n",
    "val_batch_size  = 100 #100\n",
    "n_frames        = 80\n",
    "max_caption_len = 50\n",
    "forget_bias_red = 1.0\n",
    "forget_bias_gre = 1.0\n",
    "dropout_prob    = 0.5\n",
    "\n",
    "special_tokens  = {'<PAD>': 0, '<BOS>': 1, '<EOS>': 2, '<UNK>': 3}\n",
    "phases = {'train': 0, 'val': 1, 'test': 2}"
   ]
  },
  {
   "cell_type": "code",
   "execution_count": 3,
   "metadata": {},
   "outputs": [],
   "source": [
    "class S2VT:\n",
    "    def __init__(self, vocab_num = 0,lr = 1e-4):\n",
    "\n",
    "        self.vocab_num = vocab_num\n",
    "        self.learning_rate = lr\n",
    "\n",
    "     \n",
    "    def build_model(self, feat, captions=None, cap_len=None, sampling=None, phase=0):\n",
    "\n",
    "        weights = {\n",
    "            'W_feat': tf.Variable( tf.random_uniform([n_inputs, n_hidden], -0.1, 0.1), name='W_feat'), \n",
    "            'W_dec': tf.Variable(tf.random_uniform([n_hidden, self.vocab_num], -0.1, 0.1), name='W_dec')\n",
    "        }\n",
    "        biases = {\n",
    "            'b_feat':  tf.Variable( tf.zeros([n_hidden]), name='b_feat'),\n",
    "            'b_dec': tf.Variable(tf.zeros([self.vocab_num]), name='b_dec')\n",
    "        }   \n",
    "        embeddings = {\n",
    "         'emb': tf.Variable(tf.random_uniform([self.vocab_num, n_hidden], -0.1, 0.1), name='emb')\n",
    "        }\n",
    "\n",
    "        batch_size = tf.shape(feat)[0]\n",
    "\n",
    "        if phase != phases['test']:\n",
    "            # cap_len: (250, 1) -> (250, 50)\n",
    "            cap_mask = tf.sequence_mask(cap_len, max_caption_len, dtype=tf.float32)\n",
    "     \n",
    "        if phase == phases['train']: #  add noise\n",
    "            noise = tf.random_uniform(tf.shape(feat), -0.1, 0.1, dtype=tf.float32)\n",
    "            feat = feat + noise\n",
    "\n",
    "        if phase == phases['train']:\n",
    "            feat = tf.nn.dropout(feat, dropout_prob)\n",
    "\n",
    "        feat = tf.reshape(feat, [-1, n_inputs])\n",
    "        image_emb = tf.matmul(feat, weights['W_feat']) + biases['b_feat']\n",
    "        image_emb = tf.reshape(image_emb, [-1, n_frames, n_hidden])\n",
    "        image_emb = tf.transpose(image_emb, perm=[1, 0, 2])\n",
    "        \n",
    "        with tf.variable_scope('LSTM1'):\n",
    "            lstm_red = tf.nn.rnn_cell.BasicLSTMCell(n_hidden, forget_bias=forget_bias_red, state_is_tuple=True)\n",
    "            if phase == phases['train']:\n",
    "                lstm_red = tf.contrib.rnn.DropoutWrapper(lstm_red, output_keep_prob=dropout_prob)    \n",
    "        with tf.variable_scope('LSTM2'):\n",
    "            lstm_gre = tf.nn.rnn_cell.BasicLSTMCell(n_hidden, forget_bias=forget_bias_gre, state_is_tuple=True)\n",
    "            if phase == phases['train']:\n",
    "                lstm_gre = tf.contrib.rnn.DropoutWrapper(lstm_gre, output_keep_prob=dropout_prob)    \n",
    "\n",
    "        state_red = lstm_red.zero_state(batch_size, dtype=tf.float32)\n",
    "        state_gre = lstm_gre.zero_state(batch_size, dtype=tf.float32)\n",
    "\n",
    "        padding = tf.zeros([batch_size, n_hidden])\n",
    "\n",
    "        h_src = []\n",
    "        for i in range(0, n_frames):\n",
    "            with tf.variable_scope(\"LSTM1\"):\n",
    "                output_red, state_red = lstm_red(image_emb[i,:,:], state_red)\n",
    "            \n",
    "            with tf.variable_scope(\"LSTM2\"):\n",
    "                output_gre, state_gre = lstm_gre(tf.concat([padding, output_red], axis=1), state_gre)\n",
    "                h_src.append(output_gre) # even though padding is augmented, output_gre/state_gre's shape not change\n",
    "\n",
    "        h_src = tf.stack(h_src, axis = 0)\n",
    "\n",
    "        bos = tf.ones([batch_size, n_hidden])\n",
    "        padding_in = tf.zeros([batch_size, n_hidden])\n",
    "\n",
    "        logits = []\n",
    "        max_prob_index = None\n",
    "\n",
    "        \n",
    "\n",
    "        cross_ent_list = []\n",
    "        for i in range(0, max_caption_len):\n",
    "\n",
    "            with tf.variable_scope(\"LSTM1\"):\n",
    "                output_red, state_red = lstm_red(padding_in, state_red)\n",
    "\n",
    "            if i == 0:\n",
    "                with tf.variable_scope(\"LSTM2\"):\n",
    "                    con = tf.concat([bos, output_red], axis=1)\n",
    "                    output_gre, state_gre = lstm_gre(con, state_gre)\n",
    "            else:\n",
    "                if phase == phases['train']:\n",
    "                    if sampling[i] == True:\n",
    "                        feed_in = captions[:, i - 1]\n",
    "                    else:\n",
    "                        feed_in = tf.argmax(logit_words, 1)\n",
    "                else:\n",
    "                    feed_in = tf.argmax(logit_words, 1)\n",
    "                with tf.device(\"/cpu:0\"):\n",
    "                    embed_result = tf.nn.embedding_lookup(embeddings['emb'], feed_in)\n",
    "                with tf.variable_scope(\"LSTM2\"):\n",
    "                    con = tf.concat([embed_result, output_red], axis=1)\n",
    "                    output_gre, state_gre = lstm_gre(con, state_gre)\n",
    "\n",
    "            logit_words = tf.matmul(output_gre, weights['W_dec']) + biases['b_dec']\n",
    "            logits.append(logit_words)\n",
    "\n",
    "            if phase != phases['test']:\n",
    "                labels = captions[:, i]\n",
    "                one_hot_labels = tf.one_hot(labels, self.vocab_num, on_value = 1, off_value = None, axis = 1) \n",
    "                cross_entropy = tf.nn.softmax_cross_entropy_with_logits(logits=logit_words, labels=one_hot_labels)\n",
    "                cross_entropy = cross_entropy * cap_mask[:, i]\n",
    "                cross_ent_list.append(cross_entropy)\n",
    "        \n",
    "        loss = 0.0\n",
    "        if phase != phases['test']:\n",
    "            cross_entropy_tensor = tf.stack(cross_ent_list, 1)\n",
    "            loss = tf.reduce_sum(cross_entropy_tensor, axis=1)\n",
    "            loss = tf.divide(loss, tf.cast(cap_len, tf.float32))\n",
    "            loss = tf.reduce_mean(loss, axis=0)\n",
    "\n",
    "        logits = tf.stack(logits, axis = 0)\n",
    "        logits = tf.reshape(logits, (max_caption_len, batch_size, self.vocab_num))\n",
    "        logits = tf.transpose(logits, [1, 0, 2])\n",
    "        \n",
    "        summary = None\n",
    "        if phase == phases['train']:\n",
    "            summary = tf.summary.scalar('training_loss', loss)\n",
    "        elif phase == phases['val']:\n",
    "            summary = tf.summary.scalar('validation_loss', loss)\n",
    "            \n",
    "\n",
    "        return logits, loss, summary\n",
    "\n",
    "    def inference(self, logits):\n",
    "        \n",
    "        #print('using greedy search...')\n",
    "        dec_pred = tf.argmax(logits, 2)\n",
    "        return dec_pred\n",
    "\n",
    "    def optimize(self, loss_op):\n",
    "\n",
    "        params = tf.trainable_variables()\n",
    "        optimizer = tf.train.AdamOptimizer(self.learning_rate)#.minimize(loss_op)\n",
    "        gradients, variables = zip(*optimizer.compute_gradients(loss_op))\n",
    "        gradients, _ = tf.clip_by_global_norm(gradients, 5.0)\n",
    "        train_op = optimizer.apply_gradients(zip(gradients, params))\n",
    "\n",
    "        return train_op"
   ]
  },
  {
   "cell_type": "code",
   "execution_count": 4,
   "metadata": {},
   "outputs": [],
   "source": [
    "def tokenize(line,token='word'):\n",
    "    if token == 'word':\n",
    "        return [line.split(' ')]\n",
    "    elif token == 'char':\n",
    "        return [list(line)]\n",
    "    else:\n",
    "        print('ERROR: unknown token type '+token)"
   ]
  },
  {
   "cell_type": "code",
   "execution_count": 5,
   "metadata": {},
   "outputs": [],
   "source": [
    "def count_tokens(tokanized_sentences):\n",
    "    # Flatten a list of token lists into a list of tokens\n",
    "    tokens = [tk for line in tokanized_sentences for tk in line]\n",
    "    return collections.Counter(tokens)"
   ]
  },
  {
   "cell_type": "code",
   "execution_count": 6,
   "metadata": {},
   "outputs": [],
   "source": [
    "def parse_data_into_lists(filename,batch_size,feat_filepath, index2token, tokens):\n",
    "    \n",
    "    with open(filename, 'r') as f:\n",
    "        datastore = json.load(f)\n",
    "           \n",
    "    #sentence_set = extract_sentences(filename)\n",
    "    \n",
    "    mult_vids = []\n",
    "    all_sents = []\n",
    "    all_enc_sents = []\n",
    "    all_cap_len = []\n",
    "    all_ids = []\n",
    "    \n",
    "    for data in datastore:\n",
    "        \n",
    "        sentences = data[\"caption\"]\n",
    "        sentences = [word.lower() for word in sentences] #Normalize the case\n",
    "        table = str.maketrans('', '', string.punctuation) #Normalize the punctuation\n",
    "        sentences = [word.translate(table) for word in sentences]\n",
    "        \n",
    "        num_sent = len(sentences)\n",
    "        \n",
    "        all_sents.extend(sentences)\n",
    "        \n",
    "        enc_sents = []\n",
    "        \n",
    "        for sentence in sentences:\n",
    "            \n",
    "            #print(sentence)\n",
    "            tokenized_sentence, encoded_sentence, cap_len = num_encode(sentence,index2token,tokens)\n",
    "            #print(tokenized_sentence)\n",
    "            #print(encoded_sentence)\n",
    "\n",
    "            #print(encoded_sentence)\n",
    "            encoded_sentence = list(encoded_sentence)\n",
    "\n",
    "            enc_sents.append(encoded_sentence)\n",
    "            all_cap_len.append(cap_len)\n",
    "            \n",
    "        all_enc_sents.extend(enc_sents)\n",
    "\n",
    "\n",
    "#         print(all_sents[0])\n",
    "#         print(all_enc_sents[0])\n",
    "#         print(np.shape(all_enc_sents))\n",
    "#         print(np.shape(all_sents))\n",
    "#         print(np.shape(all_cap_len))\n",
    "\n",
    "        #print(len(all_enc_sents))\n",
    "\n",
    "        #sentence_set[i] = sentences \n",
    "        #### Extracting all feature vectors per video\n",
    "        \n",
    "        video_id = data[\"id\"]\n",
    "        features = np.load(feat_filepath.format(video_id))\n",
    "        \n",
    "        for n in range(0,num_sent):\n",
    "            mult_vids.append(features)\n",
    "            all_ids.append(video_id)\n",
    "        \n",
    "        print(\"id: \" + str(data[\"id\"]) + \" processed\")\n",
    "\n",
    "            \n",
    "    return mult_vids, all_sents, all_enc_sents, all_cap_len, all_ids"
   ]
  },
  {
   "cell_type": "code",
   "execution_count": null,
   "metadata": {},
   "outputs": [],
   "source": []
  },
  {
   "cell_type": "code",
   "execution_count": 7,
   "metadata": {},
   "outputs": [],
   "source": [
    "\n",
    "def parse_data_into_batches(filename,batch_size,feat_filepath, index2token, tokens, mult_vids, all_sents, all_enc_sents, all_cap_len, all_ids):\n",
    "    print(all_enc_sents[0:10])\n",
    "\n",
    "    with open(filename, 'r') as f:\n",
    "        datastore = json.load(f)\n",
    "           \n",
    "    vid_batch = {}\n",
    "    sent_batch = {}\n",
    "    enc_sent_batch = {}\n",
    "    cap_len_batch = {}\n",
    "    id_batch = {}\n",
    "    #sentence_set = extract_sentences(filename)\n",
    "    \n",
    "#     mult_vids = []\n",
    "#     all_sents = []\n",
    "#     all_enc_sents = []\n",
    "#     all_cap_len = []\n",
    "    \n",
    "#     for data in datastore:\n",
    "        \n",
    "#         sentences = data[\"caption\"]\n",
    "#         sentences = [word.lower() for word in sentences] #Normalize the case\n",
    "#         table = str.maketrans('', '', string.punctuation) #Normalize the punctuation\n",
    "#         sentences = [word.translate(table) for word in sentences]\n",
    "        \n",
    "#         num_sent = len(sentences)\n",
    "        \n",
    "#         all_sents.extend(sentences)\n",
    "        \n",
    "#         for sentence in sentences:\n",
    "#             tokenized_sentence, encoded_sentence, cap_len = num_encode(sentence,index2token,tokens)\n",
    "            \n",
    "#             #print(encoded_sentence)\n",
    "#             all_enc_sents.append(encoded_sentence)\n",
    "#             all_cap_len.append(cap_len)\n",
    "\n",
    "#         #print(all_enc_sents[0])\n",
    "#         #print(len(all_enc_sents))\n",
    "\n",
    "#         #sentence_set[i] = sentences \n",
    "#         #### Extracting all feature vectors per video\n",
    "        \n",
    "#         video_id = data[\"id\"]\n",
    "#         features = np.load(feat_filepath.format(video_id))\n",
    "        \n",
    "#         for n in range(0,num_sent):\n",
    "#             mult_vids.append(features)\n",
    "            \n",
    "#         #print(\"id: \" + str(data[\"id\"]) + \" processed\")\n",
    "\n",
    "\n",
    "    random.Random(30).shuffle(mult_vids)\n",
    "    random.Random(30).shuffle(all_sents)\n",
    "    random.Random(30).shuffle(all_enc_sents)\n",
    "    random.Random(30).shuffle(all_cap_len)\n",
    "    random.Random(30).shuffle(all_ids)\n",
    "    \n",
    "    #print(all_enc_sents[0:10])\n",
    "    \n",
    "    batches = len(mult_vids)/batch_size\n",
    "    batches = int(batches)\n",
    "        \n",
    "    i = 0\n",
    "    j = 0\n",
    "    \n",
    "    for n in range(0,batches):\n",
    "        if j not in vid_batch:\n",
    "            vid_batch[j] = []\n",
    "            sent_batch[j] = []\n",
    "            enc_sent_batch[j]=[]\n",
    "            cap_len_batch[j] = []\n",
    "\n",
    "            \n",
    "        vid_batch[j] = mult_vids[i:i+batch_size]\n",
    "        sent_batch[j] = all_sents[i:i+batch_size]\n",
    "        enc_sent_batch[j] = all_enc_sents[i:i+batch_size]\n",
    "        cap_len_batch[j] = all_cap_len[i:i+batch_size]\n",
    "        id_batch[j] = all_ids[i:i+batch_size]\n",
    "\n",
    "        print('parsed batch %d' %j)\n",
    "        i = i+batch_size\n",
    "        j = j+1\n",
    "    \n",
    "#     if j not in vid_batch:\n",
    "#         vid_batch[j] = []\n",
    "\n",
    "#     vid_batch[j].append(features)\n",
    "                \n",
    "#     i = i+1\n",
    "\n",
    "#     if i%batch_size == 0:\n",
    "#         j = j+1 \n",
    "    #print(sent_batch[0])\n",
    "    #print(enc_sent_batch[0])\n",
    "            \n",
    "    return vid_batch, sent_batch, enc_sent_batch, cap_len_batch, batches, id_batch"
   ]
  },
  {
   "cell_type": "code",
   "execution_count": null,
   "metadata": {},
   "outputs": [],
   "source": []
  },
  {
   "cell_type": "code",
   "execution_count": null,
   "metadata": {},
   "outputs": [],
   "source": []
  },
  {
   "cell_type": "code",
   "execution_count": 8,
   "metadata": {},
   "outputs": [],
   "source": [
    "def extract_sentences(filename):\n",
    "    \n",
    "    sentence_set = {}\n",
    "    \n",
    "    with open(filename, 'r') as f:\n",
    "        datastore = json.load(f)\n",
    "        \n",
    "    i = 0\n",
    "    for data in datastore:\n",
    "        \n",
    "        #### Extracting only a single sentence per video into a standalone dict\n",
    "\n",
    "        sentences = data[\"caption\"]\n",
    "        sentences = [word.lower() for word in sentences] #Normalize the case\n",
    "        table = str.maketrans('', '', string.punctuation) #Normalize the punctuation\n",
    "        sentences = [word.translate(table) for word in sentences]\n",
    "\n",
    "        sentence_set[i] = sentences #0 for only the first sentence\\\n",
    "        \n",
    "        i = i+1\n",
    "        \n",
    "    return sentence_set"
   ]
  },
  {
   "cell_type": "code",
   "execution_count": 9,
   "metadata": {},
   "outputs": [],
   "source": [
    "# Mapping string tokens to numertical indices.\n",
    "def listVocab(sentence_set):\n",
    "    \n",
    "    PAD_token = 0\n",
    "    BOS_token = 1\n",
    "    EOS_token = 2\n",
    "    UNK_token = 3\n",
    "    \n",
    "    all_tokens = []\n",
    "    word_count = {}\n",
    "    token2index = {\"<PAD>\": 0,\"<BOS>\":1,\"<EOS>\":2,\"<UNK>\":3}\n",
    "    index2token = {PAD_token: \"<PAD>\", BOS_token: \"<BOS>\", EOS_token: \"<EOS>\", UNK_token: \"<UNK>\"}\n",
    "    \n",
    "    for set_i in sentence_set:\n",
    "        sentence_set_i = sentence_set[set_i]\n",
    "        for line in sentence_set_i:\n",
    "#             line = sentence_set[n]\n",
    "            tokenized_captions = tokenize(line) #Seperate the words\n",
    "            all_tokens += tokenized_captions\n",
    "    \n",
    "    counter = count_tokens(all_tokens) #Count the word repeatitions in each set\n",
    "    \n",
    "    counter_dict = counter.items()\n",
    "    counter_sort = sorted(counter_dict, key=lambda x:x[1],reverse=True) #sort by frequency of occurance \n",
    "    #print(counter_sort)\n",
    "\n",
    "    i = len(index2token)\n",
    "    values = [0,1,2,3]\n",
    "    tokens = [\"<PAD>\",\"<BOS>\",\"<EOS>\",\"<UNK>\"]\n",
    "    \n",
    "    for token, freq in counter_sort:\n",
    "        word_count[token] = freq\n",
    "        index2token[i] = token\n",
    "        token2index[token] = i\n",
    "        values += [i]\n",
    "        tokens += [token]\n",
    "        i+=1\n",
    "        \n",
    "    word_count['<PAD>'] = i\n",
    "    word_count['<BOS>'] = i\n",
    "    word_count['<EOS>'] = i\n",
    "    word_count['<UNK>'] = i\n",
    "    \n",
    "    bias_init_vector = np.array([1.0 * word_count[ index2token[i] ] for i in index2token])\n",
    "    bias_init_vector /= np.sum(bias_init_vector) # normalize to frequencies\n",
    "    bias_init_vector = np.log(bias_init_vector)\n",
    "    bias_init_vector -= np.max(bias_init_vector) # shift to nice numeric range\n",
    "    \n",
    "    return [word_count, tokens, values, token2index, index2token, len(index2token),bias_init_vector]"
   ]
  },
  {
   "cell_type": "code",
   "execution_count": 10,
   "metadata": {},
   "outputs": [],
   "source": [
    "def flattenList(nestedList,output): \n",
    "    for i in nestedList: \n",
    "        if type(i) == list: \n",
    "            flattenList(i,output) \n",
    "        else: \n",
    "            output.append(i) \n",
    "            \n",
    "    return output\n",
    "\n",
    "def num_encode(test_sentence,index2token,tokens,tokenized_sentence=[],num_encoded_sentence=[]):\n",
    "    \n",
    "    tokenized_sentence.clear()\n",
    "    num_encoded_sentence.clear()\n",
    "    \n",
    "    tokenized_sentence = [\"<BOS>\"] + tokenize(test_sentence) + [\"<EOS>\"]\n",
    "    #print(tokenized_sentence)\n",
    "    output=[]\n",
    "    tokenized_sentence = flattenList(tokenized_sentence,output)\n",
    "    \n",
    "    cap_len = len(tokenized_sentence)\n",
    "    \n",
    "    while len(tokenized_sentence) < MAX_WORDS:\n",
    "        tokenized_sentence.append(\"<PAD>\")    \n",
    "    \n",
    "    #print(len(tokenized_sentence))\n",
    "    \n",
    "    for ind, token in enumerate(tokenized_sentence):\n",
    "        if token in tokens:\n",
    "            for i in range(0,len(index2token)):\n",
    "                if token == index2token[i]: \n",
    "                    num_encoded_sentence.append(i) \n",
    "                    \n",
    "            #print(\"token exists\")\n",
    "        else:\n",
    "            num_encoded_sentence.append(3)\n",
    "            tokenized_sentence[ind] = tokens[3]\n",
    "            #print(\"token unknown\")\n",
    "            \n",
    "            \n",
    "                \n",
    "    #print(len(num_encoded_sentence))\n",
    "\n",
    "        \n",
    "    return tokenized_sentence, num_encoded_sentence, cap_len"
   ]
  },
  {
   "cell_type": "code",
   "execution_count": 11,
   "metadata": {},
   "outputs": [],
   "source": [
    "\n",
    "# def parse_sentence_data_into_batches(sentence_set, index2token,tokens,batch_size):\n",
    "\n",
    "#     tokenizedsentence_batch = {}\n",
    "#     intencode_batch = {}\n",
    "#     cap_len_batch = {}\n",
    "\n",
    "#     ii = 0\n",
    "#     jj = 0  \n",
    "\n",
    "#     for n in sentence_set:\n",
    "#         sentence = sentence_set[n]\n",
    "\n",
    "#         tokenized_sentence,encoded_sentence, cap_len = num_encode(sentence,index2token,tokens)\n",
    "        \n",
    "#         #print(np.shape(encoded_sentence))\n",
    "\n",
    "#         tokenized_sentence = list(tokenized_sentence)\n",
    "#         encoded_sentence = list(encoded_sentence)\n",
    "\n",
    "#         if jj not in intencode_batch:\n",
    "#             #onehot_batch[jj] = []\n",
    "#             intencode_batch[jj] = []\n",
    "#             tokenizedsentence_batch[jj] = []\n",
    "#             cap_len_batch[jj] = []\n",
    "\n",
    "#         #print(np.shape(onehot_encoded_sentence))    \n",
    "#         #onehot_batch[jj].append(onehot_encoded_sentence)\n",
    "#         intencode_batch[jj].append(encoded_sentence)\n",
    "#         tokenizedsentence_batch[jj].append(tokenized_sentence)\n",
    "#         cap_len_batch[jj].append(cap_len)\n",
    "\n",
    "#         ii = ii+1\n",
    "\n",
    "#         if ii%batch_size == 0:\n",
    "#             jj = jj+1\n",
    "            \n",
    "        \n",
    "#     return tokenizedsentence_batch, intencode_batch, cap_len_batch"
   ]
  },
  {
   "cell_type": "code",
   "execution_count": 12,
   "metadata": {},
   "outputs": [],
   "source": [
    "# with open(filename_train, 'r') as f:\n",
    "#     datastore = json.load(f)\n",
    "    \n",
    "# for data in datastore:\n",
    "#     print(data[\"id\"])\n",
    "    "
   ]
  },
  {
   "cell_type": "code",
   "execution_count": 13,
   "metadata": {},
   "outputs": [
    {
     "name": "stdout",
     "output_type": "stream",
     "text": [
      "There are 6061 unique words in the captions dataset\n",
      "[[1, 4, 8, 726, 444, 4, 54, 2, 0, 0, 0, 0, 0, 0, 0, 0, 0, 0, 0, 0, 0, 0, 0, 0, 0, 0, 0, 0, 0, 0, 0, 0, 0, 0, 0, 0, 0, 0, 0, 0, 0, 0, 0, 0, 0, 0, 0, 0, 0, 0], [1, 4, 8, 1167, 444, 4, 54, 13, 307, 4, 3726, 2, 0, 0, 0, 0, 0, 0, 0, 0, 0, 0, 0, 0, 0, 0, 0, 0, 0, 0, 0, 0, 0, 0, 0, 0, 0, 0, 0, 0, 0, 0, 0, 0, 0, 0, 0, 0, 0, 0], [1, 4, 28, 5, 3727, 47, 45, 153, 37, 653, 6, 116, 456, 11, 4, 54, 536, 3728, 9, 45, 153, 2, 0, 0, 0, 0, 0, 0, 0, 0, 0, 0, 0, 0, 0, 0, 0, 0, 0, 0, 0, 0, 0, 0, 0, 0, 0, 0, 0, 0], [1, 4, 54, 3729, 9, 4, 374, 153, 2, 0, 0, 0, 0, 0, 0, 0, 0, 0, 0, 0, 0, 0, 0, 0, 0, 0, 0, 0, 0, 0, 0, 0, 0, 0, 0, 0, 0, 0, 0, 0, 0, 0, 0, 0, 0, 0, 0, 0, 0, 0], [1, 4, 54, 3730, 9, 6, 153, 11, 4, 8, 134, 565, 307, 10, 653, 6, 1247, 3731, 1168, 456, 13, 798, 45, 153, 47, 2, 0, 0, 0, 0, 0, 0, 0, 0, 0, 0, 0, 0, 0, 0, 0, 0, 0, 0, 0, 0, 0, 0, 0, 0], [1, 4, 54, 5, 3732, 9, 4, 374, 153, 2, 0, 0, 0, 0, 0, 0, 0, 0, 0, 0, 0, 0, 0, 0, 0, 0, 0, 0, 0, 0, 0, 0, 0, 0, 0, 0, 0, 0, 0, 0, 0, 0, 0, 0, 0, 0, 0, 0, 0, 0], [1, 4, 54, 2423, 9, 4, 8, 2, 0, 0, 0, 0, 0, 0, 0, 0, 0, 0, 0, 0, 0, 0, 0, 0, 0, 0, 0, 0, 0, 0, 0, 0, 0, 0, 0, 0, 0, 0, 0, 0, 0, 0, 0, 0, 0, 0, 0, 0, 0, 0], [1, 4, 54, 2423, 9, 4, 8, 2, 0, 0, 0, 0, 0, 0, 0, 0, 0, 0, 0, 0, 0, 0, 0, 0, 0, 0, 0, 0, 0, 0, 0, 0, 0, 0, 0, 0, 0, 0, 0, 0, 0, 0, 0, 0, 0, 0, 0, 0, 0, 0], [1, 4, 41, 321, 1648, 9, 2881, 565, 321, 444, 4, 299, 225, 608, 2, 0, 0, 0, 0, 0, 0, 0, 0, 0, 0, 0, 0, 0, 0, 0, 0, 0, 0, 0, 0, 0, 0, 0, 0, 0, 0, 0, 0, 0, 0, 0, 0, 0, 0, 0], [1, 4, 8, 1167, 444, 4, 54, 13, 326, 565, 798, 45, 153, 653, 6, 299, 1031, 456, 6, 54, 3733, 9, 45, 153, 2, 0, 0, 0, 0, 0, 0, 0, 0, 0, 0, 0, 0, 0, 0, 0, 0, 0, 0, 0, 0, 0, 0, 0, 0, 0]]\n",
      "[[1, 6, 356, 321, 907, 31, 75, 4, 24, 2, 0, 0, 0, 0, 0, 0, 0, 0, 0, 0, 0, 0, 0, 0, 0, 0, 0, 0, 0, 0, 0, 0, 0, 0, 0, 0, 0, 0, 0, 0, 0, 0, 0, 0, 0, 0, 0, 0, 0, 0], [1, 4, 106, 11, 39, 12, 16, 4, 393, 11, 837, 2, 0, 0, 0, 0, 0, 0, 0, 0, 0, 0, 0, 0, 0, 0, 0, 0, 0, 0, 0, 0, 0, 0, 0, 0, 0, 0, 0, 0, 0, 0, 0, 0, 0, 0, 0, 0, 0, 0], [1, 4, 7, 5, 545, 10, 4, 240, 2, 0, 0, 0, 0, 0, 0, 0, 0, 0, 0, 0, 0, 0, 0, 0, 0, 0, 0, 0, 0, 0, 0, 0, 0, 0, 0, 0, 0, 0, 0, 0, 0, 0, 0, 0, 0, 0, 0, 0, 0, 0], [1, 4, 167, 5, 71, 935, 75, 4, 1610, 2, 0, 0, 0, 0, 0, 0, 0, 0, 0, 0, 0, 0, 0, 0, 0, 0, 0, 0, 0, 0, 0, 0, 0, 0, 0, 0, 0, 0, 0, 0, 0, 0, 0, 0, 0, 0, 0, 0, 0, 0], [1, 4, 17, 5, 317, 4, 466, 9, 4, 64, 11, 80, 2, 0, 0, 0, 0, 0, 0, 0, 0, 0, 0, 0, 0, 0, 0, 0, 0, 0, 0, 0, 0, 0, 0, 0, 0, 0, 0, 0, 0, 0, 0, 0, 0, 0, 0, 0, 0, 0], [1, 4, 24, 157, 15, 4, 3520, 1419, 110, 2, 0, 0, 0, 0, 0, 0, 0, 0, 0, 0, 0, 0, 0, 0, 0, 0, 0, 0, 0, 0, 0, 0, 0, 0, 0, 0, 0, 0, 0, 0, 0, 0, 0, 0, 0, 0, 0, 0, 0, 0], [1, 4, 124, 24, 5, 2043, 4, 172, 13, 538, 18, 539, 60, 2, 0, 0, 0, 0, 0, 0, 0, 0, 0, 0, 0, 0, 0, 0, 0, 0, 0, 0, 0, 0, 0, 0, 0, 0, 0, 0, 0, 0, 0, 0, 0, 0, 0, 0, 0, 0], [1, 4, 27, 5, 42, 125, 4, 589, 2, 0, 0, 0, 0, 0, 0, 0, 0, 0, 0, 0, 0, 0, 0, 0, 0, 0, 0, 0, 0, 0, 0, 0, 0, 0, 0, 0, 0, 0, 0, 0, 0, 0, 0, 0, 0, 0, 0, 0, 0, 0], [1, 6, 7, 5, 67, 1500, 10, 6, 44, 2, 0, 0, 0, 0, 0, 0, 0, 0, 0, 0, 0, 0, 0, 0, 0, 0, 0, 0, 0, 0, 0, 0, 0, 0, 0, 0, 0, 0, 0, 0, 0, 0, 0, 0, 0, 0, 0, 0, 0, 0], [1, 6, 41, 748, 4, 1078, 11, 196, 2, 0, 0, 0, 0, 0, 0, 0, 0, 0, 0, 0, 0, 0, 0, 0, 0, 0, 0, 0, 0, 0, 0, 0, 0, 0, 0, 0, 0, 0, 0, 0, 0, 0, 0, 0, 0, 0, 0, 0, 0, 0]]\n",
      "parsed batch 0\n",
      "parsed batch 1\n",
      "parsed batch 2\n",
      "parsed batch 3\n",
      "parsed batch 4\n",
      "parsed batch 5\n",
      "parsed batch 6\n",
      "parsed batch 7\n",
      "parsed batch 8\n",
      "parsed batch 9\n",
      "parsed batch 10\n",
      "parsed batch 11\n",
      "parsed batch 12\n",
      "parsed batch 13\n",
      "parsed batch 14\n",
      "parsed batch 15\n",
      "parsed batch 16\n",
      "parsed batch 17\n",
      "parsed batch 18\n",
      "parsed batch 19\n",
      "parsed batch 20\n",
      "parsed batch 21\n",
      "parsed batch 22\n",
      "parsed batch 23\n",
      "parsed batch 24\n",
      "parsed batch 25\n",
      "parsed batch 26\n",
      "parsed batch 27\n",
      "parsed batch 28\n",
      "parsed batch 29\n",
      "parsed batch 30\n",
      "parsed batch 31\n",
      "parsed batch 32\n",
      "parsed batch 33\n",
      "parsed batch 34\n",
      "parsed batch 35\n",
      "parsed batch 36\n",
      "parsed batch 37\n",
      "parsed batch 38\n",
      "parsed batch 39\n",
      "parsed batch 40\n",
      "parsed batch 41\n",
      "parsed batch 42\n",
      "parsed batch 43\n",
      "parsed batch 44\n",
      "parsed batch 45\n",
      "parsed batch 46\n",
      "parsed batch 47\n",
      "parsed batch 48\n",
      "parsed batch 49\n",
      "parsed batch 50\n",
      "parsed batch 51\n",
      "parsed batch 52\n",
      "parsed batch 53\n",
      "parsed batch 54\n",
      "parsed batch 55\n",
      "parsed batch 56\n",
      "parsed batch 57\n",
      "parsed batch 58\n",
      "parsed batch 59\n",
      "parsed batch 60\n",
      "parsed batch 61\n",
      "parsed batch 62\n",
      "parsed batch 63\n",
      "parsed batch 64\n",
      "parsed batch 65\n",
      "parsed batch 66\n",
      "parsed batch 67\n",
      "parsed batch 68\n",
      "parsed batch 69\n",
      "parsed batch 70\n",
      "parsed batch 71\n",
      "parsed batch 72\n",
      "parsed batch 73\n",
      "parsed batch 74\n",
      "parsed batch 75\n",
      "parsed batch 76\n",
      "parsed batch 77\n",
      "parsed batch 78\n",
      "parsed batch 79\n",
      "parsed batch 80\n",
      "parsed batch 81\n",
      "parsed batch 82\n",
      "parsed batch 83\n",
      "parsed batch 84\n",
      "parsed batch 85\n",
      "parsed batch 86\n",
      "parsed batch 87\n",
      "parsed batch 88\n",
      "parsed batch 89\n",
      "parsed batch 90\n",
      "parsed batch 91\n",
      "parsed batch 92\n",
      "parsed batch 93\n",
      "parsed batch 94\n",
      "parsed batch 95\n",
      "The number of videos in the training set are 24000 and each video has 80 frames with 4096 features/units each\n"
     ]
    }
   ],
   "source": [
    "filename_train = 'MLDS_hw2_1_data/training_label.json'\n",
    "feat_filepath_train = \"MLDS_hw2_1_data/training_data/feat/{}.npy\"\n",
    "\n",
    "ckpt_path = 'saved_model/trained_model.ckpt'\n",
    "\n",
    "# forget_bias_red = 1.0\n",
    "# forget_bias_gre = 1.0\n",
    "# dropout_prob    = 0.5\n",
    "\n",
    "batch_size = 250\n",
    "\n",
    "MAX_WORDS = max_caption_len #max number of words in a caption\n",
    "n_features = n_inputs\n",
    "no_of_frames = n_frames\n",
    "sizeof_sentence= MAX_WORDS\n",
    "learning_rate = 0.0001\n",
    "n_hidden = n_hidden\n",
    "\n",
    "#### PARSE TRAINING DATA #####\n",
    "\n",
    "# Extracting captions for each video\n",
    "sentence_set = extract_sentences(filename_train)\n",
    "\n",
    "word_count, tokens, values, token2index, index2token, n_words, bias_init_vector = listVocab(sentence_set)\n",
    "print(\"There are %d unique words in the captions dataset\" % n_words)\n",
    "\n",
    "mult_vids, all_sents, all_enc_sents, all_cap_len, all_ids = parse_data_into_lists(filename_train,\\\n",
    "                                                                         batch_size,feat_filepath_train,\\\n",
    "                                                                         index2token, tokens)\n",
    "\n",
    "vid_batch, sent_batch, intencode_batch, cap_len_batch, n_batches, id_batch = parse_data_into_batches(filename_train,\\\n",
    "                                                                                           batch_size,\\\n",
    "                                                                                           feat_filepath_train,\\\n",
    "                                                                                           index2token, \\\n",
    "                                                                                           tokens, \\\n",
    "                                                                                           mult_vids, \\\n",
    "                                                                                           all_sents, \\\n",
    "                                                                                           all_enc_sents, \\\n",
    "                                                                                           all_cap_len,\\\n",
    "                                                                                          all_ids)\n",
    "\n",
    "#Parse Training Data into batches\n",
    "# vid_batch, sent_batch, intencode_batch, cap_len_batch, n_batches = parse_data_into_batches(filename_train,batch_size,feat_filepath_train,index2token, tokens)\n",
    "\n",
    "print(\"The number of videos in the training set are %d and each video has 80 frames with 4096 features/units each\" % (n_batches*batch_size))\n",
    "\n",
    "#tokenizedsentence_batch, intencode_batch, cap_len_batch = parse_sentence_data_into_batches(sentence_set,index2token,tokens,batch_size)\n",
    "\n",
    "# # integer encode\n",
    "# label_encoder = LabelEncoder()\n",
    "# integer_encoded = label_encoder.fit_transform(values)\n",
    "# integer_encoded = integer_encoded.reshape(len(integer_encoded), 1)\n",
    "# integer_encoded"
   ]
  },
  {
   "cell_type": "code",
   "execution_count": 14,
   "metadata": {
    "scrolled": true
   },
   "outputs": [],
   "source": [
    "# #### PARSE TESTING DATA #####\n",
    "\n",
    "filename_test = 'MLDS_hw2_1_data/testing_label.json'\n",
    "feat_filepath_test = \"MLDS_hw2_1_data/testing_data/feat/{}.npy\"\n",
    "batch_size_test = 100\n",
    "\n",
    "\n",
    "# #Parse Testing Data into batches\n",
    "# vid_batch_test, n_batches_test = parse_vid_data_into_batches(filename_test,batch_size,feat_filepath_test)\n",
    "# print(\"The number of videos in the test set are %d and each video has 80 frames with 4096 features/units each\" % (n_batches_test*batch_size))\n",
    "\n",
    "# # Extracting captions for each video\n",
    "# sentence_set_test = extract_sentences(filename_test,feat_filepath_test)\n",
    "# tokenizedsentence_batch_test, intencode_batch_test, cap_len_batch_test = parse_sentence_data_into_batches(sentence_set_test,index2token,tokens,batch_size)\n",
    "\n",
    "#### PARSE TRAINING DATA #####\n",
    "\n",
    "# Extracting captions for each video\n",
    "sentence_set = extract_sentences(filename_test)\n",
    "\n",
    "mult_vids, all_sents, all_enc_sents, all_cap_len, all_ids = parse_data_into_lists(filename_test,\\\n",
    "                                                                                  batch_size_test,\\\n",
    "                                                                                  feat_filepath_test,\\\n",
    "                                                                                  index2token,\\\n",
    "                                                                                  tokens)\n",
    "\n",
    "vid_batch_test, sent_batch_test, intencode_batch_test, cap_len_batch_test, n_batches_test, id_batch_test = parse_data_into_batches(filename_test,\\\n",
    "                                                                                           batch_size_test,\\\n",
    "                                                                                           feat_filepath_test,\\\n",
    "                                                                                           index2token, \\\n",
    "                                                                                           tokens, \\\n",
    "                                                                                           mult_vids, \\\n",
    "                                                                                           all_sents, \\\n",
    "                                                                                           all_enc_sents, \\\n",
    "                                                                                           all_cap_len)\n"
   ]
  },
  {
   "cell_type": "code",
   "execution_count": 15,
   "metadata": {},
   "outputs": [],
   "source": [
    "def schedule_sampling(sampling_prob, cap_len_batch):\n",
    "\n",
    "        sampling = np.ones(max_caption_len, dtype = bool)\n",
    "        for l in range(max_caption_len):\n",
    "            if np.random.uniform(0,1,1) < sampling_prob:\n",
    "                sampling[l] = True\n",
    "            else:\n",
    "                sampling[l] = False\n",
    "         \n",
    "        sampling[0] = True\n",
    "        return sampling"
   ]
  },
  {
   "cell_type": "code",
   "execution_count": 16,
   "metadata": {},
   "outputs": [],
   "source": [
    "def inv_sigmoid(num_epo):\n",
    "\n",
    "    # 0.88 to 0.12 (-2.0 to 2.0)\n",
    "    x = np.arange(-2.0, 2.0, (4.0/num_epo))\n",
    "    y = 1/(1 + np.e**x)\n",
    "    #y = np.ones(num_epo)\n",
    "    print(y)\n",
    "    return y"
   ]
  },
  {
   "cell_type": "code",
   "execution_count": 17,
   "metadata": {},
   "outputs": [],
   "source": [
    "def pred_print(pred, cap_len, label, idx2word, batch_size, id_batch):\n",
    "    \n",
    "    print_this = np.random.randint(0, batch_size)\n",
    "    seq=[]\n",
    "    for i in range(0,batch_size):\n",
    "        eos_pred = max_caption_len - 1\n",
    "        eos = cap_len[i] - 1\n",
    "        for j in range(0, max_caption_len):\n",
    "                if pred[i][j] == special_tokens['<EOS>']:\n",
    "                    eos_pred = j\n",
    "                    break\n",
    "        myid = id_batch[i]\n",
    "        pre = list( map (lambda x: idx2word[x] , pred[i][0:eos_pred])  )\n",
    "        lab = list( map (lambda x: idx2word[x] , label[i][0:eos])  )\n",
    "        \n",
    "        pre_no_eos = list( map (lambda x: idx2word[x] , pred[i][0:(eos_pred)])  )\n",
    "        sen = ' '.join([w for w in pre_no_eos])\n",
    "        seq.append(sen)\n",
    "        if i in print_me:      \n",
    "            print('\\nid: ' + str(myid) + '\\nanswer: ' + str(lab) + '\\nprediction: ' + str(pre))\n",
    "            \n",
    "    return seq"
   ]
  },
  {
   "cell_type": "code",
   "execution_count": 18,
   "metadata": {},
   "outputs": [],
   "source": [
    "# samp_prob = inv_sigmoid(num_epochs)\n",
    "# samp_prob"
   ]
  },
  {
   "cell_type": "code",
   "execution_count": 19,
   "metadata": {},
   "outputs": [],
   "source": [
    "# samp = schedule_sampling(samp_prob[epo], caption_lens_batch)\n",
    "# samp"
   ]
  },
  {
   "cell_type": "code",
   "execution_count": null,
   "metadata": {},
   "outputs": [],
   "source": [
    "tf.reset_default_graph()\n",
    "\n",
    "from tqdm import tqdm\n",
    "train_graph = tf.Graph()\n",
    "gpu_config = tf.ConfigProto()\n",
    "gpu_config.gpu_options.allow_growth = True\n",
    "\n",
    "print('train_graph: start')\n",
    "\n",
    "vocab_num = n_words\n",
    "num_epochs = 10\n",
    "num_display_steps = 15\n",
    "num_saver_epochs = 3\n",
    "output_filename = 'output.txt'\n",
    "\n",
    "with train_graph.as_default():\n",
    "    feat = tf.placeholder(tf.float32, [None, n_frames, n_inputs], name='video_features')\n",
    "    captions = tf.placeholder(tf.int32, [None, max_caption_len], name='captions')\n",
    "    sampling = tf.placeholder(tf.bool, [max_caption_len], name='sampling')\n",
    "    cap_len = tf.placeholder(tf.int32, [None], name='cap_len')\n",
    "    model = S2VT(vocab_num=vocab_num, lr=learning_rate)\n",
    "    logits, loss_op, summary = model.build_model(feat, captions, cap_len, sampling, phases['train'])\n",
    "    dec_pred = model.inference(logits)\n",
    "    train_op = model.optimize(loss_op)\n",
    "    saver = tf.train.Saver(max_to_keep=3)\n",
    "\n",
    "    init = tf.global_variables_initializer()\n",
    "train_sess = tf.Session(graph=train_graph, config=gpu_config)\n",
    "\n",
    "\n",
    "with val_graph.as_default():\n",
    "    feat_val = tf.placeholder(tf.float32, [None, n_frames, n_inputs], name='video_features')\n",
    "    captions_val = tf.placeholder(tf.int32, [None, max_caption_len], name='captions')\n",
    "    cap_len_val = tf.placeholder(tf.int32, [None], name='cap_len')\n",
    "\n",
    "    model_val = S2VT(vocab_num=vocab_num, with_attention=FLAGS.with_attention, lr=FLAGS.learning_rate)\n",
    "    logits_val, loss_op_val, summary_val = model_val.build_model(feat_val, \n",
    "                captions_val, cap_len_val, phase=phases['val'])\n",
    "    dec_pred_val = model_val.inference(logits_val)\n",
    "\n",
    "    val_saver = tf.train.Saver(max_to_keep=3)\n",
    "    \n",
    "val_sess = tf.Session(graph=val_graph, config=gpu_config)"
   ]
  },
  {
   "cell_type": "code",
   "execution_count": 20,
   "metadata": {},
   "outputs": [
    {
     "name": "stdout",
     "output_type": "stream",
     "text": [
      "train_graph: start\n",
      "WARNING:tensorflow:From <ipython-input-3-6342e34cae7d>:36: calling dropout (from tensorflow.python.ops.nn_ops) with keep_prob is deprecated and will be removed in a future version.\n",
      "Instructions for updating:\n",
      "Please use `rate` instead of `keep_prob`. Rate should be set to `rate = 1 - keep_prob`.\n",
      "WARNING:tensorflow:From <ipython-input-3-6342e34cae7d>:44: BasicLSTMCell.__init__ (from tensorflow.python.ops.rnn_cell_impl) is deprecated and will be removed in a future version.\n",
      "Instructions for updating:\n",
      "This class is equivalent as tf.keras.layers.LSTMCell, and will be replaced by that in Tensorflow 2.0.\n",
      "WARNING:tensorflow:From /home/adhitir/.conda/envs/tf_class/lib/python3.7/site-packages/tensorflow_core/python/ops/rnn_cell_impl.py:735: Layer.add_variable (from tensorflow.python.keras.engine.base_layer) is deprecated and will be removed in a future version.\n",
      "Instructions for updating:\n",
      "Please use `layer.add_weight` method instead.\n",
      "WARNING:tensorflow:From /home/adhitir/.conda/envs/tf_class/lib/python3.7/site-packages/tensorflow_core/python/ops/rnn_cell_impl.py:739: calling Zeros.__init__ (from tensorflow.python.ops.init_ops) with dtype is deprecated and will be removed in a future version.\n",
      "Instructions for updating:\n",
      "Call initializer instance with the dtype argument instead of passing it to the constructor\n",
      "WARNING:tensorflow:From <ipython-input-3-6342e34cae7d>:106: softmax_cross_entropy_with_logits (from tensorflow.python.ops.nn_ops) is deprecated and will be removed in a future version.\n",
      "Instructions for updating:\n",
      "\n",
      "Future major versions of TensorFlow will allow gradients to flow\n",
      "into the labels input on backprop by default.\n",
      "\n",
      "See `tf.nn.softmax_cross_entropy_with_logits_v2`.\n",
      "\n",
      "WARNING:tensorflow:From /home/adhitir/.conda/envs/tf_class/lib/python3.7/site-packages/tensorflow_core/python/ops/clip_ops.py:301: where (from tensorflow.python.ops.array_ops) is deprecated and will be removed in a future version.\n",
      "Instructions for updating:\n",
      "Use tf.where in 2.0, which has the same broadcast rule as np.where\n"
     ]
    },
    {
     "name": "stderr",
     "output_type": "stream",
     "text": [
      "\r",
      "  0%|          | 0/10 [00:00<?, ?it/s]"
     ]
    },
    {
     "name": "stdout",
     "output_type": "stream",
     "text": [
      "[0.88079708 0.83201839 0.76852478 0.68997448 0.59868766 0.5\n",
      " 0.40131234 0.31002552 0.23147522 0.16798161]\n"
     ]
    },
    {
     "name": "stderr",
     "output_type": "stream",
     "text": [
      "\r",
      "Epoch 0, step 0/96, (Training Loss: 8.7123, samp_prob: 0.8808):   0%|          | 0/10 [00:45<?, ?it/s]"
     ]
    },
    {
     "name": "stdout",
     "output_type": "stream",
     "text": [
      "0\n",
      "\n",
      "[FINISHED] Epoch 0, (Training Loss (per epoch): 8.7123 samp_prob: 0.8808)\n"
     ]
    },
    {
     "name": "stderr",
     "output_type": "stream",
     "text": [
      "\r",
      "Epoch 0, step 1/96, (Training Loss: 8.5531, samp_prob: 0.8808):   0%|          | 0/10 [01:31<?, ?it/s]"
     ]
    },
    {
     "name": "stdout",
     "output_type": "stream",
     "text": [
      "[[2243 5428 1820 ... 2847 5628 2590]\n",
      " [   1  223  256 ... 1080 4948 1686]\n",
      " [ 247  329 1904 ... 1397 5851 2069]\n",
      " ...\n",
      " [ 160 3551 2378 ...  525 2919 3327]\n",
      " [1761 4336 4804 ... 2627 2659 1194]\n",
      " [3837 6004 1061 ...  557 4713  962]]\n",
      "\n",
      "[Train. Prediction] Epoch 0, step 1/96......\n",
      "\n",
      "id: 125\n",
      "answer: ['<BOS>', 'a', 'woman', 'is', 'applying', 'cosmetics', 'to', 'her', 'eyelid']\n",
      "prediction: ['occurring', 'compressions', 'boiled', 'cheesy', 'trainer', 'thing', 'cry', 'boiled', 'streaks', 'fours', 'sailboat', 'spinning', 'rolercoaster', 'flour', 'current', 'crackers', 'leopard', 'treatment', 'robot', 'frowns', 'breaddough', 'strumming', 'mixes', 'swimmers', 'floater', 'woke', 'point', 'wreaths', 'dolls', 'pulled', 'shaved', 'transfers', 'sautes', 'superman', 'caressing', 'swallows', 'slam', 'fifth', 'carved', 'persona', 'apart', 'noises', 'playground', 'smeone', 'kicked', 'boulders', 'winning', 'foxes', 'aside']\n",
      "1\n",
      "\n",
      "[FINISHED] Epoch 0, (Training Loss (per epoch): 17.2654 samp_prob: 0.8808)\n"
     ]
    },
    {
     "name": "stderr",
     "output_type": "stream",
     "text": [
      "\r",
      "Epoch 0, step 2/96, (Training Loss: 8.3850, samp_prob: 0.8808):   0%|          | 0/10 [01:39<?, ?it/s]"
     ]
    },
    {
     "name": "stdout",
     "output_type": "stream",
     "text": [
      "2\n",
      "\n",
      "[FINISHED] Epoch 0, (Training Loss (per epoch): 25.6505 samp_prob: 0.8808)\n"
     ]
    },
    {
     "name": "stderr",
     "output_type": "stream",
     "text": [
      "\r",
      "Epoch 0, step 3/96, (Training Loss: 8.2120, samp_prob: 0.8808):   0%|          | 0/10 [01:47<?, ?it/s]"
     ]
    },
    {
     "name": "stdout",
     "output_type": "stream",
     "text": [
      "3\n",
      "\n",
      "[FINISHED] Epoch 0, (Training Loss (per epoch): 33.8624 samp_prob: 0.8808)\n"
     ]
    },
    {
     "name": "stderr",
     "output_type": "stream",
     "text": [
      "\r",
      "Epoch 0, step 4/96, (Training Loss: 7.9930, samp_prob: 0.8808):   0%|          | 0/10 [01:54<?, ?it/s]"
     ]
    },
    {
     "name": "stdout",
     "output_type": "stream",
     "text": [
      "4\n",
      "\n",
      "[FINISHED] Epoch 0, (Training Loss (per epoch): 41.8554 samp_prob: 0.8808)\n"
     ]
    },
    {
     "name": "stderr",
     "output_type": "stream",
     "text": [
      "\r",
      "Epoch 0, step 5/96, (Training Loss: 7.8038, samp_prob: 0.8808):   0%|          | 0/10 [02:02<?, ?it/s]"
     ]
    },
    {
     "name": "stdout",
     "output_type": "stream",
     "text": [
      "5\n",
      "\n",
      "[FINISHED] Epoch 0, (Training Loss (per epoch): 49.6592 samp_prob: 0.8808)\n"
     ]
    },
    {
     "name": "stderr",
     "output_type": "stream",
     "text": [
      "\r",
      "Epoch 0, step 6/96, (Training Loss: 7.5463, samp_prob: 0.8808):   0%|          | 0/10 [02:10<?, ?it/s]"
     ]
    },
    {
     "name": "stdout",
     "output_type": "stream",
     "text": [
      "6\n",
      "\n",
      "[FINISHED] Epoch 0, (Training Loss (per epoch): 57.2056 samp_prob: 0.8808)\n"
     ]
    },
    {
     "name": "stderr",
     "output_type": "stream",
     "text": [
      "\r",
      "Epoch 0, step 7/96, (Training Loss: 7.3709, samp_prob: 0.8808):   0%|          | 0/10 [02:17<?, ?it/s]"
     ]
    },
    {
     "name": "stdout",
     "output_type": "stream",
     "text": [
      "7\n",
      "\n",
      "[FINISHED] Epoch 0, (Training Loss (per epoch): 64.5765 samp_prob: 0.8808)\n"
     ]
    },
    {
     "name": "stderr",
     "output_type": "stream",
     "text": [
      "\r",
      "Epoch 0, step 8/96, (Training Loss: 7.0762, samp_prob: 0.8808):   0%|          | 0/10 [02:25<?, ?it/s]"
     ]
    },
    {
     "name": "stdout",
     "output_type": "stream",
     "text": [
      "8\n",
      "\n",
      "[FINISHED] Epoch 0, (Training Loss (per epoch): 71.6527 samp_prob: 0.8808)\n"
     ]
    },
    {
     "name": "stderr",
     "output_type": "stream",
     "text": [
      "\r",
      "Epoch 0, step 9/96, (Training Loss: 6.8165, samp_prob: 0.8808):   0%|          | 0/10 [02:33<?, ?it/s]"
     ]
    },
    {
     "name": "stdout",
     "output_type": "stream",
     "text": [
      "9\n",
      "\n",
      "[FINISHED] Epoch 0, (Training Loss (per epoch): 78.4691 samp_prob: 0.8808)\n"
     ]
    },
    {
     "name": "stderr",
     "output_type": "stream",
     "text": [
      "\r",
      "Epoch 0, step 10/96, (Training Loss: 6.5085, samp_prob: 0.8808):   0%|          | 0/10 [02:40<?, ?it/s]"
     ]
    },
    {
     "name": "stdout",
     "output_type": "stream",
     "text": [
      "10\n",
      "\n",
      "[FINISHED] Epoch 0, (Training Loss (per epoch): 84.9776 samp_prob: 0.8808)\n"
     ]
    },
    {
     "name": "stderr",
     "output_type": "stream",
     "text": [
      "\r",
      "Epoch 0, step 11/96, (Training Loss: 6.3459, samp_prob: 0.8808):   0%|          | 0/10 [02:48<?, ?it/s]"
     ]
    },
    {
     "name": "stdout",
     "output_type": "stream",
     "text": [
      "11\n",
      "\n",
      "[FINISHED] Epoch 0, (Training Loss (per epoch): 91.3236 samp_prob: 0.8808)\n"
     ]
    },
    {
     "name": "stderr",
     "output_type": "stream",
     "text": [
      "\r",
      "Epoch 0, step 12/96, (Training Loss: 6.1301, samp_prob: 0.8808):   0%|          | 0/10 [02:56<?, ?it/s]"
     ]
    },
    {
     "name": "stdout",
     "output_type": "stream",
     "text": [
      "12\n",
      "\n",
      "[FINISHED] Epoch 0, (Training Loss (per epoch): 97.4536 samp_prob: 0.8808)\n"
     ]
    },
    {
     "name": "stderr",
     "output_type": "stream",
     "text": [
      "\r",
      "Epoch 0, step 13/96, (Training Loss: 6.0999, samp_prob: 0.8808):   0%|          | 0/10 [03:03<?, ?it/s]"
     ]
    },
    {
     "name": "stdout",
     "output_type": "stream",
     "text": [
      "13\n",
      "\n",
      "[FINISHED] Epoch 0, (Training Loss (per epoch): 103.5535 samp_prob: 0.8808)\n"
     ]
    },
    {
     "name": "stderr",
     "output_type": "stream",
     "text": [
      "\r",
      "Epoch 0, step 14/96, (Training Loss: 5.9854, samp_prob: 0.8808):   0%|          | 0/10 [03:11<?, ?it/s]"
     ]
    },
    {
     "name": "stdout",
     "output_type": "stream",
     "text": [
      "14\n",
      "\n",
      "[FINISHED] Epoch 0, (Training Loss (per epoch): 109.5389 samp_prob: 0.8808)\n"
     ]
    },
    {
     "name": "stderr",
     "output_type": "stream",
     "text": [
      "\r",
      "Epoch 0, step 15/96, (Training Loss: 5.9059, samp_prob: 0.8808):   0%|          | 0/10 [03:19<?, ?it/s]"
     ]
    },
    {
     "name": "stdout",
     "output_type": "stream",
     "text": [
      "15\n",
      "\n",
      "[FINISHED] Epoch 0, (Training Loss (per epoch): 115.4448 samp_prob: 0.8808)\n"
     ]
    },
    {
     "name": "stderr",
     "output_type": "stream",
     "text": [
      "\r",
      "Epoch 0, step 16/96, (Training Loss: 5.7722, samp_prob: 0.8808):   0%|          | 0/10 [03:27<?, ?it/s]"
     ]
    },
    {
     "name": "stdout",
     "output_type": "stream",
     "text": [
      "[[1 4 4 ... 2 2 2]\n",
      " [1 4 4 ... 2 2 2]\n",
      " [1 4 4 ... 2 2 2]\n",
      " ...\n",
      " [1 4 4 ... 2 2 2]\n",
      " [1 4 4 ... 2 2 2]\n",
      " [1 4 4 ... 2 2 2]]\n",
      "\n",
      "[Train. Prediction] Epoch 0, step 16/96......\n",
      "\n",
      "id: 124\n",
      "answer: ['<BOS>', 'the', 'man', 'is', 'singing']\n",
      "prediction: ['<BOS>', 'a', 'a', 'a', 'a', 'a', 'a', 'a', 'a']\n",
      "16\n",
      "\n",
      "[FINISHED] Epoch 0, (Training Loss (per epoch): 121.2169 samp_prob: 0.8808)\n"
     ]
    },
    {
     "name": "stderr",
     "output_type": "stream",
     "text": [
      "\r",
      "Epoch 0, step 17/96, (Training Loss: 5.6653, samp_prob: 0.8808):   0%|          | 0/10 [03:34<?, ?it/s]"
     ]
    },
    {
     "name": "stdout",
     "output_type": "stream",
     "text": [
      "17\n",
      "\n",
      "[FINISHED] Epoch 0, (Training Loss (per epoch): 126.8823 samp_prob: 0.8808)\n"
     ]
    },
    {
     "name": "stderr",
     "output_type": "stream",
     "text": [
      "\r",
      "Epoch 0, step 18/96, (Training Loss: 5.5787, samp_prob: 0.8808):   0%|          | 0/10 [03:42<?, ?it/s]"
     ]
    },
    {
     "name": "stdout",
     "output_type": "stream",
     "text": [
      "18\n",
      "\n",
      "[FINISHED] Epoch 0, (Training Loss (per epoch): 132.4610 samp_prob: 0.8808)\n"
     ]
    },
    {
     "name": "stderr",
     "output_type": "stream",
     "text": [
      "\r",
      "Epoch 0, step 19/96, (Training Loss: 5.4477, samp_prob: 0.8808):   0%|          | 0/10 [03:50<?, ?it/s]"
     ]
    },
    {
     "name": "stdout",
     "output_type": "stream",
     "text": [
      "19\n",
      "\n",
      "[FINISHED] Epoch 0, (Training Loss (per epoch): 137.9087 samp_prob: 0.8808)\n"
     ]
    },
    {
     "name": "stderr",
     "output_type": "stream",
     "text": [
      "\r",
      "Epoch 0, step 20/96, (Training Loss: 5.5848, samp_prob: 0.8808):   0%|          | 0/10 [03:58<?, ?it/s]"
     ]
    },
    {
     "name": "stdout",
     "output_type": "stream",
     "text": [
      "20\n",
      "\n",
      "[FINISHED] Epoch 0, (Training Loss (per epoch): 143.4935 samp_prob: 0.8808)\n"
     ]
    },
    {
     "name": "stderr",
     "output_type": "stream",
     "text": [
      "\r",
      "Epoch 0, step 21/96, (Training Loss: 5.4953, samp_prob: 0.8808):   0%|          | 0/10 [04:05<?, ?it/s]"
     ]
    },
    {
     "name": "stdout",
     "output_type": "stream",
     "text": [
      "21\n",
      "\n",
      "[FINISHED] Epoch 0, (Training Loss (per epoch): 148.9888 samp_prob: 0.8808)\n"
     ]
    },
    {
     "name": "stderr",
     "output_type": "stream",
     "text": [
      "\r",
      "Epoch 0, step 22/96, (Training Loss: 5.3883, samp_prob: 0.8808):   0%|          | 0/10 [04:13<?, ?it/s]"
     ]
    },
    {
     "name": "stdout",
     "output_type": "stream",
     "text": [
      "22\n",
      "\n",
      "[FINISHED] Epoch 0, (Training Loss (per epoch): 154.3771 samp_prob: 0.8808)\n"
     ]
    },
    {
     "name": "stderr",
     "output_type": "stream",
     "text": [
      "\r",
      "Epoch 0, step 23/96, (Training Loss: 5.4415, samp_prob: 0.8808):   0%|          | 0/10 [04:20<?, ?it/s]"
     ]
    },
    {
     "name": "stdout",
     "output_type": "stream",
     "text": [
      "23\n",
      "\n",
      "[FINISHED] Epoch 0, (Training Loss (per epoch): 159.8186 samp_prob: 0.8808)\n"
     ]
    },
    {
     "name": "stderr",
     "output_type": "stream",
     "text": [
      "\r",
      "Epoch 0, step 24/96, (Training Loss: 5.5368, samp_prob: 0.8808):   0%|          | 0/10 [04:28<?, ?it/s]"
     ]
    },
    {
     "name": "stdout",
     "output_type": "stream",
     "text": [
      "24\n",
      "\n",
      "[FINISHED] Epoch 0, (Training Loss (per epoch): 165.3555 samp_prob: 0.8808)\n"
     ]
    },
    {
     "name": "stderr",
     "output_type": "stream",
     "text": [
      "\r",
      "Epoch 0, step 25/96, (Training Loss: 5.2621, samp_prob: 0.8808):   0%|          | 0/10 [04:36<?, ?it/s]"
     ]
    },
    {
     "name": "stdout",
     "output_type": "stream",
     "text": [
      "25\n",
      "\n",
      "[FINISHED] Epoch 0, (Training Loss (per epoch): 170.6176 samp_prob: 0.8808)\n"
     ]
    },
    {
     "name": "stderr",
     "output_type": "stream",
     "text": [
      "\r",
      "Epoch 0, step 26/96, (Training Loss: 5.3219, samp_prob: 0.8808):   0%|          | 0/10 [04:44<?, ?it/s]"
     ]
    },
    {
     "name": "stdout",
     "output_type": "stream",
     "text": [
      "26\n",
      "\n",
      "[FINISHED] Epoch 0, (Training Loss (per epoch): 175.9395 samp_prob: 0.8808)\n"
     ]
    },
    {
     "name": "stderr",
     "output_type": "stream",
     "text": [
      "\r",
      "Epoch 0, step 27/96, (Training Loss: 5.2532, samp_prob: 0.8808):   0%|          | 0/10 [04:51<?, ?it/s]"
     ]
    },
    {
     "name": "stdout",
     "output_type": "stream",
     "text": [
      "27\n",
      "\n",
      "[FINISHED] Epoch 0, (Training Loss (per epoch): 181.1928 samp_prob: 0.8808)\n"
     ]
    },
    {
     "name": "stderr",
     "output_type": "stream",
     "text": [
      "\r",
      "Epoch 0, step 28/96, (Training Loss: 5.1096, samp_prob: 0.8808):   0%|          | 0/10 [04:59<?, ?it/s]"
     ]
    },
    {
     "name": "stdout",
     "output_type": "stream",
     "text": [
      "28\n",
      "\n",
      "[FINISHED] Epoch 0, (Training Loss (per epoch): 186.3024 samp_prob: 0.8808)\n"
     ]
    },
    {
     "name": "stderr",
     "output_type": "stream",
     "text": [
      "\r",
      "Epoch 0, step 29/96, (Training Loss: 5.2470, samp_prob: 0.8808):   0%|          | 0/10 [05:06<?, ?it/s]"
     ]
    },
    {
     "name": "stdout",
     "output_type": "stream",
     "text": [
      "29\n",
      "\n",
      "[FINISHED] Epoch 0, (Training Loss (per epoch): 191.5494 samp_prob: 0.8808)\n"
     ]
    },
    {
     "name": "stderr",
     "output_type": "stream",
     "text": [
      "\r",
      "Epoch 0, step 30/96, (Training Loss: 5.2409, samp_prob: 0.8808):   0%|          | 0/10 [05:14<?, ?it/s]"
     ]
    },
    {
     "name": "stdout",
     "output_type": "stream",
     "text": [
      "30\n",
      "\n",
      "[FINISHED] Epoch 0, (Training Loss (per epoch): 196.7903 samp_prob: 0.8808)\n"
     ]
    },
    {
     "name": "stderr",
     "output_type": "stream",
     "text": [
      "\r",
      "Epoch 0, step 31/96, (Training Loss: 5.1575, samp_prob: 0.8808):   0%|          | 0/10 [05:22<?, ?it/s]"
     ]
    },
    {
     "name": "stdout",
     "output_type": "stream",
     "text": [
      "[[1 6 4 ... 2 2 2]\n",
      " [1 4 4 ... 2 2 2]\n",
      " [1 4 4 ... 2 2 2]\n",
      " ...\n",
      " [1 4 4 ... 2 2 2]\n",
      " [1 4 4 ... 2 2 2]\n",
      " [1 4 4 ... 2 2 2]]\n",
      "\n",
      "[Train. Prediction] Epoch 0, step 31/96......\n",
      "\n",
      "id: 0\n",
      "answer: ['<BOS>', 'the', 'soccer', 'teams', 'kicked', 'the', 'ball']\n",
      "prediction: ['<BOS>', 'the', 'a', 'the']\n",
      "31\n",
      "\n",
      "[FINISHED] Epoch 0, (Training Loss (per epoch): 201.9478 samp_prob: 0.8808)\n"
     ]
    },
    {
     "name": "stderr",
     "output_type": "stream",
     "text": [
      "\r",
      "Epoch 0, step 32/96, (Training Loss: 5.1944, samp_prob: 0.8808):   0%|          | 0/10 [05:30<?, ?it/s]"
     ]
    },
    {
     "name": "stdout",
     "output_type": "stream",
     "text": [
      "32\n",
      "\n",
      "[FINISHED] Epoch 0, (Training Loss (per epoch): 207.1422 samp_prob: 0.8808)\n"
     ]
    },
    {
     "name": "stderr",
     "output_type": "stream",
     "text": [
      "\r",
      "Epoch 0, step 33/96, (Training Loss: 5.1365, samp_prob: 0.8808):   0%|          | 0/10 [05:37<?, ?it/s]"
     ]
    },
    {
     "name": "stdout",
     "output_type": "stream",
     "text": [
      "33\n",
      "\n",
      "[FINISHED] Epoch 0, (Training Loss (per epoch): 212.2786 samp_prob: 0.8808)\n"
     ]
    },
    {
     "name": "stderr",
     "output_type": "stream",
     "text": [
      "\r",
      "Epoch 0, step 34/96, (Training Loss: 5.1325, samp_prob: 0.8808):   0%|          | 0/10 [05:45<?, ?it/s]"
     ]
    },
    {
     "name": "stdout",
     "output_type": "stream",
     "text": [
      "34\n",
      "\n",
      "[FINISHED] Epoch 0, (Training Loss (per epoch): 217.4111 samp_prob: 0.8808)\n"
     ]
    },
    {
     "name": "stderr",
     "output_type": "stream",
     "text": [
      "\r",
      "Epoch 0, step 35/96, (Training Loss: 5.0868, samp_prob: 0.8808):   0%|          | 0/10 [05:53<?, ?it/s]"
     ]
    },
    {
     "name": "stdout",
     "output_type": "stream",
     "text": [
      "35\n",
      "\n",
      "[FINISHED] Epoch 0, (Training Loss (per epoch): 222.4979 samp_prob: 0.8808)\n"
     ]
    },
    {
     "name": "stderr",
     "output_type": "stream",
     "text": [
      "\r",
      "Epoch 0, step 36/96, (Training Loss: 5.0772, samp_prob: 0.8808):   0%|          | 0/10 [06:00<?, ?it/s]"
     ]
    },
    {
     "name": "stdout",
     "output_type": "stream",
     "text": [
      "36\n",
      "\n",
      "[FINISHED] Epoch 0, (Training Loss (per epoch): 227.5751 samp_prob: 0.8808)\n"
     ]
    },
    {
     "name": "stderr",
     "output_type": "stream",
     "text": [
      "\r",
      "Epoch 0, step 37/96, (Training Loss: 5.0435, samp_prob: 0.8808):   0%|          | 0/10 [06:08<?, ?it/s]"
     ]
    },
    {
     "name": "stdout",
     "output_type": "stream",
     "text": [
      "37\n",
      "\n",
      "[FINISHED] Epoch 0, (Training Loss (per epoch): 232.6187 samp_prob: 0.8808)\n"
     ]
    },
    {
     "name": "stderr",
     "output_type": "stream",
     "text": [
      "\r",
      "Epoch 0, step 38/96, (Training Loss: 4.9314, samp_prob: 0.8808):   0%|          | 0/10 [06:16<?, ?it/s]"
     ]
    },
    {
     "name": "stdout",
     "output_type": "stream",
     "text": [
      "38\n",
      "\n",
      "[FINISHED] Epoch 0, (Training Loss (per epoch): 237.5501 samp_prob: 0.8808)\n"
     ]
    },
    {
     "name": "stderr",
     "output_type": "stream",
     "text": [
      "\r",
      "Epoch 0, step 39/96, (Training Loss: 4.9560, samp_prob: 0.8808):   0%|          | 0/10 [06:23<?, ?it/s]"
     ]
    },
    {
     "name": "stdout",
     "output_type": "stream",
     "text": [
      "39\n",
      "\n",
      "[FINISHED] Epoch 0, (Training Loss (per epoch): 242.5060 samp_prob: 0.8808)\n"
     ]
    },
    {
     "name": "stderr",
     "output_type": "stream",
     "text": [
      "\r",
      "Epoch 0, step 40/96, (Training Loss: 4.9066, samp_prob: 0.8808):   0%|          | 0/10 [06:31<?, ?it/s]"
     ]
    },
    {
     "name": "stdout",
     "output_type": "stream",
     "text": [
      "40\n",
      "\n",
      "[FINISHED] Epoch 0, (Training Loss (per epoch): 247.4127 samp_prob: 0.8808)\n"
     ]
    },
    {
     "name": "stderr",
     "output_type": "stream",
     "text": [
      "\r",
      "Epoch 0, step 41/96, (Training Loss: 4.8883, samp_prob: 0.8808):   0%|          | 0/10 [06:38<?, ?it/s]"
     ]
    },
    {
     "name": "stdout",
     "output_type": "stream",
     "text": [
      "41\n",
      "\n",
      "[FINISHED] Epoch 0, (Training Loss (per epoch): 252.3010 samp_prob: 0.8808)\n"
     ]
    },
    {
     "name": "stderr",
     "output_type": "stream",
     "text": [
      "\r",
      "Epoch 0, step 42/96, (Training Loss: 4.9522, samp_prob: 0.8808):   0%|          | 0/10 [06:46<?, ?it/s]"
     ]
    },
    {
     "name": "stdout",
     "output_type": "stream",
     "text": [
      "42\n",
      "\n",
      "[FINISHED] Epoch 0, (Training Loss (per epoch): 257.2532 samp_prob: 0.8808)\n"
     ]
    },
    {
     "name": "stderr",
     "output_type": "stream",
     "text": [
      "\r",
      "Epoch 0, step 43/96, (Training Loss: 4.9226, samp_prob: 0.8808):   0%|          | 0/10 [06:54<?, ?it/s]"
     ]
    },
    {
     "name": "stdout",
     "output_type": "stream",
     "text": [
      "43\n",
      "\n",
      "[FINISHED] Epoch 0, (Training Loss (per epoch): 262.1758 samp_prob: 0.8808)\n"
     ]
    },
    {
     "name": "stderr",
     "output_type": "stream",
     "text": [
      "\r",
      "Epoch 0, step 44/96, (Training Loss: 4.9375, samp_prob: 0.8808):   0%|          | 0/10 [07:01<?, ?it/s]"
     ]
    },
    {
     "name": "stdout",
     "output_type": "stream",
     "text": [
      "44\n",
      "\n",
      "[FINISHED] Epoch 0, (Training Loss (per epoch): 267.1133 samp_prob: 0.8808)\n"
     ]
    },
    {
     "name": "stderr",
     "output_type": "stream",
     "text": [
      "\r",
      "Epoch 0, step 45/96, (Training Loss: 4.8767, samp_prob: 0.8808):   0%|          | 0/10 [07:09<?, ?it/s]"
     ]
    },
    {
     "name": "stdout",
     "output_type": "stream",
     "text": [
      "45\n",
      "\n",
      "[FINISHED] Epoch 0, (Training Loss (per epoch): 271.9900 samp_prob: 0.8808)\n"
     ]
    },
    {
     "name": "stderr",
     "output_type": "stream",
     "text": [
      "\r",
      "Epoch 0, step 46/96, (Training Loss: 4.8817, samp_prob: 0.8808):   0%|          | 0/10 [07:17<?, ?it/s]"
     ]
    },
    {
     "name": "stdout",
     "output_type": "stream",
     "text": [
      "[[1 4 4 ... 2 2 2]\n",
      " [1 4 4 ... 2 2 2]\n",
      " [1 4 5 ... 2 2 2]\n",
      " ...\n",
      " [1 4 7 ... 2 2 2]\n",
      " [1 4 5 ... 2 2 2]\n",
      " [1 4 4 ... 2 2 2]]\n",
      "\n",
      "[Train. Prediction] Epoch 0, step 46/96......\n",
      "\n",
      "id: 71\n",
      "answer: ['<BOS>', 'three', 'boys', 'are', 'dancing']\n",
      "prediction: ['<BOS>', 'a', 'a', 'is', 'is', 'a']\n",
      "46\n",
      "\n",
      "[FINISHED] Epoch 0, (Training Loss (per epoch): 276.8717 samp_prob: 0.8808)\n"
     ]
    },
    {
     "name": "stderr",
     "output_type": "stream",
     "text": [
      "\r",
      "Epoch 0, step 47/96, (Training Loss: 4.7824, samp_prob: 0.8808):   0%|          | 0/10 [07:25<?, ?it/s]"
     ]
    },
    {
     "name": "stdout",
     "output_type": "stream",
     "text": [
      "47\n",
      "\n",
      "[FINISHED] Epoch 0, (Training Loss (per epoch): 281.6541 samp_prob: 0.8808)\n"
     ]
    },
    {
     "name": "stderr",
     "output_type": "stream",
     "text": [
      "\r",
      "Epoch 0, step 48/96, (Training Loss: 4.8315, samp_prob: 0.8808):   0%|          | 0/10 [07:32<?, ?it/s]"
     ]
    },
    {
     "name": "stdout",
     "output_type": "stream",
     "text": [
      "48\n",
      "\n",
      "[FINISHED] Epoch 0, (Training Loss (per epoch): 286.4856 samp_prob: 0.8808)\n"
     ]
    },
    {
     "name": "stderr",
     "output_type": "stream",
     "text": [
      "\r",
      "Epoch 0, step 49/96, (Training Loss: 4.8193, samp_prob: 0.8808):   0%|          | 0/10 [07:40<?, ?it/s]"
     ]
    },
    {
     "name": "stdout",
     "output_type": "stream",
     "text": [
      "49\n",
      "\n",
      "[FINISHED] Epoch 0, (Training Loss (per epoch): 291.3049 samp_prob: 0.8808)\n"
     ]
    },
    {
     "name": "stderr",
     "output_type": "stream",
     "text": [
      "\r",
      "Epoch 0, step 50/96, (Training Loss: 4.8415, samp_prob: 0.8808):   0%|          | 0/10 [07:48<?, ?it/s]"
     ]
    },
    {
     "name": "stdout",
     "output_type": "stream",
     "text": [
      "50\n",
      "\n",
      "[FINISHED] Epoch 0, (Training Loss (per epoch): 296.1464 samp_prob: 0.8808)\n"
     ]
    },
    {
     "name": "stderr",
     "output_type": "stream",
     "text": [
      "\r",
      "Epoch 0, step 51/96, (Training Loss: 4.7325, samp_prob: 0.8808):   0%|          | 0/10 [07:55<?, ?it/s]"
     ]
    },
    {
     "name": "stdout",
     "output_type": "stream",
     "text": [
      "51\n",
      "\n",
      "[FINISHED] Epoch 0, (Training Loss (per epoch): 300.8789 samp_prob: 0.8808)\n"
     ]
    },
    {
     "name": "stderr",
     "output_type": "stream",
     "text": [
      "\r",
      "Epoch 0, step 52/96, (Training Loss: 4.7595, samp_prob: 0.8808):   0%|          | 0/10 [08:03<?, ?it/s]"
     ]
    },
    {
     "name": "stdout",
     "output_type": "stream",
     "text": [
      "52\n",
      "\n",
      "[FINISHED] Epoch 0, (Training Loss (per epoch): 305.6384 samp_prob: 0.8808)\n"
     ]
    },
    {
     "name": "stderr",
     "output_type": "stream",
     "text": [
      "\r",
      "Epoch 0, step 53/96, (Training Loss: 4.8120, samp_prob: 0.8808):   0%|          | 0/10 [08:10<?, ?it/s]"
     ]
    },
    {
     "name": "stdout",
     "output_type": "stream",
     "text": [
      "53\n",
      "\n",
      "[FINISHED] Epoch 0, (Training Loss (per epoch): 310.4504 samp_prob: 0.8808)\n"
     ]
    },
    {
     "name": "stderr",
     "output_type": "stream",
     "text": [
      "\r",
      "Epoch 0, step 54/96, (Training Loss: 4.6444, samp_prob: 0.8808):   0%|          | 0/10 [08:18<?, ?it/s]"
     ]
    },
    {
     "name": "stdout",
     "output_type": "stream",
     "text": [
      "54\n",
      "\n",
      "[FINISHED] Epoch 0, (Training Loss (per epoch): 315.0948 samp_prob: 0.8808)\n"
     ]
    },
    {
     "name": "stderr",
     "output_type": "stream",
     "text": [
      "\r",
      "Epoch 0, step 55/96, (Training Loss: 4.7365, samp_prob: 0.8808):   0%|          | 0/10 [08:26<?, ?it/s]"
     ]
    },
    {
     "name": "stdout",
     "output_type": "stream",
     "text": [
      "55\n",
      "\n",
      "[FINISHED] Epoch 0, (Training Loss (per epoch): 319.8313 samp_prob: 0.8808)\n"
     ]
    },
    {
     "name": "stderr",
     "output_type": "stream",
     "text": [
      "\r",
      "Epoch 0, step 56/96, (Training Loss: 4.6250, samp_prob: 0.8808):   0%|          | 0/10 [08:33<?, ?it/s]"
     ]
    },
    {
     "name": "stdout",
     "output_type": "stream",
     "text": [
      "56\n",
      "\n",
      "[FINISHED] Epoch 0, (Training Loss (per epoch): 324.4563 samp_prob: 0.8808)\n"
     ]
    },
    {
     "name": "stderr",
     "output_type": "stream",
     "text": [
      "\r",
      "Epoch 0, step 57/96, (Training Loss: 4.6197, samp_prob: 0.8808):   0%|          | 0/10 [08:41<?, ?it/s]"
     ]
    },
    {
     "name": "stdout",
     "output_type": "stream",
     "text": [
      "57\n",
      "\n",
      "[FINISHED] Epoch 0, (Training Loss (per epoch): 329.0760 samp_prob: 0.8808)\n"
     ]
    },
    {
     "name": "stderr",
     "output_type": "stream",
     "text": [
      "\r",
      "Epoch 0, step 58/96, (Training Loss: 4.5808, samp_prob: 0.8808):   0%|          | 0/10 [08:49<?, ?it/s]"
     ]
    },
    {
     "name": "stdout",
     "output_type": "stream",
     "text": [
      "58\n",
      "\n",
      "[FINISHED] Epoch 0, (Training Loss (per epoch): 333.6568 samp_prob: 0.8808)\n"
     ]
    },
    {
     "name": "stderr",
     "output_type": "stream",
     "text": [
      "\r",
      "Epoch 0, step 59/96, (Training Loss: 4.6141, samp_prob: 0.8808):   0%|          | 0/10 [08:56<?, ?it/s]"
     ]
    },
    {
     "name": "stdout",
     "output_type": "stream",
     "text": [
      "59\n",
      "\n",
      "[FINISHED] Epoch 0, (Training Loss (per epoch): 338.2709 samp_prob: 0.8808)\n"
     ]
    },
    {
     "name": "stderr",
     "output_type": "stream",
     "text": [
      "\r",
      "Epoch 0, step 60/96, (Training Loss: 4.6241, samp_prob: 0.8808):   0%|          | 0/10 [09:04<?, ?it/s]"
     ]
    },
    {
     "name": "stdout",
     "output_type": "stream",
     "text": [
      "60\n",
      "\n",
      "[FINISHED] Epoch 0, (Training Loss (per epoch): 342.8950 samp_prob: 0.8808)\n"
     ]
    },
    {
     "name": "stderr",
     "output_type": "stream",
     "text": [
      "\r",
      "Epoch 0, step 61/96, (Training Loss: 4.6771, samp_prob: 0.8808):   0%|          | 0/10 [09:12<?, ?it/s]"
     ]
    },
    {
     "name": "stdout",
     "output_type": "stream",
     "text": [
      "[[1 4 4 ... 2 2 2]\n",
      " [1 4 7 ... 2 2 2]\n",
      " [1 4 6 ... 2 2 2]\n",
      " ...\n",
      " [1 4 4 ... 2 2 2]\n",
      " [1 4 4 ... 2 2 2]\n",
      " [1 4 8 ... 2 2 2]]\n",
      "\n",
      "[Train. Prediction] Epoch 0, step 61/96......\n",
      "\n",
      "id: 66\n",
      "answer: ['<BOS>', 'a', 'boy', 'looks', 'at', 'something', 'while', 'he', 'eats']\n",
      "prediction: ['<BOS>', 'a', 'a', 'a', 'is', 'a']\n",
      "61\n",
      "\n",
      "[FINISHED] Epoch 0, (Training Loss (per epoch): 347.5720 samp_prob: 0.8808)\n"
     ]
    },
    {
     "name": "stderr",
     "output_type": "stream",
     "text": [
      "\r",
      "Epoch 0, step 62/96, (Training Loss: 4.6535, samp_prob: 0.8808):   0%|          | 0/10 [09:19<?, ?it/s]"
     ]
    },
    {
     "name": "stdout",
     "output_type": "stream",
     "text": [
      "62\n",
      "\n",
      "[FINISHED] Epoch 0, (Training Loss (per epoch): 352.2256 samp_prob: 0.8808)\n"
     ]
    },
    {
     "name": "stderr",
     "output_type": "stream",
     "text": [
      "\r",
      "Epoch 0, step 63/96, (Training Loss: 4.6660, samp_prob: 0.8808):   0%|          | 0/10 [09:27<?, ?it/s]"
     ]
    },
    {
     "name": "stdout",
     "output_type": "stream",
     "text": [
      "63\n",
      "\n",
      "[FINISHED] Epoch 0, (Training Loss (per epoch): 356.8915 samp_prob: 0.8808)\n"
     ]
    },
    {
     "name": "stderr",
     "output_type": "stream",
     "text": [
      "\r",
      "Epoch 0, step 64/96, (Training Loss: 4.6352, samp_prob: 0.8808):   0%|          | 0/10 [09:35<?, ?it/s]"
     ]
    },
    {
     "name": "stdout",
     "output_type": "stream",
     "text": [
      "64\n",
      "\n",
      "[FINISHED] Epoch 0, (Training Loss (per epoch): 361.5268 samp_prob: 0.8808)\n"
     ]
    },
    {
     "name": "stderr",
     "output_type": "stream",
     "text": [
      "\r",
      "Epoch 0, step 65/96, (Training Loss: 4.5028, samp_prob: 0.8808):   0%|          | 0/10 [09:42<?, ?it/s]"
     ]
    },
    {
     "name": "stdout",
     "output_type": "stream",
     "text": [
      "65\n",
      "\n",
      "[FINISHED] Epoch 0, (Training Loss (per epoch): 366.0295 samp_prob: 0.8808)\n"
     ]
    },
    {
     "name": "stderr",
     "output_type": "stream",
     "text": [
      "\r",
      "Epoch 0, step 66/96, (Training Loss: 4.6659, samp_prob: 0.8808):   0%|          | 0/10 [09:50<?, ?it/s]"
     ]
    },
    {
     "name": "stdout",
     "output_type": "stream",
     "text": [
      "66\n",
      "\n",
      "[FINISHED] Epoch 0, (Training Loss (per epoch): 370.6954 samp_prob: 0.8808)\n"
     ]
    },
    {
     "name": "stderr",
     "output_type": "stream",
     "text": [
      "\r",
      "Epoch 0, step 67/96, (Training Loss: 4.5902, samp_prob: 0.8808):   0%|          | 0/10 [09:57<?, ?it/s]"
     ]
    },
    {
     "name": "stdout",
     "output_type": "stream",
     "text": [
      "67\n",
      "\n",
      "[FINISHED] Epoch 0, (Training Loss (per epoch): 375.2856 samp_prob: 0.8808)\n"
     ]
    },
    {
     "name": "stderr",
     "output_type": "stream",
     "text": [
      "\r",
      "Epoch 0, step 68/96, (Training Loss: 4.5193, samp_prob: 0.8808):   0%|          | 0/10 [10:05<?, ?it/s]"
     ]
    },
    {
     "name": "stdout",
     "output_type": "stream",
     "text": [
      "68\n",
      "\n",
      "[FINISHED] Epoch 0, (Training Loss (per epoch): 379.8049 samp_prob: 0.8808)\n"
     ]
    },
    {
     "name": "stderr",
     "output_type": "stream",
     "text": [
      "\r",
      "Epoch 0, step 69/96, (Training Loss: 4.5095, samp_prob: 0.8808):   0%|          | 0/10 [10:13<?, ?it/s]"
     ]
    },
    {
     "name": "stdout",
     "output_type": "stream",
     "text": [
      "69\n",
      "\n",
      "[FINISHED] Epoch 0, (Training Loss (per epoch): 384.3144 samp_prob: 0.8808)\n"
     ]
    },
    {
     "name": "stderr",
     "output_type": "stream",
     "text": [
      "\r",
      "Epoch 0, step 70/96, (Training Loss: 4.6237, samp_prob: 0.8808):   0%|          | 0/10 [10:20<?, ?it/s]"
     ]
    },
    {
     "name": "stdout",
     "output_type": "stream",
     "text": [
      "70\n",
      "\n",
      "[FINISHED] Epoch 0, (Training Loss (per epoch): 388.9381 samp_prob: 0.8808)\n"
     ]
    },
    {
     "name": "stderr",
     "output_type": "stream",
     "text": [
      "\r",
      "Epoch 0, step 71/96, (Training Loss: 4.5013, samp_prob: 0.8808):   0%|          | 0/10 [10:28<?, ?it/s]"
     ]
    },
    {
     "name": "stdout",
     "output_type": "stream",
     "text": [
      "71\n",
      "\n",
      "[FINISHED] Epoch 0, (Training Loss (per epoch): 393.4394 samp_prob: 0.8808)\n"
     ]
    },
    {
     "name": "stderr",
     "output_type": "stream",
     "text": [
      "\r",
      "Epoch 0, step 72/96, (Training Loss: 4.5907, samp_prob: 0.8808):   0%|          | 0/10 [10:35<?, ?it/s]"
     ]
    },
    {
     "name": "stdout",
     "output_type": "stream",
     "text": [
      "72\n",
      "\n",
      "[FINISHED] Epoch 0, (Training Loss (per epoch): 398.0301 samp_prob: 0.8808)\n"
     ]
    },
    {
     "name": "stderr",
     "output_type": "stream",
     "text": [
      "\r",
      "Epoch 0, step 73/96, (Training Loss: 4.4562, samp_prob: 0.8808):   0%|          | 0/10 [10:43<?, ?it/s]"
     ]
    },
    {
     "name": "stdout",
     "output_type": "stream",
     "text": [
      "73\n",
      "\n",
      "[FINISHED] Epoch 0, (Training Loss (per epoch): 402.4862 samp_prob: 0.8808)\n"
     ]
    },
    {
     "name": "stderr",
     "output_type": "stream",
     "text": [
      "\r",
      "Epoch 0, step 74/96, (Training Loss: 4.5352, samp_prob: 0.8808):   0%|          | 0/10 [10:50<?, ?it/s]"
     ]
    },
    {
     "name": "stdout",
     "output_type": "stream",
     "text": [
      "74\n",
      "\n",
      "[FINISHED] Epoch 0, (Training Loss (per epoch): 407.0214 samp_prob: 0.8808)\n"
     ]
    },
    {
     "name": "stderr",
     "output_type": "stream",
     "text": [
      "\r",
      "Epoch 0, step 75/96, (Training Loss: 4.5639, samp_prob: 0.8808):   0%|          | 0/10 [10:58<?, ?it/s]"
     ]
    },
    {
     "name": "stdout",
     "output_type": "stream",
     "text": [
      "75\n",
      "\n",
      "[FINISHED] Epoch 0, (Training Loss (per epoch): 411.5854 samp_prob: 0.8808)\n"
     ]
    },
    {
     "name": "stderr",
     "output_type": "stream",
     "text": [
      "\r",
      "Epoch 0, step 76/96, (Training Loss: 4.5869, samp_prob: 0.8808):   0%|          | 0/10 [11:06<?, ?it/s]"
     ]
    },
    {
     "name": "stdout",
     "output_type": "stream",
     "text": [
      "[[1 4 7 ... 2 2 2]\n",
      " [1 4 5 ... 2 2 2]\n",
      " [1 4 7 ... 2 2 2]\n",
      " ...\n",
      " [1 4 7 ... 2 2 2]\n",
      " [1 4 5 ... 2 2 2]\n",
      " [1 4 7 ... 2 2 2]]\n",
      "\n",
      "[Train. Prediction] Epoch 0, step 76/96......\n",
      "\n",
      "id: 37\n",
      "answer: ['<BOS>', 'a', 'man', 'picks', 'a', 'car', 'up', 'off', 'of', 'its', 'hind', 'wheels']\n",
      "prediction: ['<BOS>', 'a', 'a', 'a', 'the', 'a']\n",
      "76\n",
      "\n",
      "[FINISHED] Epoch 0, (Training Loss (per epoch): 416.1722 samp_prob: 0.8808)\n"
     ]
    },
    {
     "name": "stderr",
     "output_type": "stream",
     "text": [
      "\r",
      "Epoch 0, step 77/96, (Training Loss: 4.4364, samp_prob: 0.8808):   0%|          | 0/10 [11:14<?, ?it/s]"
     ]
    },
    {
     "name": "stdout",
     "output_type": "stream",
     "text": [
      "77\n",
      "\n",
      "[FINISHED] Epoch 0, (Training Loss (per epoch): 420.6086 samp_prob: 0.8808)\n"
     ]
    },
    {
     "name": "stderr",
     "output_type": "stream",
     "text": [
      "\r",
      "Epoch 0, step 78/96, (Training Loss: 4.3846, samp_prob: 0.8808):   0%|          | 0/10 [11:21<?, ?it/s]"
     ]
    },
    {
     "name": "stdout",
     "output_type": "stream",
     "text": [
      "78\n",
      "\n",
      "[FINISHED] Epoch 0, (Training Loss (per epoch): 424.9932 samp_prob: 0.8808)\n"
     ]
    },
    {
     "name": "stderr",
     "output_type": "stream",
     "text": [
      "\r",
      "Epoch 0, step 79/96, (Training Loss: 4.3867, samp_prob: 0.8808):   0%|          | 0/10 [11:29<?, ?it/s]"
     ]
    },
    {
     "name": "stdout",
     "output_type": "stream",
     "text": [
      "79\n",
      "\n",
      "[FINISHED] Epoch 0, (Training Loss (per epoch): 429.3799 samp_prob: 0.8808)\n"
     ]
    },
    {
     "name": "stderr",
     "output_type": "stream",
     "text": [
      "\r",
      "Epoch 0, step 80/96, (Training Loss: 4.4601, samp_prob: 0.8808):   0%|          | 0/10 [11:37<?, ?it/s]"
     ]
    },
    {
     "name": "stdout",
     "output_type": "stream",
     "text": [
      "80\n",
      "\n",
      "[FINISHED] Epoch 0, (Training Loss (per epoch): 433.8400 samp_prob: 0.8808)\n"
     ]
    },
    {
     "name": "stderr",
     "output_type": "stream",
     "text": [
      "\r",
      "Epoch 0, step 81/96, (Training Loss: 4.3550, samp_prob: 0.8808):   0%|          | 0/10 [11:44<?, ?it/s]"
     ]
    },
    {
     "name": "stdout",
     "output_type": "stream",
     "text": [
      "81\n",
      "\n",
      "[FINISHED] Epoch 0, (Training Loss (per epoch): 438.1950 samp_prob: 0.8808)\n"
     ]
    },
    {
     "name": "stderr",
     "output_type": "stream",
     "text": [
      "\r",
      "Epoch 0, step 82/96, (Training Loss: 4.5722, samp_prob: 0.8808):   0%|          | 0/10 [11:52<?, ?it/s]"
     ]
    },
    {
     "name": "stdout",
     "output_type": "stream",
     "text": [
      "82\n",
      "\n",
      "[FINISHED] Epoch 0, (Training Loss (per epoch): 442.7672 samp_prob: 0.8808)\n"
     ]
    },
    {
     "name": "stderr",
     "output_type": "stream",
     "text": [
      "\r",
      "Epoch 0, step 83/96, (Training Loss: 4.4723, samp_prob: 0.8808):   0%|          | 0/10 [11:59<?, ?it/s]"
     ]
    },
    {
     "name": "stdout",
     "output_type": "stream",
     "text": [
      "83\n",
      "\n",
      "[FINISHED] Epoch 0, (Training Loss (per epoch): 447.2395 samp_prob: 0.8808)\n"
     ]
    },
    {
     "name": "stderr",
     "output_type": "stream",
     "text": [
      "\r",
      "Epoch 0, step 84/96, (Training Loss: 4.4309, samp_prob: 0.8808):   0%|          | 0/10 [12:07<?, ?it/s]"
     ]
    },
    {
     "name": "stdout",
     "output_type": "stream",
     "text": [
      "84\n",
      "\n",
      "[FINISHED] Epoch 0, (Training Loss (per epoch): 451.6704 samp_prob: 0.8808)\n"
     ]
    },
    {
     "name": "stderr",
     "output_type": "stream",
     "text": [
      "\r",
      "Epoch 0, step 85/96, (Training Loss: 4.5116, samp_prob: 0.8808):   0%|          | 0/10 [12:14<?, ?it/s]"
     ]
    },
    {
     "name": "stdout",
     "output_type": "stream",
     "text": [
      "85\n",
      "\n",
      "[FINISHED] Epoch 0, (Training Loss (per epoch): 456.1820 samp_prob: 0.8808)\n"
     ]
    },
    {
     "name": "stderr",
     "output_type": "stream",
     "text": [
      "\r",
      "Epoch 0, step 86/96, (Training Loss: 4.3758, samp_prob: 0.8808):   0%|          | 0/10 [12:22<?, ?it/s]"
     ]
    },
    {
     "name": "stdout",
     "output_type": "stream",
     "text": [
      "86\n",
      "\n",
      "[FINISHED] Epoch 0, (Training Loss (per epoch): 460.5579 samp_prob: 0.8808)\n"
     ]
    },
    {
     "name": "stderr",
     "output_type": "stream",
     "text": [
      "\r",
      "Epoch 0, step 87/96, (Training Loss: 4.4602, samp_prob: 0.8808):   0%|          | 0/10 [12:30<?, ?it/s]"
     ]
    },
    {
     "name": "stdout",
     "output_type": "stream",
     "text": [
      "87\n",
      "\n",
      "[FINISHED] Epoch 0, (Training Loss (per epoch): 465.0180 samp_prob: 0.8808)\n"
     ]
    },
    {
     "name": "stderr",
     "output_type": "stream",
     "text": [
      "\r",
      "Epoch 0, step 88/96, (Training Loss: 4.4072, samp_prob: 0.8808):   0%|          | 0/10 [12:37<?, ?it/s]"
     ]
    },
    {
     "name": "stdout",
     "output_type": "stream",
     "text": [
      "88\n",
      "\n",
      "[FINISHED] Epoch 0, (Training Loss (per epoch): 469.4253 samp_prob: 0.8808)\n"
     ]
    },
    {
     "name": "stderr",
     "output_type": "stream",
     "text": [
      "\r",
      "Epoch 0, step 89/96, (Training Loss: 4.3489, samp_prob: 0.8808):   0%|          | 0/10 [12:45<?, ?it/s]"
     ]
    },
    {
     "name": "stdout",
     "output_type": "stream",
     "text": [
      "89\n",
      "\n",
      "[FINISHED] Epoch 0, (Training Loss (per epoch): 473.7742 samp_prob: 0.8808)\n"
     ]
    },
    {
     "name": "stderr",
     "output_type": "stream",
     "text": [
      "\r",
      "Epoch 0, step 90/96, (Training Loss: 4.3345, samp_prob: 0.8808):   0%|          | 0/10 [12:53<?, ?it/s]"
     ]
    },
    {
     "name": "stdout",
     "output_type": "stream",
     "text": [
      "90\n",
      "\n",
      "[FINISHED] Epoch 0, (Training Loss (per epoch): 478.1087 samp_prob: 0.8808)\n"
     ]
    },
    {
     "name": "stderr",
     "output_type": "stream",
     "text": [
      "\r",
      "Epoch 0, step 91/96, (Training Loss: 4.3736, samp_prob: 0.8808):   0%|          | 0/10 [13:01<?, ?it/s]"
     ]
    },
    {
     "name": "stdout",
     "output_type": "stream",
     "text": [
      "[[1 4 7 ... 2 2 2]\n",
      " [1 4 5 ... 2 2 2]\n",
      " [1 4 5 ... 2 2 2]\n",
      " ...\n",
      " [1 4 7 ... 2 2 2]\n",
      " [1 4 5 ... 2 2 2]\n",
      " [1 4 7 ... 2 2 2]]\n",
      "\n",
      "[Train. Prediction] Epoch 0, step 91/96......\n",
      "\n",
      "id: 69\n",
      "answer: ['<BOS>', 'a', 'cat', 'is', 'looking', 'out', 'a', 'window']\n",
      "prediction: ['<BOS>', 'the', 'is', 'is', 'the', 'a']\n",
      "91\n",
      "\n",
      "[FINISHED] Epoch 0, (Training Loss (per epoch): 482.4823 samp_prob: 0.8808)\n"
     ]
    },
    {
     "name": "stderr",
     "output_type": "stream",
     "text": [
      "\r",
      "Epoch 0, step 92/96, (Training Loss: 4.2900, samp_prob: 0.8808):   0%|          | 0/10 [13:08<?, ?it/s]"
     ]
    },
    {
     "name": "stdout",
     "output_type": "stream",
     "text": [
      "92\n",
      "\n",
      "[FINISHED] Epoch 0, (Training Loss (per epoch): 486.7723 samp_prob: 0.8808)\n"
     ]
    },
    {
     "name": "stderr",
     "output_type": "stream",
     "text": [
      "\r",
      "Epoch 0, step 93/96, (Training Loss: 4.3261, samp_prob: 0.8808):   0%|          | 0/10 [13:16<?, ?it/s]"
     ]
    },
    {
     "name": "stdout",
     "output_type": "stream",
     "text": [
      "93\n",
      "\n",
      "[FINISHED] Epoch 0, (Training Loss (per epoch): 491.0983 samp_prob: 0.8808)\n"
     ]
    },
    {
     "name": "stderr",
     "output_type": "stream",
     "text": [
      "\r",
      "Epoch 0, step 94/96, (Training Loss: 4.4183, samp_prob: 0.8808):   0%|          | 0/10 [13:23<?, ?it/s]"
     ]
    },
    {
     "name": "stdout",
     "output_type": "stream",
     "text": [
      "94\n",
      "\n",
      "[FINISHED] Epoch 0, (Training Loss (per epoch): 495.5166 samp_prob: 0.8808)\n"
     ]
    },
    {
     "name": "stderr",
     "output_type": "stream",
     "text": [
      "Epoch 0, step 95/96, (Training Loss: 4.4036, samp_prob: 0.8808):  10%|█         | 1/10 [13:31<2:01:42, 811.44s/it]"
     ]
    },
    {
     "name": "stdout",
     "output_type": "stream",
     "text": [
      "95\n",
      "\n",
      "[FINISHED] Epoch 0, (Training Loss (per epoch): 499.9202 samp_prob: 0.8808)\n"
     ]
    },
    {
     "name": "stderr",
     "output_type": "stream",
     "text": [
      "\r",
      "Epoch 1, step 0/96, (Training Loss: 4.4099, samp_prob: 0.8320):  10%|█         | 1/10 [13:38<2:01:42, 811.44s/it] "
     ]
    },
    {
     "name": "stdout",
     "output_type": "stream",
     "text": [
      "0\n",
      "\n",
      "[FINISHED] Epoch 1, (Training Loss (per epoch): 4.4099 samp_prob: 0.8320)\n"
     ]
    },
    {
     "name": "stderr",
     "output_type": "stream",
     "text": [
      "\r",
      "Epoch 1, step 1/96, (Training Loss: 4.3766, samp_prob: 0.8320):  10%|█         | 1/10 [13:47<2:01:42, 811.44s/it]"
     ]
    },
    {
     "name": "stdout",
     "output_type": "stream",
     "text": [
      "[[1 4 5 ... 2 2 2]\n",
      " [1 4 7 ... 2 2 2]\n",
      " [1 4 7 ... 2 2 2]\n",
      " ...\n",
      " [1 4 7 ... 2 2 2]\n",
      " [1 4 7 ... 2 2 2]\n",
      " [1 4 7 ... 2 2 2]]\n",
      "\n",
      "[Train. Prediction] Epoch 1, step 1/96......\n",
      "\n",
      "id: 16\n",
      "answer: ['<BOS>', 'a', 'boy', 'puts', 'a', 'rock', 'in', 'his', 'mouth']\n",
      "prediction: ['<BOS>', 'a', 'is', 'man', 'is', 'a']\n",
      "1\n",
      "\n",
      "[FINISHED] Epoch 1, (Training Loss (per epoch): 8.7865 samp_prob: 0.8320)\n"
     ]
    },
    {
     "name": "stderr",
     "output_type": "stream",
     "text": [
      "\r",
      "Epoch 1, step 2/96, (Training Loss: 4.3499, samp_prob: 0.8320):  10%|█         | 1/10 [13:54<2:01:42, 811.44s/it]"
     ]
    },
    {
     "name": "stdout",
     "output_type": "stream",
     "text": [
      "2\n",
      "\n",
      "[FINISHED] Epoch 1, (Training Loss (per epoch): 13.1365 samp_prob: 0.8320)\n"
     ]
    },
    {
     "name": "stderr",
     "output_type": "stream",
     "text": [
      "\r",
      "Epoch 1, step 3/96, (Training Loss: 4.3683, samp_prob: 0.8320):  10%|█         | 1/10 [14:02<2:01:42, 811.44s/it]"
     ]
    },
    {
     "name": "stdout",
     "output_type": "stream",
     "text": [
      "3\n",
      "\n",
      "[FINISHED] Epoch 1, (Training Loss (per epoch): 17.5048 samp_prob: 0.8320)\n"
     ]
    },
    {
     "name": "stderr",
     "output_type": "stream",
     "text": [
      "\r",
      "Epoch 1, step 4/96, (Training Loss: 4.2511, samp_prob: 0.8320):  10%|█         | 1/10 [14:09<2:01:42, 811.44s/it]"
     ]
    },
    {
     "name": "stdout",
     "output_type": "stream",
     "text": [
      "4\n",
      "\n",
      "[FINISHED] Epoch 1, (Training Loss (per epoch): 21.7559 samp_prob: 0.8320)\n"
     ]
    },
    {
     "name": "stderr",
     "output_type": "stream",
     "text": [
      "\r",
      "Epoch 1, step 5/96, (Training Loss: 4.3148, samp_prob: 0.8320):  10%|█         | 1/10 [14:17<2:01:42, 811.44s/it]"
     ]
    },
    {
     "name": "stdout",
     "output_type": "stream",
     "text": [
      "5\n",
      "\n",
      "[FINISHED] Epoch 1, (Training Loss (per epoch): 26.0707 samp_prob: 0.8320)\n"
     ]
    },
    {
     "name": "stderr",
     "output_type": "stream",
     "text": [
      "\r",
      "Epoch 1, step 6/96, (Training Loss: 4.2464, samp_prob: 0.8320):  10%|█         | 1/10 [14:25<2:01:42, 811.44s/it]"
     ]
    },
    {
     "name": "stdout",
     "output_type": "stream",
     "text": [
      "6\n",
      "\n",
      "[FINISHED] Epoch 1, (Training Loss (per epoch): 30.3172 samp_prob: 0.8320)\n"
     ]
    },
    {
     "name": "stderr",
     "output_type": "stream",
     "text": [
      "\r",
      "Epoch 1, step 7/96, (Training Loss: 4.3591, samp_prob: 0.8320):  10%|█         | 1/10 [14:32<2:01:42, 811.44s/it]"
     ]
    },
    {
     "name": "stdout",
     "output_type": "stream",
     "text": [
      "7\n",
      "\n",
      "[FINISHED] Epoch 1, (Training Loss (per epoch): 34.6763 samp_prob: 0.8320)\n"
     ]
    },
    {
     "name": "stderr",
     "output_type": "stream",
     "text": [
      "\r",
      "Epoch 1, step 8/96, (Training Loss: 4.3300, samp_prob: 0.8320):  10%|█         | 1/10 [14:40<2:01:42, 811.44s/it]"
     ]
    },
    {
     "name": "stdout",
     "output_type": "stream",
     "text": [
      "8\n",
      "\n",
      "[FINISHED] Epoch 1, (Training Loss (per epoch): 39.0063 samp_prob: 0.8320)\n"
     ]
    },
    {
     "name": "stderr",
     "output_type": "stream",
     "text": [
      "\r",
      "Epoch 1, step 9/96, (Training Loss: 4.3108, samp_prob: 0.8320):  10%|█         | 1/10 [14:47<2:01:42, 811.44s/it]"
     ]
    },
    {
     "name": "stdout",
     "output_type": "stream",
     "text": [
      "9\n",
      "\n",
      "[FINISHED] Epoch 1, (Training Loss (per epoch): 43.3171 samp_prob: 0.8320)\n"
     ]
    },
    {
     "name": "stderr",
     "output_type": "stream",
     "text": [
      "\r",
      "Epoch 1, step 10/96, (Training Loss: 4.2230, samp_prob: 0.8320):  10%|█         | 1/10 [14:55<2:01:42, 811.44s/it]"
     ]
    },
    {
     "name": "stdout",
     "output_type": "stream",
     "text": [
      "10\n",
      "\n",
      "[FINISHED] Epoch 1, (Training Loss (per epoch): 47.5400 samp_prob: 0.8320)\n"
     ]
    },
    {
     "name": "stderr",
     "output_type": "stream",
     "text": [
      "\r",
      "Epoch 1, step 11/96, (Training Loss: 4.3154, samp_prob: 0.8320):  10%|█         | 1/10 [15:02<2:01:42, 811.44s/it]"
     ]
    },
    {
     "name": "stdout",
     "output_type": "stream",
     "text": [
      "11\n",
      "\n",
      "[FINISHED] Epoch 1, (Training Loss (per epoch): 51.8554 samp_prob: 0.8320)\n"
     ]
    },
    {
     "name": "stderr",
     "output_type": "stream",
     "text": [
      "\r",
      "Epoch 1, step 12/96, (Training Loss: 4.2924, samp_prob: 0.8320):  10%|█         | 1/10 [15:10<2:01:42, 811.44s/it]"
     ]
    },
    {
     "name": "stdout",
     "output_type": "stream",
     "text": [
      "12\n",
      "\n",
      "[FINISHED] Epoch 1, (Training Loss (per epoch): 56.1478 samp_prob: 0.8320)\n"
     ]
    },
    {
     "name": "stderr",
     "output_type": "stream",
     "text": [
      "\r",
      "Epoch 1, step 13/96, (Training Loss: 4.3986, samp_prob: 0.8320):  10%|█         | 1/10 [15:18<2:01:42, 811.44s/it]"
     ]
    },
    {
     "name": "stdout",
     "output_type": "stream",
     "text": [
      "13\n",
      "\n",
      "[FINISHED] Epoch 1, (Training Loss (per epoch): 60.5464 samp_prob: 0.8320)\n"
     ]
    },
    {
     "name": "stderr",
     "output_type": "stream",
     "text": [
      "\r",
      "Epoch 1, step 14/96, (Training Loss: 4.3375, samp_prob: 0.8320):  10%|█         | 1/10 [15:25<2:01:42, 811.44s/it]"
     ]
    },
    {
     "name": "stdout",
     "output_type": "stream",
     "text": [
      "14\n",
      "\n",
      "[FINISHED] Epoch 1, (Training Loss (per epoch): 64.8839 samp_prob: 0.8320)\n"
     ]
    },
    {
     "name": "stderr",
     "output_type": "stream",
     "text": [
      "\r",
      "Epoch 1, step 15/96, (Training Loss: 4.3018, samp_prob: 0.8320):  10%|█         | 1/10 [15:33<2:01:42, 811.44s/it]"
     ]
    },
    {
     "name": "stdout",
     "output_type": "stream",
     "text": [
      "15\n",
      "\n",
      "[FINISHED] Epoch 1, (Training Loss (per epoch): 69.1857 samp_prob: 0.8320)\n"
     ]
    },
    {
     "name": "stderr",
     "output_type": "stream",
     "text": [
      "\r",
      "Epoch 1, step 16/96, (Training Loss: 4.2860, samp_prob: 0.8320):  10%|█         | 1/10 [15:41<2:01:42, 811.44s/it]"
     ]
    },
    {
     "name": "stdout",
     "output_type": "stream",
     "text": [
      "[[1 4 7 ... 2 2 2]\n",
      " [1 4 7 ... 2 2 2]\n",
      " [1 4 5 ... 2 2 2]\n",
      " ...\n",
      " [1 4 5 ... 2 2 2]\n",
      " [1 4 8 ... 2 2 2]\n",
      " [1 4 7 ... 2 2 2]]\n",
      "\n",
      "[Train. Prediction] Epoch 1, step 16/96......\n",
      "\n",
      "id: 116\n",
      "answer: ['<BOS>', 'a', 'man', 'is', 'playing', 'a', 'trumpet']\n",
      "prediction: ['<BOS>', 'a', 'man', 'is', 'is']\n",
      "16\n",
      "\n",
      "[FINISHED] Epoch 1, (Training Loss (per epoch): 73.4717 samp_prob: 0.8320)\n"
     ]
    },
    {
     "name": "stderr",
     "output_type": "stream",
     "text": [
      "\r",
      "Epoch 1, step 17/96, (Training Loss: 4.2420, samp_prob: 0.8320):  10%|█         | 1/10 [15:49<2:01:42, 811.44s/it]"
     ]
    },
    {
     "name": "stdout",
     "output_type": "stream",
     "text": [
      "17\n",
      "\n",
      "[FINISHED] Epoch 1, (Training Loss (per epoch): 77.7137 samp_prob: 0.8320)\n"
     ]
    },
    {
     "name": "stderr",
     "output_type": "stream",
     "text": [
      "\r",
      "Epoch 1, step 18/96, (Training Loss: 4.1436, samp_prob: 0.8320):  10%|█         | 1/10 [15:56<2:01:42, 811.44s/it]"
     ]
    },
    {
     "name": "stdout",
     "output_type": "stream",
     "text": [
      "18\n",
      "\n",
      "[FINISHED] Epoch 1, (Training Loss (per epoch): 81.8573 samp_prob: 0.8320)\n"
     ]
    },
    {
     "name": "stderr",
     "output_type": "stream",
     "text": [
      "\r",
      "Epoch 1, step 19/96, (Training Loss: 4.0426, samp_prob: 0.8320):  10%|█         | 1/10 [16:04<2:01:42, 811.44s/it]"
     ]
    },
    {
     "name": "stdout",
     "output_type": "stream",
     "text": [
      "19\n",
      "\n",
      "[FINISHED] Epoch 1, (Training Loss (per epoch): 85.8999 samp_prob: 0.8320)\n"
     ]
    },
    {
     "name": "stderr",
     "output_type": "stream",
     "text": [
      "\r",
      "Epoch 1, step 20/96, (Training Loss: 4.2951, samp_prob: 0.8320):  10%|█         | 1/10 [16:11<2:01:42, 811.44s/it]"
     ]
    },
    {
     "name": "stdout",
     "output_type": "stream",
     "text": [
      "20\n",
      "\n",
      "[FINISHED] Epoch 1, (Training Loss (per epoch): 90.1951 samp_prob: 0.8320)\n"
     ]
    },
    {
     "name": "stderr",
     "output_type": "stream",
     "text": [
      "\r",
      "Epoch 1, step 21/96, (Training Loss: 4.2180, samp_prob: 0.8320):  10%|█         | 1/10 [16:19<2:01:42, 811.44s/it]"
     ]
    },
    {
     "name": "stdout",
     "output_type": "stream",
     "text": [
      "21\n",
      "\n",
      "[FINISHED] Epoch 1, (Training Loss (per epoch): 94.4130 samp_prob: 0.8320)\n"
     ]
    },
    {
     "name": "stderr",
     "output_type": "stream",
     "text": [
      "\r",
      "Epoch 1, step 22/96, (Training Loss: 4.1981, samp_prob: 0.8320):  10%|█         | 1/10 [16:27<2:01:42, 811.44s/it]"
     ]
    },
    {
     "name": "stdout",
     "output_type": "stream",
     "text": [
      "22\n",
      "\n",
      "[FINISHED] Epoch 1, (Training Loss (per epoch): 98.6111 samp_prob: 0.8320)\n"
     ]
    },
    {
     "name": "stderr",
     "output_type": "stream",
     "text": [
      "\r",
      "Epoch 1, step 23/96, (Training Loss: 4.2508, samp_prob: 0.8320):  10%|█         | 1/10 [16:34<2:01:42, 811.44s/it]"
     ]
    },
    {
     "name": "stdout",
     "output_type": "stream",
     "text": [
      "23\n",
      "\n",
      "[FINISHED] Epoch 1, (Training Loss (per epoch): 102.8619 samp_prob: 0.8320)\n"
     ]
    },
    {
     "name": "stderr",
     "output_type": "stream",
     "text": [
      "\r",
      "Epoch 1, step 24/96, (Training Loss: 4.4164, samp_prob: 0.8320):  10%|█         | 1/10 [16:42<2:01:42, 811.44s/it]"
     ]
    },
    {
     "name": "stdout",
     "output_type": "stream",
     "text": [
      "24\n",
      "\n",
      "[FINISHED] Epoch 1, (Training Loss (per epoch): 107.2782 samp_prob: 0.8320)\n"
     ]
    },
    {
     "name": "stderr",
     "output_type": "stream",
     "text": [
      "\r",
      "Epoch 1, step 25/96, (Training Loss: 4.1668, samp_prob: 0.8320):  10%|█         | 1/10 [16:49<2:01:42, 811.44s/it]"
     ]
    },
    {
     "name": "stdout",
     "output_type": "stream",
     "text": [
      "25\n",
      "\n",
      "[FINISHED] Epoch 1, (Training Loss (per epoch): 111.4450 samp_prob: 0.8320)\n"
     ]
    },
    {
     "name": "stderr",
     "output_type": "stream",
     "text": [
      "\r",
      "Epoch 1, step 26/96, (Training Loss: 4.2313, samp_prob: 0.8320):  10%|█         | 1/10 [16:57<2:01:42, 811.44s/it]"
     ]
    },
    {
     "name": "stdout",
     "output_type": "stream",
     "text": [
      "26\n",
      "\n",
      "[FINISHED] Epoch 1, (Training Loss (per epoch): 115.6763 samp_prob: 0.8320)\n"
     ]
    },
    {
     "name": "stderr",
     "output_type": "stream",
     "text": [
      "\r",
      "Epoch 1, step 27/96, (Training Loss: 4.1626, samp_prob: 0.8320):  10%|█         | 1/10 [17:04<2:01:42, 811.44s/it]"
     ]
    },
    {
     "name": "stdout",
     "output_type": "stream",
     "text": [
      "27\n",
      "\n",
      "[FINISHED] Epoch 1, (Training Loss (per epoch): 119.8389 samp_prob: 0.8320)\n"
     ]
    },
    {
     "name": "stderr",
     "output_type": "stream",
     "text": [
      "\r",
      "Epoch 1, step 28/96, (Training Loss: 4.1188, samp_prob: 0.8320):  10%|█         | 1/10 [17:12<2:01:42, 811.44s/it]"
     ]
    },
    {
     "name": "stdout",
     "output_type": "stream",
     "text": [
      "28\n",
      "\n",
      "[FINISHED] Epoch 1, (Training Loss (per epoch): 123.9577 samp_prob: 0.8320)\n"
     ]
    },
    {
     "name": "stderr",
     "output_type": "stream",
     "text": [
      "\r",
      "Epoch 1, step 29/96, (Training Loss: 4.2297, samp_prob: 0.8320):  10%|█         | 1/10 [17:20<2:01:42, 811.44s/it]"
     ]
    },
    {
     "name": "stdout",
     "output_type": "stream",
     "text": [
      "29\n",
      "\n",
      "[FINISHED] Epoch 1, (Training Loss (per epoch): 128.1875 samp_prob: 0.8320)\n"
     ]
    },
    {
     "name": "stderr",
     "output_type": "stream",
     "text": [
      "\r",
      "Epoch 1, step 30/96, (Training Loss: 4.2507, samp_prob: 0.8320):  10%|█         | 1/10 [17:27<2:01:42, 811.44s/it]"
     ]
    },
    {
     "name": "stdout",
     "output_type": "stream",
     "text": [
      "30\n",
      "\n",
      "[FINISHED] Epoch 1, (Training Loss (per epoch): 132.4381 samp_prob: 0.8320)\n"
     ]
    },
    {
     "name": "stderr",
     "output_type": "stream",
     "text": [
      "\r",
      "Epoch 1, step 31/96, (Training Loss: 4.2255, samp_prob: 0.8320):  10%|█         | 1/10 [17:35<2:01:42, 811.44s/it]"
     ]
    },
    {
     "name": "stdout",
     "output_type": "stream",
     "text": [
      "[[1 4 7 ... 2 2 2]\n",
      " [1 4 7 ... 2 2 2]\n",
      " [1 4 7 ... 2 2 2]\n",
      " ...\n",
      " [1 4 7 ... 2 2 2]\n",
      " [1 4 7 ... 2 2 2]\n",
      " [1 4 8 ... 2 2 2]]\n",
      "\n",
      "[Train. Prediction] Epoch 1, step 31/96......\n",
      "\n",
      "id: 136\n",
      "answer: ['<BOS>', 'a', 'boy', 'is', 'playing', 'a', 'piano']\n",
      "prediction: ['<BOS>', 'a', 'man', 'is', 'a', 'a', 'a']\n",
      "31\n",
      "\n",
      "[FINISHED] Epoch 1, (Training Loss (per epoch): 136.6636 samp_prob: 0.8320)\n"
     ]
    },
    {
     "name": "stderr",
     "output_type": "stream",
     "text": [
      "\r",
      "Epoch 1, step 32/96, (Training Loss: 4.2443, samp_prob: 0.8320):  10%|█         | 1/10 [17:43<2:01:42, 811.44s/it]"
     ]
    },
    {
     "name": "stdout",
     "output_type": "stream",
     "text": [
      "32\n",
      "\n",
      "[FINISHED] Epoch 1, (Training Loss (per epoch): 140.9079 samp_prob: 0.8320)\n"
     ]
    },
    {
     "name": "stderr",
     "output_type": "stream",
     "text": [
      "\r",
      "Epoch 1, step 33/96, (Training Loss: 4.2243, samp_prob: 0.8320):  10%|█         | 1/10 [17:51<2:01:42, 811.44s/it]"
     ]
    },
    {
     "name": "stdout",
     "output_type": "stream",
     "text": [
      "33\n",
      "\n",
      "[FINISHED] Epoch 1, (Training Loss (per epoch): 145.1321 samp_prob: 0.8320)\n"
     ]
    },
    {
     "name": "stderr",
     "output_type": "stream",
     "text": [
      "\r",
      "Epoch 1, step 34/96, (Training Loss: 4.2107, samp_prob: 0.8320):  10%|█         | 1/10 [17:58<2:01:42, 811.44s/it]"
     ]
    },
    {
     "name": "stdout",
     "output_type": "stream",
     "text": [
      "34\n",
      "\n",
      "[FINISHED] Epoch 1, (Training Loss (per epoch): 149.3428 samp_prob: 0.8320)\n"
     ]
    },
    {
     "name": "stderr",
     "output_type": "stream",
     "text": [
      "\r",
      "Epoch 1, step 35/96, (Training Loss: 4.2048, samp_prob: 0.8320):  10%|█         | 1/10 [18:06<2:01:42, 811.44s/it]"
     ]
    },
    {
     "name": "stdout",
     "output_type": "stream",
     "text": [
      "35\n",
      "\n",
      "[FINISHED] Epoch 1, (Training Loss (per epoch): 153.5476 samp_prob: 0.8320)\n"
     ]
    },
    {
     "name": "stderr",
     "output_type": "stream",
     "text": [
      "\r",
      "Epoch 1, step 36/96, (Training Loss: 4.2545, samp_prob: 0.8320):  10%|█         | 1/10 [18:14<2:01:42, 811.44s/it]"
     ]
    },
    {
     "name": "stdout",
     "output_type": "stream",
     "text": [
      "36\n",
      "\n",
      "[FINISHED] Epoch 1, (Training Loss (per epoch): 157.8020 samp_prob: 0.8320)\n"
     ]
    },
    {
     "name": "stderr",
     "output_type": "stream",
     "text": [
      "\r",
      "Epoch 1, step 37/96, (Training Loss: 4.2342, samp_prob: 0.8320):  10%|█         | 1/10 [18:21<2:01:42, 811.44s/it]"
     ]
    },
    {
     "name": "stdout",
     "output_type": "stream",
     "text": [
      "37\n",
      "\n",
      "[FINISHED] Epoch 1, (Training Loss (per epoch): 162.0362 samp_prob: 0.8320)\n"
     ]
    },
    {
     "name": "stderr",
     "output_type": "stream",
     "text": [
      "\r",
      "Epoch 1, step 38/96, (Training Loss: 4.1629, samp_prob: 0.8320):  10%|█         | 1/10 [18:29<2:01:42, 811.44s/it]"
     ]
    },
    {
     "name": "stdout",
     "output_type": "stream",
     "text": [
      "38\n",
      "\n",
      "[FINISHED] Epoch 1, (Training Loss (per epoch): 166.1991 samp_prob: 0.8320)\n"
     ]
    },
    {
     "name": "stderr",
     "output_type": "stream",
     "text": [
      "\r",
      "Epoch 1, step 39/96, (Training Loss: 4.1760, samp_prob: 0.8320):  10%|█         | 1/10 [18:36<2:01:42, 811.44s/it]"
     ]
    },
    {
     "name": "stdout",
     "output_type": "stream",
     "text": [
      "39\n",
      "\n",
      "[FINISHED] Epoch 1, (Training Loss (per epoch): 170.3751 samp_prob: 0.8320)\n"
     ]
    },
    {
     "name": "stderr",
     "output_type": "stream",
     "text": [
      "\r",
      "Epoch 1, step 40/96, (Training Loss: 4.1190, samp_prob: 0.8320):  10%|█         | 1/10 [18:44<2:01:42, 811.44s/it]"
     ]
    },
    {
     "name": "stdout",
     "output_type": "stream",
     "text": [
      "40\n",
      "\n",
      "[FINISHED] Epoch 1, (Training Loss (per epoch): 174.4941 samp_prob: 0.8320)\n"
     ]
    },
    {
     "name": "stderr",
     "output_type": "stream",
     "text": [
      "\r",
      "Epoch 1, step 41/96, (Training Loss: 4.1442, samp_prob: 0.8320):  10%|█         | 1/10 [18:52<2:01:42, 811.44s/it]"
     ]
    },
    {
     "name": "stdout",
     "output_type": "stream",
     "text": [
      "41\n",
      "\n",
      "[FINISHED] Epoch 1, (Training Loss (per epoch): 178.6383 samp_prob: 0.8320)\n"
     ]
    },
    {
     "name": "stderr",
     "output_type": "stream",
     "text": [
      "\r",
      "Epoch 1, step 42/96, (Training Loss: 4.1888, samp_prob: 0.8320):  10%|█         | 1/10 [18:59<2:01:42, 811.44s/it]"
     ]
    },
    {
     "name": "stdout",
     "output_type": "stream",
     "text": [
      "42\n",
      "\n",
      "[FINISHED] Epoch 1, (Training Loss (per epoch): 182.8270 samp_prob: 0.8320)\n"
     ]
    },
    {
     "name": "stderr",
     "output_type": "stream",
     "text": [
      "\r",
      "Epoch 1, step 43/96, (Training Loss: 4.1928, samp_prob: 0.8320):  10%|█         | 1/10 [19:07<2:01:42, 811.44s/it]"
     ]
    },
    {
     "name": "stdout",
     "output_type": "stream",
     "text": [
      "43\n",
      "\n",
      "[FINISHED] Epoch 1, (Training Loss (per epoch): 187.0198 samp_prob: 0.8320)\n"
     ]
    },
    {
     "name": "stderr",
     "output_type": "stream",
     "text": [
      "\r",
      "Epoch 1, step 44/96, (Training Loss: 4.1679, samp_prob: 0.8320):  10%|█         | 1/10 [19:15<2:01:42, 811.44s/it]"
     ]
    },
    {
     "name": "stdout",
     "output_type": "stream",
     "text": [
      "44\n",
      "\n",
      "[FINISHED] Epoch 1, (Training Loss (per epoch): 191.1878 samp_prob: 0.8320)\n"
     ]
    },
    {
     "name": "stderr",
     "output_type": "stream",
     "text": [
      "\r",
      "Epoch 1, step 45/96, (Training Loss: 4.1883, samp_prob: 0.8320):  10%|█         | 1/10 [19:22<2:01:42, 811.44s/it]"
     ]
    },
    {
     "name": "stdout",
     "output_type": "stream",
     "text": [
      "45\n",
      "\n",
      "[FINISHED] Epoch 1, (Training Loss (per epoch): 195.3761 samp_prob: 0.8320)\n"
     ]
    },
    {
     "name": "stderr",
     "output_type": "stream",
     "text": [
      "\r",
      "Epoch 1, step 46/96, (Training Loss: 4.2090, samp_prob: 0.8320):  10%|█         | 1/10 [19:30<2:01:42, 811.44s/it]"
     ]
    },
    {
     "name": "stdout",
     "output_type": "stream",
     "text": [
      "[[1 4 7 ... 2 2 2]\n",
      " [1 4 7 ... 2 2 2]\n",
      " [1 4 7 ... 2 2 2]\n",
      " ...\n",
      " [1 4 7 ... 2 2 2]\n",
      " [1 4 7 ... 2 2 2]\n",
      " [1 4 8 ... 2 2 2]]\n",
      "\n",
      "[Train. Prediction] Epoch 1, step 46/96......\n",
      "\n",
      "id: 230\n",
      "answer: ['<BOS>', 'a', 'little', 'school', 'girl', 'walking', 'dejectedly', 'on', 'the', 'road', 'is', 'approached', 'from', 'behind', 'by', 'a', 'man', 'in', 'a', 'jeep']\n",
      "prediction: ['<BOS>', 'a', 'man', 'is', 'is', 'a']\n",
      "46\n",
      "\n",
      "[FINISHED] Epoch 1, (Training Loss (per epoch): 199.5851 samp_prob: 0.8320)\n"
     ]
    },
    {
     "name": "stderr",
     "output_type": "stream",
     "text": [
      "\r",
      "Epoch 1, step 47/96, (Training Loss: 4.1443, samp_prob: 0.8320):  10%|█         | 1/10 [19:38<2:01:42, 811.44s/it]"
     ]
    },
    {
     "name": "stdout",
     "output_type": "stream",
     "text": [
      "47\n",
      "\n",
      "[FINISHED] Epoch 1, (Training Loss (per epoch): 203.7294 samp_prob: 0.8320)\n"
     ]
    },
    {
     "name": "stderr",
     "output_type": "stream",
     "text": [
      "\r",
      "Epoch 1, step 48/96, (Training Loss: 4.1579, samp_prob: 0.8320):  10%|█         | 1/10 [19:46<2:01:42, 811.44s/it]"
     ]
    },
    {
     "name": "stdout",
     "output_type": "stream",
     "text": [
      "48\n",
      "\n",
      "[FINISHED] Epoch 1, (Training Loss (per epoch): 207.8873 samp_prob: 0.8320)\n"
     ]
    },
    {
     "name": "stderr",
     "output_type": "stream",
     "text": [
      "\r",
      "Epoch 1, step 49/96, (Training Loss: 4.2176, samp_prob: 0.8320):  10%|█         | 1/10 [19:53<2:01:42, 811.44s/it]"
     ]
    },
    {
     "name": "stdout",
     "output_type": "stream",
     "text": [
      "49\n",
      "\n",
      "[FINISHED] Epoch 1, (Training Loss (per epoch): 212.1049 samp_prob: 0.8320)\n"
     ]
    },
    {
     "name": "stderr",
     "output_type": "stream",
     "text": [
      "\r",
      "Epoch 1, step 50/96, (Training Loss: 4.2330, samp_prob: 0.8320):  10%|█         | 1/10 [20:01<2:01:42, 811.44s/it]"
     ]
    },
    {
     "name": "stdout",
     "output_type": "stream",
     "text": [
      "50\n",
      "\n",
      "[FINISHED] Epoch 1, (Training Loss (per epoch): 216.3379 samp_prob: 0.8320)\n"
     ]
    },
    {
     "name": "stderr",
     "output_type": "stream",
     "text": [
      "\r",
      "Epoch 1, step 51/96, (Training Loss: 4.1268, samp_prob: 0.8320):  10%|█         | 1/10 [20:08<2:01:42, 811.44s/it]"
     ]
    },
    {
     "name": "stdout",
     "output_type": "stream",
     "text": [
      "51\n",
      "\n",
      "[FINISHED] Epoch 1, (Training Loss (per epoch): 220.4648 samp_prob: 0.8320)\n"
     ]
    },
    {
     "name": "stderr",
     "output_type": "stream",
     "text": [
      "\r",
      "Epoch 1, step 52/96, (Training Loss: 4.1404, samp_prob: 0.8320):  10%|█         | 1/10 [20:16<2:01:42, 811.44s/it]"
     ]
    },
    {
     "name": "stdout",
     "output_type": "stream",
     "text": [
      "52\n",
      "\n",
      "[FINISHED] Epoch 1, (Training Loss (per epoch): 224.6052 samp_prob: 0.8320)\n"
     ]
    },
    {
     "name": "stderr",
     "output_type": "stream",
     "text": [
      "\r",
      "Epoch 1, step 53/96, (Training Loss: 4.2344, samp_prob: 0.8320):  10%|█         | 1/10 [20:24<2:01:42, 811.44s/it]"
     ]
    },
    {
     "name": "stdout",
     "output_type": "stream",
     "text": [
      "53\n",
      "\n",
      "[FINISHED] Epoch 1, (Training Loss (per epoch): 228.8396 samp_prob: 0.8320)\n"
     ]
    },
    {
     "name": "stderr",
     "output_type": "stream",
     "text": [
      "\r",
      "Epoch 1, step 54/96, (Training Loss: 4.1261, samp_prob: 0.8320):  10%|█         | 1/10 [20:31<2:01:42, 811.44s/it]"
     ]
    },
    {
     "name": "stdout",
     "output_type": "stream",
     "text": [
      "54\n",
      "\n",
      "[FINISHED] Epoch 1, (Training Loss (per epoch): 232.9657 samp_prob: 0.8320)\n"
     ]
    },
    {
     "name": "stderr",
     "output_type": "stream",
     "text": [
      "\r",
      "Epoch 1, step 55/96, (Training Loss: 4.1322, samp_prob: 0.8320):  10%|█         | 1/10 [20:39<2:01:42, 811.44s/it]"
     ]
    },
    {
     "name": "stdout",
     "output_type": "stream",
     "text": [
      "55\n",
      "\n",
      "[FINISHED] Epoch 1, (Training Loss (per epoch): 237.0979 samp_prob: 0.8320)\n"
     ]
    },
    {
     "name": "stderr",
     "output_type": "stream",
     "text": [
      "\r",
      "Epoch 1, step 56/96, (Training Loss: 4.0762, samp_prob: 0.8320):  10%|█         | 1/10 [20:47<2:01:42, 811.44s/it]"
     ]
    },
    {
     "name": "stdout",
     "output_type": "stream",
     "text": [
      "56\n",
      "\n",
      "[FINISHED] Epoch 1, (Training Loss (per epoch): 241.1741 samp_prob: 0.8320)\n"
     ]
    },
    {
     "name": "stderr",
     "output_type": "stream",
     "text": [
      "\r",
      "Epoch 1, step 57/96, (Training Loss: 4.0773, samp_prob: 0.8320):  10%|█         | 1/10 [20:54<2:01:42, 811.44s/it]"
     ]
    },
    {
     "name": "stdout",
     "output_type": "stream",
     "text": [
      "57\n",
      "\n",
      "[FINISHED] Epoch 1, (Training Loss (per epoch): 245.2514 samp_prob: 0.8320)\n"
     ]
    },
    {
     "name": "stderr",
     "output_type": "stream",
     "text": [
      "\r",
      "Epoch 1, step 58/96, (Training Loss: 4.0720, samp_prob: 0.8320):  10%|█         | 1/10 [21:02<2:01:42, 811.44s/it]"
     ]
    },
    {
     "name": "stdout",
     "output_type": "stream",
     "text": [
      "58\n",
      "\n",
      "[FINISHED] Epoch 1, (Training Loss (per epoch): 249.3234 samp_prob: 0.8320)\n"
     ]
    },
    {
     "name": "stderr",
     "output_type": "stream",
     "text": [
      "\r",
      "Epoch 1, step 59/96, (Training Loss: 4.1192, samp_prob: 0.8320):  10%|█         | 1/10 [21:10<2:01:42, 811.44s/it]"
     ]
    },
    {
     "name": "stdout",
     "output_type": "stream",
     "text": [
      "59\n",
      "\n",
      "[FINISHED] Epoch 1, (Training Loss (per epoch): 253.4427 samp_prob: 0.8320)\n"
     ]
    },
    {
     "name": "stderr",
     "output_type": "stream",
     "text": [
      "\r",
      "Epoch 1, step 60/96, (Training Loss: 4.1305, samp_prob: 0.8320):  10%|█         | 1/10 [21:17<2:01:42, 811.44s/it]"
     ]
    },
    {
     "name": "stdout",
     "output_type": "stream",
     "text": [
      "60\n",
      "\n",
      "[FINISHED] Epoch 1, (Training Loss (per epoch): 257.5732 samp_prob: 0.8320)\n"
     ]
    },
    {
     "name": "stderr",
     "output_type": "stream",
     "text": [
      "\r",
      "Epoch 1, step 61/96, (Training Loss: 4.1863, samp_prob: 0.8320):  10%|█         | 1/10 [21:25<2:01:42, 811.44s/it]"
     ]
    },
    {
     "name": "stdout",
     "output_type": "stream",
     "text": [
      "[[1 4 7 ... 2 2 2]\n",
      " [1 4 8 ... 2 2 2]\n",
      " [1 4 7 ... 2 2 2]\n",
      " ...\n",
      " [1 4 7 ... 2 2 2]\n",
      " [1 4 8 ... 2 2 2]\n",
      " [1 4 5 ... 2 2 2]]\n",
      "\n",
      "[Train. Prediction] Epoch 1, step 61/96......\n",
      "\n",
      "id: 6\n",
      "answer: ['<BOS>', 'a', 'man', 'moonwalks', 'with', 'a', 'grocery', 'cart', 'in', 'a', 'supermarket']\n",
      "prediction: ['<BOS>', 'the', 'woman', 'is', 'a']\n",
      "61\n",
      "\n",
      "[FINISHED] Epoch 1, (Training Loss (per epoch): 261.7595 samp_prob: 0.8320)\n"
     ]
    },
    {
     "name": "stderr",
     "output_type": "stream",
     "text": [
      "\r",
      "Epoch 1, step 62/96, (Training Loss: 4.1799, samp_prob: 0.8320):  10%|█         | 1/10 [21:33<2:01:42, 811.44s/it]"
     ]
    },
    {
     "name": "stdout",
     "output_type": "stream",
     "text": [
      "62\n",
      "\n",
      "[FINISHED] Epoch 1, (Training Loss (per epoch): 265.9394 samp_prob: 0.8320)\n"
     ]
    },
    {
     "name": "stderr",
     "output_type": "stream",
     "text": [
      "\r",
      "Epoch 1, step 63/96, (Training Loss: 4.1873, samp_prob: 0.8320):  10%|█         | 1/10 [21:40<2:01:42, 811.44s/it]"
     ]
    },
    {
     "name": "stdout",
     "output_type": "stream",
     "text": [
      "63\n",
      "\n",
      "[FINISHED] Epoch 1, (Training Loss (per epoch): 270.1267 samp_prob: 0.8320)\n"
     ]
    },
    {
     "name": "stderr",
     "output_type": "stream",
     "text": [
      "\r",
      "Epoch 1, step 64/96, (Training Loss: 4.2226, samp_prob: 0.8320):  10%|█         | 1/10 [21:48<2:01:42, 811.44s/it]"
     ]
    },
    {
     "name": "stdout",
     "output_type": "stream",
     "text": [
      "64\n",
      "\n",
      "[FINISHED] Epoch 1, (Training Loss (per epoch): 274.3493 samp_prob: 0.8320)\n"
     ]
    },
    {
     "name": "stderr",
     "output_type": "stream",
     "text": [
      "\r",
      "Epoch 1, step 65/96, (Training Loss: 4.0131, samp_prob: 0.8320):  10%|█         | 1/10 [21:56<2:01:42, 811.44s/it]"
     ]
    },
    {
     "name": "stdout",
     "output_type": "stream",
     "text": [
      "65\n",
      "\n",
      "[FINISHED] Epoch 1, (Training Loss (per epoch): 278.3624 samp_prob: 0.8320)\n"
     ]
    },
    {
     "name": "stderr",
     "output_type": "stream",
     "text": [
      "\r",
      "Epoch 1, step 66/96, (Training Loss: 4.2526, samp_prob: 0.8320):  10%|█         | 1/10 [22:03<2:01:42, 811.44s/it]"
     ]
    },
    {
     "name": "stdout",
     "output_type": "stream",
     "text": [
      "66\n",
      "\n",
      "[FINISHED] Epoch 1, (Training Loss (per epoch): 282.6150 samp_prob: 0.8320)\n"
     ]
    },
    {
     "name": "stderr",
     "output_type": "stream",
     "text": [
      "\r",
      "Epoch 1, step 67/96, (Training Loss: 4.1998, samp_prob: 0.8320):  10%|█         | 1/10 [22:11<2:01:42, 811.44s/it]"
     ]
    },
    {
     "name": "stdout",
     "output_type": "stream",
     "text": [
      "67\n",
      "\n",
      "[FINISHED] Epoch 1, (Training Loss (per epoch): 286.8148 samp_prob: 0.8320)\n"
     ]
    },
    {
     "name": "stderr",
     "output_type": "stream",
     "text": [
      "\r",
      "Epoch 1, step 68/96, (Training Loss: 4.1107, samp_prob: 0.8320):  10%|█         | 1/10 [22:19<2:01:42, 811.44s/it]"
     ]
    },
    {
     "name": "stdout",
     "output_type": "stream",
     "text": [
      "68\n",
      "\n",
      "[FINISHED] Epoch 1, (Training Loss (per epoch): 290.9255 samp_prob: 0.8320)\n"
     ]
    },
    {
     "name": "stderr",
     "output_type": "stream",
     "text": [
      "\r",
      "Epoch 1, step 69/96, (Training Loss: 4.0529, samp_prob: 0.8320):  10%|█         | 1/10 [22:26<2:01:42, 811.44s/it]"
     ]
    },
    {
     "name": "stdout",
     "output_type": "stream",
     "text": [
      "69\n",
      "\n",
      "[FINISHED] Epoch 1, (Training Loss (per epoch): 294.9784 samp_prob: 0.8320)\n"
     ]
    },
    {
     "name": "stderr",
     "output_type": "stream",
     "text": [
      "\r",
      "Epoch 1, step 70/96, (Training Loss: 4.1884, samp_prob: 0.8320):  10%|█         | 1/10 [22:34<2:01:42, 811.44s/it]"
     ]
    },
    {
     "name": "stdout",
     "output_type": "stream",
     "text": [
      "70\n",
      "\n",
      "[FINISHED] Epoch 1, (Training Loss (per epoch): 299.1668 samp_prob: 0.8320)\n"
     ]
    },
    {
     "name": "stderr",
     "output_type": "stream",
     "text": [
      "\r",
      "Epoch 1, step 71/96, (Training Loss: 4.0777, samp_prob: 0.8320):  10%|█         | 1/10 [22:41<2:01:42, 811.44s/it]"
     ]
    },
    {
     "name": "stdout",
     "output_type": "stream",
     "text": [
      "71\n",
      "\n",
      "[FINISHED] Epoch 1, (Training Loss (per epoch): 303.2445 samp_prob: 0.8320)\n"
     ]
    },
    {
     "name": "stderr",
     "output_type": "stream",
     "text": [
      "\r",
      "Epoch 1, step 72/96, (Training Loss: 4.2088, samp_prob: 0.8320):  10%|█         | 1/10 [22:49<2:01:42, 811.44s/it]"
     ]
    },
    {
     "name": "stdout",
     "output_type": "stream",
     "text": [
      "72\n",
      "\n",
      "[FINISHED] Epoch 1, (Training Loss (per epoch): 307.4533 samp_prob: 0.8320)\n"
     ]
    },
    {
     "name": "stderr",
     "output_type": "stream",
     "text": [
      "\r",
      "Epoch 1, step 73/96, (Training Loss: 4.0610, samp_prob: 0.8320):  10%|█         | 1/10 [22:57<2:01:42, 811.44s/it]"
     ]
    },
    {
     "name": "stdout",
     "output_type": "stream",
     "text": [
      "73\n",
      "\n",
      "[FINISHED] Epoch 1, (Training Loss (per epoch): 311.5143 samp_prob: 0.8320)\n"
     ]
    },
    {
     "name": "stderr",
     "output_type": "stream",
     "text": [
      "\r",
      "Epoch 1, step 74/96, (Training Loss: 4.1501, samp_prob: 0.8320):  10%|█         | 1/10 [23:04<2:01:42, 811.44s/it]"
     ]
    },
    {
     "name": "stdout",
     "output_type": "stream",
     "text": [
      "74\n",
      "\n",
      "[FINISHED] Epoch 1, (Training Loss (per epoch): 315.6644 samp_prob: 0.8320)\n"
     ]
    },
    {
     "name": "stderr",
     "output_type": "stream",
     "text": [
      "\r",
      "Epoch 1, step 75/96, (Training Loss: 4.1558, samp_prob: 0.8320):  10%|█         | 1/10 [23:12<2:01:42, 811.44s/it]"
     ]
    },
    {
     "name": "stdout",
     "output_type": "stream",
     "text": [
      "75\n",
      "\n",
      "[FINISHED] Epoch 1, (Training Loss (per epoch): 319.8202 samp_prob: 0.8320)\n"
     ]
    },
    {
     "name": "stderr",
     "output_type": "stream",
     "text": [
      "\r",
      "Epoch 1, step 76/96, (Training Loss: 4.1766, samp_prob: 0.8320):  10%|█         | 1/10 [23:20<2:01:42, 811.44s/it]"
     ]
    },
    {
     "name": "stdout",
     "output_type": "stream",
     "text": [
      "[[1 4 7 ... 2 2 2]\n",
      " [1 4 7 ... 2 2 2]\n",
      " [1 4 7 ... 2 2 2]\n",
      " ...\n",
      " [1 4 7 ... 2 2 2]\n",
      " [1 4 5 ... 2 2 2]\n",
      " [1 4 7 ... 2 2 2]]\n",
      "\n",
      "[Train. Prediction] Epoch 1, step 76/96......\n",
      "\n",
      "id: 196\n",
      "answer: ['<BOS>', 'the', 'man', 'is', 'walking', 'on', 'the', 'wall', 'and', 'the', 'ceiling']\n",
      "prediction: ['<BOS>', 'a', 'man', 'is', 'a', 'a']\n",
      "76\n",
      "\n",
      "[FINISHED] Epoch 1, (Training Loss (per epoch): 323.9967 samp_prob: 0.8320)\n"
     ]
    },
    {
     "name": "stderr",
     "output_type": "stream",
     "text": [
      "\r",
      "Epoch 1, step 77/96, (Training Loss: 4.0456, samp_prob: 0.8320):  10%|█         | 1/10 [23:27<2:01:42, 811.44s/it]"
     ]
    },
    {
     "name": "stdout",
     "output_type": "stream",
     "text": [
      "77\n",
      "\n",
      "[FINISHED] Epoch 1, (Training Loss (per epoch): 328.0423 samp_prob: 0.8320)\n"
     ]
    },
    {
     "name": "stderr",
     "output_type": "stream",
     "text": [
      "\r",
      "Epoch 1, step 78/96, (Training Loss: 3.9845, samp_prob: 0.8320):  10%|█         | 1/10 [23:35<2:01:42, 811.44s/it]"
     ]
    },
    {
     "name": "stdout",
     "output_type": "stream",
     "text": [
      "78\n",
      "\n",
      "[FINISHED] Epoch 1, (Training Loss (per epoch): 332.0268 samp_prob: 0.8320)\n"
     ]
    },
    {
     "name": "stderr",
     "output_type": "stream",
     "text": [
      "\r",
      "Epoch 1, step 79/96, (Training Loss: 4.0340, samp_prob: 0.8320):  10%|█         | 1/10 [23:43<2:01:42, 811.44s/it]"
     ]
    },
    {
     "name": "stdout",
     "output_type": "stream",
     "text": [
      "79\n",
      "\n",
      "[FINISHED] Epoch 1, (Training Loss (per epoch): 336.0608 samp_prob: 0.8320)\n"
     ]
    },
    {
     "name": "stderr",
     "output_type": "stream",
     "text": [
      "\r",
      "Epoch 1, step 80/96, (Training Loss: 4.0816, samp_prob: 0.8320):  10%|█         | 1/10 [23:50<2:01:42, 811.44s/it]"
     ]
    },
    {
     "name": "stdout",
     "output_type": "stream",
     "text": [
      "80\n",
      "\n",
      "[FINISHED] Epoch 1, (Training Loss (per epoch): 340.1425 samp_prob: 0.8320)\n"
     ]
    },
    {
     "name": "stderr",
     "output_type": "stream",
     "text": [
      "\r",
      "Epoch 1, step 81/96, (Training Loss: 3.9639, samp_prob: 0.8320):  10%|█         | 1/10 [23:58<2:01:42, 811.44s/it]"
     ]
    },
    {
     "name": "stdout",
     "output_type": "stream",
     "text": [
      "81\n",
      "\n",
      "[FINISHED] Epoch 1, (Training Loss (per epoch): 344.1064 samp_prob: 0.8320)\n"
     ]
    },
    {
     "name": "stderr",
     "output_type": "stream",
     "text": [
      "\r",
      "Epoch 1, step 82/96, (Training Loss: 4.2067, samp_prob: 0.8320):  10%|█         | 1/10 [24:05<2:01:42, 811.44s/it]"
     ]
    },
    {
     "name": "stdout",
     "output_type": "stream",
     "text": [
      "82\n",
      "\n",
      "[FINISHED] Epoch 1, (Training Loss (per epoch): 348.3131 samp_prob: 0.8320)\n"
     ]
    },
    {
     "name": "stderr",
     "output_type": "stream",
     "text": [
      "\r",
      "Epoch 1, step 83/96, (Training Loss: 4.1354, samp_prob: 0.8320):  10%|█         | 1/10 [24:13<2:01:42, 811.44s/it]"
     ]
    },
    {
     "name": "stdout",
     "output_type": "stream",
     "text": [
      "83\n",
      "\n",
      "[FINISHED] Epoch 1, (Training Loss (per epoch): 352.4485 samp_prob: 0.8320)\n"
     ]
    },
    {
     "name": "stderr",
     "output_type": "stream",
     "text": [
      "\r",
      "Epoch 1, step 84/96, (Training Loss: 4.0302, samp_prob: 0.8320):  10%|█         | 1/10 [24:21<2:01:42, 811.44s/it]"
     ]
    },
    {
     "name": "stdout",
     "output_type": "stream",
     "text": [
      "84\n",
      "\n",
      "[FINISHED] Epoch 1, (Training Loss (per epoch): 356.4787 samp_prob: 0.8320)\n"
     ]
    },
    {
     "name": "stderr",
     "output_type": "stream",
     "text": [
      "\r",
      "Epoch 1, step 85/96, (Training Loss: 4.1720, samp_prob: 0.8320):  10%|█         | 1/10 [24:28<2:01:42, 811.44s/it]"
     ]
    },
    {
     "name": "stdout",
     "output_type": "stream",
     "text": [
      "85\n",
      "\n",
      "[FINISHED] Epoch 1, (Training Loss (per epoch): 360.6507 samp_prob: 0.8320)\n"
     ]
    },
    {
     "name": "stderr",
     "output_type": "stream",
     "text": [
      "\r",
      "Epoch 1, step 86/96, (Training Loss: 4.0429, samp_prob: 0.8320):  10%|█         | 1/10 [24:36<2:01:42, 811.44s/it]"
     ]
    },
    {
     "name": "stdout",
     "output_type": "stream",
     "text": [
      "86\n",
      "\n",
      "[FINISHED] Epoch 1, (Training Loss (per epoch): 364.6936 samp_prob: 0.8320)\n"
     ]
    },
    {
     "name": "stderr",
     "output_type": "stream",
     "text": [
      "\r",
      "Epoch 1, step 87/96, (Training Loss: 4.1183, samp_prob: 0.8320):  10%|█         | 1/10 [24:43<2:01:42, 811.44s/it]"
     ]
    },
    {
     "name": "stdout",
     "output_type": "stream",
     "text": [
      "87\n",
      "\n",
      "[FINISHED] Epoch 1, (Training Loss (per epoch): 368.8118 samp_prob: 0.8320)\n"
     ]
    },
    {
     "name": "stderr",
     "output_type": "stream",
     "text": [
      "\r",
      "Epoch 1, step 88/96, (Training Loss: 4.0828, samp_prob: 0.8320):  10%|█         | 1/10 [24:51<2:01:42, 811.44s/it]"
     ]
    },
    {
     "name": "stdout",
     "output_type": "stream",
     "text": [
      "88\n",
      "\n",
      "[FINISHED] Epoch 1, (Training Loss (per epoch): 372.8947 samp_prob: 0.8320)\n"
     ]
    },
    {
     "name": "stderr",
     "output_type": "stream",
     "text": [
      "\r",
      "Epoch 1, step 89/96, (Training Loss: 4.0552, samp_prob: 0.8320):  10%|█         | 1/10 [24:59<2:01:42, 811.44s/it]"
     ]
    },
    {
     "name": "stdout",
     "output_type": "stream",
     "text": [
      "89\n",
      "\n",
      "[FINISHED] Epoch 1, (Training Loss (per epoch): 376.9499 samp_prob: 0.8320)\n"
     ]
    },
    {
     "name": "stderr",
     "output_type": "stream",
     "text": [
      "\r",
      "Epoch 1, step 90/96, (Training Loss: 4.0208, samp_prob: 0.8320):  10%|█         | 1/10 [25:06<2:01:42, 811.44s/it]"
     ]
    },
    {
     "name": "stdout",
     "output_type": "stream",
     "text": [
      "90\n",
      "\n",
      "[FINISHED] Epoch 1, (Training Loss (per epoch): 380.9707 samp_prob: 0.8320)\n"
     ]
    },
    {
     "name": "stderr",
     "output_type": "stream",
     "text": [
      "\r",
      "Epoch 1, step 91/96, (Training Loss: 4.0644, samp_prob: 0.8320):  10%|█         | 1/10 [25:14<2:01:42, 811.44s/it]"
     ]
    },
    {
     "name": "stdout",
     "output_type": "stream",
     "text": [
      "[[1 4 7 ... 2 2 2]\n",
      " [1 4 5 ... 2 2 2]\n",
      " [1 4 5 ... 2 2 2]\n",
      " ...\n",
      " [1 4 7 ... 2 2 2]\n",
      " [1 4 5 ... 2 2 2]\n",
      " [1 4 7 ... 2 2 2]]\n",
      "\n",
      "[Train. Prediction] Epoch 1, step 91/96......\n",
      "\n",
      "id: 179\n",
      "answer: ['<BOS>', 'a', 'squirrel', 'is', 'spinning', 'around', 'in', 'circles']\n",
      "prediction: ['<BOS>', 'a', 'is', 'is']\n",
      "91\n",
      "\n",
      "[FINISHED] Epoch 1, (Training Loss (per epoch): 385.0351 samp_prob: 0.8320)\n"
     ]
    },
    {
     "name": "stderr",
     "output_type": "stream",
     "text": [
      "\r",
      "Epoch 1, step 92/96, (Training Loss: 3.9281, samp_prob: 0.8320):  10%|█         | 1/10 [25:22<2:01:42, 811.44s/it]"
     ]
    },
    {
     "name": "stdout",
     "output_type": "stream",
     "text": [
      "92\n",
      "\n",
      "[FINISHED] Epoch 1, (Training Loss (per epoch): 388.9632 samp_prob: 0.8320)\n"
     ]
    },
    {
     "name": "stderr",
     "output_type": "stream",
     "text": [
      "\r",
      "Epoch 1, step 93/96, (Training Loss: 3.9858, samp_prob: 0.8320):  10%|█         | 1/10 [25:30<2:01:42, 811.44s/it]"
     ]
    },
    {
     "name": "stdout",
     "output_type": "stream",
     "text": [
      "93\n",
      "\n",
      "[FINISHED] Epoch 1, (Training Loss (per epoch): 392.9491 samp_prob: 0.8320)\n"
     ]
    },
    {
     "name": "stderr",
     "output_type": "stream",
     "text": [
      "\r",
      "Epoch 1, step 94/96, (Training Loss: 4.0859, samp_prob: 0.8320):  10%|█         | 1/10 [25:37<2:01:42, 811.44s/it]"
     ]
    },
    {
     "name": "stdout",
     "output_type": "stream",
     "text": [
      "94\n",
      "\n",
      "[FINISHED] Epoch 1, (Training Loss (per epoch): 397.0350 samp_prob: 0.8320)\n"
     ]
    },
    {
     "name": "stderr",
     "output_type": "stream",
     "text": [
      "Epoch 1, step 95/96, (Training Loss: 4.0621, samp_prob: 0.8320):  20%|██        | 2/10 [25:45<1:45:05, 788.16s/it]"
     ]
    },
    {
     "name": "stdout",
     "output_type": "stream",
     "text": [
      "95\n",
      "\n",
      "[FINISHED] Epoch 1, (Training Loss (per epoch): 401.0971 samp_prob: 0.8320)\n"
     ]
    },
    {
     "name": "stderr",
     "output_type": "stream",
     "text": [
      "\r",
      "Epoch 2, step 0/96, (Training Loss: 4.1140, samp_prob: 0.7685):  20%|██        | 2/10 [25:52<1:45:05, 788.16s/it] "
     ]
    },
    {
     "name": "stdout",
     "output_type": "stream",
     "text": [
      "0\n",
      "\n",
      "[FINISHED] Epoch 2, (Training Loss (per epoch): 4.1140 samp_prob: 0.7685)\n"
     ]
    },
    {
     "name": "stderr",
     "output_type": "stream",
     "text": [
      "\r",
      "Epoch 2, step 1/96, (Training Loss: 4.0615, samp_prob: 0.7685):  20%|██        | 2/10 [26:00<1:45:05, 788.16s/it]"
     ]
    },
    {
     "name": "stdout",
     "output_type": "stream",
     "text": [
      "[[ 1  4 24 ...  2  2  2]\n",
      " [ 1  4  8 ...  2  2  2]\n",
      " [ 1  4  7 ...  2  2  2]\n",
      " ...\n",
      " [ 1  4 12 ...  2  2  2]\n",
      " [ 1  4  8 ...  2  2  2]\n",
      " [ 1  4  7 ...  2  2  2]]\n",
      "\n",
      "[Train. Prediction] Epoch 2, step 1/96......\n",
      "\n",
      "id: 172\n",
      "answer: ['<BOS>', 'spring', 'onion', 'is', 'chopped', 'finely']\n",
      "prediction: ['<BOS>', 'a', 'man', 'is', 'is', 'a']\n",
      "1\n",
      "\n",
      "[FINISHED] Epoch 2, (Training Loss (per epoch): 8.1755 samp_prob: 0.7685)\n"
     ]
    },
    {
     "name": "stderr",
     "output_type": "stream",
     "text": [
      "\r",
      "Epoch 2, step 2/96, (Training Loss: 4.0217, samp_prob: 0.7685):  20%|██        | 2/10 [26:08<1:45:05, 788.16s/it]"
     ]
    },
    {
     "name": "stdout",
     "output_type": "stream",
     "text": [
      "2\n",
      "\n",
      "[FINISHED] Epoch 2, (Training Loss (per epoch): 12.1972 samp_prob: 0.7685)\n"
     ]
    },
    {
     "name": "stderr",
     "output_type": "stream",
     "text": [
      "\r",
      "Epoch 2, step 3/96, (Training Loss: 4.0880, samp_prob: 0.7685):  20%|██        | 2/10 [26:15<1:45:05, 788.16s/it]"
     ]
    },
    {
     "name": "stdout",
     "output_type": "stream",
     "text": [
      "3\n",
      "\n",
      "[FINISHED] Epoch 2, (Training Loss (per epoch): 16.2852 samp_prob: 0.7685)\n"
     ]
    },
    {
     "name": "stderr",
     "output_type": "stream",
     "text": [
      "\r",
      "Epoch 2, step 4/96, (Training Loss: 3.9375, samp_prob: 0.7685):  20%|██        | 2/10 [26:23<1:45:05, 788.16s/it]"
     ]
    },
    {
     "name": "stdout",
     "output_type": "stream",
     "text": [
      "4\n",
      "\n",
      "[FINISHED] Epoch 2, (Training Loss (per epoch): 20.2227 samp_prob: 0.7685)\n"
     ]
    },
    {
     "name": "stderr",
     "output_type": "stream",
     "text": [
      "\r",
      "Epoch 2, step 5/96, (Training Loss: 4.0059, samp_prob: 0.7685):  20%|██        | 2/10 [26:31<1:45:05, 788.16s/it]"
     ]
    },
    {
     "name": "stdout",
     "output_type": "stream",
     "text": [
      "5\n",
      "\n",
      "[FINISHED] Epoch 2, (Training Loss (per epoch): 24.2287 samp_prob: 0.7685)\n"
     ]
    },
    {
     "name": "stderr",
     "output_type": "stream",
     "text": [
      "\r",
      "Epoch 2, step 6/96, (Training Loss: 3.9660, samp_prob: 0.7685):  20%|██        | 2/10 [26:38<1:45:05, 788.16s/it]"
     ]
    },
    {
     "name": "stdout",
     "output_type": "stream",
     "text": [
      "6\n",
      "\n",
      "[FINISHED] Epoch 2, (Training Loss (per epoch): 28.1947 samp_prob: 0.7685)\n"
     ]
    },
    {
     "name": "stderr",
     "output_type": "stream",
     "text": [
      "\r",
      "Epoch 2, step 7/96, (Training Loss: 4.0331, samp_prob: 0.7685):  20%|██        | 2/10 [26:46<1:45:05, 788.16s/it]"
     ]
    },
    {
     "name": "stdout",
     "output_type": "stream",
     "text": [
      "7\n",
      "\n",
      "[FINISHED] Epoch 2, (Training Loss (per epoch): 32.2278 samp_prob: 0.7685)\n"
     ]
    },
    {
     "name": "stderr",
     "output_type": "stream",
     "text": [
      "\r",
      "Epoch 2, step 8/96, (Training Loss: 3.9805, samp_prob: 0.7685):  20%|██        | 2/10 [26:54<1:45:05, 788.16s/it]"
     ]
    },
    {
     "name": "stdout",
     "output_type": "stream",
     "text": [
      "8\n",
      "\n",
      "[FINISHED] Epoch 2, (Training Loss (per epoch): 36.2083 samp_prob: 0.7685)\n"
     ]
    },
    {
     "name": "stderr",
     "output_type": "stream",
     "text": [
      "\r",
      "Epoch 2, step 9/96, (Training Loss: 4.0137, samp_prob: 0.7685):  20%|██        | 2/10 [27:01<1:45:05, 788.16s/it]"
     ]
    },
    {
     "name": "stdout",
     "output_type": "stream",
     "text": [
      "9\n",
      "\n",
      "[FINISHED] Epoch 2, (Training Loss (per epoch): 40.2220 samp_prob: 0.7685)\n"
     ]
    },
    {
     "name": "stderr",
     "output_type": "stream",
     "text": [
      "\r",
      "Epoch 2, step 10/96, (Training Loss: 3.9529, samp_prob: 0.7685):  20%|██        | 2/10 [27:09<1:45:05, 788.16s/it]"
     ]
    },
    {
     "name": "stdout",
     "output_type": "stream",
     "text": [
      "10\n",
      "\n",
      "[FINISHED] Epoch 2, (Training Loss (per epoch): 44.1749 samp_prob: 0.7685)\n"
     ]
    },
    {
     "name": "stderr",
     "output_type": "stream",
     "text": [
      "\r",
      "Epoch 2, step 11/96, (Training Loss: 4.0201, samp_prob: 0.7685):  20%|██        | 2/10 [27:16<1:45:05, 788.16s/it]"
     ]
    },
    {
     "name": "stdout",
     "output_type": "stream",
     "text": [
      "11\n",
      "\n",
      "[FINISHED] Epoch 2, (Training Loss (per epoch): 48.1950 samp_prob: 0.7685)\n"
     ]
    },
    {
     "name": "stderr",
     "output_type": "stream",
     "text": [
      "\r",
      "Epoch 2, step 12/96, (Training Loss: 4.0401, samp_prob: 0.7685):  20%|██        | 2/10 [27:24<1:45:05, 788.16s/it]"
     ]
    },
    {
     "name": "stdout",
     "output_type": "stream",
     "text": [
      "12\n",
      "\n",
      "[FINISHED] Epoch 2, (Training Loss (per epoch): 52.2351 samp_prob: 0.7685)\n"
     ]
    },
    {
     "name": "stderr",
     "output_type": "stream",
     "text": [
      "\r",
      "Epoch 2, step 13/96, (Training Loss: 4.0942, samp_prob: 0.7685):  20%|██        | 2/10 [27:31<1:45:05, 788.16s/it]"
     ]
    },
    {
     "name": "stdout",
     "output_type": "stream",
     "text": [
      "13\n",
      "\n",
      "[FINISHED] Epoch 2, (Training Loss (per epoch): 56.3293 samp_prob: 0.7685)\n"
     ]
    },
    {
     "name": "stderr",
     "output_type": "stream",
     "text": [
      "\r",
      "Epoch 2, step 14/96, (Training Loss: 4.0864, samp_prob: 0.7685):  20%|██        | 2/10 [27:39<1:45:05, 788.16s/it]"
     ]
    },
    {
     "name": "stdout",
     "output_type": "stream",
     "text": [
      "14\n",
      "\n",
      "[FINISHED] Epoch 2, (Training Loss (per epoch): 60.4157 samp_prob: 0.7685)\n"
     ]
    },
    {
     "name": "stderr",
     "output_type": "stream",
     "text": [
      "\r",
      "Epoch 2, step 15/96, (Training Loss: 4.0637, samp_prob: 0.7685):  20%|██        | 2/10 [27:47<1:45:05, 788.16s/it]"
     ]
    },
    {
     "name": "stdout",
     "output_type": "stream",
     "text": [
      "15\n",
      "\n",
      "[FINISHED] Epoch 2, (Training Loss (per epoch): 64.4794 samp_prob: 0.7685)\n"
     ]
    },
    {
     "name": "stderr",
     "output_type": "stream",
     "text": [
      "\r",
      "Epoch 2, step 16/96, (Training Loss: 4.0038, samp_prob: 0.7685):  20%|██        | 2/10 [27:55<1:45:05, 788.16s/it]"
     ]
    },
    {
     "name": "stdout",
     "output_type": "stream",
     "text": [
      "[[1 6 7 ... 2 2 2]\n",
      " [1 4 8 ... 2 2 2]\n",
      " [1 4 7 ... 2 2 2]\n",
      " ...\n",
      " [1 4 7 ... 2 2 2]\n",
      " [1 4 8 ... 2 2 2]\n",
      " [1 4 8 ... 2 2 2]]\n",
      "\n",
      "[Train. Prediction] Epoch 2, step 16/96......\n",
      "\n",
      "id: 116\n",
      "answer: ['<BOS>', 'a', 'man', 'is', 'playing', 'a', 'trumpet']\n",
      "prediction: ['<BOS>', 'a', 'man', 'is', 'is', 'a', 'a']\n",
      "16\n",
      "\n",
      "[FINISHED] Epoch 2, (Training Loss (per epoch): 68.4832 samp_prob: 0.7685)\n"
     ]
    },
    {
     "name": "stderr",
     "output_type": "stream",
     "text": [
      "\r",
      "Epoch 2, step 17/96, (Training Loss: 3.9886, samp_prob: 0.7685):  20%|██        | 2/10 [28:02<1:45:05, 788.16s/it]"
     ]
    },
    {
     "name": "stdout",
     "output_type": "stream",
     "text": [
      "17\n",
      "\n",
      "[FINISHED] Epoch 2, (Training Loss (per epoch): 72.4718 samp_prob: 0.7685)\n"
     ]
    },
    {
     "name": "stderr",
     "output_type": "stream",
     "text": [
      "\r",
      "Epoch 2, step 18/96, (Training Loss: 3.8681, samp_prob: 0.7685):  20%|██        | 2/10 [28:10<1:45:05, 788.16s/it]"
     ]
    },
    {
     "name": "stdout",
     "output_type": "stream",
     "text": [
      "18\n",
      "\n",
      "[FINISHED] Epoch 2, (Training Loss (per epoch): 76.3399 samp_prob: 0.7685)\n"
     ]
    },
    {
     "name": "stderr",
     "output_type": "stream",
     "text": [
      "\r",
      "Epoch 2, step 19/96, (Training Loss: 3.7602, samp_prob: 0.7685):  20%|██        | 2/10 [28:18<1:45:05, 788.16s/it]"
     ]
    },
    {
     "name": "stdout",
     "output_type": "stream",
     "text": [
      "19\n",
      "\n",
      "[FINISHED] Epoch 2, (Training Loss (per epoch): 80.1001 samp_prob: 0.7685)\n"
     ]
    },
    {
     "name": "stderr",
     "output_type": "stream",
     "text": [
      "\r",
      "Epoch 2, step 20/96, (Training Loss: 4.0833, samp_prob: 0.7685):  20%|██        | 2/10 [28:25<1:45:05, 788.16s/it]"
     ]
    },
    {
     "name": "stdout",
     "output_type": "stream",
     "text": [
      "20\n",
      "\n",
      "[FINISHED] Epoch 2, (Training Loss (per epoch): 84.1834 samp_prob: 0.7685)\n"
     ]
    },
    {
     "name": "stderr",
     "output_type": "stream",
     "text": [
      "\r",
      "Epoch 2, step 21/96, (Training Loss: 3.9499, samp_prob: 0.7685):  20%|██        | 2/10 [28:33<1:45:05, 788.16s/it]"
     ]
    },
    {
     "name": "stdout",
     "output_type": "stream",
     "text": [
      "21\n",
      "\n",
      "[FINISHED] Epoch 2, (Training Loss (per epoch): 88.1332 samp_prob: 0.7685)\n"
     ]
    },
    {
     "name": "stderr",
     "output_type": "stream",
     "text": [
      "\r",
      "Epoch 2, step 22/96, (Training Loss: 3.9271, samp_prob: 0.7685):  20%|██        | 2/10 [28:41<1:45:05, 788.16s/it]"
     ]
    },
    {
     "name": "stdout",
     "output_type": "stream",
     "text": [
      "22\n",
      "\n",
      "[FINISHED] Epoch 2, (Training Loss (per epoch): 92.0604 samp_prob: 0.7685)\n"
     ]
    },
    {
     "name": "stderr",
     "output_type": "stream",
     "text": [
      "\r",
      "Epoch 2, step 23/96, (Training Loss: 4.0292, samp_prob: 0.7685):  20%|██        | 2/10 [28:48<1:45:05, 788.16s/it]"
     ]
    },
    {
     "name": "stdout",
     "output_type": "stream",
     "text": [
      "23\n",
      "\n",
      "[FINISHED] Epoch 2, (Training Loss (per epoch): 96.0895 samp_prob: 0.7685)\n"
     ]
    },
    {
     "name": "stderr",
     "output_type": "stream",
     "text": [
      "\r",
      "Epoch 2, step 24/96, (Training Loss: 4.1344, samp_prob: 0.7685):  20%|██        | 2/10 [28:56<1:45:05, 788.16s/it]"
     ]
    },
    {
     "name": "stdout",
     "output_type": "stream",
     "text": [
      "24\n",
      "\n",
      "[FINISHED] Epoch 2, (Training Loss (per epoch): 100.2239 samp_prob: 0.7685)\n"
     ]
    },
    {
     "name": "stderr",
     "output_type": "stream",
     "text": [
      "\r",
      "Epoch 2, step 25/96, (Training Loss: 3.9177, samp_prob: 0.7685):  20%|██        | 2/10 [29:03<1:45:05, 788.16s/it]"
     ]
    },
    {
     "name": "stdout",
     "output_type": "stream",
     "text": [
      "25\n",
      "\n",
      "[FINISHED] Epoch 2, (Training Loss (per epoch): 104.1416 samp_prob: 0.7685)\n"
     ]
    },
    {
     "name": "stderr",
     "output_type": "stream",
     "text": [
      "\r",
      "Epoch 2, step 26/96, (Training Loss: 3.9678, samp_prob: 0.7685):  20%|██        | 2/10 [29:11<1:45:05, 788.16s/it]"
     ]
    },
    {
     "name": "stdout",
     "output_type": "stream",
     "text": [
      "26\n",
      "\n",
      "[FINISHED] Epoch 2, (Training Loss (per epoch): 108.1095 samp_prob: 0.7685)\n"
     ]
    },
    {
     "name": "stderr",
     "output_type": "stream",
     "text": [
      "\r",
      "Epoch 2, step 27/96, (Training Loss: 3.9188, samp_prob: 0.7685):  20%|██        | 2/10 [29:19<1:45:05, 788.16s/it]"
     ]
    },
    {
     "name": "stdout",
     "output_type": "stream",
     "text": [
      "27\n",
      "\n",
      "[FINISHED] Epoch 2, (Training Loss (per epoch): 112.0283 samp_prob: 0.7685)\n"
     ]
    },
    {
     "name": "stderr",
     "output_type": "stream",
     "text": [
      "\r",
      "Epoch 2, step 28/96, (Training Loss: 3.8570, samp_prob: 0.7685):  20%|██        | 2/10 [29:26<1:45:05, 788.16s/it]"
     ]
    },
    {
     "name": "stdout",
     "output_type": "stream",
     "text": [
      "28\n",
      "\n",
      "[FINISHED] Epoch 2, (Training Loss (per epoch): 115.8852 samp_prob: 0.7685)\n"
     ]
    },
    {
     "name": "stderr",
     "output_type": "stream",
     "text": [
      "\r",
      "Epoch 2, step 29/96, (Training Loss: 3.9974, samp_prob: 0.7685):  20%|██        | 2/10 [29:34<1:45:05, 788.16s/it]"
     ]
    },
    {
     "name": "stdout",
     "output_type": "stream",
     "text": [
      "29\n",
      "\n",
      "[FINISHED] Epoch 2, (Training Loss (per epoch): 119.8826 samp_prob: 0.7685)\n"
     ]
    },
    {
     "name": "stderr",
     "output_type": "stream",
     "text": [
      "\r",
      "Epoch 2, step 30/96, (Training Loss: 4.0497, samp_prob: 0.7685):  20%|██        | 2/10 [29:41<1:45:05, 788.16s/it]"
     ]
    },
    {
     "name": "stdout",
     "output_type": "stream",
     "text": [
      "30\n",
      "\n",
      "[FINISHED] Epoch 2, (Training Loss (per epoch): 123.9323 samp_prob: 0.7685)\n"
     ]
    },
    {
     "name": "stderr",
     "output_type": "stream",
     "text": [
      "\r",
      "Epoch 2, step 31/96, (Training Loss: 3.9690, samp_prob: 0.7685):  20%|██        | 2/10 [29:49<1:45:05, 788.16s/it]"
     ]
    },
    {
     "name": "stdout",
     "output_type": "stream",
     "text": [
      "[[ 1  4 12 ...  2  2  2]\n",
      " [ 1  4  7 ...  2  2  2]\n",
      " [ 1  4  7 ...  2  2  2]\n",
      " ...\n",
      " [ 1  4  7 ...  2  2  2]\n",
      " [ 1  4  7 ...  2  2  2]\n",
      " [ 1  4  8 ...  2  2  2]]\n",
      "\n",
      "[Train. Prediction] Epoch 2, step 31/96......\n",
      "\n",
      "id: 150\n",
      "answer: ['<BOS>', 'a', 'person', 'is', 'boiling', 'soup']\n",
      "prediction: ['<BOS>', 'a', 'man', 'is', 'a', 'a', 'a']\n",
      "31\n",
      "\n",
      "[FINISHED] Epoch 2, (Training Loss (per epoch): 127.9014 samp_prob: 0.7685)\n"
     ]
    },
    {
     "name": "stderr",
     "output_type": "stream",
     "text": [
      "\r",
      "Epoch 2, step 32/96, (Training Loss: 3.9677, samp_prob: 0.7685):  20%|██        | 2/10 [29:57<1:45:05, 788.16s/it]"
     ]
    },
    {
     "name": "stdout",
     "output_type": "stream",
     "text": [
      "32\n",
      "\n",
      "[FINISHED] Epoch 2, (Training Loss (per epoch): 131.8691 samp_prob: 0.7685)\n"
     ]
    },
    {
     "name": "stderr",
     "output_type": "stream",
     "text": [
      "\r",
      "Epoch 2, step 33/96, (Training Loss: 3.9797, samp_prob: 0.7685):  20%|██        | 2/10 [30:05<1:45:05, 788.16s/it]"
     ]
    },
    {
     "name": "stdout",
     "output_type": "stream",
     "text": [
      "33\n",
      "\n",
      "[FINISHED] Epoch 2, (Training Loss (per epoch): 135.8487 samp_prob: 0.7685)\n"
     ]
    },
    {
     "name": "stderr",
     "output_type": "stream",
     "text": [
      "\r",
      "Epoch 2, step 34/96, (Training Loss: 3.9492, samp_prob: 0.7685):  20%|██        | 2/10 [30:12<1:45:05, 788.16s/it]"
     ]
    },
    {
     "name": "stdout",
     "output_type": "stream",
     "text": [
      "34\n",
      "\n",
      "[FINISHED] Epoch 2, (Training Loss (per epoch): 139.7979 samp_prob: 0.7685)\n"
     ]
    },
    {
     "name": "stderr",
     "output_type": "stream",
     "text": [
      "\r",
      "Epoch 2, step 35/96, (Training Loss: 3.9455, samp_prob: 0.7685):  20%|██        | 2/10 [30:20<1:45:05, 788.16s/it]"
     ]
    },
    {
     "name": "stdout",
     "output_type": "stream",
     "text": [
      "35\n",
      "\n",
      "[FINISHED] Epoch 2, (Training Loss (per epoch): 143.7434 samp_prob: 0.7685)\n"
     ]
    },
    {
     "name": "stderr",
     "output_type": "stream",
     "text": [
      "\r",
      "Epoch 2, step 36/96, (Training Loss: 4.0352, samp_prob: 0.7685):  20%|██        | 2/10 [30:28<1:45:05, 788.16s/it]"
     ]
    },
    {
     "name": "stdout",
     "output_type": "stream",
     "text": [
      "36\n",
      "\n",
      "[FINISHED] Epoch 2, (Training Loss (per epoch): 147.7786 samp_prob: 0.7685)\n"
     ]
    },
    {
     "name": "stderr",
     "output_type": "stream",
     "text": [
      "\r",
      "Epoch 2, step 37/96, (Training Loss: 4.0023, samp_prob: 0.7685):  20%|██        | 2/10 [30:35<1:45:05, 788.16s/it]"
     ]
    },
    {
     "name": "stdout",
     "output_type": "stream",
     "text": [
      "37\n",
      "\n",
      "[FINISHED] Epoch 2, (Training Loss (per epoch): 151.7809 samp_prob: 0.7685)\n"
     ]
    },
    {
     "name": "stderr",
     "output_type": "stream",
     "text": [
      "\r",
      "Epoch 2, step 38/96, (Training Loss: 3.9217, samp_prob: 0.7685):  20%|██        | 2/10 [30:43<1:45:05, 788.16s/it]"
     ]
    },
    {
     "name": "stdout",
     "output_type": "stream",
     "text": [
      "38\n",
      "\n",
      "[FINISHED] Epoch 2, (Training Loss (per epoch): 155.7026 samp_prob: 0.7685)\n"
     ]
    },
    {
     "name": "stderr",
     "output_type": "stream",
     "text": [
      "\r",
      "Epoch 2, step 39/96, (Training Loss: 3.9335, samp_prob: 0.7685):  20%|██        | 2/10 [30:50<1:45:05, 788.16s/it]"
     ]
    },
    {
     "name": "stdout",
     "output_type": "stream",
     "text": [
      "39\n",
      "\n",
      "[FINISHED] Epoch 2, (Training Loss (per epoch): 159.6362 samp_prob: 0.7685)\n"
     ]
    },
    {
     "name": "stderr",
     "output_type": "stream",
     "text": [
      "\r",
      "Epoch 2, step 40/96, (Training Loss: 3.8539, samp_prob: 0.7685):  20%|██        | 2/10 [30:58<1:45:05, 788.16s/it]"
     ]
    },
    {
     "name": "stdout",
     "output_type": "stream",
     "text": [
      "40\n",
      "\n",
      "[FINISHED] Epoch 2, (Training Loss (per epoch): 163.4901 samp_prob: 0.7685)\n"
     ]
    },
    {
     "name": "stderr",
     "output_type": "stream",
     "text": [
      "\r",
      "Epoch 2, step 41/96, (Training Loss: 3.9150, samp_prob: 0.7685):  20%|██        | 2/10 [31:06<1:45:05, 788.16s/it]"
     ]
    },
    {
     "name": "stdout",
     "output_type": "stream",
     "text": [
      "41\n",
      "\n",
      "[FINISHED] Epoch 2, (Training Loss (per epoch): 167.4050 samp_prob: 0.7685)\n"
     ]
    },
    {
     "name": "stderr",
     "output_type": "stream",
     "text": [
      "\r",
      "Epoch 2, step 42/96, (Training Loss: 3.9496, samp_prob: 0.7685):  20%|██        | 2/10 [31:13<1:45:05, 788.16s/it]"
     ]
    },
    {
     "name": "stdout",
     "output_type": "stream",
     "text": [
      "42\n",
      "\n",
      "[FINISHED] Epoch 2, (Training Loss (per epoch): 171.3547 samp_prob: 0.7685)\n"
     ]
    },
    {
     "name": "stderr",
     "output_type": "stream",
     "text": [
      "\r",
      "Epoch 2, step 43/96, (Training Loss: 3.9707, samp_prob: 0.7685):  20%|██        | 2/10 [31:21<1:45:05, 788.16s/it]"
     ]
    },
    {
     "name": "stdout",
     "output_type": "stream",
     "text": [
      "43\n",
      "\n",
      "[FINISHED] Epoch 2, (Training Loss (per epoch): 175.3254 samp_prob: 0.7685)\n"
     ]
    },
    {
     "name": "stderr",
     "output_type": "stream",
     "text": [
      "\r",
      "Epoch 2, step 44/96, (Training Loss: 3.9382, samp_prob: 0.7685):  20%|██        | 2/10 [31:29<1:45:05, 788.16s/it]"
     ]
    },
    {
     "name": "stdout",
     "output_type": "stream",
     "text": [
      "44\n",
      "\n",
      "[FINISHED] Epoch 2, (Training Loss (per epoch): 179.2635 samp_prob: 0.7685)\n"
     ]
    },
    {
     "name": "stderr",
     "output_type": "stream",
     "text": [
      "\r",
      "Epoch 2, step 45/96, (Training Loss: 3.9273, samp_prob: 0.7685):  20%|██        | 2/10 [31:36<1:45:05, 788.16s/it]"
     ]
    },
    {
     "name": "stdout",
     "output_type": "stream",
     "text": [
      "45\n",
      "\n",
      "[FINISHED] Epoch 2, (Training Loss (per epoch): 183.1908 samp_prob: 0.7685)\n"
     ]
    },
    {
     "name": "stderr",
     "output_type": "stream",
     "text": [
      "\r",
      "Epoch 2, step 46/96, (Training Loss: 3.9844, samp_prob: 0.7685):  20%|██        | 2/10 [31:44<1:45:05, 788.16s/it]"
     ]
    },
    {
     "name": "stdout",
     "output_type": "stream",
     "text": [
      "[[ 1  4  8 ...  2  2  2]\n",
      " [ 1  4  7 ...  2  2  2]\n",
      " [ 1  4  7 ...  2  2  2]\n",
      " ...\n",
      " [ 1  6 27 ...  2  2  2]\n",
      " [ 1  6  7 ...  2  2  2]\n",
      " [ 1  4  8 ...  2  2  2]]\n",
      "\n",
      "[Train. Prediction] Epoch 2, step 46/96......\n",
      "\n",
      "id: 20\n",
      "answer: ['<BOS>', 'a', 'man', 'is', 'putting', 'cooked', 'chicken', 'wings', 'in', 'a', 'plastic', 'container']\n",
      "prediction: ['<BOS>', 'a', 'is', 'is', 'a', 'a', 'a']\n",
      "46\n",
      "\n",
      "[FINISHED] Epoch 2, (Training Loss (per epoch): 187.1752 samp_prob: 0.7685)\n"
     ]
    },
    {
     "name": "stderr",
     "output_type": "stream",
     "text": [
      "\r",
      "Epoch 2, step 47/96, (Training Loss: 3.8979, samp_prob: 0.7685):  20%|██        | 2/10 [31:52<1:45:05, 788.16s/it]"
     ]
    },
    {
     "name": "stdout",
     "output_type": "stream",
     "text": [
      "47\n",
      "\n",
      "[FINISHED] Epoch 2, (Training Loss (per epoch): 191.0731 samp_prob: 0.7685)\n"
     ]
    },
    {
     "name": "stderr",
     "output_type": "stream",
     "text": [
      "\r",
      "Epoch 2, step 48/96, (Training Loss: 3.9214, samp_prob: 0.7685):  20%|██        | 2/10 [32:00<1:45:05, 788.16s/it]"
     ]
    },
    {
     "name": "stdout",
     "output_type": "stream",
     "text": [
      "48\n",
      "\n",
      "[FINISHED] Epoch 2, (Training Loss (per epoch): 194.9945 samp_prob: 0.7685)\n"
     ]
    },
    {
     "name": "stderr",
     "output_type": "stream",
     "text": [
      "\r",
      "Epoch 2, step 49/96, (Training Loss: 4.0224, samp_prob: 0.7685):  20%|██        | 2/10 [32:07<1:45:05, 788.16s/it]"
     ]
    },
    {
     "name": "stdout",
     "output_type": "stream",
     "text": [
      "49\n",
      "\n",
      "[FINISHED] Epoch 2, (Training Loss (per epoch): 199.0169 samp_prob: 0.7685)\n"
     ]
    },
    {
     "name": "stderr",
     "output_type": "stream",
     "text": [
      "\r",
      "Epoch 2, step 50/96, (Training Loss: 4.0100, samp_prob: 0.7685):  20%|██        | 2/10 [32:15<1:45:05, 788.16s/it]"
     ]
    },
    {
     "name": "stdout",
     "output_type": "stream",
     "text": [
      "50\n",
      "\n",
      "[FINISHED] Epoch 2, (Training Loss (per epoch): 203.0268 samp_prob: 0.7685)\n"
     ]
    },
    {
     "name": "stderr",
     "output_type": "stream",
     "text": [
      "\r",
      "Epoch 2, step 51/96, (Training Loss: 3.8909, samp_prob: 0.7685):  20%|██        | 2/10 [32:22<1:45:05, 788.16s/it]"
     ]
    },
    {
     "name": "stdout",
     "output_type": "stream",
     "text": [
      "51\n",
      "\n",
      "[FINISHED] Epoch 2, (Training Loss (per epoch): 206.9177 samp_prob: 0.7685)\n"
     ]
    },
    {
     "name": "stderr",
     "output_type": "stream",
     "text": [
      "\r",
      "Epoch 2, step 52/96, (Training Loss: 3.8959, samp_prob: 0.7685):  20%|██        | 2/10 [32:30<1:45:05, 788.16s/it]"
     ]
    },
    {
     "name": "stdout",
     "output_type": "stream",
     "text": [
      "52\n",
      "\n",
      "[FINISHED] Epoch 2, (Training Loss (per epoch): 210.8136 samp_prob: 0.7685)\n"
     ]
    },
    {
     "name": "stderr",
     "output_type": "stream",
     "text": [
      "\r",
      "Epoch 2, step 53/96, (Training Loss: 4.0287, samp_prob: 0.7685):  20%|██        | 2/10 [32:38<1:45:05, 788.16s/it]"
     ]
    },
    {
     "name": "stdout",
     "output_type": "stream",
     "text": [
      "53\n",
      "\n",
      "[FINISHED] Epoch 2, (Training Loss (per epoch): 214.8423 samp_prob: 0.7685)\n"
     ]
    },
    {
     "name": "stderr",
     "output_type": "stream",
     "text": [
      "\r",
      "Epoch 2, step 54/96, (Training Loss: 3.8720, samp_prob: 0.7685):  20%|██        | 2/10 [32:45<1:45:05, 788.16s/it]"
     ]
    },
    {
     "name": "stdout",
     "output_type": "stream",
     "text": [
      "54\n",
      "\n",
      "[FINISHED] Epoch 2, (Training Loss (per epoch): 218.7143 samp_prob: 0.7685)\n"
     ]
    },
    {
     "name": "stderr",
     "output_type": "stream",
     "text": [
      "\r",
      "Epoch 2, step 55/96, (Training Loss: 3.9535, samp_prob: 0.7685):  20%|██        | 2/10 [32:53<1:45:05, 788.16s/it]"
     ]
    },
    {
     "name": "stdout",
     "output_type": "stream",
     "text": [
      "55\n",
      "\n",
      "[FINISHED] Epoch 2, (Training Loss (per epoch): 222.6678 samp_prob: 0.7685)\n"
     ]
    },
    {
     "name": "stderr",
     "output_type": "stream",
     "text": [
      "\r",
      "Epoch 2, step 56/96, (Training Loss: 3.8886, samp_prob: 0.7685):  20%|██        | 2/10 [33:01<1:45:05, 788.16s/it]"
     ]
    },
    {
     "name": "stdout",
     "output_type": "stream",
     "text": [
      "56\n",
      "\n",
      "[FINISHED] Epoch 2, (Training Loss (per epoch): 226.5564 samp_prob: 0.7685)\n"
     ]
    },
    {
     "name": "stderr",
     "output_type": "stream",
     "text": [
      "\r",
      "Epoch 2, step 57/96, (Training Loss: 3.8307, samp_prob: 0.7685):  20%|██        | 2/10 [33:08<1:45:05, 788.16s/it]"
     ]
    },
    {
     "name": "stdout",
     "output_type": "stream",
     "text": [
      "57\n",
      "\n",
      "[FINISHED] Epoch 2, (Training Loss (per epoch): 230.3871 samp_prob: 0.7685)\n"
     ]
    },
    {
     "name": "stderr",
     "output_type": "stream",
     "text": [
      "\r",
      "Epoch 2, step 58/96, (Training Loss: 3.8715, samp_prob: 0.7685):  20%|██        | 2/10 [33:16<1:45:05, 788.16s/it]"
     ]
    },
    {
     "name": "stdout",
     "output_type": "stream",
     "text": [
      "58\n",
      "\n",
      "[FINISHED] Epoch 2, (Training Loss (per epoch): 234.2585 samp_prob: 0.7685)\n"
     ]
    },
    {
     "name": "stderr",
     "output_type": "stream",
     "text": [
      "\r",
      "Epoch 2, step 59/96, (Training Loss: 3.9204, samp_prob: 0.7685):  20%|██        | 2/10 [33:24<1:45:05, 788.16s/it]"
     ]
    },
    {
     "name": "stdout",
     "output_type": "stream",
     "text": [
      "59\n",
      "\n",
      "[FINISHED] Epoch 2, (Training Loss (per epoch): 238.1789 samp_prob: 0.7685)\n"
     ]
    },
    {
     "name": "stderr",
     "output_type": "stream",
     "text": [
      "\r",
      "Epoch 2, step 60/96, (Training Loss: 3.9059, samp_prob: 0.7685):  20%|██        | 2/10 [33:31<1:45:05, 788.16s/it]"
     ]
    },
    {
     "name": "stdout",
     "output_type": "stream",
     "text": [
      "60\n",
      "\n",
      "[FINISHED] Epoch 2, (Training Loss (per epoch): 242.0848 samp_prob: 0.7685)\n"
     ]
    },
    {
     "name": "stderr",
     "output_type": "stream",
     "text": [
      "\r",
      "Epoch 2, step 61/96, (Training Loss: 4.0250, samp_prob: 0.7685):  20%|██        | 2/10 [33:39<1:45:05, 788.16s/it]"
     ]
    },
    {
     "name": "stdout",
     "output_type": "stream",
     "text": [
      "[[1 4 7 ... 2 2 2]\n",
      " [1 4 7 ... 2 2 2]\n",
      " [1 4 7 ... 2 2 2]\n",
      " ...\n",
      " [1 4 7 ... 2 2 2]\n",
      " [1 4 8 ... 2 2 2]\n",
      " [1 6 8 ... 2 2 2]]\n",
      "\n",
      "[Train. Prediction] Epoch 2, step 61/96......\n",
      "\n",
      "id: 93\n",
      "answer: ['<BOS>', 'a', 'woman', 'is', 'cutting', 'the', 'stems', 'and', 'leaves', 'of', 'an', 'herb', 'into', 'pieces']\n",
      "prediction: ['<BOS>', 'a', 'woman', 'is', 'slicing']\n",
      "61\n",
      "\n",
      "[FINISHED] Epoch 2, (Training Loss (per epoch): 246.1098 samp_prob: 0.7685)\n"
     ]
    },
    {
     "name": "stderr",
     "output_type": "stream",
     "text": [
      "\r",
      "Epoch 2, step 62/96, (Training Loss: 3.9676, samp_prob: 0.7685):  20%|██        | 2/10 [33:47<1:45:05, 788.16s/it]"
     ]
    },
    {
     "name": "stdout",
     "output_type": "stream",
     "text": [
      "62\n",
      "\n",
      "[FINISHED] Epoch 2, (Training Loss (per epoch): 250.0774 samp_prob: 0.7685)\n"
     ]
    },
    {
     "name": "stderr",
     "output_type": "stream",
     "text": [
      "\r",
      "Epoch 2, step 63/96, (Training Loss: 3.9738, samp_prob: 0.7685):  20%|██        | 2/10 [33:55<1:45:05, 788.16s/it]"
     ]
    },
    {
     "name": "stdout",
     "output_type": "stream",
     "text": [
      "63\n",
      "\n",
      "[FINISHED] Epoch 2, (Training Loss (per epoch): 254.0512 samp_prob: 0.7685)\n"
     ]
    },
    {
     "name": "stderr",
     "output_type": "stream",
     "text": [
      "\r",
      "Epoch 2, step 64/96, (Training Loss: 4.0001, samp_prob: 0.7685):  20%|██        | 2/10 [34:02<1:45:05, 788.16s/it]"
     ]
    },
    {
     "name": "stdout",
     "output_type": "stream",
     "text": [
      "64\n",
      "\n",
      "[FINISHED] Epoch 2, (Training Loss (per epoch): 258.0513 samp_prob: 0.7685)\n"
     ]
    },
    {
     "name": "stderr",
     "output_type": "stream",
     "text": [
      "\r",
      "Epoch 2, step 65/96, (Training Loss: 3.7604, samp_prob: 0.7685):  20%|██        | 2/10 [34:10<1:45:05, 788.16s/it]"
     ]
    },
    {
     "name": "stdout",
     "output_type": "stream",
     "text": [
      "65\n",
      "\n",
      "[FINISHED] Epoch 2, (Training Loss (per epoch): 261.8117 samp_prob: 0.7685)\n"
     ]
    },
    {
     "name": "stderr",
     "output_type": "stream",
     "text": [
      "\r",
      "Epoch 2, step 66/96, (Training Loss: 4.0590, samp_prob: 0.7685):  20%|██        | 2/10 [34:18<1:45:05, 788.16s/it]"
     ]
    },
    {
     "name": "stdout",
     "output_type": "stream",
     "text": [
      "66\n",
      "\n",
      "[FINISHED] Epoch 2, (Training Loss (per epoch): 265.8707 samp_prob: 0.7685)\n"
     ]
    },
    {
     "name": "stderr",
     "output_type": "stream",
     "text": [
      "\r",
      "Epoch 2, step 67/96, (Training Loss: 3.9788, samp_prob: 0.7685):  20%|██        | 2/10 [34:25<1:45:05, 788.16s/it]"
     ]
    },
    {
     "name": "stdout",
     "output_type": "stream",
     "text": [
      "67\n",
      "\n",
      "[FINISHED] Epoch 2, (Training Loss (per epoch): 269.8495 samp_prob: 0.7685)\n"
     ]
    },
    {
     "name": "stderr",
     "output_type": "stream",
     "text": [
      "\r",
      "Epoch 2, step 68/96, (Training Loss: 3.8878, samp_prob: 0.7685):  20%|██        | 2/10 [34:33<1:45:05, 788.16s/it]"
     ]
    },
    {
     "name": "stdout",
     "output_type": "stream",
     "text": [
      "68\n",
      "\n",
      "[FINISHED] Epoch 2, (Training Loss (per epoch): 273.7373 samp_prob: 0.7685)\n"
     ]
    },
    {
     "name": "stderr",
     "output_type": "stream",
     "text": [
      "\r",
      "Epoch 2, step 69/96, (Training Loss: 3.8023, samp_prob: 0.7685):  20%|██        | 2/10 [34:40<1:45:05, 788.16s/it]"
     ]
    },
    {
     "name": "stdout",
     "output_type": "stream",
     "text": [
      "69\n",
      "\n",
      "[FINISHED] Epoch 2, (Training Loss (per epoch): 277.5395 samp_prob: 0.7685)\n"
     ]
    },
    {
     "name": "stderr",
     "output_type": "stream",
     "text": [
      "\r",
      "Epoch 2, step 70/96, (Training Loss: 4.0039, samp_prob: 0.7685):  20%|██        | 2/10 [34:48<1:45:05, 788.16s/it]"
     ]
    },
    {
     "name": "stdout",
     "output_type": "stream",
     "text": [
      "70\n",
      "\n",
      "[FINISHED] Epoch 2, (Training Loss (per epoch): 281.5435 samp_prob: 0.7685)\n"
     ]
    },
    {
     "name": "stderr",
     "output_type": "stream",
     "text": [
      "\r",
      "Epoch 2, step 71/96, (Training Loss: 3.8483, samp_prob: 0.7685):  20%|██        | 2/10 [34:56<1:45:05, 788.16s/it]"
     ]
    },
    {
     "name": "stdout",
     "output_type": "stream",
     "text": [
      "71\n",
      "\n",
      "[FINISHED] Epoch 2, (Training Loss (per epoch): 285.3918 samp_prob: 0.7685)\n"
     ]
    },
    {
     "name": "stderr",
     "output_type": "stream",
     "text": [
      "\r",
      "Epoch 2, step 72/96, (Training Loss: 3.9937, samp_prob: 0.7685):  20%|██        | 2/10 [35:03<1:45:05, 788.16s/it]"
     ]
    },
    {
     "name": "stdout",
     "output_type": "stream",
     "text": [
      "72\n",
      "\n",
      "[FINISHED] Epoch 2, (Training Loss (per epoch): 289.3854 samp_prob: 0.7685)\n"
     ]
    },
    {
     "name": "stderr",
     "output_type": "stream",
     "text": [
      "\r",
      "Epoch 2, step 73/96, (Training Loss: 3.8701, samp_prob: 0.7685):  20%|██        | 2/10 [35:11<1:45:05, 788.16s/it]"
     ]
    },
    {
     "name": "stdout",
     "output_type": "stream",
     "text": [
      "73\n",
      "\n",
      "[FINISHED] Epoch 2, (Training Loss (per epoch): 293.2555 samp_prob: 0.7685)\n"
     ]
    },
    {
     "name": "stderr",
     "output_type": "stream",
     "text": [
      "\r",
      "Epoch 2, step 74/96, (Training Loss: 3.9408, samp_prob: 0.7685):  20%|██        | 2/10 [35:19<1:45:05, 788.16s/it]"
     ]
    },
    {
     "name": "stdout",
     "output_type": "stream",
     "text": [
      "74\n",
      "\n",
      "[FINISHED] Epoch 2, (Training Loss (per epoch): 297.1963 samp_prob: 0.7685)\n"
     ]
    },
    {
     "name": "stderr",
     "output_type": "stream",
     "text": [
      "\r",
      "Epoch 2, step 75/96, (Training Loss: 3.9399, samp_prob: 0.7685):  20%|██        | 2/10 [35:26<1:45:05, 788.16s/it]"
     ]
    },
    {
     "name": "stdout",
     "output_type": "stream",
     "text": [
      "75\n",
      "\n",
      "[FINISHED] Epoch 2, (Training Loss (per epoch): 301.1363 samp_prob: 0.7685)\n"
     ]
    },
    {
     "name": "stderr",
     "output_type": "stream",
     "text": [
      "\r",
      "Epoch 2, step 76/96, (Training Loss: 3.9872, samp_prob: 0.7685):  20%|██        | 2/10 [35:35<1:45:05, 788.16s/it]"
     ]
    },
    {
     "name": "stdout",
     "output_type": "stream",
     "text": [
      "[[1 4 7 ... 2 2 2]\n",
      " [1 4 7 ... 2 2 2]\n",
      " [1 4 7 ... 2 2 2]\n",
      " ...\n",
      " [1 4 8 ... 2 2 2]\n",
      " [1 4 8 ... 2 2 2]\n",
      " [1 4 7 ... 2 2 2]]\n",
      "\n",
      "[Train. Prediction] Epoch 2, step 76/96......\n",
      "\n",
      "id: 199\n",
      "answer: ['<BOS>', 'a', 'man', 'is', 'gazing', 'intently', 'at', 'his', 'palm', 'outstretched', 'against', 'a', 'bright', 'yellow', 'and', 'brown', 'colored', 'triangular', 'patch']\n",
      "prediction: ['<BOS>', 'a', 'man', 'is', 'a', 'a', 'a']\n",
      "76\n",
      "\n",
      "[FINISHED] Epoch 2, (Training Loss (per epoch): 305.1235 samp_prob: 0.7685)\n"
     ]
    },
    {
     "name": "stderr",
     "output_type": "stream",
     "text": [
      "\r",
      "Epoch 2, step 77/96, (Training Loss: 3.8630, samp_prob: 0.7685):  20%|██        | 2/10 [35:42<1:45:05, 788.16s/it]"
     ]
    },
    {
     "name": "stdout",
     "output_type": "stream",
     "text": [
      "77\n",
      "\n",
      "[FINISHED] Epoch 2, (Training Loss (per epoch): 308.9865 samp_prob: 0.7685)\n"
     ]
    },
    {
     "name": "stderr",
     "output_type": "stream",
     "text": [
      "\r",
      "Epoch 2, step 78/96, (Training Loss: 3.7773, samp_prob: 0.7685):  20%|██        | 2/10 [35:50<1:45:05, 788.16s/it]"
     ]
    },
    {
     "name": "stdout",
     "output_type": "stream",
     "text": [
      "78\n",
      "\n",
      "[FINISHED] Epoch 2, (Training Loss (per epoch): 312.7638 samp_prob: 0.7685)\n"
     ]
    },
    {
     "name": "stderr",
     "output_type": "stream",
     "text": [
      "\r",
      "Epoch 2, step 79/96, (Training Loss: 3.8067, samp_prob: 0.7685):  20%|██        | 2/10 [35:57<1:45:05, 788.16s/it]"
     ]
    },
    {
     "name": "stdout",
     "output_type": "stream",
     "text": [
      "79\n",
      "\n",
      "[FINISHED] Epoch 2, (Training Loss (per epoch): 316.5705 samp_prob: 0.7685)\n"
     ]
    },
    {
     "name": "stderr",
     "output_type": "stream",
     "text": [
      "\r",
      "Epoch 2, step 80/96, (Training Loss: 3.9112, samp_prob: 0.7685):  20%|██        | 2/10 [36:05<1:45:05, 788.16s/it]"
     ]
    },
    {
     "name": "stdout",
     "output_type": "stream",
     "text": [
      "80\n",
      "\n",
      "[FINISHED] Epoch 2, (Training Loss (per epoch): 320.4817 samp_prob: 0.7685)\n"
     ]
    },
    {
     "name": "stderr",
     "output_type": "stream",
     "text": [
      "\r",
      "Epoch 2, step 81/96, (Training Loss: 3.7842, samp_prob: 0.7685):  20%|██        | 2/10 [36:13<1:45:05, 788.16s/it]"
     ]
    },
    {
     "name": "stdout",
     "output_type": "stream",
     "text": [
      "81\n",
      "\n",
      "[FINISHED] Epoch 2, (Training Loss (per epoch): 324.2659 samp_prob: 0.7685)\n"
     ]
    },
    {
     "name": "stderr",
     "output_type": "stream",
     "text": [
      "\r",
      "Epoch 2, step 82/96, (Training Loss: 4.0083, samp_prob: 0.7685):  20%|██        | 2/10 [36:20<1:45:05, 788.16s/it]"
     ]
    },
    {
     "name": "stdout",
     "output_type": "stream",
     "text": [
      "82\n",
      "\n",
      "[FINISHED] Epoch 2, (Training Loss (per epoch): 328.2742 samp_prob: 0.7685)\n"
     ]
    },
    {
     "name": "stderr",
     "output_type": "stream",
     "text": [
      "\r",
      "Epoch 2, step 83/96, (Training Loss: 3.9361, samp_prob: 0.7685):  20%|██        | 2/10 [36:28<1:45:05, 788.16s/it]"
     ]
    },
    {
     "name": "stdout",
     "output_type": "stream",
     "text": [
      "83\n",
      "\n",
      "[FINISHED] Epoch 2, (Training Loss (per epoch): 332.2103 samp_prob: 0.7685)\n"
     ]
    },
    {
     "name": "stderr",
     "output_type": "stream",
     "text": [
      "\r",
      "Epoch 2, step 84/96, (Training Loss: 3.8374, samp_prob: 0.7685):  20%|██        | 2/10 [36:36<1:45:05, 788.16s/it]"
     ]
    },
    {
     "name": "stdout",
     "output_type": "stream",
     "text": [
      "84\n",
      "\n",
      "[FINISHED] Epoch 2, (Training Loss (per epoch): 336.0477 samp_prob: 0.7685)\n"
     ]
    },
    {
     "name": "stderr",
     "output_type": "stream",
     "text": [
      "\r",
      "Epoch 2, step 85/96, (Training Loss: 3.9827, samp_prob: 0.7685):  20%|██        | 2/10 [36:43<1:45:05, 788.16s/it]"
     ]
    },
    {
     "name": "stdout",
     "output_type": "stream",
     "text": [
      "85\n",
      "\n",
      "[FINISHED] Epoch 2, (Training Loss (per epoch): 340.0305 samp_prob: 0.7685)\n"
     ]
    },
    {
     "name": "stderr",
     "output_type": "stream",
     "text": [
      "\r",
      "Epoch 2, step 86/96, (Training Loss: 3.8454, samp_prob: 0.7685):  20%|██        | 2/10 [36:51<1:45:05, 788.16s/it]"
     ]
    },
    {
     "name": "stdout",
     "output_type": "stream",
     "text": [
      "86\n",
      "\n",
      "[FINISHED] Epoch 2, (Training Loss (per epoch): 343.8758 samp_prob: 0.7685)\n"
     ]
    },
    {
     "name": "stderr",
     "output_type": "stream",
     "text": [
      "\r",
      "Epoch 2, step 87/96, (Training Loss: 3.9245, samp_prob: 0.7685):  20%|██        | 2/10 [36:59<1:45:05, 788.16s/it]"
     ]
    },
    {
     "name": "stdout",
     "output_type": "stream",
     "text": [
      "87\n",
      "\n",
      "[FINISHED] Epoch 2, (Training Loss (per epoch): 347.8003 samp_prob: 0.7685)\n"
     ]
    },
    {
     "name": "stderr",
     "output_type": "stream",
     "text": [
      "\r",
      "Epoch 2, step 88/96, (Training Loss: 3.8990, samp_prob: 0.7685):  20%|██        | 2/10 [37:06<1:45:05, 788.16s/it]"
     ]
    },
    {
     "name": "stdout",
     "output_type": "stream",
     "text": [
      "88\n",
      "\n",
      "[FINISHED] Epoch 2, (Training Loss (per epoch): 351.6993 samp_prob: 0.7685)\n"
     ]
    },
    {
     "name": "stderr",
     "output_type": "stream",
     "text": [
      "\r",
      "Epoch 2, step 89/96, (Training Loss: 3.8576, samp_prob: 0.7685):  20%|██        | 2/10 [37:14<1:45:05, 788.16s/it]"
     ]
    },
    {
     "name": "stdout",
     "output_type": "stream",
     "text": [
      "89\n",
      "\n",
      "[FINISHED] Epoch 2, (Training Loss (per epoch): 355.5570 samp_prob: 0.7685)\n"
     ]
    },
    {
     "name": "stderr",
     "output_type": "stream",
     "text": [
      "\r",
      "Epoch 2, step 90/96, (Training Loss: 3.8310, samp_prob: 0.7685):  20%|██        | 2/10 [37:21<1:45:05, 788.16s/it]"
     ]
    },
    {
     "name": "stdout",
     "output_type": "stream",
     "text": [
      "90\n",
      "\n",
      "[FINISHED] Epoch 2, (Training Loss (per epoch): 359.3880 samp_prob: 0.7685)\n"
     ]
    },
    {
     "name": "stderr",
     "output_type": "stream",
     "text": [
      "\r",
      "Epoch 2, step 91/96, (Training Loss: 3.8862, samp_prob: 0.7685):  20%|██        | 2/10 [37:30<1:45:05, 788.16s/it]"
     ]
    },
    {
     "name": "stdout",
     "output_type": "stream",
     "text": [
      "[[1 4 7 ... 2 2 2]\n",
      " [1 4 7 ... 2 2 2]\n",
      " [1 4 8 ... 2 2 2]\n",
      " ...\n",
      " [1 4 7 ... 2 2 2]\n",
      " [1 4 7 ... 2 2 2]\n",
      " [1 4 7 ... 2 2 2]]\n",
      "\n",
      "[Train. Prediction] Epoch 2, step 91/96......\n",
      "\n",
      "id: 225\n",
      "answer: ['<BOS>', 'a', 'boy', 'runs', 'toward', 'a', 'tornado']\n",
      "prediction: ['<BOS>', 'the', 'dog', 'is', 'a', 'a', 'a', 'a']\n",
      "91\n",
      "\n",
      "[FINISHED] Epoch 2, (Training Loss (per epoch): 363.2741 samp_prob: 0.7685)\n"
     ]
    },
    {
     "name": "stderr",
     "output_type": "stream",
     "text": [
      "\r",
      "Epoch 2, step 92/96, (Training Loss: 3.7297, samp_prob: 0.7685):  20%|██        | 2/10 [37:37<1:45:05, 788.16s/it]"
     ]
    },
    {
     "name": "stdout",
     "output_type": "stream",
     "text": [
      "92\n",
      "\n",
      "[FINISHED] Epoch 2, (Training Loss (per epoch): 367.0038 samp_prob: 0.7685)\n"
     ]
    },
    {
     "name": "stderr",
     "output_type": "stream",
     "text": [
      "\r",
      "Epoch 2, step 93/96, (Training Loss: 3.8111, samp_prob: 0.7685):  20%|██        | 2/10 [37:45<1:45:05, 788.16s/it]"
     ]
    },
    {
     "name": "stdout",
     "output_type": "stream",
     "text": [
      "93\n",
      "\n",
      "[FINISHED] Epoch 2, (Training Loss (per epoch): 370.8149 samp_prob: 0.7685)\n"
     ]
    },
    {
     "name": "stderr",
     "output_type": "stream",
     "text": [
      "\r",
      "Epoch 2, step 94/96, (Training Loss: 3.9285, samp_prob: 0.7685):  20%|██        | 2/10 [37:53<1:45:05, 788.16s/it]"
     ]
    },
    {
     "name": "stdout",
     "output_type": "stream",
     "text": [
      "94\n",
      "\n",
      "[FINISHED] Epoch 2, (Training Loss (per epoch): 374.7434 samp_prob: 0.7685)\n"
     ]
    },
    {
     "name": "stderr",
     "output_type": "stream",
     "text": [
      "Epoch 2, step 95/96, (Training Loss: 3.8763, samp_prob: 0.7685):  30%|███       | 3/10 [38:00<1:30:06, 772.33s/it]"
     ]
    },
    {
     "name": "stdout",
     "output_type": "stream",
     "text": [
      "95\n",
      "\n",
      "[FINISHED] Epoch 2, (Training Loss (per epoch): 378.6197 samp_prob: 0.7685)\n"
     ]
    },
    {
     "name": "stderr",
     "output_type": "stream",
     "text": [
      "\r",
      "Epoch 3, step 0/96, (Training Loss: 3.9421, samp_prob: 0.6900):  30%|███       | 3/10 [38:08<1:30:06, 772.33s/it] "
     ]
    },
    {
     "name": "stdout",
     "output_type": "stream",
     "text": [
      "0\n",
      "\n",
      "[FINISHED] Epoch 3, (Training Loss (per epoch): 3.9421 samp_prob: 0.6900)\n"
     ]
    },
    {
     "name": "stderr",
     "output_type": "stream",
     "text": [
      "\r",
      "Epoch 3, step 1/96, (Training Loss: 3.8998, samp_prob: 0.6900):  30%|███       | 3/10 [38:16<1:30:06, 772.33s/it]"
     ]
    },
    {
     "name": "stdout",
     "output_type": "stream",
     "text": [
      "[[ 1  4  8 ...  2  2  2]\n",
      " [ 1  4  5 ...  2  2  2]\n",
      " [ 1  4  7 ...  2  2  2]\n",
      " ...\n",
      " [ 1  6 12 ...  2  2  2]\n",
      " [ 1  4  8 ...  2  2  2]\n",
      " [ 1  4  7 ...  2  2  2]]\n",
      "\n",
      "[Train. Prediction] Epoch 3, step 1/96......\n",
      "\n",
      "id: 212\n",
      "answer: ['<BOS>', 'a', 'cat', 'is', 'looking', 'into', 'the', 'camera', 'and', 'opening', 'its', 'mouth']\n",
      "prediction: ['<BOS>', 'a', 'cat', 'is', 'a', 'the']\n",
      "1\n",
      "\n",
      "[FINISHED] Epoch 3, (Training Loss (per epoch): 7.8418 samp_prob: 0.6900)\n"
     ]
    },
    {
     "name": "stderr",
     "output_type": "stream",
     "text": [
      "\r",
      "Epoch 3, step 2/96, (Training Loss: 3.8607, samp_prob: 0.6900):  30%|███       | 3/10 [38:24<1:30:06, 772.33s/it]"
     ]
    },
    {
     "name": "stdout",
     "output_type": "stream",
     "text": [
      "2\n",
      "\n",
      "[FINISHED] Epoch 3, (Training Loss (per epoch): 11.7025 samp_prob: 0.6900)\n"
     ]
    },
    {
     "name": "stderr",
     "output_type": "stream",
     "text": [
      "\r",
      "Epoch 3, step 3/96, (Training Loss: 3.8886, samp_prob: 0.6900):  30%|███       | 3/10 [38:31<1:30:06, 772.33s/it]"
     ]
    },
    {
     "name": "stdout",
     "output_type": "stream",
     "text": [
      "3\n",
      "\n",
      "[FINISHED] Epoch 3, (Training Loss (per epoch): 15.5912 samp_prob: 0.6900)\n"
     ]
    },
    {
     "name": "stderr",
     "output_type": "stream",
     "text": [
      "\r",
      "Epoch 3, step 4/96, (Training Loss: 3.7593, samp_prob: 0.6900):  30%|███       | 3/10 [38:39<1:30:06, 772.33s/it]"
     ]
    },
    {
     "name": "stdout",
     "output_type": "stream",
     "text": [
      "4\n",
      "\n",
      "[FINISHED] Epoch 3, (Training Loss (per epoch): 19.3504 samp_prob: 0.6900)\n"
     ]
    },
    {
     "name": "stderr",
     "output_type": "stream",
     "text": [
      "\r",
      "Epoch 3, step 5/96, (Training Loss: 3.8133, samp_prob: 0.6900):  30%|███       | 3/10 [38:47<1:30:06, 772.33s/it]"
     ]
    },
    {
     "name": "stdout",
     "output_type": "stream",
     "text": [
      "5\n",
      "\n",
      "[FINISHED] Epoch 3, (Training Loss (per epoch): 23.1637 samp_prob: 0.6900)\n"
     ]
    },
    {
     "name": "stderr",
     "output_type": "stream",
     "text": [
      "\r",
      "Epoch 3, step 6/96, (Training Loss: 3.7986, samp_prob: 0.6900):  30%|███       | 3/10 [38:54<1:30:06, 772.33s/it]"
     ]
    },
    {
     "name": "stdout",
     "output_type": "stream",
     "text": [
      "6\n",
      "\n",
      "[FINISHED] Epoch 3, (Training Loss (per epoch): 26.9623 samp_prob: 0.6900)\n"
     ]
    },
    {
     "name": "stderr",
     "output_type": "stream",
     "text": [
      "\r",
      "Epoch 3, step 7/96, (Training Loss: 3.8552, samp_prob: 0.6900):  30%|███       | 3/10 [39:02<1:30:06, 772.33s/it]"
     ]
    },
    {
     "name": "stdout",
     "output_type": "stream",
     "text": [
      "7\n",
      "\n",
      "[FINISHED] Epoch 3, (Training Loss (per epoch): 30.8176 samp_prob: 0.6900)\n"
     ]
    },
    {
     "name": "stderr",
     "output_type": "stream",
     "text": [
      "\r",
      "Epoch 3, step 8/96, (Training Loss: 3.8247, samp_prob: 0.6900):  30%|███       | 3/10 [39:10<1:30:06, 772.33s/it]"
     ]
    },
    {
     "name": "stdout",
     "output_type": "stream",
     "text": [
      "8\n",
      "\n",
      "[FINISHED] Epoch 3, (Training Loss (per epoch): 34.6423 samp_prob: 0.6900)\n"
     ]
    },
    {
     "name": "stderr",
     "output_type": "stream",
     "text": [
      "\r",
      "Epoch 3, step 9/96, (Training Loss: 3.8541, samp_prob: 0.6900):  30%|███       | 3/10 [39:17<1:30:06, 772.33s/it]"
     ]
    },
    {
     "name": "stdout",
     "output_type": "stream",
     "text": [
      "9\n",
      "\n",
      "[FINISHED] Epoch 3, (Training Loss (per epoch): 38.4963 samp_prob: 0.6900)\n"
     ]
    },
    {
     "name": "stderr",
     "output_type": "stream",
     "text": [
      "\r",
      "Epoch 3, step 10/96, (Training Loss: 3.7788, samp_prob: 0.6900):  30%|███       | 3/10 [39:25<1:30:06, 772.33s/it]"
     ]
    },
    {
     "name": "stdout",
     "output_type": "stream",
     "text": [
      "10\n",
      "\n",
      "[FINISHED] Epoch 3, (Training Loss (per epoch): 42.2751 samp_prob: 0.6900)\n"
     ]
    },
    {
     "name": "stderr",
     "output_type": "stream",
     "text": [
      "\r",
      "Epoch 3, step 11/96, (Training Loss: 3.8325, samp_prob: 0.6900):  30%|███       | 3/10 [39:33<1:30:06, 772.33s/it]"
     ]
    },
    {
     "name": "stdout",
     "output_type": "stream",
     "text": [
      "11\n",
      "\n",
      "[FINISHED] Epoch 3, (Training Loss (per epoch): 46.1076 samp_prob: 0.6900)\n"
     ]
    },
    {
     "name": "stderr",
     "output_type": "stream",
     "text": [
      "\r",
      "Epoch 3, step 12/96, (Training Loss: 3.8654, samp_prob: 0.6900):  30%|███       | 3/10 [39:40<1:30:06, 772.33s/it]"
     ]
    },
    {
     "name": "stdout",
     "output_type": "stream",
     "text": [
      "12\n",
      "\n",
      "[FINISHED] Epoch 3, (Training Loss (per epoch): 49.9730 samp_prob: 0.6900)\n"
     ]
    },
    {
     "name": "stderr",
     "output_type": "stream",
     "text": [
      "\r",
      "Epoch 3, step 13/96, (Training Loss: 3.9356, samp_prob: 0.6900):  30%|███       | 3/10 [39:48<1:30:06, 772.33s/it]"
     ]
    },
    {
     "name": "stdout",
     "output_type": "stream",
     "text": [
      "13\n",
      "\n",
      "[FINISHED] Epoch 3, (Training Loss (per epoch): 53.9086 samp_prob: 0.6900)\n"
     ]
    },
    {
     "name": "stderr",
     "output_type": "stream",
     "text": [
      "\r",
      "Epoch 3, step 14/96, (Training Loss: 3.9001, samp_prob: 0.6900):  30%|███       | 3/10 [39:55<1:30:06, 772.33s/it]"
     ]
    },
    {
     "name": "stdout",
     "output_type": "stream",
     "text": [
      "14\n",
      "\n",
      "[FINISHED] Epoch 3, (Training Loss (per epoch): 57.8087 samp_prob: 0.6900)\n"
     ]
    },
    {
     "name": "stderr",
     "output_type": "stream",
     "text": [
      "\r",
      "Epoch 3, step 15/96, (Training Loss: 3.8657, samp_prob: 0.6900):  30%|███       | 3/10 [40:03<1:30:06, 772.33s/it]"
     ]
    },
    {
     "name": "stdout",
     "output_type": "stream",
     "text": [
      "15\n",
      "\n",
      "[FINISHED] Epoch 3, (Training Loss (per epoch): 61.6744 samp_prob: 0.6900)\n"
     ]
    },
    {
     "name": "stderr",
     "output_type": "stream",
     "text": [
      "\r",
      "Epoch 3, step 16/96, (Training Loss: 3.8386, samp_prob: 0.6900):  30%|███       | 3/10 [40:11<1:30:06, 772.33s/it]"
     ]
    },
    {
     "name": "stdout",
     "output_type": "stream",
     "text": [
      "[[ 1  4 23 ...  2  2  2]\n",
      " [ 1  4  8 ...  2  2  2]\n",
      " [ 1  4 12 ...  2  2  2]\n",
      " ...\n",
      " [ 1  4  5 ...  2  2  2]\n",
      " [ 1  4  8 ...  2  2  2]\n",
      " [ 1  4  8 ...  2  2  2]]\n",
      "\n",
      "[Train. Prediction] Epoch 3, step 16/96......\n",
      "\n",
      "id: 171\n",
      "answer: ['<BOS>', 'the', 'dog', 'is', 'running']\n",
      "prediction: ['<BOS>', 'a', 'man', 'is', 'a', 'a', 'a']\n",
      "16\n",
      "\n",
      "[FINISHED] Epoch 3, (Training Loss (per epoch): 65.5130 samp_prob: 0.6900)\n"
     ]
    },
    {
     "name": "stderr",
     "output_type": "stream",
     "text": [
      "\r",
      "Epoch 3, step 17/96, (Training Loss: 3.8222, samp_prob: 0.6900):  30%|███       | 3/10 [40:19<1:30:06, 772.33s/it]"
     ]
    },
    {
     "name": "stdout",
     "output_type": "stream",
     "text": [
      "17\n",
      "\n",
      "[FINISHED] Epoch 3, (Training Loss (per epoch): 69.3352 samp_prob: 0.6900)\n"
     ]
    },
    {
     "name": "stderr",
     "output_type": "stream",
     "text": [
      "\r",
      "Epoch 3, step 18/96, (Training Loss: 3.6689, samp_prob: 0.6900):  30%|███       | 3/10 [40:27<1:30:06, 772.33s/it]"
     ]
    },
    {
     "name": "stdout",
     "output_type": "stream",
     "text": [
      "18\n",
      "\n",
      "[FINISHED] Epoch 3, (Training Loss (per epoch): 73.0041 samp_prob: 0.6900)\n"
     ]
    },
    {
     "name": "stderr",
     "output_type": "stream",
     "text": [
      "\r",
      "Epoch 3, step 19/96, (Training Loss: 3.5782, samp_prob: 0.6900):  30%|███       | 3/10 [40:34<1:30:06, 772.33s/it]"
     ]
    },
    {
     "name": "stdout",
     "output_type": "stream",
     "text": [
      "19\n",
      "\n",
      "[FINISHED] Epoch 3, (Training Loss (per epoch): 76.5823 samp_prob: 0.6900)\n"
     ]
    },
    {
     "name": "stderr",
     "output_type": "stream",
     "text": [
      "\r",
      "Epoch 3, step 20/96, (Training Loss: 3.8932, samp_prob: 0.6900):  30%|███       | 3/10 [40:42<1:30:06, 772.33s/it]"
     ]
    },
    {
     "name": "stdout",
     "output_type": "stream",
     "text": [
      "20\n",
      "\n",
      "[FINISHED] Epoch 3, (Training Loss (per epoch): 80.4755 samp_prob: 0.6900)\n"
     ]
    },
    {
     "name": "stderr",
     "output_type": "stream",
     "text": [
      "\r",
      "Epoch 3, step 21/96, (Training Loss: 3.7490, samp_prob: 0.6900):  30%|███       | 3/10 [40:50<1:30:06, 772.33s/it]"
     ]
    },
    {
     "name": "stdout",
     "output_type": "stream",
     "text": [
      "21\n",
      "\n",
      "[FINISHED] Epoch 3, (Training Loss (per epoch): 84.2245 samp_prob: 0.6900)\n"
     ]
    },
    {
     "name": "stderr",
     "output_type": "stream",
     "text": [
      "\r",
      "Epoch 3, step 22/96, (Training Loss: 3.7458, samp_prob: 0.6900):  30%|███       | 3/10 [40:57<1:30:06, 772.33s/it]"
     ]
    },
    {
     "name": "stdout",
     "output_type": "stream",
     "text": [
      "22\n",
      "\n",
      "[FINISHED] Epoch 3, (Training Loss (per epoch): 87.9703 samp_prob: 0.6900)\n"
     ]
    },
    {
     "name": "stderr",
     "output_type": "stream",
     "text": [
      "\r",
      "Epoch 3, step 23/96, (Training Loss: 3.8382, samp_prob: 0.6900):  30%|███       | 3/10 [41:05<1:30:06, 772.33s/it]"
     ]
    },
    {
     "name": "stdout",
     "output_type": "stream",
     "text": [
      "23\n",
      "\n",
      "[FINISHED] Epoch 3, (Training Loss (per epoch): 91.8085 samp_prob: 0.6900)\n"
     ]
    },
    {
     "name": "stderr",
     "output_type": "stream",
     "text": [
      "\r",
      "Epoch 3, step 24/96, (Training Loss: 4.0159, samp_prob: 0.6900):  30%|███       | 3/10 [41:12<1:30:06, 772.33s/it]"
     ]
    },
    {
     "name": "stdout",
     "output_type": "stream",
     "text": [
      "24\n",
      "\n",
      "[FINISHED] Epoch 3, (Training Loss (per epoch): 95.8244 samp_prob: 0.6900)\n"
     ]
    },
    {
     "name": "stderr",
     "output_type": "stream",
     "text": [
      "\r",
      "Epoch 3, step 25/96, (Training Loss: 3.7412, samp_prob: 0.6900):  30%|███       | 3/10 [41:20<1:30:06, 772.33s/it]"
     ]
    },
    {
     "name": "stdout",
     "output_type": "stream",
     "text": [
      "25\n",
      "\n",
      "[FINISHED] Epoch 3, (Training Loss (per epoch): 99.5656 samp_prob: 0.6900)\n"
     ]
    },
    {
     "name": "stderr",
     "output_type": "stream",
     "text": [
      "\r",
      "Epoch 3, step 26/96, (Training Loss: 3.7995, samp_prob: 0.6900):  30%|███       | 3/10 [41:28<1:30:06, 772.33s/it]"
     ]
    },
    {
     "name": "stdout",
     "output_type": "stream",
     "text": [
      "26\n",
      "\n",
      "[FINISHED] Epoch 3, (Training Loss (per epoch): 103.3651 samp_prob: 0.6900)\n"
     ]
    },
    {
     "name": "stderr",
     "output_type": "stream",
     "text": [
      "\r",
      "Epoch 3, step 27/96, (Training Loss: 3.7355, samp_prob: 0.6900):  30%|███       | 3/10 [41:35<1:30:06, 772.33s/it]"
     ]
    },
    {
     "name": "stdout",
     "output_type": "stream",
     "text": [
      "27\n",
      "\n",
      "[FINISHED] Epoch 3, (Training Loss (per epoch): 107.1006 samp_prob: 0.6900)\n"
     ]
    },
    {
     "name": "stderr",
     "output_type": "stream",
     "text": [
      "\r",
      "Epoch 3, step 28/96, (Training Loss: 3.7003, samp_prob: 0.6900):  30%|███       | 3/10 [41:43<1:30:06, 772.33s/it]"
     ]
    },
    {
     "name": "stdout",
     "output_type": "stream",
     "text": [
      "28\n",
      "\n",
      "[FINISHED] Epoch 3, (Training Loss (per epoch): 110.8010 samp_prob: 0.6900)\n"
     ]
    },
    {
     "name": "stderr",
     "output_type": "stream",
     "text": [
      "\r",
      "Epoch 3, step 29/96, (Training Loss: 3.8035, samp_prob: 0.6900):  30%|███       | 3/10 [41:51<1:30:06, 772.33s/it]"
     ]
    },
    {
     "name": "stdout",
     "output_type": "stream",
     "text": [
      "29\n",
      "\n",
      "[FINISHED] Epoch 3, (Training Loss (per epoch): 114.6045 samp_prob: 0.6900)\n"
     ]
    },
    {
     "name": "stderr",
     "output_type": "stream",
     "text": [
      "\r",
      "Epoch 3, step 30/96, (Training Loss: 3.8807, samp_prob: 0.6900):  30%|███       | 3/10 [41:58<1:30:06, 772.33s/it]"
     ]
    },
    {
     "name": "stdout",
     "output_type": "stream",
     "text": [
      "30\n",
      "\n",
      "[FINISHED] Epoch 3, (Training Loss (per epoch): 118.4852 samp_prob: 0.6900)\n"
     ]
    },
    {
     "name": "stderr",
     "output_type": "stream",
     "text": [
      "\r",
      "Epoch 3, step 31/96, (Training Loss: 3.8016, samp_prob: 0.6900):  30%|███       | 3/10 [42:06<1:30:06, 772.33s/it]"
     ]
    },
    {
     "name": "stdout",
     "output_type": "stream",
     "text": [
      "[[ 1 20 12 ...  2  2  2]\n",
      " [ 1  4  7 ...  2  2  2]\n",
      " [ 1  4  7 ...  2  2  2]\n",
      " ...\n",
      " [ 1  4  7 ...  2  2  2]\n",
      " [ 1  4  7 ...  2  2  2]\n",
      " [ 1  4  8 ...  2  2  2]]\n",
      "\n",
      "[Train. Prediction] Epoch 3, step 31/96......\n",
      "\n",
      "id: 247\n",
      "answer: ['<BOS>', 'a', 'man', 'is', 'cutting', 'onions']\n",
      "prediction: ['<BOS>', 'a', 'man', 'is', 'slicing', 'a']\n",
      "31\n",
      "\n",
      "[FINISHED] Epoch 3, (Training Loss (per epoch): 122.2868 samp_prob: 0.6900)\n"
     ]
    },
    {
     "name": "stderr",
     "output_type": "stream",
     "text": [
      "\r",
      "Epoch 3, step 32/96, (Training Loss: 3.7756, samp_prob: 0.6900):  30%|███       | 3/10 [42:14<1:30:06, 772.33s/it]"
     ]
    },
    {
     "name": "stdout",
     "output_type": "stream",
     "text": [
      "32\n",
      "\n",
      "[FINISHED] Epoch 3, (Training Loss (per epoch): 126.0625 samp_prob: 0.6900)\n"
     ]
    },
    {
     "name": "stderr",
     "output_type": "stream",
     "text": [
      "\r",
      "Epoch 3, step 33/96, (Training Loss: 3.8154, samp_prob: 0.6900):  30%|███       | 3/10 [42:22<1:30:06, 772.33s/it]"
     ]
    },
    {
     "name": "stdout",
     "output_type": "stream",
     "text": [
      "33\n",
      "\n",
      "[FINISHED] Epoch 3, (Training Loss (per epoch): 129.8778 samp_prob: 0.6900)\n"
     ]
    },
    {
     "name": "stderr",
     "output_type": "stream",
     "text": [
      "\r",
      "Epoch 3, step 34/96, (Training Loss: 3.8109, samp_prob: 0.6900):  30%|███       | 3/10 [42:29<1:30:06, 772.33s/it]"
     ]
    },
    {
     "name": "stdout",
     "output_type": "stream",
     "text": [
      "34\n",
      "\n",
      "[FINISHED] Epoch 3, (Training Loss (per epoch): 133.6888 samp_prob: 0.6900)\n"
     ]
    },
    {
     "name": "stderr",
     "output_type": "stream",
     "text": [
      "\r",
      "Epoch 3, step 35/96, (Training Loss: 3.7614, samp_prob: 0.6900):  30%|███       | 3/10 [42:37<1:30:06, 772.33s/it]"
     ]
    },
    {
     "name": "stdout",
     "output_type": "stream",
     "text": [
      "35\n",
      "\n",
      "[FINISHED] Epoch 3, (Training Loss (per epoch): 137.4502 samp_prob: 0.6900)\n"
     ]
    },
    {
     "name": "stderr",
     "output_type": "stream",
     "text": [
      "\r",
      "Epoch 3, step 36/96, (Training Loss: 3.8381, samp_prob: 0.6900):  30%|███       | 3/10 [42:45<1:30:06, 772.33s/it]"
     ]
    },
    {
     "name": "stdout",
     "output_type": "stream",
     "text": [
      "36\n",
      "\n",
      "[FINISHED] Epoch 3, (Training Loss (per epoch): 141.2883 samp_prob: 0.6900)\n"
     ]
    },
    {
     "name": "stderr",
     "output_type": "stream",
     "text": [
      "\r",
      "Epoch 3, step 37/96, (Training Loss: 3.8296, samp_prob: 0.6900):  30%|███       | 3/10 [42:52<1:30:06, 772.33s/it]"
     ]
    },
    {
     "name": "stdout",
     "output_type": "stream",
     "text": [
      "37\n",
      "\n",
      "[FINISHED] Epoch 3, (Training Loss (per epoch): 145.1180 samp_prob: 0.6900)\n"
     ]
    },
    {
     "name": "stderr",
     "output_type": "stream",
     "text": [
      "\r",
      "Epoch 3, step 38/96, (Training Loss: 3.7815, samp_prob: 0.6900):  30%|███       | 3/10 [43:00<1:30:06, 772.33s/it]"
     ]
    },
    {
     "name": "stdout",
     "output_type": "stream",
     "text": [
      "38\n",
      "\n",
      "[FINISHED] Epoch 3, (Training Loss (per epoch): 148.8995 samp_prob: 0.6900)\n"
     ]
    },
    {
     "name": "stderr",
     "output_type": "stream",
     "text": [
      "\r",
      "Epoch 3, step 39/96, (Training Loss: 3.7543, samp_prob: 0.6900):  30%|███       | 3/10 [43:08<1:30:06, 772.33s/it]"
     ]
    },
    {
     "name": "stdout",
     "output_type": "stream",
     "text": [
      "39\n",
      "\n",
      "[FINISHED] Epoch 3, (Training Loss (per epoch): 152.6538 samp_prob: 0.6900)\n"
     ]
    },
    {
     "name": "stderr",
     "output_type": "stream",
     "text": [
      "\r",
      "Epoch 3, step 40/96, (Training Loss: 3.6563, samp_prob: 0.6900):  30%|███       | 3/10 [43:15<1:30:06, 772.33s/it]"
     ]
    },
    {
     "name": "stdout",
     "output_type": "stream",
     "text": [
      "40\n",
      "\n",
      "[FINISHED] Epoch 3, (Training Loss (per epoch): 156.3101 samp_prob: 0.6900)\n"
     ]
    },
    {
     "name": "stderr",
     "output_type": "stream",
     "text": [
      "\r",
      "Epoch 3, step 41/96, (Training Loss: 3.7057, samp_prob: 0.6900):  30%|███       | 3/10 [43:23<1:30:06, 772.33s/it]"
     ]
    },
    {
     "name": "stdout",
     "output_type": "stream",
     "text": [
      "41\n",
      "\n",
      "[FINISHED] Epoch 3, (Training Loss (per epoch): 160.0157 samp_prob: 0.6900)\n"
     ]
    },
    {
     "name": "stderr",
     "output_type": "stream",
     "text": [
      "\r",
      "Epoch 3, step 42/96, (Training Loss: 3.7864, samp_prob: 0.6900):  30%|███       | 3/10 [43:31<1:30:06, 772.33s/it]"
     ]
    },
    {
     "name": "stdout",
     "output_type": "stream",
     "text": [
      "42\n",
      "\n",
      "[FINISHED] Epoch 3, (Training Loss (per epoch): 163.8021 samp_prob: 0.6900)\n"
     ]
    },
    {
     "name": "stderr",
     "output_type": "stream",
     "text": [
      "\r",
      "Epoch 3, step 43/96, (Training Loss: 3.7974, samp_prob: 0.6900):  30%|███       | 3/10 [43:38<1:30:06, 772.33s/it]"
     ]
    },
    {
     "name": "stdout",
     "output_type": "stream",
     "text": [
      "43\n",
      "\n",
      "[FINISHED] Epoch 3, (Training Loss (per epoch): 167.5995 samp_prob: 0.6900)\n"
     ]
    },
    {
     "name": "stderr",
     "output_type": "stream",
     "text": [
      "\r",
      "Epoch 3, step 44/96, (Training Loss: 3.7402, samp_prob: 0.6900):  30%|███       | 3/10 [43:46<1:30:06, 772.33s/it]"
     ]
    },
    {
     "name": "stdout",
     "output_type": "stream",
     "text": [
      "44\n",
      "\n",
      "[FINISHED] Epoch 3, (Training Loss (per epoch): 171.3397 samp_prob: 0.6900)\n"
     ]
    },
    {
     "name": "stderr",
     "output_type": "stream",
     "text": [
      "\r",
      "Epoch 3, step 45/96, (Training Loss: 3.7555, samp_prob: 0.6900):  30%|███       | 3/10 [43:54<1:30:06, 772.33s/it]"
     ]
    },
    {
     "name": "stdout",
     "output_type": "stream",
     "text": [
      "45\n",
      "\n",
      "[FINISHED] Epoch 3, (Training Loss (per epoch): 175.0952 samp_prob: 0.6900)\n"
     ]
    },
    {
     "name": "stderr",
     "output_type": "stream",
     "text": [
      "\r",
      "Epoch 3, step 46/96, (Training Loss: 3.8027, samp_prob: 0.6900):  30%|███       | 3/10 [44:02<1:30:06, 772.33s/it]"
     ]
    },
    {
     "name": "stdout",
     "output_type": "stream",
     "text": [
      "[[ 1  4  8 ...  2  2  2]\n",
      " [ 1  4 51 ...  2  2  2]\n",
      " [ 1  4  7 ...  2  2  2]\n",
      " ...\n",
      " [ 1  4 12 ...  2  2  2]\n",
      " [ 1  6 12 ...  2  2  2]\n",
      " [ 1  4  8 ...  2  2  2]]\n",
      "\n",
      "[Train. Prediction] Epoch 3, step 46/96......\n",
      "\n",
      "id: 211\n",
      "answer: ['<BOS>', 'the', 'lady', 'put', 'the', 'bean', 'pods', 'in', 'the', 'boiling', 'water']\n",
      "prediction: ['<BOS>', 'a', 'woman', 'is', 'a', 'a']\n",
      "46\n",
      "\n",
      "[FINISHED] Epoch 3, (Training Loss (per epoch): 178.8979 samp_prob: 0.6900)\n"
     ]
    },
    {
     "name": "stderr",
     "output_type": "stream",
     "text": [
      "\r",
      "Epoch 3, step 47/96, (Training Loss: 3.7333, samp_prob: 0.6900):  30%|███       | 3/10 [44:09<1:30:06, 772.33s/it]"
     ]
    },
    {
     "name": "stdout",
     "output_type": "stream",
     "text": [
      "47\n",
      "\n",
      "[FINISHED] Epoch 3, (Training Loss (per epoch): 182.6311 samp_prob: 0.6900)\n"
     ]
    },
    {
     "name": "stderr",
     "output_type": "stream",
     "text": [
      "\r",
      "Epoch 3, step 48/96, (Training Loss: 3.7328, samp_prob: 0.6900):  30%|███       | 3/10 [44:17<1:30:06, 772.33s/it]"
     ]
    },
    {
     "name": "stdout",
     "output_type": "stream",
     "text": [
      "48\n",
      "\n",
      "[FINISHED] Epoch 3, (Training Loss (per epoch): 186.3639 samp_prob: 0.6900)\n"
     ]
    },
    {
     "name": "stderr",
     "output_type": "stream",
     "text": [
      "\r",
      "Epoch 3, step 49/96, (Training Loss: 3.8259, samp_prob: 0.6900):  30%|███       | 3/10 [44:24<1:30:06, 772.33s/it]"
     ]
    },
    {
     "name": "stdout",
     "output_type": "stream",
     "text": [
      "49\n",
      "\n",
      "[FINISHED] Epoch 3, (Training Loss (per epoch): 190.1898 samp_prob: 0.6900)\n"
     ]
    },
    {
     "name": "stderr",
     "output_type": "stream",
     "text": [
      "\r",
      "Epoch 3, step 50/96, (Training Loss: 3.8641, samp_prob: 0.6900):  30%|███       | 3/10 [44:32<1:30:06, 772.33s/it]"
     ]
    },
    {
     "name": "stdout",
     "output_type": "stream",
     "text": [
      "50\n",
      "\n",
      "[FINISHED] Epoch 3, (Training Loss (per epoch): 194.0540 samp_prob: 0.6900)\n"
     ]
    },
    {
     "name": "stderr",
     "output_type": "stream",
     "text": [
      "\r",
      "Epoch 3, step 51/96, (Training Loss: 3.6998, samp_prob: 0.6900):  30%|███       | 3/10 [44:40<1:30:06, 772.33s/it]"
     ]
    },
    {
     "name": "stdout",
     "output_type": "stream",
     "text": [
      "51\n",
      "\n",
      "[FINISHED] Epoch 3, (Training Loss (per epoch): 197.7538 samp_prob: 0.6900)\n"
     ]
    },
    {
     "name": "stderr",
     "output_type": "stream",
     "text": [
      "\r",
      "Epoch 3, step 52/96, (Training Loss: 3.7429, samp_prob: 0.6900):  30%|███       | 3/10 [44:47<1:30:06, 772.33s/it]"
     ]
    },
    {
     "name": "stdout",
     "output_type": "stream",
     "text": [
      "52\n",
      "\n",
      "[FINISHED] Epoch 3, (Training Loss (per epoch): 201.4967 samp_prob: 0.6900)\n"
     ]
    },
    {
     "name": "stderr",
     "output_type": "stream",
     "text": [
      "\r",
      "Epoch 3, step 53/96, (Training Loss: 3.8316, samp_prob: 0.6900):  30%|███       | 3/10 [44:55<1:30:06, 772.33s/it]"
     ]
    },
    {
     "name": "stdout",
     "output_type": "stream",
     "text": [
      "53\n",
      "\n",
      "[FINISHED] Epoch 3, (Training Loss (per epoch): 205.3284 samp_prob: 0.6900)\n"
     ]
    },
    {
     "name": "stderr",
     "output_type": "stream",
     "text": [
      "\r",
      "Epoch 3, step 54/96, (Training Loss: 3.7300, samp_prob: 0.6900):  30%|███       | 3/10 [45:03<1:30:06, 772.33s/it]"
     ]
    },
    {
     "name": "stdout",
     "output_type": "stream",
     "text": [
      "54\n",
      "\n",
      "[FINISHED] Epoch 3, (Training Loss (per epoch): 209.0584 samp_prob: 0.6900)\n"
     ]
    },
    {
     "name": "stderr",
     "output_type": "stream",
     "text": [
      "\r",
      "Epoch 3, step 55/96, (Training Loss: 3.7679, samp_prob: 0.6900):  30%|███       | 3/10 [45:10<1:30:06, 772.33s/it]"
     ]
    },
    {
     "name": "stdout",
     "output_type": "stream",
     "text": [
      "55\n",
      "\n",
      "[FINISHED] Epoch 3, (Training Loss (per epoch): 212.8263 samp_prob: 0.6900)\n"
     ]
    },
    {
     "name": "stderr",
     "output_type": "stream",
     "text": [
      "\r",
      "Epoch 3, step 56/96, (Training Loss: 3.7082, samp_prob: 0.6900):  30%|███       | 3/10 [45:18<1:30:06, 772.33s/it]"
     ]
    },
    {
     "name": "stdout",
     "output_type": "stream",
     "text": [
      "56\n",
      "\n",
      "[FINISHED] Epoch 3, (Training Loss (per epoch): 216.5345 samp_prob: 0.6900)\n"
     ]
    },
    {
     "name": "stderr",
     "output_type": "stream",
     "text": [
      "\r",
      "Epoch 3, step 57/96, (Training Loss: 3.6641, samp_prob: 0.6900):  30%|███       | 3/10 [45:25<1:30:06, 772.33s/it]"
     ]
    },
    {
     "name": "stdout",
     "output_type": "stream",
     "text": [
      "57\n",
      "\n",
      "[FINISHED] Epoch 3, (Training Loss (per epoch): 220.1985 samp_prob: 0.6900)\n"
     ]
    },
    {
     "name": "stderr",
     "output_type": "stream",
     "text": [
      "\r",
      "Epoch 3, step 58/96, (Training Loss: 3.6837, samp_prob: 0.6900):  30%|███       | 3/10 [45:33<1:30:06, 772.33s/it]"
     ]
    },
    {
     "name": "stdout",
     "output_type": "stream",
     "text": [
      "58\n",
      "\n",
      "[FINISHED] Epoch 3, (Training Loss (per epoch): 223.8822 samp_prob: 0.6900)\n"
     ]
    },
    {
     "name": "stderr",
     "output_type": "stream",
     "text": [
      "\r",
      "Epoch 3, step 59/96, (Training Loss: 3.7544, samp_prob: 0.6900):  30%|███       | 3/10 [45:41<1:30:06, 772.33s/it]"
     ]
    },
    {
     "name": "stdout",
     "output_type": "stream",
     "text": [
      "59\n",
      "\n",
      "[FINISHED] Epoch 3, (Training Loss (per epoch): 227.6366 samp_prob: 0.6900)\n"
     ]
    },
    {
     "name": "stderr",
     "output_type": "stream",
     "text": [
      "\r",
      "Epoch 3, step 60/96, (Training Loss: 3.7379, samp_prob: 0.6900):  30%|███       | 3/10 [45:48<1:30:06, 772.33s/it]"
     ]
    },
    {
     "name": "stdout",
     "output_type": "stream",
     "text": [
      "60\n",
      "\n",
      "[FINISHED] Epoch 3, (Training Loss (per epoch): 231.3744 samp_prob: 0.6900)\n"
     ]
    },
    {
     "name": "stderr",
     "output_type": "stream",
     "text": [
      "\r",
      "Epoch 3, step 61/96, (Training Loss: 3.8344, samp_prob: 0.6900):  30%|███       | 3/10 [45:56<1:30:06, 772.33s/it]"
     ]
    },
    {
     "name": "stdout",
     "output_type": "stream",
     "text": [
      "[[ 1  4  7 ...  2  2  2]\n",
      " [ 1  4  7 ...  2  2  2]\n",
      " [ 1  4  7 ...  2  2  2]\n",
      " ...\n",
      " [ 1  4 28 ...  2  2  2]\n",
      " [ 1  4  8 ...  2  2  2]\n",
      " [ 1  4 23 ...  2  2  2]]\n",
      "\n",
      "[Train. Prediction] Epoch 3, step 61/96......\n",
      "\n",
      "id: 127\n",
      "answer: ['<BOS>', 'a', 'man', 'slid', 'down', 'the', 'escalator', 'railing']\n",
      "prediction: ['<BOS>', 'a', 'man', 'is', 'on', 'a']\n",
      "61\n",
      "\n",
      "[FINISHED] Epoch 3, (Training Loss (per epoch): 235.2089 samp_prob: 0.6900)\n"
     ]
    },
    {
     "name": "stderr",
     "output_type": "stream",
     "text": [
      "\r",
      "Epoch 3, step 62/96, (Training Loss: 3.7709, samp_prob: 0.6900):  30%|███       | 3/10 [46:04<1:30:06, 772.33s/it]"
     ]
    },
    {
     "name": "stdout",
     "output_type": "stream",
     "text": [
      "62\n",
      "\n",
      "[FINISHED] Epoch 3, (Training Loss (per epoch): 238.9798 samp_prob: 0.6900)\n"
     ]
    },
    {
     "name": "stderr",
     "output_type": "stream",
     "text": [
      "\r",
      "Epoch 3, step 63/96, (Training Loss: 3.7943, samp_prob: 0.6900):  30%|███       | 3/10 [46:12<1:30:06, 772.33s/it]"
     ]
    },
    {
     "name": "stdout",
     "output_type": "stream",
     "text": [
      "63\n",
      "\n",
      "[FINISHED] Epoch 3, (Training Loss (per epoch): 242.7740 samp_prob: 0.6900)\n"
     ]
    },
    {
     "name": "stderr",
     "output_type": "stream",
     "text": [
      "\r",
      "Epoch 3, step 64/96, (Training Loss: 3.8354, samp_prob: 0.6900):  30%|███       | 3/10 [46:19<1:30:06, 772.33s/it]"
     ]
    },
    {
     "name": "stdout",
     "output_type": "stream",
     "text": [
      "64\n",
      "\n",
      "[FINISHED] Epoch 3, (Training Loss (per epoch): 246.6094 samp_prob: 0.6900)\n"
     ]
    },
    {
     "name": "stderr",
     "output_type": "stream",
     "text": [
      "\r",
      "Epoch 3, step 65/96, (Training Loss: 3.5562, samp_prob: 0.6900):  30%|███       | 3/10 [46:27<1:30:06, 772.33s/it]"
     ]
    },
    {
     "name": "stdout",
     "output_type": "stream",
     "text": [
      "65\n",
      "\n",
      "[FINISHED] Epoch 3, (Training Loss (per epoch): 250.1656 samp_prob: 0.6900)\n"
     ]
    },
    {
     "name": "stderr",
     "output_type": "stream",
     "text": [
      "\r",
      "Epoch 3, step 66/96, (Training Loss: 3.8497, samp_prob: 0.6900):  30%|███       | 3/10 [46:34<1:30:06, 772.33s/it]"
     ]
    },
    {
     "name": "stdout",
     "output_type": "stream",
     "text": [
      "66\n",
      "\n",
      "[FINISHED] Epoch 3, (Training Loss (per epoch): 254.0153 samp_prob: 0.6900)\n"
     ]
    },
    {
     "name": "stderr",
     "output_type": "stream",
     "text": [
      "\r",
      "Epoch 3, step 67/96, (Training Loss: 3.8203, samp_prob: 0.6900):  30%|███       | 3/10 [46:42<1:30:06, 772.33s/it]"
     ]
    },
    {
     "name": "stdout",
     "output_type": "stream",
     "text": [
      "67\n",
      "\n",
      "[FINISHED] Epoch 3, (Training Loss (per epoch): 257.8357 samp_prob: 0.6900)\n"
     ]
    },
    {
     "name": "stderr",
     "output_type": "stream",
     "text": [
      "\r",
      "Epoch 3, step 68/96, (Training Loss: 3.7402, samp_prob: 0.6900):  30%|███       | 3/10 [46:50<1:30:06, 772.33s/it]"
     ]
    },
    {
     "name": "stdout",
     "output_type": "stream",
     "text": [
      "68\n",
      "\n",
      "[FINISHED] Epoch 3, (Training Loss (per epoch): 261.5759 samp_prob: 0.6900)\n"
     ]
    },
    {
     "name": "stderr",
     "output_type": "stream",
     "text": [
      "\r",
      "Epoch 3, step 69/96, (Training Loss: 3.6339, samp_prob: 0.6900):  30%|███       | 3/10 [46:57<1:30:06, 772.33s/it]"
     ]
    },
    {
     "name": "stdout",
     "output_type": "stream",
     "text": [
      "69\n",
      "\n",
      "[FINISHED] Epoch 3, (Training Loss (per epoch): 265.2098 samp_prob: 0.6900)\n"
     ]
    },
    {
     "name": "stderr",
     "output_type": "stream",
     "text": [
      "\r",
      "Epoch 3, step 70/96, (Training Loss: 3.8090, samp_prob: 0.6900):  30%|███       | 3/10 [47:05<1:30:06, 772.33s/it]"
     ]
    },
    {
     "name": "stdout",
     "output_type": "stream",
     "text": [
      "70\n",
      "\n",
      "[FINISHED] Epoch 3, (Training Loss (per epoch): 269.0188 samp_prob: 0.6900)\n"
     ]
    },
    {
     "name": "stderr",
     "output_type": "stream",
     "text": [
      "\r",
      "Epoch 3, step 71/96, (Training Loss: 3.7051, samp_prob: 0.6900):  30%|███       | 3/10 [47:12<1:30:06, 772.33s/it]"
     ]
    },
    {
     "name": "stdout",
     "output_type": "stream",
     "text": [
      "71\n",
      "\n",
      "[FINISHED] Epoch 3, (Training Loss (per epoch): 272.7239 samp_prob: 0.6900)\n"
     ]
    },
    {
     "name": "stderr",
     "output_type": "stream",
     "text": [
      "\r",
      "Epoch 3, step 72/96, (Training Loss: 3.8429, samp_prob: 0.6900):  30%|███       | 3/10 [47:20<1:30:06, 772.33s/it]"
     ]
    },
    {
     "name": "stdout",
     "output_type": "stream",
     "text": [
      "72\n",
      "\n",
      "[FINISHED] Epoch 3, (Training Loss (per epoch): 276.5668 samp_prob: 0.6900)\n"
     ]
    },
    {
     "name": "stderr",
     "output_type": "stream",
     "text": [
      "\r",
      "Epoch 3, step 73/96, (Training Loss: 3.7052, samp_prob: 0.6900):  30%|███       | 3/10 [47:28<1:30:06, 772.33s/it]"
     ]
    },
    {
     "name": "stdout",
     "output_type": "stream",
     "text": [
      "73\n",
      "\n",
      "[FINISHED] Epoch 3, (Training Loss (per epoch): 280.2720 samp_prob: 0.6900)\n"
     ]
    },
    {
     "name": "stderr",
     "output_type": "stream",
     "text": [
      "\r",
      "Epoch 3, step 74/96, (Training Loss: 3.7554, samp_prob: 0.6900):  30%|███       | 3/10 [47:35<1:30:06, 772.33s/it]"
     ]
    },
    {
     "name": "stdout",
     "output_type": "stream",
     "text": [
      "74\n",
      "\n",
      "[FINISHED] Epoch 3, (Training Loss (per epoch): 284.0275 samp_prob: 0.6900)\n"
     ]
    },
    {
     "name": "stderr",
     "output_type": "stream",
     "text": [
      "\r",
      "Epoch 3, step 75/96, (Training Loss: 3.7772, samp_prob: 0.6900):  30%|███       | 3/10 [47:43<1:30:06, 772.33s/it]"
     ]
    },
    {
     "name": "stdout",
     "output_type": "stream",
     "text": [
      "75\n",
      "\n",
      "[FINISHED] Epoch 3, (Training Loss (per epoch): 287.8047 samp_prob: 0.6900)\n"
     ]
    },
    {
     "name": "stderr",
     "output_type": "stream",
     "text": [
      "\r",
      "Epoch 3, step 76/96, (Training Loss: 3.8096, samp_prob: 0.6900):  30%|███       | 3/10 [47:51<1:30:06, 772.33s/it]"
     ]
    },
    {
     "name": "stdout",
     "output_type": "stream",
     "text": [
      "[[1 4 7 ... 2 2 2]\n",
      " [1 4 7 ... 2 2 2]\n",
      " [1 4 8 ... 2 2 2]\n",
      " ...\n",
      " [1 4 7 ... 2 2 2]\n",
      " [1 4 8 ... 2 2 2]\n",
      " [1 4 7 ... 2 2 2]]\n",
      "\n",
      "[Train. Prediction] Epoch 3, step 76/96......\n",
      "\n",
      "id: 247\n",
      "answer: ['<BOS>', 'a', 'person', 'is', 'holding', 'a', 'hamburger', 'bun']\n",
      "prediction: ['<BOS>', 'a', 'man', 'is', 'slicing']\n",
      "76\n",
      "\n",
      "[FINISHED] Epoch 3, (Training Loss (per epoch): 291.6143 samp_prob: 0.6900)\n"
     ]
    },
    {
     "name": "stderr",
     "output_type": "stream",
     "text": [
      "\r",
      "Epoch 3, step 77/96, (Training Loss: 3.7010, samp_prob: 0.6900):  30%|███       | 3/10 [47:59<1:30:06, 772.33s/it]"
     ]
    },
    {
     "name": "stdout",
     "output_type": "stream",
     "text": [
      "77\n",
      "\n",
      "[FINISHED] Epoch 3, (Training Loss (per epoch): 295.3153 samp_prob: 0.6900)\n"
     ]
    },
    {
     "name": "stderr",
     "output_type": "stream",
     "text": [
      "\r",
      "Epoch 3, step 78/96, (Training Loss: 3.6237, samp_prob: 0.6900):  30%|███       | 3/10 [48:06<1:30:06, 772.33s/it]"
     ]
    },
    {
     "name": "stdout",
     "output_type": "stream",
     "text": [
      "78\n",
      "\n",
      "[FINISHED] Epoch 3, (Training Loss (per epoch): 298.9390 samp_prob: 0.6900)\n"
     ]
    },
    {
     "name": "stderr",
     "output_type": "stream",
     "text": [
      "\r",
      "Epoch 3, step 79/96, (Training Loss: 3.6320, samp_prob: 0.6900):  30%|███       | 3/10 [48:14<1:30:06, 772.33s/it]"
     ]
    },
    {
     "name": "stdout",
     "output_type": "stream",
     "text": [
      "79\n",
      "\n",
      "[FINISHED] Epoch 3, (Training Loss (per epoch): 302.5710 samp_prob: 0.6900)\n"
     ]
    },
    {
     "name": "stderr",
     "output_type": "stream",
     "text": [
      "\r",
      "Epoch 3, step 80/96, (Training Loss: 3.7221, samp_prob: 0.6900):  30%|███       | 3/10 [48:21<1:30:06, 772.33s/it]"
     ]
    },
    {
     "name": "stdout",
     "output_type": "stream",
     "text": [
      "80\n",
      "\n",
      "[FINISHED] Epoch 3, (Training Loss (per epoch): 306.2931 samp_prob: 0.6900)\n"
     ]
    },
    {
     "name": "stderr",
     "output_type": "stream",
     "text": [
      "\r",
      "Epoch 3, step 81/96, (Training Loss: 3.5853, samp_prob: 0.6900):  30%|███       | 3/10 [48:29<1:30:06, 772.33s/it]"
     ]
    },
    {
     "name": "stdout",
     "output_type": "stream",
     "text": [
      "81\n",
      "\n",
      "[FINISHED] Epoch 3, (Training Loss (per epoch): 309.8784 samp_prob: 0.6900)\n"
     ]
    },
    {
     "name": "stderr",
     "output_type": "stream",
     "text": [
      "\r",
      "Epoch 3, step 82/96, (Training Loss: 3.8617, samp_prob: 0.6900):  30%|███       | 3/10 [48:37<1:30:06, 772.33s/it]"
     ]
    },
    {
     "name": "stdout",
     "output_type": "stream",
     "text": [
      "82\n",
      "\n",
      "[FINISHED] Epoch 3, (Training Loss (per epoch): 313.7401 samp_prob: 0.6900)\n"
     ]
    },
    {
     "name": "stderr",
     "output_type": "stream",
     "text": [
      "\r",
      "Epoch 3, step 83/96, (Training Loss: 3.7729, samp_prob: 0.6900):  30%|███       | 3/10 [48:44<1:30:06, 772.33s/it]"
     ]
    },
    {
     "name": "stdout",
     "output_type": "stream",
     "text": [
      "83\n",
      "\n",
      "[FINISHED] Epoch 3, (Training Loss (per epoch): 317.5130 samp_prob: 0.6900)\n"
     ]
    },
    {
     "name": "stderr",
     "output_type": "stream",
     "text": [
      "\r",
      "Epoch 3, step 84/96, (Training Loss: 3.6768, samp_prob: 0.6900):  30%|███       | 3/10 [48:52<1:30:06, 772.33s/it]"
     ]
    },
    {
     "name": "stdout",
     "output_type": "stream",
     "text": [
      "84\n",
      "\n",
      "[FINISHED] Epoch 3, (Training Loss (per epoch): 321.1898 samp_prob: 0.6900)\n"
     ]
    },
    {
     "name": "stderr",
     "output_type": "stream",
     "text": [
      "\r",
      "Epoch 3, step 85/96, (Training Loss: 3.8107, samp_prob: 0.6900):  30%|███       | 3/10 [49:00<1:30:06, 772.33s/it]"
     ]
    },
    {
     "name": "stdout",
     "output_type": "stream",
     "text": [
      "85\n",
      "\n",
      "[FINISHED] Epoch 3, (Training Loss (per epoch): 325.0006 samp_prob: 0.6900)\n"
     ]
    },
    {
     "name": "stderr",
     "output_type": "stream",
     "text": [
      "\r",
      "Epoch 3, step 86/96, (Training Loss: 3.6477, samp_prob: 0.6900):  30%|███       | 3/10 [49:07<1:30:06, 772.33s/it]"
     ]
    },
    {
     "name": "stdout",
     "output_type": "stream",
     "text": [
      "86\n",
      "\n",
      "[FINISHED] Epoch 3, (Training Loss (per epoch): 328.6482 samp_prob: 0.6900)\n"
     ]
    },
    {
     "name": "stderr",
     "output_type": "stream",
     "text": [
      "\r",
      "Epoch 3, step 87/96, (Training Loss: 3.7545, samp_prob: 0.6900):  30%|███       | 3/10 [49:15<1:30:06, 772.33s/it]"
     ]
    },
    {
     "name": "stdout",
     "output_type": "stream",
     "text": [
      "87\n",
      "\n",
      "[FINISHED] Epoch 3, (Training Loss (per epoch): 332.4027 samp_prob: 0.6900)\n"
     ]
    },
    {
     "name": "stderr",
     "output_type": "stream",
     "text": [
      "\r",
      "Epoch 3, step 88/96, (Training Loss: 3.7324, samp_prob: 0.6900):  30%|███       | 3/10 [49:22<1:30:06, 772.33s/it]"
     ]
    },
    {
     "name": "stdout",
     "output_type": "stream",
     "text": [
      "88\n",
      "\n",
      "[FINISHED] Epoch 3, (Training Loss (per epoch): 336.1351 samp_prob: 0.6900)\n"
     ]
    },
    {
     "name": "stderr",
     "output_type": "stream",
     "text": [
      "\r",
      "Epoch 3, step 89/96, (Training Loss: 3.6947, samp_prob: 0.6900):  30%|███       | 3/10 [49:30<1:30:06, 772.33s/it]"
     ]
    },
    {
     "name": "stdout",
     "output_type": "stream",
     "text": [
      "89\n",
      "\n",
      "[FINISHED] Epoch 3, (Training Loss (per epoch): 339.8299 samp_prob: 0.6900)\n"
     ]
    },
    {
     "name": "stderr",
     "output_type": "stream",
     "text": [
      "\r",
      "Epoch 3, step 90/96, (Training Loss: 3.6434, samp_prob: 0.6900):  30%|███       | 3/10 [49:38<1:30:06, 772.33s/it]"
     ]
    },
    {
     "name": "stdout",
     "output_type": "stream",
     "text": [
      "90\n",
      "\n",
      "[FINISHED] Epoch 3, (Training Loss (per epoch): 343.4733 samp_prob: 0.6900)\n"
     ]
    },
    {
     "name": "stderr",
     "output_type": "stream",
     "text": [
      "\r",
      "Epoch 3, step 91/96, (Training Loss: 3.7190, samp_prob: 0.6900):  30%|███       | 3/10 [49:46<1:30:06, 772.33s/it]"
     ]
    },
    {
     "name": "stdout",
     "output_type": "stream",
     "text": [
      "[[ 1  4  7 ...  2  2  2]\n",
      " [ 1  6  5 ...  2  2  2]\n",
      " [ 1  4 24 ...  2  2  2]\n",
      " ...\n",
      " [ 1  4  7 ...  2  2  2]\n",
      " [ 1  4  7 ...  2  2  2]\n",
      " [ 1  4  7 ...  2  2  2]]\n",
      "\n",
      "[Train. Prediction] Epoch 3, step 91/96......\n",
      "\n",
      "id: 187\n",
      "answer: ['<BOS>', 'a', 'baby', 'panda', 'is', 'hugging', 'its', 'mother']\n",
      "prediction: ['<BOS>', 'a', 'baby', 'is', 'is']\n",
      "91\n",
      "\n",
      "[FINISHED] Epoch 3, (Training Loss (per epoch): 347.1923 samp_prob: 0.6900)\n"
     ]
    },
    {
     "name": "stderr",
     "output_type": "stream",
     "text": [
      "\r",
      "Epoch 3, step 92/96, (Training Loss: 3.6006, samp_prob: 0.6900):  30%|███       | 3/10 [49:53<1:30:06, 772.33s/it]"
     ]
    },
    {
     "name": "stdout",
     "output_type": "stream",
     "text": [
      "92\n",
      "\n",
      "[FINISHED] Epoch 3, (Training Loss (per epoch): 350.7929 samp_prob: 0.6900)\n"
     ]
    },
    {
     "name": "stderr",
     "output_type": "stream",
     "text": [
      "\r",
      "Epoch 3, step 93/96, (Training Loss: 3.6646, samp_prob: 0.6900):  30%|███       | 3/10 [50:01<1:30:06, 772.33s/it]"
     ]
    },
    {
     "name": "stdout",
     "output_type": "stream",
     "text": [
      "93\n",
      "\n",
      "[FINISHED] Epoch 3, (Training Loss (per epoch): 354.4574 samp_prob: 0.6900)\n"
     ]
    },
    {
     "name": "stderr",
     "output_type": "stream",
     "text": [
      "\r",
      "Epoch 3, step 94/96, (Training Loss: 3.7747, samp_prob: 0.6900):  30%|███       | 3/10 [50:08<1:30:06, 772.33s/it]"
     ]
    },
    {
     "name": "stdout",
     "output_type": "stream",
     "text": [
      "94\n",
      "\n",
      "[FINISHED] Epoch 3, (Training Loss (per epoch): 358.2321 samp_prob: 0.6900)\n"
     ]
    },
    {
     "name": "stderr",
     "output_type": "stream",
     "text": [
      "Epoch 3, step 95/96, (Training Loss: 3.7055, samp_prob: 0.6900):  40%|████      | 4/10 [50:16<1:16:08, 761.42s/it]"
     ]
    },
    {
     "name": "stdout",
     "output_type": "stream",
     "text": [
      "95\n",
      "\n",
      "[FINISHED] Epoch 3, (Training Loss (per epoch): 361.9376 samp_prob: 0.6900)\n"
     ]
    },
    {
     "name": "stderr",
     "output_type": "stream",
     "text": [
      "\r",
      "Epoch 4, step 0/96, (Training Loss: 3.7959, samp_prob: 0.5987):  40%|████      | 4/10 [50:24<1:16:08, 761.42s/it] "
     ]
    },
    {
     "name": "stdout",
     "output_type": "stream",
     "text": [
      "0\n",
      "\n",
      "[FINISHED] Epoch 4, (Training Loss (per epoch): 3.7959 samp_prob: 0.5987)\n"
     ]
    },
    {
     "name": "stderr",
     "output_type": "stream",
     "text": [
      "\r",
      "Epoch 4, step 1/96, (Training Loss: 3.7570, samp_prob: 0.5987):  40%|████      | 4/10 [50:32<1:16:08, 761.42s/it]"
     ]
    },
    {
     "name": "stdout",
     "output_type": "stream",
     "text": [
      "[[ 1  4 24 ...  2  2  2]\n",
      " [ 1  4  8 ...  2  2  2]\n",
      " [ 1  4  7 ...  2  2  2]\n",
      " ...\n",
      " [ 1  4 12 ...  2  2  2]\n",
      " [ 1  4  8 ...  2  2  2]\n",
      " [ 1  4  7 ...  2  2  2]]\n",
      "\n",
      "[Train. Prediction] Epoch 4, step 1/96......\n",
      "\n",
      "id: 143\n",
      "answer: ['<BOS>', 'a', 'little', 'boy', 'is', 'walking', 'on', 'a', 'treadmill']\n",
      "prediction: ['<BOS>', 'a', 'man', 'is', 'is', 'a', 'a']\n",
      "1\n",
      "\n",
      "[FINISHED] Epoch 4, (Training Loss (per epoch): 7.5529 samp_prob: 0.5987)\n"
     ]
    },
    {
     "name": "stderr",
     "output_type": "stream",
     "text": [
      "\r",
      "Epoch 4, step 2/96, (Training Loss: 3.7018, samp_prob: 0.5987):  40%|████      | 4/10 [50:39<1:16:08, 761.42s/it]"
     ]
    },
    {
     "name": "stdout",
     "output_type": "stream",
     "text": [
      "2\n",
      "\n",
      "[FINISHED] Epoch 4, (Training Loss (per epoch): 11.2548 samp_prob: 0.5987)\n"
     ]
    },
    {
     "name": "stderr",
     "output_type": "stream",
     "text": [
      "\r",
      "Epoch 4, step 3/96, (Training Loss: 3.7355, samp_prob: 0.5987):  40%|████      | 4/10 [50:47<1:16:08, 761.42s/it]"
     ]
    },
    {
     "name": "stdout",
     "output_type": "stream",
     "text": [
      "3\n",
      "\n",
      "[FINISHED] Epoch 4, (Training Loss (per epoch): 14.9903 samp_prob: 0.5987)\n"
     ]
    },
    {
     "name": "stderr",
     "output_type": "stream",
     "text": [
      "\r",
      "Epoch 4, step 4/96, (Training Loss: 3.6033, samp_prob: 0.5987):  40%|████      | 4/10 [50:55<1:16:08, 761.42s/it]"
     ]
    },
    {
     "name": "stdout",
     "output_type": "stream",
     "text": [
      "4\n",
      "\n",
      "[FINISHED] Epoch 4, (Training Loss (per epoch): 18.5936 samp_prob: 0.5987)\n"
     ]
    },
    {
     "name": "stderr",
     "output_type": "stream",
     "text": [
      "\r",
      "Epoch 4, step 5/96, (Training Loss: 3.6411, samp_prob: 0.5987):  40%|████      | 4/10 [51:02<1:16:08, 761.42s/it]"
     ]
    },
    {
     "name": "stdout",
     "output_type": "stream",
     "text": [
      "5\n",
      "\n",
      "[FINISHED] Epoch 4, (Training Loss (per epoch): 22.2347 samp_prob: 0.5987)\n"
     ]
    },
    {
     "name": "stderr",
     "output_type": "stream",
     "text": [
      "\r",
      "Epoch 4, step 6/96, (Training Loss: 3.6619, samp_prob: 0.5987):  40%|████      | 4/10 [51:10<1:16:08, 761.42s/it]"
     ]
    },
    {
     "name": "stdout",
     "output_type": "stream",
     "text": [
      "6\n",
      "\n",
      "[FINISHED] Epoch 4, (Training Loss (per epoch): 25.8966 samp_prob: 0.5987)\n"
     ]
    },
    {
     "name": "stderr",
     "output_type": "stream",
     "text": [
      "\r",
      "Epoch 4, step 7/96, (Training Loss: 3.7038, samp_prob: 0.5987):  40%|████      | 4/10 [51:17<1:16:08, 761.42s/it]"
     ]
    },
    {
     "name": "stdout",
     "output_type": "stream",
     "text": [
      "7\n",
      "\n",
      "[FINISHED] Epoch 4, (Training Loss (per epoch): 29.6004 samp_prob: 0.5987)\n"
     ]
    },
    {
     "name": "stderr",
     "output_type": "stream",
     "text": [
      "\r",
      "Epoch 4, step 8/96, (Training Loss: 3.6628, samp_prob: 0.5987):  40%|████      | 4/10 [51:25<1:16:08, 761.42s/it]"
     ]
    },
    {
     "name": "stdout",
     "output_type": "stream",
     "text": [
      "8\n",
      "\n",
      "[FINISHED] Epoch 4, (Training Loss (per epoch): 33.2632 samp_prob: 0.5987)\n"
     ]
    },
    {
     "name": "stderr",
     "output_type": "stream",
     "text": [
      "\r",
      "Epoch 4, step 9/96, (Training Loss: 3.6800, samp_prob: 0.5987):  40%|████      | 4/10 [51:33<1:16:08, 761.42s/it]"
     ]
    },
    {
     "name": "stdout",
     "output_type": "stream",
     "text": [
      "9\n",
      "\n",
      "[FINISHED] Epoch 4, (Training Loss (per epoch): 36.9433 samp_prob: 0.5987)\n"
     ]
    },
    {
     "name": "stderr",
     "output_type": "stream",
     "text": [
      "\r",
      "Epoch 4, step 10/96, (Training Loss: 3.6444, samp_prob: 0.5987):  40%|████      | 4/10 [51:40<1:16:08, 761.42s/it]"
     ]
    },
    {
     "name": "stdout",
     "output_type": "stream",
     "text": [
      "10\n",
      "\n",
      "[FINISHED] Epoch 4, (Training Loss (per epoch): 40.5877 samp_prob: 0.5987)\n"
     ]
    },
    {
     "name": "stderr",
     "output_type": "stream",
     "text": [
      "\r",
      "Epoch 4, step 11/96, (Training Loss: 3.6747, samp_prob: 0.5987):  40%|████      | 4/10 [51:48<1:16:08, 761.42s/it]"
     ]
    },
    {
     "name": "stdout",
     "output_type": "stream",
     "text": [
      "11\n",
      "\n",
      "[FINISHED] Epoch 4, (Training Loss (per epoch): 44.2624 samp_prob: 0.5987)\n"
     ]
    },
    {
     "name": "stderr",
     "output_type": "stream",
     "text": [
      "\r",
      "Epoch 4, step 12/96, (Training Loss: 3.7138, samp_prob: 0.5987):  40%|████      | 4/10 [51:56<1:16:08, 761.42s/it]"
     ]
    },
    {
     "name": "stdout",
     "output_type": "stream",
     "text": [
      "12\n",
      "\n",
      "[FINISHED] Epoch 4, (Training Loss (per epoch): 47.9762 samp_prob: 0.5987)\n"
     ]
    },
    {
     "name": "stderr",
     "output_type": "stream",
     "text": [
      "\r",
      "Epoch 4, step 13/96, (Training Loss: 3.7806, samp_prob: 0.5987):  40%|████      | 4/10 [52:03<1:16:08, 761.42s/it]"
     ]
    },
    {
     "name": "stdout",
     "output_type": "stream",
     "text": [
      "13\n",
      "\n",
      "[FINISHED] Epoch 4, (Training Loss (per epoch): 51.7568 samp_prob: 0.5987)\n"
     ]
    },
    {
     "name": "stderr",
     "output_type": "stream",
     "text": [
      "\r",
      "Epoch 4, step 14/96, (Training Loss: 3.7506, samp_prob: 0.5987):  40%|████      | 4/10 [52:11<1:16:08, 761.42s/it]"
     ]
    },
    {
     "name": "stdout",
     "output_type": "stream",
     "text": [
      "14\n",
      "\n",
      "[FINISHED] Epoch 4, (Training Loss (per epoch): 55.5074 samp_prob: 0.5987)\n"
     ]
    },
    {
     "name": "stderr",
     "output_type": "stream",
     "text": [
      "\r",
      "Epoch 4, step 15/96, (Training Loss: 3.7119, samp_prob: 0.5987):  40%|████      | 4/10 [52:18<1:16:08, 761.42s/it]"
     ]
    },
    {
     "name": "stdout",
     "output_type": "stream",
     "text": [
      "15\n",
      "\n",
      "[FINISHED] Epoch 4, (Training Loss (per epoch): 59.2193 samp_prob: 0.5987)\n"
     ]
    },
    {
     "name": "stderr",
     "output_type": "stream",
     "text": [
      "\r",
      "Epoch 4, step 16/96, (Training Loss: 3.6552, samp_prob: 0.5987):  40%|████      | 4/10 [52:26<1:16:08, 761.42s/it]"
     ]
    },
    {
     "name": "stdout",
     "output_type": "stream",
     "text": [
      "[[ 1  4  7 ...  2  2  2]\n",
      " [ 1  4  8 ...  2  2  2]\n",
      " [ 1 20 12 ...  2  2  2]\n",
      " ...\n",
      " [ 1  4 24 ...  2  2  2]\n",
      " [ 1  4 17 ...  2  2  2]\n",
      " [ 1  4  8 ...  2  2  2]]\n",
      "\n",
      "[Train. Prediction] Epoch 4, step 16/96......\n",
      "\n",
      "id: 30\n",
      "answer: ['<BOS>', 'someone', 'is', 'trimming', 'fat', 'from', 'a', 'piece', 'of', 'meat']\n",
      "prediction: ['<BOS>', 'a', 'man', 'is', 'a', 'a']\n",
      "16\n",
      "\n",
      "[FINISHED] Epoch 4, (Training Loss (per epoch): 62.8744 samp_prob: 0.5987)\n"
     ]
    },
    {
     "name": "stderr",
     "output_type": "stream",
     "text": [
      "\r",
      "Epoch 4, step 17/96, (Training Loss: 3.6264, samp_prob: 0.5987):  40%|████      | 4/10 [52:34<1:16:08, 761.42s/it]"
     ]
    },
    {
     "name": "stdout",
     "output_type": "stream",
     "text": [
      "17\n",
      "\n",
      "[FINISHED] Epoch 4, (Training Loss (per epoch): 66.5008 samp_prob: 0.5987)\n"
     ]
    },
    {
     "name": "stderr",
     "output_type": "stream",
     "text": [
      "\r",
      "Epoch 4, step 18/96, (Training Loss: 3.5103, samp_prob: 0.5987):  40%|████      | 4/10 [52:42<1:16:08, 761.42s/it]"
     ]
    },
    {
     "name": "stdout",
     "output_type": "stream",
     "text": [
      "18\n",
      "\n",
      "[FINISHED] Epoch 4, (Training Loss (per epoch): 70.0111 samp_prob: 0.5987)\n"
     ]
    },
    {
     "name": "stderr",
     "output_type": "stream",
     "text": [
      "\r",
      "Epoch 4, step 19/96, (Training Loss: 3.3999, samp_prob: 0.5987):  40%|████      | 4/10 [52:49<1:16:08, 761.42s/it]"
     ]
    },
    {
     "name": "stdout",
     "output_type": "stream",
     "text": [
      "19\n",
      "\n",
      "[FINISHED] Epoch 4, (Training Loss (per epoch): 73.4110 samp_prob: 0.5987)\n"
     ]
    },
    {
     "name": "stderr",
     "output_type": "stream",
     "text": [
      "\r",
      "Epoch 4, step 20/96, (Training Loss: 3.7256, samp_prob: 0.5987):  40%|████      | 4/10 [52:57<1:16:08, 761.42s/it]"
     ]
    },
    {
     "name": "stdout",
     "output_type": "stream",
     "text": [
      "20\n",
      "\n",
      "[FINISHED] Epoch 4, (Training Loss (per epoch): 77.1366 samp_prob: 0.5987)\n"
     ]
    },
    {
     "name": "stderr",
     "output_type": "stream",
     "text": [
      "\r",
      "Epoch 4, step 21/96, (Training Loss: 3.6132, samp_prob: 0.5987):  40%|████      | 4/10 [53:05<1:16:08, 761.42s/it]"
     ]
    },
    {
     "name": "stdout",
     "output_type": "stream",
     "text": [
      "21\n",
      "\n",
      "[FINISHED] Epoch 4, (Training Loss (per epoch): 80.7497 samp_prob: 0.5987)\n"
     ]
    },
    {
     "name": "stderr",
     "output_type": "stream",
     "text": [
      "\r",
      "Epoch 4, step 22/96, (Training Loss: 3.6245, samp_prob: 0.5987):  40%|████      | 4/10 [53:12<1:16:08, 761.42s/it]"
     ]
    },
    {
     "name": "stdout",
     "output_type": "stream",
     "text": [
      "22\n",
      "\n",
      "[FINISHED] Epoch 4, (Training Loss (per epoch): 84.3742 samp_prob: 0.5987)\n"
     ]
    },
    {
     "name": "stderr",
     "output_type": "stream",
     "text": [
      "\r",
      "Epoch 4, step 23/96, (Training Loss: 3.6962, samp_prob: 0.5987):  40%|████      | 4/10 [53:20<1:16:08, 761.42s/it]"
     ]
    },
    {
     "name": "stdout",
     "output_type": "stream",
     "text": [
      "23\n",
      "\n",
      "[FINISHED] Epoch 4, (Training Loss (per epoch): 88.0704 samp_prob: 0.5987)\n"
     ]
    },
    {
     "name": "stderr",
     "output_type": "stream",
     "text": [
      "\r",
      "Epoch 4, step 24/96, (Training Loss: 3.8748, samp_prob: 0.5987):  40%|████      | 4/10 [53:27<1:16:08, 761.42s/it]"
     ]
    },
    {
     "name": "stdout",
     "output_type": "stream",
     "text": [
      "24\n",
      "\n",
      "[FINISHED] Epoch 4, (Training Loss (per epoch): 91.9452 samp_prob: 0.5987)\n"
     ]
    },
    {
     "name": "stderr",
     "output_type": "stream",
     "text": [
      "\r",
      "Epoch 4, step 25/96, (Training Loss: 3.5741, samp_prob: 0.5987):  40%|████      | 4/10 [53:35<1:16:08, 761.42s/it]"
     ]
    },
    {
     "name": "stdout",
     "output_type": "stream",
     "text": [
      "25\n",
      "\n",
      "[FINISHED] Epoch 4, (Training Loss (per epoch): 95.5193 samp_prob: 0.5987)\n"
     ]
    },
    {
     "name": "stderr",
     "output_type": "stream",
     "text": [
      "\r",
      "Epoch 4, step 26/96, (Training Loss: 3.6441, samp_prob: 0.5987):  40%|████      | 4/10 [53:42<1:16:08, 761.42s/it]"
     ]
    },
    {
     "name": "stdout",
     "output_type": "stream",
     "text": [
      "26\n",
      "\n",
      "[FINISHED] Epoch 4, (Training Loss (per epoch): 99.1634 samp_prob: 0.5987)\n"
     ]
    },
    {
     "name": "stderr",
     "output_type": "stream",
     "text": [
      "\r",
      "Epoch 4, step 27/96, (Training Loss: 3.5621, samp_prob: 0.5987):  40%|████      | 4/10 [53:50<1:16:08, 761.42s/it]"
     ]
    },
    {
     "name": "stdout",
     "output_type": "stream",
     "text": [
      "27\n",
      "\n",
      "[FINISHED] Epoch 4, (Training Loss (per epoch): 102.7255 samp_prob: 0.5987)\n"
     ]
    },
    {
     "name": "stderr",
     "output_type": "stream",
     "text": [
      "\r",
      "Epoch 4, step 28/96, (Training Loss: 3.5130, samp_prob: 0.5987):  40%|████      | 4/10 [53:58<1:16:08, 761.42s/it]"
     ]
    },
    {
     "name": "stdout",
     "output_type": "stream",
     "text": [
      "28\n",
      "\n",
      "[FINISHED] Epoch 4, (Training Loss (per epoch): 106.2385 samp_prob: 0.5987)\n"
     ]
    },
    {
     "name": "stderr",
     "output_type": "stream",
     "text": [
      "\r",
      "Epoch 4, step 29/96, (Training Loss: 3.6263, samp_prob: 0.5987):  40%|████      | 4/10 [54:05<1:16:08, 761.42s/it]"
     ]
    },
    {
     "name": "stdout",
     "output_type": "stream",
     "text": [
      "29\n",
      "\n",
      "[FINISHED] Epoch 4, (Training Loss (per epoch): 109.8648 samp_prob: 0.5987)\n"
     ]
    },
    {
     "name": "stderr",
     "output_type": "stream",
     "text": [
      "\r",
      "Epoch 4, step 30/96, (Training Loss: 3.7441, samp_prob: 0.5987):  40%|████      | 4/10 [54:13<1:16:08, 761.42s/it]"
     ]
    },
    {
     "name": "stdout",
     "output_type": "stream",
     "text": [
      "30\n",
      "\n",
      "[FINISHED] Epoch 4, (Training Loss (per epoch): 113.6089 samp_prob: 0.5987)\n"
     ]
    },
    {
     "name": "stderr",
     "output_type": "stream",
     "text": [
      "\r",
      "Epoch 4, step 31/96, (Training Loss: 3.6537, samp_prob: 0.5987):  40%|████      | 4/10 [54:21<1:16:08, 761.42s/it]"
     ]
    },
    {
     "name": "stdout",
     "output_type": "stream",
     "text": [
      "[[ 1  6 12 ...  2  2  2]\n",
      " [ 1  4  7 ...  2  2  2]\n",
      " [ 1  4  7 ...  2  2  2]\n",
      " ...\n",
      " [ 1  4  7 ...  2  2  2]\n",
      " [ 1  4  5 ...  2  2  2]\n",
      " [ 1  4  8 ...  2  2  2]]\n",
      "\n",
      "[Train. Prediction] Epoch 4, step 31/96......\n",
      "\n",
      "id: 127\n",
      "answer: ['<BOS>', 'a', 'couple', 'mount', 'a', 'motorcycle']\n",
      "prediction: ['<BOS>', 'a', 'man', 'is', 'a', 'a', 'a']\n",
      "31\n",
      "\n",
      "[FINISHED] Epoch 4, (Training Loss (per epoch): 117.2626 samp_prob: 0.5987)\n"
     ]
    },
    {
     "name": "stderr",
     "output_type": "stream",
     "text": [
      "\r",
      "Epoch 4, step 32/96, (Training Loss: 3.6272, samp_prob: 0.5987):  40%|████      | 4/10 [54:29<1:16:08, 761.42s/it]"
     ]
    },
    {
     "name": "stdout",
     "output_type": "stream",
     "text": [
      "32\n",
      "\n",
      "[FINISHED] Epoch 4, (Training Loss (per epoch): 120.8898 samp_prob: 0.5987)\n"
     ]
    },
    {
     "name": "stderr",
     "output_type": "stream",
     "text": [
      "\r",
      "Epoch 4, step 33/96, (Training Loss: 3.6491, samp_prob: 0.5987):  40%|████      | 4/10 [54:36<1:16:08, 761.42s/it]"
     ]
    },
    {
     "name": "stdout",
     "output_type": "stream",
     "text": [
      "33\n",
      "\n",
      "[FINISHED] Epoch 4, (Training Loss (per epoch): 124.5390 samp_prob: 0.5987)\n"
     ]
    },
    {
     "name": "stderr",
     "output_type": "stream",
     "text": [
      "\r",
      "Epoch 4, step 34/96, (Training Loss: 3.6645, samp_prob: 0.5987):  40%|████      | 4/10 [54:44<1:16:08, 761.42s/it]"
     ]
    },
    {
     "name": "stdout",
     "output_type": "stream",
     "text": [
      "34\n",
      "\n",
      "[FINISHED] Epoch 4, (Training Loss (per epoch): 128.2035 samp_prob: 0.5987)\n"
     ]
    },
    {
     "name": "stderr",
     "output_type": "stream",
     "text": [
      "\r",
      "Epoch 4, step 35/96, (Training Loss: 3.6314, samp_prob: 0.5987):  40%|████      | 4/10 [54:51<1:16:08, 761.42s/it]"
     ]
    },
    {
     "name": "stdout",
     "output_type": "stream",
     "text": [
      "35\n",
      "\n",
      "[FINISHED] Epoch 4, (Training Loss (per epoch): 131.8349 samp_prob: 0.5987)\n"
     ]
    },
    {
     "name": "stderr",
     "output_type": "stream",
     "text": [
      "\r",
      "Epoch 4, step 36/96, (Training Loss: 3.7025, samp_prob: 0.5987):  40%|████      | 4/10 [54:59<1:16:08, 761.42s/it]"
     ]
    },
    {
     "name": "stdout",
     "output_type": "stream",
     "text": [
      "36\n",
      "\n",
      "[FINISHED] Epoch 4, (Training Loss (per epoch): 135.5374 samp_prob: 0.5987)\n"
     ]
    },
    {
     "name": "stderr",
     "output_type": "stream",
     "text": [
      "\r",
      "Epoch 4, step 37/96, (Training Loss: 3.6575, samp_prob: 0.5987):  40%|████      | 4/10 [55:06<1:16:08, 761.42s/it]"
     ]
    },
    {
     "name": "stdout",
     "output_type": "stream",
     "text": [
      "37\n",
      "\n",
      "[FINISHED] Epoch 4, (Training Loss (per epoch): 139.1949 samp_prob: 0.5987)\n"
     ]
    },
    {
     "name": "stderr",
     "output_type": "stream",
     "text": [
      "\r",
      "Epoch 4, step 38/96, (Training Loss: 3.6149, samp_prob: 0.5987):  40%|████      | 4/10 [55:14<1:16:08, 761.42s/it]"
     ]
    },
    {
     "name": "stdout",
     "output_type": "stream",
     "text": [
      "38\n",
      "\n",
      "[FINISHED] Epoch 4, (Training Loss (per epoch): 142.8098 samp_prob: 0.5987)\n"
     ]
    },
    {
     "name": "stderr",
     "output_type": "stream",
     "text": [
      "\r",
      "Epoch 4, step 39/96, (Training Loss: 3.6155, samp_prob: 0.5987):  40%|████      | 4/10 [55:22<1:16:08, 761.42s/it]"
     ]
    },
    {
     "name": "stdout",
     "output_type": "stream",
     "text": [
      "39\n",
      "\n",
      "[FINISHED] Epoch 4, (Training Loss (per epoch): 146.4253 samp_prob: 0.5987)\n"
     ]
    },
    {
     "name": "stderr",
     "output_type": "stream",
     "text": [
      "\r",
      "Epoch 4, step 40/96, (Training Loss: 3.5382, samp_prob: 0.5987):  40%|████      | 4/10 [55:29<1:16:08, 761.42s/it]"
     ]
    },
    {
     "name": "stdout",
     "output_type": "stream",
     "text": [
      "40\n",
      "\n",
      "[FINISHED] Epoch 4, (Training Loss (per epoch): 149.9635 samp_prob: 0.5987)\n"
     ]
    },
    {
     "name": "stderr",
     "output_type": "stream",
     "text": [
      "\r",
      "Epoch 4, step 41/96, (Training Loss: 3.5654, samp_prob: 0.5987):  40%|████      | 4/10 [55:37<1:16:08, 761.42s/it]"
     ]
    },
    {
     "name": "stdout",
     "output_type": "stream",
     "text": [
      "41\n",
      "\n",
      "[FINISHED] Epoch 4, (Training Loss (per epoch): 153.5290 samp_prob: 0.5987)\n"
     ]
    },
    {
     "name": "stderr",
     "output_type": "stream",
     "text": [
      "\r",
      "Epoch 4, step 42/96, (Training Loss: 3.6493, samp_prob: 0.5987):  40%|████      | 4/10 [55:44<1:16:08, 761.42s/it]"
     ]
    },
    {
     "name": "stdout",
     "output_type": "stream",
     "text": [
      "42\n",
      "\n",
      "[FINISHED] Epoch 4, (Training Loss (per epoch): 157.1783 samp_prob: 0.5987)\n"
     ]
    },
    {
     "name": "stderr",
     "output_type": "stream",
     "text": [
      "\r",
      "Epoch 4, step 43/96, (Training Loss: 3.6247, samp_prob: 0.5987):  40%|████      | 4/10 [55:52<1:16:08, 761.42s/it]"
     ]
    },
    {
     "name": "stdout",
     "output_type": "stream",
     "text": [
      "43\n",
      "\n",
      "[FINISHED] Epoch 4, (Training Loss (per epoch): 160.8030 samp_prob: 0.5987)\n"
     ]
    },
    {
     "name": "stderr",
     "output_type": "stream",
     "text": [
      "\r",
      "Epoch 4, step 44/96, (Training Loss: 3.6000, samp_prob: 0.5987):  40%|████      | 4/10 [56:00<1:16:08, 761.42s/it]"
     ]
    },
    {
     "name": "stdout",
     "output_type": "stream",
     "text": [
      "44\n",
      "\n",
      "[FINISHED] Epoch 4, (Training Loss (per epoch): 164.4030 samp_prob: 0.5987)\n"
     ]
    },
    {
     "name": "stderr",
     "output_type": "stream",
     "text": [
      "\r",
      "Epoch 4, step 45/96, (Training Loss: 3.6077, samp_prob: 0.5987):  40%|████      | 4/10 [56:07<1:16:08, 761.42s/it]"
     ]
    },
    {
     "name": "stdout",
     "output_type": "stream",
     "text": [
      "45\n",
      "\n",
      "[FINISHED] Epoch 4, (Training Loss (per epoch): 168.0107 samp_prob: 0.5987)\n"
     ]
    },
    {
     "name": "stderr",
     "output_type": "stream",
     "text": [
      "\r",
      "Epoch 4, step 46/96, (Training Loss: 3.6682, samp_prob: 0.5987):  40%|████      | 4/10 [56:15<1:16:08, 761.42s/it]"
     ]
    },
    {
     "name": "stdout",
     "output_type": "stream",
     "text": [
      "[[ 1  4  8 ...  2  2  2]\n",
      " [ 1  4  7 ...  2  2  2]\n",
      " [ 1  4  7 ...  2  2  2]\n",
      " ...\n",
      " [ 1 20 12 ...  2  2  2]\n",
      " [ 1  4 56 ...  2  2  2]\n",
      " [ 1  4  8 ...  2  2  2]]\n",
      "\n",
      "[Train. Prediction] Epoch 4, step 46/96......\n",
      "\n",
      "id: 12\n",
      "answer: ['<BOS>', 'a', 'toad', 'is', 'tickled']\n",
      "prediction: ['<BOS>', 'a', 'person', 'is', 'is', 'a']\n",
      "46\n",
      "\n",
      "[FINISHED] Epoch 4, (Training Loss (per epoch): 171.6789 samp_prob: 0.5987)\n"
     ]
    },
    {
     "name": "stderr",
     "output_type": "stream",
     "text": [
      "\r",
      "Epoch 4, step 47/96, (Training Loss: 3.6090, samp_prob: 0.5987):  40%|████      | 4/10 [56:23<1:16:08, 761.42s/it]"
     ]
    },
    {
     "name": "stdout",
     "output_type": "stream",
     "text": [
      "47\n",
      "\n",
      "[FINISHED] Epoch 4, (Training Loss (per epoch): 175.2879 samp_prob: 0.5987)\n"
     ]
    },
    {
     "name": "stderr",
     "output_type": "stream",
     "text": [
      "\r",
      "Epoch 4, step 48/96, (Training Loss: 3.5872, samp_prob: 0.5987):  40%|████      | 4/10 [56:31<1:16:08, 761.42s/it]"
     ]
    },
    {
     "name": "stdout",
     "output_type": "stream",
     "text": [
      "48\n",
      "\n",
      "[FINISHED] Epoch 4, (Training Loss (per epoch): 178.8751 samp_prob: 0.5987)\n"
     ]
    },
    {
     "name": "stderr",
     "output_type": "stream",
     "text": [
      "\r",
      "Epoch 4, step 49/96, (Training Loss: 3.6582, samp_prob: 0.5987):  40%|████      | 4/10 [56:38<1:16:08, 761.42s/it]"
     ]
    },
    {
     "name": "stdout",
     "output_type": "stream",
     "text": [
      "49\n",
      "\n",
      "[FINISHED] Epoch 4, (Training Loss (per epoch): 182.5333 samp_prob: 0.5987)\n"
     ]
    },
    {
     "name": "stderr",
     "output_type": "stream",
     "text": [
      "\r",
      "Epoch 4, step 50/96, (Training Loss: 3.7279, samp_prob: 0.5987):  40%|████      | 4/10 [56:46<1:16:08, 761.42s/it]"
     ]
    },
    {
     "name": "stdout",
     "output_type": "stream",
     "text": [
      "50\n",
      "\n",
      "[FINISHED] Epoch 4, (Training Loss (per epoch): 186.2612 samp_prob: 0.5987)\n"
     ]
    },
    {
     "name": "stderr",
     "output_type": "stream",
     "text": [
      "\r",
      "Epoch 4, step 51/96, (Training Loss: 3.5647, samp_prob: 0.5987):  40%|████      | 4/10 [56:53<1:16:08, 761.42s/it]"
     ]
    },
    {
     "name": "stdout",
     "output_type": "stream",
     "text": [
      "51\n",
      "\n",
      "[FINISHED] Epoch 4, (Training Loss (per epoch): 189.8259 samp_prob: 0.5987)\n"
     ]
    },
    {
     "name": "stderr",
     "output_type": "stream",
     "text": [
      "\r",
      "Epoch 4, step 52/96, (Training Loss: 3.5577, samp_prob: 0.5987):  40%|████      | 4/10 [57:01<1:16:08, 761.42s/it]"
     ]
    },
    {
     "name": "stdout",
     "output_type": "stream",
     "text": [
      "52\n",
      "\n",
      "[FINISHED] Epoch 4, (Training Loss (per epoch): 193.3836 samp_prob: 0.5987)\n"
     ]
    },
    {
     "name": "stderr",
     "output_type": "stream",
     "text": [
      "\r",
      "Epoch 4, step 53/96, (Training Loss: 3.7078, samp_prob: 0.5987):  40%|████      | 4/10 [57:08<1:16:08, 761.42s/it]"
     ]
    },
    {
     "name": "stdout",
     "output_type": "stream",
     "text": [
      "53\n",
      "\n",
      "[FINISHED] Epoch 4, (Training Loss (per epoch): 197.0914 samp_prob: 0.5987)\n"
     ]
    },
    {
     "name": "stderr",
     "output_type": "stream",
     "text": [
      "\r",
      "Epoch 4, step 54/96, (Training Loss: 3.5558, samp_prob: 0.5987):  40%|████      | 4/10 [57:16<1:16:08, 761.42s/it]"
     ]
    },
    {
     "name": "stdout",
     "output_type": "stream",
     "text": [
      "54\n",
      "\n",
      "[FINISHED] Epoch 4, (Training Loss (per epoch): 200.6473 samp_prob: 0.5987)\n"
     ]
    },
    {
     "name": "stderr",
     "output_type": "stream",
     "text": [
      "\r",
      "Epoch 4, step 55/96, (Training Loss: 3.6263, samp_prob: 0.5987):  40%|████      | 4/10 [57:24<1:16:08, 761.42s/it]"
     ]
    },
    {
     "name": "stdout",
     "output_type": "stream",
     "text": [
      "55\n",
      "\n",
      "[FINISHED] Epoch 4, (Training Loss (per epoch): 204.2736 samp_prob: 0.5987)\n"
     ]
    },
    {
     "name": "stderr",
     "output_type": "stream",
     "text": [
      "\r",
      "Epoch 4, step 56/96, (Training Loss: 3.5394, samp_prob: 0.5987):  40%|████      | 4/10 [57:31<1:16:08, 761.42s/it]"
     ]
    },
    {
     "name": "stdout",
     "output_type": "stream",
     "text": [
      "56\n",
      "\n",
      "[FINISHED] Epoch 4, (Training Loss (per epoch): 207.8130 samp_prob: 0.5987)\n"
     ]
    },
    {
     "name": "stderr",
     "output_type": "stream",
     "text": [
      "\r",
      "Epoch 4, step 57/96, (Training Loss: 3.5244, samp_prob: 0.5987):  40%|████      | 4/10 [57:39<1:16:08, 761.42s/it]"
     ]
    },
    {
     "name": "stdout",
     "output_type": "stream",
     "text": [
      "57\n",
      "\n",
      "[FINISHED] Epoch 4, (Training Loss (per epoch): 211.3374 samp_prob: 0.5987)\n"
     ]
    },
    {
     "name": "stderr",
     "output_type": "stream",
     "text": [
      "\r",
      "Epoch 4, step 58/96, (Training Loss: 3.5333, samp_prob: 0.5987):  40%|████      | 4/10 [57:47<1:16:08, 761.42s/it]"
     ]
    },
    {
     "name": "stdout",
     "output_type": "stream",
     "text": [
      "58\n",
      "\n",
      "[FINISHED] Epoch 4, (Training Loss (per epoch): 214.8707 samp_prob: 0.5987)\n"
     ]
    },
    {
     "name": "stderr",
     "output_type": "stream",
     "text": [
      "\r",
      "Epoch 4, step 59/96, (Training Loss: 3.6052, samp_prob: 0.5987):  40%|████      | 4/10 [57:54<1:16:08, 761.42s/it]"
     ]
    },
    {
     "name": "stdout",
     "output_type": "stream",
     "text": [
      "59\n",
      "\n",
      "[FINISHED] Epoch 4, (Training Loss (per epoch): 218.4760 samp_prob: 0.5987)\n"
     ]
    },
    {
     "name": "stderr",
     "output_type": "stream",
     "text": [
      "\r",
      "Epoch 4, step 60/96, (Training Loss: 3.5677, samp_prob: 0.5987):  40%|████      | 4/10 [58:02<1:16:08, 761.42s/it]"
     ]
    },
    {
     "name": "stdout",
     "output_type": "stream",
     "text": [
      "60\n",
      "\n",
      "[FINISHED] Epoch 4, (Training Loss (per epoch): 222.0436 samp_prob: 0.5987)\n"
     ]
    },
    {
     "name": "stderr",
     "output_type": "stream",
     "text": [
      "\r",
      "Epoch 4, step 61/96, (Training Loss: 3.7217, samp_prob: 0.5987):  40%|████      | 4/10 [58:10<1:16:08, 761.42s/it]"
     ]
    },
    {
     "name": "stdout",
     "output_type": "stream",
     "text": [
      "[[ 1  4  7 ...  2  2  2]\n",
      " [ 1  4  7 ...  2  2  2]\n",
      " [ 1  4  7 ...  2  2  2]\n",
      " ...\n",
      " [ 1  4  7 ...  2  2  2]\n",
      " [ 1  4  8 ...  2  2  2]\n",
      " [ 1  4 12 ...  2  2  2]]\n",
      "\n",
      "[Train. Prediction] Epoch 4, step 61/96......\n",
      "\n",
      "id: 1\n",
      "answer: ['<BOS>', 'a', 'man', 'is', 'playing', 'a', 'violin', 'on', 'a', 'stage']\n",
      "prediction: ['<BOS>', 'a', 'man', 'is', 'playing']\n",
      "61\n",
      "\n",
      "[FINISHED] Epoch 4, (Training Loss (per epoch): 225.7654 samp_prob: 0.5987)\n"
     ]
    },
    {
     "name": "stderr",
     "output_type": "stream",
     "text": [
      "\r",
      "Epoch 4, step 62/96, (Training Loss: 3.6448, samp_prob: 0.5987):  40%|████      | 4/10 [58:17<1:16:08, 761.42s/it]"
     ]
    },
    {
     "name": "stdout",
     "output_type": "stream",
     "text": [
      "62\n",
      "\n",
      "[FINISHED] Epoch 4, (Training Loss (per epoch): 229.4101 samp_prob: 0.5987)\n"
     ]
    },
    {
     "name": "stderr",
     "output_type": "stream",
     "text": [
      "\r",
      "Epoch 4, step 63/96, (Training Loss: 3.6609, samp_prob: 0.5987):  40%|████      | 4/10 [58:25<1:16:08, 761.42s/it]"
     ]
    },
    {
     "name": "stdout",
     "output_type": "stream",
     "text": [
      "63\n",
      "\n",
      "[FINISHED] Epoch 4, (Training Loss (per epoch): 233.0710 samp_prob: 0.5987)\n"
     ]
    },
    {
     "name": "stderr",
     "output_type": "stream",
     "text": [
      "\r",
      "Epoch 4, step 64/96, (Training Loss: 3.6670, samp_prob: 0.5987):  40%|████      | 4/10 [58:33<1:16:08, 761.42s/it]"
     ]
    },
    {
     "name": "stdout",
     "output_type": "stream",
     "text": [
      "64\n",
      "\n",
      "[FINISHED] Epoch 4, (Training Loss (per epoch): 236.7380 samp_prob: 0.5987)\n"
     ]
    },
    {
     "name": "stderr",
     "output_type": "stream",
     "text": [
      "\r",
      "Epoch 4, step 65/96, (Training Loss: 3.4474, samp_prob: 0.5987):  40%|████      | 4/10 [58:40<1:16:08, 761.42s/it]"
     ]
    },
    {
     "name": "stdout",
     "output_type": "stream",
     "text": [
      "65\n",
      "\n",
      "[FINISHED] Epoch 4, (Training Loss (per epoch): 240.1854 samp_prob: 0.5987)\n"
     ]
    },
    {
     "name": "stderr",
     "output_type": "stream",
     "text": [
      "\r",
      "Epoch 4, step 66/96, (Training Loss: 3.7621, samp_prob: 0.5987):  40%|████      | 4/10 [58:48<1:16:08, 761.42s/it]"
     ]
    },
    {
     "name": "stdout",
     "output_type": "stream",
     "text": [
      "66\n",
      "\n",
      "[FINISHED] Epoch 4, (Training Loss (per epoch): 243.9475 samp_prob: 0.5987)\n"
     ]
    },
    {
     "name": "stderr",
     "output_type": "stream",
     "text": [
      "\r",
      "Epoch 4, step 67/96, (Training Loss: 3.7059, samp_prob: 0.5987):  40%|████      | 4/10 [58:55<1:16:08, 761.42s/it]"
     ]
    },
    {
     "name": "stdout",
     "output_type": "stream",
     "text": [
      "67\n",
      "\n",
      "[FINISHED] Epoch 4, (Training Loss (per epoch): 247.6534 samp_prob: 0.5987)\n"
     ]
    },
    {
     "name": "stderr",
     "output_type": "stream",
     "text": [
      "\r",
      "Epoch 4, step 68/96, (Training Loss: 3.6241, samp_prob: 0.5987):  40%|████      | 4/10 [59:03<1:16:08, 761.42s/it]"
     ]
    },
    {
     "name": "stdout",
     "output_type": "stream",
     "text": [
      "68\n",
      "\n",
      "[FINISHED] Epoch 4, (Training Loss (per epoch): 251.2774 samp_prob: 0.5987)\n"
     ]
    },
    {
     "name": "stderr",
     "output_type": "stream",
     "text": [
      "\r",
      "Epoch 4, step 69/96, (Training Loss: 3.5277, samp_prob: 0.5987):  40%|████      | 4/10 [59:11<1:16:08, 761.42s/it]"
     ]
    },
    {
     "name": "stdout",
     "output_type": "stream",
     "text": [
      "69\n",
      "\n",
      "[FINISHED] Epoch 4, (Training Loss (per epoch): 254.8051 samp_prob: 0.5987)\n"
     ]
    },
    {
     "name": "stderr",
     "output_type": "stream",
     "text": [
      "\r",
      "Epoch 4, step 70/96, (Training Loss: 3.6659, samp_prob: 0.5987):  40%|████      | 4/10 [59:18<1:16:08, 761.42s/it]"
     ]
    },
    {
     "name": "stdout",
     "output_type": "stream",
     "text": [
      "70\n",
      "\n",
      "[FINISHED] Epoch 4, (Training Loss (per epoch): 258.4710 samp_prob: 0.5987)\n"
     ]
    },
    {
     "name": "stderr",
     "output_type": "stream",
     "text": [
      "\r",
      "Epoch 4, step 71/96, (Training Loss: 3.5720, samp_prob: 0.5987):  40%|████      | 4/10 [59:26<1:16:08, 761.42s/it]"
     ]
    },
    {
     "name": "stdout",
     "output_type": "stream",
     "text": [
      "71\n",
      "\n",
      "[FINISHED] Epoch 4, (Training Loss (per epoch): 262.0430 samp_prob: 0.5987)\n"
     ]
    },
    {
     "name": "stderr",
     "output_type": "stream",
     "text": [
      "\r",
      "Epoch 4, step 72/96, (Training Loss: 3.6625, samp_prob: 0.5987):  40%|████      | 4/10 [59:34<1:16:08, 761.42s/it]"
     ]
    },
    {
     "name": "stdout",
     "output_type": "stream",
     "text": [
      "72\n",
      "\n",
      "[FINISHED] Epoch 4, (Training Loss (per epoch): 265.7055 samp_prob: 0.5987)\n"
     ]
    },
    {
     "name": "stderr",
     "output_type": "stream",
     "text": [
      "\r",
      "Epoch 4, step 73/96, (Training Loss: 3.5869, samp_prob: 0.5987):  40%|████      | 4/10 [59:41<1:16:08, 761.42s/it]"
     ]
    },
    {
     "name": "stdout",
     "output_type": "stream",
     "text": [
      "73\n",
      "\n",
      "[FINISHED] Epoch 4, (Training Loss (per epoch): 269.2924 samp_prob: 0.5987)\n"
     ]
    },
    {
     "name": "stderr",
     "output_type": "stream",
     "text": [
      "\r",
      "Epoch 4, step 74/96, (Training Loss: 3.6206, samp_prob: 0.5987):  40%|████      | 4/10 [59:49<1:16:08, 761.42s/it]"
     ]
    },
    {
     "name": "stdout",
     "output_type": "stream",
     "text": [
      "74\n",
      "\n",
      "[FINISHED] Epoch 4, (Training Loss (per epoch): 272.9129 samp_prob: 0.5987)\n"
     ]
    },
    {
     "name": "stderr",
     "output_type": "stream",
     "text": [
      "\r",
      "Epoch 4, step 75/96, (Training Loss: 3.6252, samp_prob: 0.5987):  40%|████      | 4/10 [59:57<1:16:08, 761.42s/it]"
     ]
    },
    {
     "name": "stdout",
     "output_type": "stream",
     "text": [
      "75\n",
      "\n",
      "[FINISHED] Epoch 4, (Training Loss (per epoch): 276.5381 samp_prob: 0.5987)\n"
     ]
    },
    {
     "name": "stderr",
     "output_type": "stream",
     "text": [
      "\r",
      "Epoch 4, step 76/96, (Training Loss: 3.6766, samp_prob: 0.5987):  40%|████      | 4/10 [1:00:05<1:16:08, 761.42s/it]"
     ]
    },
    {
     "name": "stdout",
     "output_type": "stream",
     "text": [
      "[[ 1  4  7 ...  2  2  2]\n",
      " [ 1  6 12 ...  2  2  2]\n",
      " [ 1  4  8 ...  2  2  2]\n",
      " ...\n",
      " [ 1  4  5 ...  2  2  2]\n",
      " [ 1  6  8 ...  2  2  2]\n",
      " [ 1  4  7 ...  2  2  2]]\n",
      "\n",
      "[Train. Prediction] Epoch 4, step 76/96......\n",
      "\n",
      "id: 90\n",
      "answer: ['<BOS>', 'a', 'man', 'ia', 'peeling', 'a', 'potato']\n",
      "prediction: ['<BOS>', 'a', 'man', 'is', 'slicing', 'a']\n",
      "76\n",
      "\n",
      "[FINISHED] Epoch 4, (Training Loss (per epoch): 280.2147 samp_prob: 0.5987)\n"
     ]
    },
    {
     "name": "stderr",
     "output_type": "stream",
     "text": [
      "\r",
      "Epoch 4, step 77/96, (Training Loss: 3.5602, samp_prob: 0.5987):  40%|████      | 4/10 [1:00:12<1:16:08, 761.42s/it]"
     ]
    },
    {
     "name": "stdout",
     "output_type": "stream",
     "text": [
      "77\n",
      "\n",
      "[FINISHED] Epoch 4, (Training Loss (per epoch): 283.7749 samp_prob: 0.5987)\n"
     ]
    },
    {
     "name": "stderr",
     "output_type": "stream",
     "text": [
      "\r",
      "Epoch 4, step 78/96, (Training Loss: 3.4938, samp_prob: 0.5987):  40%|████      | 4/10 [1:00:20<1:16:08, 761.42s/it]"
     ]
    },
    {
     "name": "stdout",
     "output_type": "stream",
     "text": [
      "78\n",
      "\n",
      "[FINISHED] Epoch 4, (Training Loss (per epoch): 287.2687 samp_prob: 0.5987)\n"
     ]
    },
    {
     "name": "stderr",
     "output_type": "stream",
     "text": [
      "\r",
      "Epoch 4, step 79/96, (Training Loss: 3.5090, samp_prob: 0.5987):  40%|████      | 4/10 [1:00:28<1:16:08, 761.42s/it]"
     ]
    },
    {
     "name": "stdout",
     "output_type": "stream",
     "text": [
      "79\n",
      "\n",
      "[FINISHED] Epoch 4, (Training Loss (per epoch): 290.7777 samp_prob: 0.5987)\n"
     ]
    },
    {
     "name": "stderr",
     "output_type": "stream",
     "text": [
      "\r",
      "Epoch 4, step 80/96, (Training Loss: 3.6149, samp_prob: 0.5987):  40%|████      | 4/10 [1:00:35<1:16:08, 761.42s/it]"
     ]
    },
    {
     "name": "stdout",
     "output_type": "stream",
     "text": [
      "80\n",
      "\n",
      "[FINISHED] Epoch 4, (Training Loss (per epoch): 294.3926 samp_prob: 0.5987)\n"
     ]
    },
    {
     "name": "stderr",
     "output_type": "stream",
     "text": [
      "\r",
      "Epoch 4, step 81/96, (Training Loss: 3.4540, samp_prob: 0.5987):  40%|████      | 4/10 [1:00:43<1:16:08, 761.42s/it]"
     ]
    },
    {
     "name": "stdout",
     "output_type": "stream",
     "text": [
      "81\n",
      "\n",
      "[FINISHED] Epoch 4, (Training Loss (per epoch): 297.8466 samp_prob: 0.5987)\n"
     ]
    },
    {
     "name": "stderr",
     "output_type": "stream",
     "text": [
      "\r",
      "Epoch 4, step 82/96, (Training Loss: 3.7215, samp_prob: 0.5987):  40%|████      | 4/10 [1:00:50<1:16:08, 761.42s/it]"
     ]
    },
    {
     "name": "stdout",
     "output_type": "stream",
     "text": [
      "82\n",
      "\n",
      "[FINISHED] Epoch 4, (Training Loss (per epoch): 301.5681 samp_prob: 0.5987)\n"
     ]
    },
    {
     "name": "stderr",
     "output_type": "stream",
     "text": [
      "\r",
      "Epoch 4, step 83/96, (Training Loss: 3.6209, samp_prob: 0.5987):  40%|████      | 4/10 [1:00:58<1:16:08, 761.42s/it]"
     ]
    },
    {
     "name": "stdout",
     "output_type": "stream",
     "text": [
      "83\n",
      "\n",
      "[FINISHED] Epoch 4, (Training Loss (per epoch): 305.1890 samp_prob: 0.5987)\n"
     ]
    },
    {
     "name": "stderr",
     "output_type": "stream",
     "text": [
      "\r",
      "Epoch 4, step 84/96, (Training Loss: 3.5325, samp_prob: 0.5987):  40%|████      | 4/10 [1:01:06<1:16:08, 761.42s/it]"
     ]
    },
    {
     "name": "stdout",
     "output_type": "stream",
     "text": [
      "84\n",
      "\n",
      "[FINISHED] Epoch 4, (Training Loss (per epoch): 308.7215 samp_prob: 0.5987)\n"
     ]
    },
    {
     "name": "stderr",
     "output_type": "stream",
     "text": [
      "\r",
      "Epoch 4, step 85/96, (Training Loss: 3.6634, samp_prob: 0.5987):  40%|████      | 4/10 [1:01:13<1:16:08, 761.42s/it]"
     ]
    },
    {
     "name": "stdout",
     "output_type": "stream",
     "text": [
      "85\n",
      "\n",
      "[FINISHED] Epoch 4, (Training Loss (per epoch): 312.3849 samp_prob: 0.5987)\n"
     ]
    },
    {
     "name": "stderr",
     "output_type": "stream",
     "text": [
      "\r",
      "Epoch 4, step 86/96, (Training Loss: 3.4909, samp_prob: 0.5987):  40%|████      | 4/10 [1:01:21<1:16:08, 761.42s/it]"
     ]
    },
    {
     "name": "stdout",
     "output_type": "stream",
     "text": [
      "86\n",
      "\n",
      "[FINISHED] Epoch 4, (Training Loss (per epoch): 315.8758 samp_prob: 0.5987)\n"
     ]
    },
    {
     "name": "stderr",
     "output_type": "stream",
     "text": [
      "\r",
      "Epoch 4, step 87/96, (Training Loss: 3.6228, samp_prob: 0.5987):  40%|████      | 4/10 [1:01:29<1:16:08, 761.42s/it]"
     ]
    },
    {
     "name": "stdout",
     "output_type": "stream",
     "text": [
      "87\n",
      "\n",
      "[FINISHED] Epoch 4, (Training Loss (per epoch): 319.4986 samp_prob: 0.5987)\n"
     ]
    },
    {
     "name": "stderr",
     "output_type": "stream",
     "text": [
      "\r",
      "Epoch 4, step 88/96, (Training Loss: 3.5941, samp_prob: 0.5987):  40%|████      | 4/10 [1:01:36<1:16:08, 761.42s/it]"
     ]
    },
    {
     "name": "stdout",
     "output_type": "stream",
     "text": [
      "88\n",
      "\n",
      "[FINISHED] Epoch 4, (Training Loss (per epoch): 323.0927 samp_prob: 0.5987)\n"
     ]
    },
    {
     "name": "stderr",
     "output_type": "stream",
     "text": [
      "\r",
      "Epoch 4, step 89/96, (Training Loss: 3.5677, samp_prob: 0.5987):  40%|████      | 4/10 [1:01:44<1:16:08, 761.42s/it]"
     ]
    },
    {
     "name": "stdout",
     "output_type": "stream",
     "text": [
      "89\n",
      "\n",
      "[FINISHED] Epoch 4, (Training Loss (per epoch): 326.6604 samp_prob: 0.5987)\n"
     ]
    },
    {
     "name": "stderr",
     "output_type": "stream",
     "text": [
      "\r",
      "Epoch 4, step 90/96, (Training Loss: 3.5135, samp_prob: 0.5987):  40%|████      | 4/10 [1:01:52<1:16:08, 761.42s/it]"
     ]
    },
    {
     "name": "stdout",
     "output_type": "stream",
     "text": [
      "90\n",
      "\n",
      "[FINISHED] Epoch 4, (Training Loss (per epoch): 330.1738 samp_prob: 0.5987)\n"
     ]
    },
    {
     "name": "stderr",
     "output_type": "stream",
     "text": [
      "\r",
      "Epoch 4, step 91/96, (Training Loss: 3.6039, samp_prob: 0.5987):  40%|████      | 4/10 [1:02:00<1:16:08, 761.42s/it]"
     ]
    },
    {
     "name": "stdout",
     "output_type": "stream",
     "text": [
      "[[ 1  4  7 ...  2  2  2]\n",
      " [ 1  6 23 ...  2  2  2]\n",
      " [ 1  4 23 ...  2  2  2]\n",
      " ...\n",
      " [ 1  4  7 ...  2  2  2]\n",
      " [ 1  4  7 ...  2  2  2]\n",
      " [ 1  4  7 ...  2  2  2]]\n",
      "\n",
      "[Train. Prediction] Epoch 4, step 91/96......\n",
      "\n",
      "id: 21\n",
      "answer: ['<BOS>', 'a', 'woman', 'wearing', 'a', 'headset', 'is', 'singing', 'into', 'a', 'large', 'microphone']\n",
      "prediction: ['<BOS>', 'a', 'woman', 'is', 'a', 'a']\n",
      "91\n",
      "\n",
      "[FINISHED] Epoch 4, (Training Loss (per epoch): 333.7777 samp_prob: 0.5987)\n"
     ]
    },
    {
     "name": "stderr",
     "output_type": "stream",
     "text": [
      "\r",
      "Epoch 4, step 92/96, (Training Loss: 3.4368, samp_prob: 0.5987):  40%|████      | 4/10 [1:02:07<1:16:08, 761.42s/it]"
     ]
    },
    {
     "name": "stdout",
     "output_type": "stream",
     "text": [
      "92\n",
      "\n",
      "[FINISHED] Epoch 4, (Training Loss (per epoch): 337.2145 samp_prob: 0.5987)\n"
     ]
    },
    {
     "name": "stderr",
     "output_type": "stream",
     "text": [
      "\r",
      "Epoch 4, step 93/96, (Training Loss: 3.5072, samp_prob: 0.5987):  40%|████      | 4/10 [1:02:15<1:16:08, 761.42s/it]"
     ]
    },
    {
     "name": "stdout",
     "output_type": "stream",
     "text": [
      "93\n",
      "\n",
      "[FINISHED] Epoch 4, (Training Loss (per epoch): 340.7217 samp_prob: 0.5987)\n"
     ]
    },
    {
     "name": "stderr",
     "output_type": "stream",
     "text": [
      "\r",
      "Epoch 4, step 94/96, (Training Loss: 3.6245, samp_prob: 0.5987):  40%|████      | 4/10 [1:02:23<1:16:08, 761.42s/it]"
     ]
    },
    {
     "name": "stdout",
     "output_type": "stream",
     "text": [
      "94\n",
      "\n",
      "[FINISHED] Epoch 4, (Training Loss (per epoch): 344.3462 samp_prob: 0.5987)\n"
     ]
    },
    {
     "name": "stderr",
     "output_type": "stream",
     "text": [
      "Epoch 4, step 95/96, (Training Loss: 3.5781, samp_prob: 0.5987):  50%|█████     | 5/10 [1:02:30<1:02:46, 753.22s/it]"
     ]
    },
    {
     "name": "stdout",
     "output_type": "stream",
     "text": [
      "95\n",
      "\n",
      "[FINISHED] Epoch 4, (Training Loss (per epoch): 347.9243 samp_prob: 0.5987)\n"
     ]
    },
    {
     "name": "stderr",
     "output_type": "stream",
     "text": [
      "\r",
      "Epoch 5, step 0/96, (Training Loss: 3.6284, samp_prob: 0.5000):  50%|█████     | 5/10 [1:02:38<1:02:46, 753.22s/it] "
     ]
    },
    {
     "name": "stdout",
     "output_type": "stream",
     "text": [
      "0\n",
      "\n",
      "[FINISHED] Epoch 5, (Training Loss (per epoch): 3.6284 samp_prob: 0.5000)\n"
     ]
    },
    {
     "name": "stderr",
     "output_type": "stream",
     "text": [
      "\r",
      "Epoch 5, step 1/96, (Training Loss: 3.6218, samp_prob: 0.5000):  50%|█████     | 5/10 [1:02:46<1:02:46, 753.22s/it]"
     ]
    },
    {
     "name": "stdout",
     "output_type": "stream",
     "text": [
      "[[ 1  4 24 ...  2  2  2]\n",
      " [ 1  4  8 ...  2  2  2]\n",
      " [ 1  4  7 ...  2  2  2]\n",
      " ...\n",
      " [ 1  6 12 ...  2  2  2]\n",
      " [ 1 21  8 ...  2  2  2]\n",
      " [ 1  4  7 ...  2  2  2]]\n",
      "\n",
      "[Train. Prediction] Epoch 5, step 1/96......\n",
      "\n",
      "id: 116\n",
      "answer: ['<BOS>', 'a', 'man', 'attempts', 'to', 'poll', 'dance', 'and', 'falls', 'down']\n",
      "prediction: ['<BOS>', 'a', 'man', 'is', 'a', 'a', 'a']\n",
      "1\n",
      "\n",
      "[FINISHED] Epoch 5, (Training Loss (per epoch): 7.2501 samp_prob: 0.5000)\n"
     ]
    },
    {
     "name": "stderr",
     "output_type": "stream",
     "text": [
      "\r",
      "Epoch 5, step 2/96, (Training Loss: 3.5196, samp_prob: 0.5000):  50%|█████     | 5/10 [1:02:54<1:02:46, 753.22s/it]"
     ]
    },
    {
     "name": "stdout",
     "output_type": "stream",
     "text": [
      "2\n",
      "\n",
      "[FINISHED] Epoch 5, (Training Loss (per epoch): 10.7698 samp_prob: 0.5000)\n"
     ]
    },
    {
     "name": "stderr",
     "output_type": "stream",
     "text": [
      "\r",
      "Epoch 5, step 3/96, (Training Loss: 3.6270, samp_prob: 0.5000):  50%|█████     | 5/10 [1:03:01<1:02:46, 753.22s/it]"
     ]
    },
    {
     "name": "stdout",
     "output_type": "stream",
     "text": [
      "3\n",
      "\n",
      "[FINISHED] Epoch 5, (Training Loss (per epoch): 14.3968 samp_prob: 0.5000)\n"
     ]
    },
    {
     "name": "stderr",
     "output_type": "stream",
     "text": [
      "\r",
      "Epoch 5, step 4/96, (Training Loss: 3.4712, samp_prob: 0.5000):  50%|█████     | 5/10 [1:03:09<1:02:46, 753.22s/it]"
     ]
    },
    {
     "name": "stdout",
     "output_type": "stream",
     "text": [
      "4\n",
      "\n",
      "[FINISHED] Epoch 5, (Training Loss (per epoch): 17.8680 samp_prob: 0.5000)\n"
     ]
    },
    {
     "name": "stderr",
     "output_type": "stream",
     "text": [
      "\r",
      "Epoch 5, step 5/96, (Training Loss: 3.5053, samp_prob: 0.5000):  50%|█████     | 5/10 [1:03:17<1:02:46, 753.22s/it]"
     ]
    },
    {
     "name": "stdout",
     "output_type": "stream",
     "text": [
      "5\n",
      "\n",
      "[FINISHED] Epoch 5, (Training Loss (per epoch): 21.3733 samp_prob: 0.5000)\n"
     ]
    },
    {
     "name": "stderr",
     "output_type": "stream",
     "text": [
      "\r",
      "Epoch 5, step 6/96, (Training Loss: 3.5223, samp_prob: 0.5000):  50%|█████     | 5/10 [1:03:24<1:02:46, 753.22s/it]"
     ]
    },
    {
     "name": "stdout",
     "output_type": "stream",
     "text": [
      "6\n",
      "\n",
      "[FINISHED] Epoch 5, (Training Loss (per epoch): 24.8956 samp_prob: 0.5000)\n"
     ]
    },
    {
     "name": "stderr",
     "output_type": "stream",
     "text": [
      "\r",
      "Epoch 5, step 7/96, (Training Loss: 3.5642, samp_prob: 0.5000):  50%|█████     | 5/10 [1:03:32<1:02:46, 753.22s/it]"
     ]
    },
    {
     "name": "stdout",
     "output_type": "stream",
     "text": [
      "7\n",
      "\n",
      "[FINISHED] Epoch 5, (Training Loss (per epoch): 28.4598 samp_prob: 0.5000)\n"
     ]
    },
    {
     "name": "stderr",
     "output_type": "stream",
     "text": [
      "\r",
      "Epoch 5, step 8/96, (Training Loss: 3.5322, samp_prob: 0.5000):  50%|█████     | 5/10 [1:03:39<1:02:46, 753.22s/it]"
     ]
    },
    {
     "name": "stdout",
     "output_type": "stream",
     "text": [
      "8\n",
      "\n",
      "[FINISHED] Epoch 5, (Training Loss (per epoch): 31.9920 samp_prob: 0.5000)\n"
     ]
    },
    {
     "name": "stderr",
     "output_type": "stream",
     "text": [
      "\r",
      "Epoch 5, step 9/96, (Training Loss: 3.5732, samp_prob: 0.5000):  50%|█████     | 5/10 [1:03:47<1:02:46, 753.22s/it]"
     ]
    },
    {
     "name": "stdout",
     "output_type": "stream",
     "text": [
      "9\n",
      "\n",
      "[FINISHED] Epoch 5, (Training Loss (per epoch): 35.5652 samp_prob: 0.5000)\n"
     ]
    },
    {
     "name": "stderr",
     "output_type": "stream",
     "text": [
      "\r",
      "Epoch 5, step 10/96, (Training Loss: 3.4997, samp_prob: 0.5000):  50%|█████     | 5/10 [1:03:55<1:02:46, 753.22s/it]"
     ]
    },
    {
     "name": "stdout",
     "output_type": "stream",
     "text": [
      "10\n",
      "\n",
      "[FINISHED] Epoch 5, (Training Loss (per epoch): 39.0649 samp_prob: 0.5000)\n"
     ]
    },
    {
     "name": "stderr",
     "output_type": "stream",
     "text": [
      "\r",
      "Epoch 5, step 11/96, (Training Loss: 3.5378, samp_prob: 0.5000):  50%|█████     | 5/10 [1:04:02<1:02:46, 753.22s/it]"
     ]
    },
    {
     "name": "stdout",
     "output_type": "stream",
     "text": [
      "11\n",
      "\n",
      "[FINISHED] Epoch 5, (Training Loss (per epoch): 42.6026 samp_prob: 0.5000)\n"
     ]
    },
    {
     "name": "stderr",
     "output_type": "stream",
     "text": [
      "\r",
      "Epoch 5, step 12/96, (Training Loss: 3.5778, samp_prob: 0.5000):  50%|█████     | 5/10 [1:04:10<1:02:46, 753.22s/it]"
     ]
    },
    {
     "name": "stdout",
     "output_type": "stream",
     "text": [
      "12\n",
      "\n",
      "[FINISHED] Epoch 5, (Training Loss (per epoch): 46.1804 samp_prob: 0.5000)\n"
     ]
    },
    {
     "name": "stderr",
     "output_type": "stream",
     "text": [
      "\r",
      "Epoch 5, step 13/96, (Training Loss: 3.6774, samp_prob: 0.5000):  50%|█████     | 5/10 [1:04:18<1:02:46, 753.22s/it]"
     ]
    },
    {
     "name": "stdout",
     "output_type": "stream",
     "text": [
      "13\n",
      "\n",
      "[FINISHED] Epoch 5, (Training Loss (per epoch): 49.8578 samp_prob: 0.5000)\n"
     ]
    },
    {
     "name": "stderr",
     "output_type": "stream",
     "text": [
      "\r",
      "Epoch 5, step 14/96, (Training Loss: 3.5975, samp_prob: 0.5000):  50%|█████     | 5/10 [1:04:25<1:02:46, 753.22s/it]"
     ]
    },
    {
     "name": "stdout",
     "output_type": "stream",
     "text": [
      "14\n",
      "\n",
      "[FINISHED] Epoch 5, (Training Loss (per epoch): 53.4553 samp_prob: 0.5000)\n"
     ]
    },
    {
     "name": "stderr",
     "output_type": "stream",
     "text": [
      "\r",
      "Epoch 5, step 15/96, (Training Loss: 3.5905, samp_prob: 0.5000):  50%|█████     | 5/10 [1:04:33<1:02:46, 753.22s/it]"
     ]
    },
    {
     "name": "stdout",
     "output_type": "stream",
     "text": [
      "15\n",
      "\n",
      "[FINISHED] Epoch 5, (Training Loss (per epoch): 57.0457 samp_prob: 0.5000)\n"
     ]
    },
    {
     "name": "stderr",
     "output_type": "stream",
     "text": [
      "\r",
      "Epoch 5, step 16/96, (Training Loss: 3.5263, samp_prob: 0.5000):  50%|█████     | 5/10 [1:04:41<1:02:46, 753.22s/it]"
     ]
    },
    {
     "name": "stdout",
     "output_type": "stream",
     "text": [
      "[[  1   4  23 ...   2   2   2]\n",
      " [  1   4   8 ...   2   2   2]\n",
      " [  1 103  12 ...   2   2   2]\n",
      " ...\n",
      " [  1   4  24 ...   2   2   2]\n",
      " [  1   4   8 ...   2   2   2]\n",
      " [  1   4   8 ...   2   2   2]]\n",
      "\n",
      "[Train. Prediction] Epoch 5, step 16/96......\n",
      "\n",
      "id: 208\n",
      "answer: ['<BOS>', 'someone', 'is', 'petting', 'a', 'monkey']\n",
      "prediction: ['<BOS>', 'a', 'person', 'is', 'a', 'a']\n",
      "16\n",
      "\n",
      "[FINISHED] Epoch 5, (Training Loss (per epoch): 60.5721 samp_prob: 0.5000)\n"
     ]
    },
    {
     "name": "stderr",
     "output_type": "stream",
     "text": [
      "\r",
      "Epoch 5, step 17/96, (Training Loss: 3.4938, samp_prob: 0.5000):  50%|█████     | 5/10 [1:04:49<1:02:46, 753.22s/it]"
     ]
    },
    {
     "name": "stdout",
     "output_type": "stream",
     "text": [
      "17\n",
      "\n",
      "[FINISHED] Epoch 5, (Training Loss (per epoch): 64.0659 samp_prob: 0.5000)\n"
     ]
    },
    {
     "name": "stderr",
     "output_type": "stream",
     "text": [
      "\r",
      "Epoch 5, step 18/96, (Training Loss: 3.3941, samp_prob: 0.5000):  50%|█████     | 5/10 [1:04:56<1:02:46, 753.22s/it]"
     ]
    },
    {
     "name": "stdout",
     "output_type": "stream",
     "text": [
      "18\n",
      "\n",
      "[FINISHED] Epoch 5, (Training Loss (per epoch): 67.4600 samp_prob: 0.5000)\n"
     ]
    },
    {
     "name": "stderr",
     "output_type": "stream",
     "text": [
      "\r",
      "Epoch 5, step 19/96, (Training Loss: 3.2711, samp_prob: 0.5000):  50%|█████     | 5/10 [1:05:04<1:02:46, 753.22s/it]"
     ]
    },
    {
     "name": "stdout",
     "output_type": "stream",
     "text": [
      "19\n",
      "\n",
      "[FINISHED] Epoch 5, (Training Loss (per epoch): 70.7310 samp_prob: 0.5000)\n"
     ]
    },
    {
     "name": "stderr",
     "output_type": "stream",
     "text": [
      "\r",
      "Epoch 5, step 20/96, (Training Loss: 3.6201, samp_prob: 0.5000):  50%|█████     | 5/10 [1:05:11<1:02:46, 753.22s/it]"
     ]
    },
    {
     "name": "stdout",
     "output_type": "stream",
     "text": [
      "20\n",
      "\n",
      "[FINISHED] Epoch 5, (Training Loss (per epoch): 74.3511 samp_prob: 0.5000)\n"
     ]
    },
    {
     "name": "stderr",
     "output_type": "stream",
     "text": [
      "\r",
      "Epoch 5, step 21/96, (Training Loss: 3.4702, samp_prob: 0.5000):  50%|█████     | 5/10 [1:05:19<1:02:46, 753.22s/it]"
     ]
    },
    {
     "name": "stdout",
     "output_type": "stream",
     "text": [
      "21\n",
      "\n",
      "[FINISHED] Epoch 5, (Training Loss (per epoch): 77.8214 samp_prob: 0.5000)\n"
     ]
    },
    {
     "name": "stderr",
     "output_type": "stream",
     "text": [
      "\r",
      "Epoch 5, step 22/96, (Training Loss: 3.4793, samp_prob: 0.5000):  50%|█████     | 5/10 [1:05:27<1:02:46, 753.22s/it]"
     ]
    },
    {
     "name": "stdout",
     "output_type": "stream",
     "text": [
      "22\n",
      "\n",
      "[FINISHED] Epoch 5, (Training Loss (per epoch): 81.3007 samp_prob: 0.5000)\n"
     ]
    },
    {
     "name": "stderr",
     "output_type": "stream",
     "text": [
      "\r",
      "Epoch 5, step 23/96, (Training Loss: 3.5378, samp_prob: 0.5000):  50%|█████     | 5/10 [1:05:34<1:02:46, 753.22s/it]"
     ]
    },
    {
     "name": "stdout",
     "output_type": "stream",
     "text": [
      "23\n",
      "\n",
      "[FINISHED] Epoch 5, (Training Loss (per epoch): 84.8385 samp_prob: 0.5000)\n"
     ]
    },
    {
     "name": "stderr",
     "output_type": "stream",
     "text": [
      "\r",
      "Epoch 5, step 24/96, (Training Loss: 3.7282, samp_prob: 0.5000):  50%|█████     | 5/10 [1:05:42<1:02:46, 753.22s/it]"
     ]
    },
    {
     "name": "stdout",
     "output_type": "stream",
     "text": [
      "24\n",
      "\n",
      "[FINISHED] Epoch 5, (Training Loss (per epoch): 88.5667 samp_prob: 0.5000)\n"
     ]
    },
    {
     "name": "stderr",
     "output_type": "stream",
     "text": [
      "\r",
      "Epoch 5, step 25/96, (Training Loss: 3.4684, samp_prob: 0.5000):  50%|█████     | 5/10 [1:05:49<1:02:46, 753.22s/it]"
     ]
    },
    {
     "name": "stdout",
     "output_type": "stream",
     "text": [
      "25\n",
      "\n",
      "[FINISHED] Epoch 5, (Training Loss (per epoch): 92.0351 samp_prob: 0.5000)\n"
     ]
    },
    {
     "name": "stderr",
     "output_type": "stream",
     "text": [
      "\r",
      "Epoch 5, step 26/96, (Training Loss: 3.5340, samp_prob: 0.5000):  50%|█████     | 5/10 [1:05:57<1:02:46, 753.22s/it]"
     ]
    },
    {
     "name": "stdout",
     "output_type": "stream",
     "text": [
      "26\n",
      "\n",
      "[FINISHED] Epoch 5, (Training Loss (per epoch): 95.5691 samp_prob: 0.5000)\n"
     ]
    },
    {
     "name": "stderr",
     "output_type": "stream",
     "text": [
      "\r",
      "Epoch 5, step 27/96, (Training Loss: 3.4317, samp_prob: 0.5000):  50%|█████     | 5/10 [1:06:05<1:02:46, 753.22s/it]"
     ]
    },
    {
     "name": "stdout",
     "output_type": "stream",
     "text": [
      "27\n",
      "\n",
      "[FINISHED] Epoch 5, (Training Loss (per epoch): 99.0009 samp_prob: 0.5000)\n"
     ]
    },
    {
     "name": "stderr",
     "output_type": "stream",
     "text": [
      "\r",
      "Epoch 5, step 28/96, (Training Loss: 3.3997, samp_prob: 0.5000):  50%|█████     | 5/10 [1:06:12<1:02:46, 753.22s/it]"
     ]
    },
    {
     "name": "stdout",
     "output_type": "stream",
     "text": [
      "28\n",
      "\n",
      "[FINISHED] Epoch 5, (Training Loss (per epoch): 102.4006 samp_prob: 0.5000)\n"
     ]
    },
    {
     "name": "stderr",
     "output_type": "stream",
     "text": [
      "\r",
      "Epoch 5, step 29/96, (Training Loss: 3.5090, samp_prob: 0.5000):  50%|█████     | 5/10 [1:06:20<1:02:46, 753.22s/it]"
     ]
    },
    {
     "name": "stdout",
     "output_type": "stream",
     "text": [
      "29\n",
      "\n",
      "[FINISHED] Epoch 5, (Training Loss (per epoch): 105.9096 samp_prob: 0.5000)\n"
     ]
    },
    {
     "name": "stderr",
     "output_type": "stream",
     "text": [
      "\r",
      "Epoch 5, step 30/96, (Training Loss: 3.6055, samp_prob: 0.5000):  50%|█████     | 5/10 [1:06:28<1:02:46, 753.22s/it]"
     ]
    },
    {
     "name": "stdout",
     "output_type": "stream",
     "text": [
      "30\n",
      "\n",
      "[FINISHED] Epoch 5, (Training Loss (per epoch): 109.5151 samp_prob: 0.5000)\n"
     ]
    },
    {
     "name": "stderr",
     "output_type": "stream",
     "text": [
      "\r",
      "Epoch 5, step 31/96, (Training Loss: 3.4930, samp_prob: 0.5000):  50%|█████     | 5/10 [1:06:36<1:02:46, 753.22s/it]"
     ]
    },
    {
     "name": "stdout",
     "output_type": "stream",
     "text": [
      "[[ 1 20 12 ...  2  2  2]\n",
      " [ 1  4  7 ...  2  2  2]\n",
      " [ 1  4  7 ...  2  2  2]\n",
      " ...\n",
      " [ 1  4  7 ...  2  2  2]\n",
      " [ 1  4 17 ...  2  2  2]\n",
      " [ 1  4  8 ...  2  2  2]]\n",
      "\n",
      "[Train. Prediction] Epoch 5, step 31/96......\n",
      "\n",
      "id: 46\n",
      "answer: ['<BOS>', 'a', 'black', 'colored', 'pet', 'dog', 'is', 'biting', 'a', 'stuffed', 'toy', 'fish']\n",
      "prediction: ['<BOS>', 'a', 'man', 'is', 'playing', 'a', 'a']\n",
      "31\n",
      "\n",
      "[FINISHED] Epoch 5, (Training Loss (per epoch): 113.0081 samp_prob: 0.5000)\n"
     ]
    },
    {
     "name": "stderr",
     "output_type": "stream",
     "text": [
      "\r",
      "Epoch 5, step 32/96, (Training Loss: 3.4632, samp_prob: 0.5000):  50%|█████     | 5/10 [1:06:43<1:02:46, 753.22s/it]"
     ]
    },
    {
     "name": "stdout",
     "output_type": "stream",
     "text": [
      "32\n",
      "\n",
      "[FINISHED] Epoch 5, (Training Loss (per epoch): 116.4712 samp_prob: 0.5000)\n"
     ]
    },
    {
     "name": "stderr",
     "output_type": "stream",
     "text": [
      "\r",
      "Epoch 5, step 33/96, (Training Loss: 3.5317, samp_prob: 0.5000):  50%|█████     | 5/10 [1:06:51<1:02:46, 753.22s/it]"
     ]
    },
    {
     "name": "stdout",
     "output_type": "stream",
     "text": [
      "33\n",
      "\n",
      "[FINISHED] Epoch 5, (Training Loss (per epoch): 120.0029 samp_prob: 0.5000)\n"
     ]
    },
    {
     "name": "stderr",
     "output_type": "stream",
     "text": [
      "\r",
      "Epoch 5, step 34/96, (Training Loss: 3.5338, samp_prob: 0.5000):  50%|█████     | 5/10 [1:06:59<1:02:46, 753.22s/it]"
     ]
    },
    {
     "name": "stdout",
     "output_type": "stream",
     "text": [
      "34\n",
      "\n",
      "[FINISHED] Epoch 5, (Training Loss (per epoch): 123.5367 samp_prob: 0.5000)\n"
     ]
    },
    {
     "name": "stderr",
     "output_type": "stream",
     "text": [
      "\r",
      "Epoch 5, step 35/96, (Training Loss: 3.5394, samp_prob: 0.5000):  50%|█████     | 5/10 [1:07:06<1:02:46, 753.22s/it]"
     ]
    },
    {
     "name": "stdout",
     "output_type": "stream",
     "text": [
      "35\n",
      "\n",
      "[FINISHED] Epoch 5, (Training Loss (per epoch): 127.0761 samp_prob: 0.5000)\n"
     ]
    },
    {
     "name": "stderr",
     "output_type": "stream",
     "text": [
      "\r",
      "Epoch 5, step 36/96, (Training Loss: 3.5630, samp_prob: 0.5000):  50%|█████     | 5/10 [1:07:14<1:02:46, 753.22s/it]"
     ]
    },
    {
     "name": "stdout",
     "output_type": "stream",
     "text": [
      "36\n",
      "\n",
      "[FINISHED] Epoch 5, (Training Loss (per epoch): 130.6391 samp_prob: 0.5000)\n"
     ]
    },
    {
     "name": "stderr",
     "output_type": "stream",
     "text": [
      "\r",
      "Epoch 5, step 37/96, (Training Loss: 3.5393, samp_prob: 0.5000):  50%|█████     | 5/10 [1:07:21<1:02:46, 753.22s/it]"
     ]
    },
    {
     "name": "stdout",
     "output_type": "stream",
     "text": [
      "37\n",
      "\n",
      "[FINISHED] Epoch 5, (Training Loss (per epoch): 134.1784 samp_prob: 0.5000)\n"
     ]
    },
    {
     "name": "stderr",
     "output_type": "stream",
     "text": [
      "\r",
      "Epoch 5, step 38/96, (Training Loss: 3.4901, samp_prob: 0.5000):  50%|█████     | 5/10 [1:07:29<1:02:46, 753.22s/it]"
     ]
    },
    {
     "name": "stdout",
     "output_type": "stream",
     "text": [
      "38\n",
      "\n",
      "[FINISHED] Epoch 5, (Training Loss (per epoch): 137.6684 samp_prob: 0.5000)\n"
     ]
    },
    {
     "name": "stderr",
     "output_type": "stream",
     "text": [
      "\r",
      "Epoch 5, step 39/96, (Training Loss: 3.4899, samp_prob: 0.5000):  50%|█████     | 5/10 [1:07:37<1:02:46, 753.22s/it]"
     ]
    },
    {
     "name": "stdout",
     "output_type": "stream",
     "text": [
      "39\n",
      "\n",
      "[FINISHED] Epoch 5, (Training Loss (per epoch): 141.1584 samp_prob: 0.5000)\n"
     ]
    },
    {
     "name": "stderr",
     "output_type": "stream",
     "text": [
      "\r",
      "Epoch 5, step 40/96, (Training Loss: 3.4014, samp_prob: 0.5000):  50%|█████     | 5/10 [1:07:44<1:02:46, 753.22s/it]"
     ]
    },
    {
     "name": "stdout",
     "output_type": "stream",
     "text": [
      "40\n",
      "\n",
      "[FINISHED] Epoch 5, (Training Loss (per epoch): 144.5598 samp_prob: 0.5000)\n"
     ]
    },
    {
     "name": "stderr",
     "output_type": "stream",
     "text": [
      "\r",
      "Epoch 5, step 41/96, (Training Loss: 3.4593, samp_prob: 0.5000):  50%|█████     | 5/10 [1:07:52<1:02:46, 753.22s/it]"
     ]
    },
    {
     "name": "stdout",
     "output_type": "stream",
     "text": [
      "41\n",
      "\n",
      "[FINISHED] Epoch 5, (Training Loss (per epoch): 148.0191 samp_prob: 0.5000)\n"
     ]
    },
    {
     "name": "stderr",
     "output_type": "stream",
     "text": [
      "\r",
      "Epoch 5, step 42/96, (Training Loss: 3.5258, samp_prob: 0.5000):  50%|█████     | 5/10 [1:07:59<1:02:46, 753.22s/it]"
     ]
    },
    {
     "name": "stdout",
     "output_type": "stream",
     "text": [
      "42\n",
      "\n",
      "[FINISHED] Epoch 5, (Training Loss (per epoch): 151.5448 samp_prob: 0.5000)\n"
     ]
    },
    {
     "name": "stderr",
     "output_type": "stream",
     "text": [
      "\r",
      "Epoch 5, step 43/96, (Training Loss: 3.5182, samp_prob: 0.5000):  50%|█████     | 5/10 [1:08:07<1:02:46, 753.22s/it]"
     ]
    },
    {
     "name": "stdout",
     "output_type": "stream",
     "text": [
      "43\n",
      "\n",
      "[FINISHED] Epoch 5, (Training Loss (per epoch): 155.0630 samp_prob: 0.5000)\n"
     ]
    },
    {
     "name": "stderr",
     "output_type": "stream",
     "text": [
      "\r",
      "Epoch 5, step 44/96, (Training Loss: 3.4455, samp_prob: 0.5000):  50%|█████     | 5/10 [1:08:15<1:02:46, 753.22s/it]"
     ]
    },
    {
     "name": "stdout",
     "output_type": "stream",
     "text": [
      "44\n",
      "\n",
      "[FINISHED] Epoch 5, (Training Loss (per epoch): 158.5086 samp_prob: 0.5000)\n"
     ]
    },
    {
     "name": "stderr",
     "output_type": "stream",
     "text": [
      "\r",
      "Epoch 5, step 45/96, (Training Loss: 3.4817, samp_prob: 0.5000):  50%|█████     | 5/10 [1:08:22<1:02:46, 753.22s/it]"
     ]
    },
    {
     "name": "stdout",
     "output_type": "stream",
     "text": [
      "45\n",
      "\n",
      "[FINISHED] Epoch 5, (Training Loss (per epoch): 161.9902 samp_prob: 0.5000)\n"
     ]
    },
    {
     "name": "stderr",
     "output_type": "stream",
     "text": [
      "\r",
      "Epoch 5, step 46/96, (Training Loss: 3.5559, samp_prob: 0.5000):  50%|█████     | 5/10 [1:08:31<1:02:46, 753.22s/it]"
     ]
    },
    {
     "name": "stdout",
     "output_type": "stream",
     "text": [
      "[[ 1  4 12 ...  2  2  2]\n",
      " [ 1  4 23 ...  2  2  2]\n",
      " [ 1  4  7 ...  2  2  2]\n",
      " ...\n",
      " [ 1  6 39 ...  2  2  2]\n",
      " [ 1 20 12 ...  2  2  2]\n",
      " [ 1  4  8 ...  2  2  2]]\n",
      "\n",
      "[Train. Prediction] Epoch 5, step 46/96......\n",
      "\n",
      "id: 249\n",
      "answer: ['<BOS>', 'the', 'lady', 'cut', 'a', 'piece', 'of', 'lemon', 'rind']\n",
      "prediction: ['<BOS>', 'a', 'woman', 'is', 'slicing', 'a']\n",
      "46\n",
      "\n",
      "[FINISHED] Epoch 5, (Training Loss (per epoch): 165.5461 samp_prob: 0.5000)\n"
     ]
    },
    {
     "name": "stderr",
     "output_type": "stream",
     "text": [
      "\r",
      "Epoch 5, step 47/96, (Training Loss: 3.4564, samp_prob: 0.5000):  50%|█████     | 5/10 [1:08:38<1:02:46, 753.22s/it]"
     ]
    },
    {
     "name": "stdout",
     "output_type": "stream",
     "text": [
      "47\n",
      "\n",
      "[FINISHED] Epoch 5, (Training Loss (per epoch): 169.0025 samp_prob: 0.5000)\n"
     ]
    },
    {
     "name": "stderr",
     "output_type": "stream",
     "text": [
      "\r",
      "Epoch 5, step 48/96, (Training Loss: 3.4617, samp_prob: 0.5000):  50%|█████     | 5/10 [1:08:46<1:02:46, 753.22s/it]"
     ]
    },
    {
     "name": "stdout",
     "output_type": "stream",
     "text": [
      "48\n",
      "\n",
      "[FINISHED] Epoch 5, (Training Loss (per epoch): 172.4642 samp_prob: 0.5000)\n"
     ]
    },
    {
     "name": "stderr",
     "output_type": "stream",
     "text": [
      "\r",
      "Epoch 5, step 49/96, (Training Loss: 3.5601, samp_prob: 0.5000):  50%|█████     | 5/10 [1:08:53<1:02:46, 753.22s/it]"
     ]
    },
    {
     "name": "stdout",
     "output_type": "stream",
     "text": [
      "49\n",
      "\n",
      "[FINISHED] Epoch 5, (Training Loss (per epoch): 176.0244 samp_prob: 0.5000)\n"
     ]
    },
    {
     "name": "stderr",
     "output_type": "stream",
     "text": [
      "\r",
      "Epoch 5, step 50/96, (Training Loss: 3.6371, samp_prob: 0.5000):  50%|█████     | 5/10 [1:09:01<1:02:46, 753.22s/it]"
     ]
    },
    {
     "name": "stdout",
     "output_type": "stream",
     "text": [
      "50\n",
      "\n",
      "[FINISHED] Epoch 5, (Training Loss (per epoch): 179.6615 samp_prob: 0.5000)\n"
     ]
    },
    {
     "name": "stderr",
     "output_type": "stream",
     "text": [
      "\r",
      "Epoch 5, step 51/96, (Training Loss: 3.4315, samp_prob: 0.5000):  50%|█████     | 5/10 [1:09:09<1:02:46, 753.22s/it]"
     ]
    },
    {
     "name": "stdout",
     "output_type": "stream",
     "text": [
      "51\n",
      "\n",
      "[FINISHED] Epoch 5, (Training Loss (per epoch): 183.0930 samp_prob: 0.5000)\n"
     ]
    },
    {
     "name": "stderr",
     "output_type": "stream",
     "text": [
      "\r",
      "Epoch 5, step 52/96, (Training Loss: 3.4281, samp_prob: 0.5000):  50%|█████     | 5/10 [1:09:16<1:02:46, 753.22s/it]"
     ]
    },
    {
     "name": "stdout",
     "output_type": "stream",
     "text": [
      "52\n",
      "\n",
      "[FINISHED] Epoch 5, (Training Loss (per epoch): 186.5211 samp_prob: 0.5000)\n"
     ]
    },
    {
     "name": "stderr",
     "output_type": "stream",
     "text": [
      "\r",
      "Epoch 5, step 53/96, (Training Loss: 3.5843, samp_prob: 0.5000):  50%|█████     | 5/10 [1:09:24<1:02:46, 753.22s/it]"
     ]
    },
    {
     "name": "stdout",
     "output_type": "stream",
     "text": [
      "53\n",
      "\n",
      "[FINISHED] Epoch 5, (Training Loss (per epoch): 190.1054 samp_prob: 0.5000)\n"
     ]
    },
    {
     "name": "stderr",
     "output_type": "stream",
     "text": [
      "\r",
      "Epoch 5, step 54/96, (Training Loss: 3.4503, samp_prob: 0.5000):  50%|█████     | 5/10 [1:09:32<1:02:46, 753.22s/it]"
     ]
    },
    {
     "name": "stdout",
     "output_type": "stream",
     "text": [
      "54\n",
      "\n",
      "[FINISHED] Epoch 5, (Training Loss (per epoch): 193.5557 samp_prob: 0.5000)\n"
     ]
    },
    {
     "name": "stderr",
     "output_type": "stream",
     "text": [
      "\r",
      "Epoch 5, step 55/96, (Training Loss: 3.4615, samp_prob: 0.5000):  50%|█████     | 5/10 [1:09:39<1:02:46, 753.22s/it]"
     ]
    },
    {
     "name": "stdout",
     "output_type": "stream",
     "text": [
      "55\n",
      "\n",
      "[FINISHED] Epoch 5, (Training Loss (per epoch): 197.0172 samp_prob: 0.5000)\n"
     ]
    },
    {
     "name": "stderr",
     "output_type": "stream",
     "text": [
      "\r",
      "Epoch 5, step 56/96, (Training Loss: 3.4152, samp_prob: 0.5000):  50%|█████     | 5/10 [1:09:47<1:02:46, 753.22s/it]"
     ]
    },
    {
     "name": "stdout",
     "output_type": "stream",
     "text": [
      "56\n",
      "\n",
      "[FINISHED] Epoch 5, (Training Loss (per epoch): 200.4324 samp_prob: 0.5000)\n"
     ]
    },
    {
     "name": "stderr",
     "output_type": "stream",
     "text": [
      "\r",
      "Epoch 5, step 57/96, (Training Loss: 3.3727, samp_prob: 0.5000):  50%|█████     | 5/10 [1:09:54<1:02:46, 753.22s/it]"
     ]
    },
    {
     "name": "stdout",
     "output_type": "stream",
     "text": [
      "57\n",
      "\n",
      "[FINISHED] Epoch 5, (Training Loss (per epoch): 203.8051 samp_prob: 0.5000)\n"
     ]
    },
    {
     "name": "stderr",
     "output_type": "stream",
     "text": [
      "\r",
      "Epoch 5, step 58/96, (Training Loss: 3.3915, samp_prob: 0.5000):  50%|█████     | 5/10 [1:10:02<1:02:46, 753.22s/it]"
     ]
    },
    {
     "name": "stdout",
     "output_type": "stream",
     "text": [
      "58\n",
      "\n",
      "[FINISHED] Epoch 5, (Training Loss (per epoch): 207.1966 samp_prob: 0.5000)\n"
     ]
    },
    {
     "name": "stderr",
     "output_type": "stream",
     "text": [
      "\r",
      "Epoch 5, step 59/96, (Training Loss: 3.5054, samp_prob: 0.5000):  50%|█████     | 5/10 [1:10:10<1:02:46, 753.22s/it]"
     ]
    },
    {
     "name": "stdout",
     "output_type": "stream",
     "text": [
      "59\n",
      "\n",
      "[FINISHED] Epoch 5, (Training Loss (per epoch): 210.7020 samp_prob: 0.5000)\n"
     ]
    },
    {
     "name": "stderr",
     "output_type": "stream",
     "text": [
      "\r",
      "Epoch 5, step 60/96, (Training Loss: 3.4370, samp_prob: 0.5000):  50%|█████     | 5/10 [1:10:17<1:02:46, 753.22s/it]"
     ]
    },
    {
     "name": "stdout",
     "output_type": "stream",
     "text": [
      "60\n",
      "\n",
      "[FINISHED] Epoch 5, (Training Loss (per epoch): 214.1390 samp_prob: 0.5000)\n"
     ]
    },
    {
     "name": "stderr",
     "output_type": "stream",
     "text": [
      "\r",
      "Epoch 5, step 61/96, (Training Loss: 3.5571, samp_prob: 0.5000):  50%|█████     | 5/10 [1:10:25<1:02:46, 753.22s/it]"
     ]
    },
    {
     "name": "stdout",
     "output_type": "stream",
     "text": [
      "[[ 1  4  7 ...  2  2  2]\n",
      " [ 1  4  7 ...  2  2  2]\n",
      " [ 1  4  7 ...  2  2  2]\n",
      " ...\n",
      " [ 1  4  7 ...  2  2  2]\n",
      " [ 1  4  8 ...  2  2  2]\n",
      " [ 1  6 12 ...  2  2  2]]\n",
      "\n",
      "[Train. Prediction] Epoch 5, step 61/96......\n",
      "\n",
      "id: 14\n",
      "answer: ['<BOS>', 'a', 'person', 'with', 'a', 'knife', 'is', 'slicing', 'an', 'onion']\n",
      "prediction: ['<BOS>', 'a', 'lady', 'is', 'slicing', 'an', 'a']\n",
      "61\n",
      "\n",
      "[FINISHED] Epoch 5, (Training Loss (per epoch): 217.6961 samp_prob: 0.5000)\n"
     ]
    },
    {
     "name": "stderr",
     "output_type": "stream",
     "text": [
      "\r",
      "Epoch 5, step 62/96, (Training Loss: 3.5166, samp_prob: 0.5000):  50%|█████     | 5/10 [1:10:33<1:02:46, 753.22s/it]"
     ]
    },
    {
     "name": "stdout",
     "output_type": "stream",
     "text": [
      "62\n",
      "\n",
      "[FINISHED] Epoch 5, (Training Loss (per epoch): 221.2127 samp_prob: 0.5000)\n"
     ]
    },
    {
     "name": "stderr",
     "output_type": "stream",
     "text": [
      "\r",
      "Epoch 5, step 63/96, (Training Loss: 3.5294, samp_prob: 0.5000):  50%|█████     | 5/10 [1:10:40<1:02:46, 753.22s/it]"
     ]
    },
    {
     "name": "stdout",
     "output_type": "stream",
     "text": [
      "63\n",
      "\n",
      "[FINISHED] Epoch 5, (Training Loss (per epoch): 224.7421 samp_prob: 0.5000)\n"
     ]
    },
    {
     "name": "stderr",
     "output_type": "stream",
     "text": [
      "\r",
      "Epoch 5, step 64/96, (Training Loss: 3.5453, samp_prob: 0.5000):  50%|█████     | 5/10 [1:10:48<1:02:46, 753.22s/it]"
     ]
    },
    {
     "name": "stdout",
     "output_type": "stream",
     "text": [
      "64\n",
      "\n",
      "[FINISHED] Epoch 5, (Training Loss (per epoch): 228.2874 samp_prob: 0.5000)\n"
     ]
    },
    {
     "name": "stderr",
     "output_type": "stream",
     "text": [
      "\r",
      "Epoch 5, step 65/96, (Training Loss: 3.3073, samp_prob: 0.5000):  50%|█████     | 5/10 [1:10:56<1:02:46, 753.22s/it]"
     ]
    },
    {
     "name": "stdout",
     "output_type": "stream",
     "text": [
      "65\n",
      "\n",
      "[FINISHED] Epoch 5, (Training Loss (per epoch): 231.5947 samp_prob: 0.5000)\n"
     ]
    },
    {
     "name": "stderr",
     "output_type": "stream",
     "text": [
      "\r",
      "Epoch 5, step 66/96, (Training Loss: 3.6199, samp_prob: 0.5000):  50%|█████     | 5/10 [1:11:03<1:02:46, 753.22s/it]"
     ]
    },
    {
     "name": "stdout",
     "output_type": "stream",
     "text": [
      "66\n",
      "\n",
      "[FINISHED] Epoch 5, (Training Loss (per epoch): 235.2147 samp_prob: 0.5000)\n"
     ]
    },
    {
     "name": "stderr",
     "output_type": "stream",
     "text": [
      "\r",
      "Epoch 5, step 67/96, (Training Loss: 3.6234, samp_prob: 0.5000):  50%|█████     | 5/10 [1:11:11<1:02:46, 753.22s/it]"
     ]
    },
    {
     "name": "stdout",
     "output_type": "stream",
     "text": [
      "67\n",
      "\n",
      "[FINISHED] Epoch 5, (Training Loss (per epoch): 238.8381 samp_prob: 0.5000)\n"
     ]
    },
    {
     "name": "stderr",
     "output_type": "stream",
     "text": [
      "\r",
      "Epoch 5, step 68/96, (Training Loss: 3.4725, samp_prob: 0.5000):  50%|█████     | 5/10 [1:11:19<1:02:46, 753.22s/it]"
     ]
    },
    {
     "name": "stdout",
     "output_type": "stream",
     "text": [
      "68\n",
      "\n",
      "[FINISHED] Epoch 5, (Training Loss (per epoch): 242.3106 samp_prob: 0.5000)\n"
     ]
    },
    {
     "name": "stderr",
     "output_type": "stream",
     "text": [
      "\r",
      "Epoch 5, step 69/96, (Training Loss: 3.3706, samp_prob: 0.5000):  50%|█████     | 5/10 [1:11:26<1:02:46, 753.22s/it]"
     ]
    },
    {
     "name": "stdout",
     "output_type": "stream",
     "text": [
      "69\n",
      "\n",
      "[FINISHED] Epoch 5, (Training Loss (per epoch): 245.6811 samp_prob: 0.5000)\n"
     ]
    },
    {
     "name": "stderr",
     "output_type": "stream",
     "text": [
      "\r",
      "Epoch 5, step 70/96, (Training Loss: 3.5581, samp_prob: 0.5000):  50%|█████     | 5/10 [1:11:34<1:02:46, 753.22s/it]"
     ]
    },
    {
     "name": "stdout",
     "output_type": "stream",
     "text": [
      "70\n",
      "\n",
      "[FINISHED] Epoch 5, (Training Loss (per epoch): 249.2392 samp_prob: 0.5000)\n"
     ]
    },
    {
     "name": "stderr",
     "output_type": "stream",
     "text": [
      "\r",
      "Epoch 5, step 71/96, (Training Loss: 3.4381, samp_prob: 0.5000):  50%|█████     | 5/10 [1:11:42<1:02:46, 753.22s/it]"
     ]
    },
    {
     "name": "stdout",
     "output_type": "stream",
     "text": [
      "71\n",
      "\n",
      "[FINISHED] Epoch 5, (Training Loss (per epoch): 252.6773 samp_prob: 0.5000)\n"
     ]
    },
    {
     "name": "stderr",
     "output_type": "stream",
     "text": [
      "\r",
      "Epoch 5, step 72/96, (Training Loss: 3.5720, samp_prob: 0.5000):  50%|█████     | 5/10 [1:11:49<1:02:46, 753.22s/it]"
     ]
    },
    {
     "name": "stdout",
     "output_type": "stream",
     "text": [
      "72\n",
      "\n",
      "[FINISHED] Epoch 5, (Training Loss (per epoch): 256.2493 samp_prob: 0.5000)\n"
     ]
    },
    {
     "name": "stderr",
     "output_type": "stream",
     "text": [
      "\r",
      "Epoch 5, step 73/96, (Training Loss: 3.4463, samp_prob: 0.5000):  50%|█████     | 5/10 [1:11:57<1:02:46, 753.22s/it]"
     ]
    },
    {
     "name": "stdout",
     "output_type": "stream",
     "text": [
      "73\n",
      "\n",
      "[FINISHED] Epoch 5, (Training Loss (per epoch): 259.6957 samp_prob: 0.5000)\n"
     ]
    },
    {
     "name": "stderr",
     "output_type": "stream",
     "text": [
      "\r",
      "Epoch 5, step 74/96, (Training Loss: 3.4886, samp_prob: 0.5000):  50%|█████     | 5/10 [1:12:04<1:02:46, 753.22s/it]"
     ]
    },
    {
     "name": "stdout",
     "output_type": "stream",
     "text": [
      "74\n",
      "\n",
      "[FINISHED] Epoch 5, (Training Loss (per epoch): 263.1843 samp_prob: 0.5000)\n"
     ]
    },
    {
     "name": "stderr",
     "output_type": "stream",
     "text": [
      "\r",
      "Epoch 5, step 75/96, (Training Loss: 3.5038, samp_prob: 0.5000):  50%|█████     | 5/10 [1:12:12<1:02:46, 753.22s/it]"
     ]
    },
    {
     "name": "stdout",
     "output_type": "stream",
     "text": [
      "75\n",
      "\n",
      "[FINISHED] Epoch 5, (Training Loss (per epoch): 266.6881 samp_prob: 0.5000)\n"
     ]
    },
    {
     "name": "stderr",
     "output_type": "stream",
     "text": [
      "\r",
      "Epoch 5, step 76/96, (Training Loss: 3.5358, samp_prob: 0.5000):  50%|█████     | 5/10 [1:12:20<1:02:46, 753.22s/it]"
     ]
    },
    {
     "name": "stdout",
     "output_type": "stream",
     "text": [
      "[[ 1  4  8 ...  2  2  2]\n",
      " [ 1  4  7 ...  2  2  2]\n",
      " [ 1  4  8 ...  2  2  2]\n",
      " ...\n",
      " [ 1  4  8 ...  2  2  2]\n",
      " [ 1  4 17 ...  2  2  2]\n",
      " [ 1  4  7 ...  2  2  2]]\n",
      "\n",
      "[Train. Prediction] Epoch 5, step 76/96......\n",
      "\n",
      "id: 221\n",
      "answer: ['<BOS>', 'a', 'dog', 'is', 'running']\n",
      "prediction: ['<BOS>', 'a', 'dog', 'is', 'is', 'a', 'a']\n",
      "76\n",
      "\n",
      "[FINISHED] Epoch 5, (Training Loss (per epoch): 270.2239 samp_prob: 0.5000)\n"
     ]
    },
    {
     "name": "stderr",
     "output_type": "stream",
     "text": [
      "\r",
      "Epoch 5, step 77/96, (Training Loss: 3.4313, samp_prob: 0.5000):  50%|█████     | 5/10 [1:12:28<1:02:46, 753.22s/it]"
     ]
    },
    {
     "name": "stdout",
     "output_type": "stream",
     "text": [
      "77\n",
      "\n",
      "[FINISHED] Epoch 5, (Training Loss (per epoch): 273.6552 samp_prob: 0.5000)\n"
     ]
    },
    {
     "name": "stderr",
     "output_type": "stream",
     "text": [
      "\r",
      "Epoch 5, step 78/96, (Training Loss: 3.3509, samp_prob: 0.5000):  50%|█████     | 5/10 [1:12:35<1:02:46, 753.22s/it]"
     ]
    },
    {
     "name": "stdout",
     "output_type": "stream",
     "text": [
      "78\n",
      "\n",
      "[FINISHED] Epoch 5, (Training Loss (per epoch): 277.0061 samp_prob: 0.5000)\n"
     ]
    },
    {
     "name": "stderr",
     "output_type": "stream",
     "text": [
      "\r",
      "Epoch 5, step 79/96, (Training Loss: 3.3677, samp_prob: 0.5000):  50%|█████     | 5/10 [1:12:43<1:02:46, 753.22s/it]"
     ]
    },
    {
     "name": "stdout",
     "output_type": "stream",
     "text": [
      "79\n",
      "\n",
      "[FINISHED] Epoch 5, (Training Loss (per epoch): 280.3739 samp_prob: 0.5000)\n"
     ]
    },
    {
     "name": "stderr",
     "output_type": "stream",
     "text": [
      "\r",
      "Epoch 5, step 80/96, (Training Loss: 3.4805, samp_prob: 0.5000):  50%|█████     | 5/10 [1:12:51<1:02:46, 753.22s/it]"
     ]
    },
    {
     "name": "stdout",
     "output_type": "stream",
     "text": [
      "80\n",
      "\n",
      "[FINISHED] Epoch 5, (Training Loss (per epoch): 283.8544 samp_prob: 0.5000)\n"
     ]
    },
    {
     "name": "stderr",
     "output_type": "stream",
     "text": [
      "\r",
      "Epoch 5, step 81/96, (Training Loss: 3.3497, samp_prob: 0.5000):  50%|█████     | 5/10 [1:12:58<1:02:46, 753.22s/it]"
     ]
    },
    {
     "name": "stdout",
     "output_type": "stream",
     "text": [
      "81\n",
      "\n",
      "[FINISHED] Epoch 5, (Training Loss (per epoch): 287.2041 samp_prob: 0.5000)\n"
     ]
    },
    {
     "name": "stderr",
     "output_type": "stream",
     "text": [
      "\r",
      "Epoch 5, step 82/96, (Training Loss: 3.6051, samp_prob: 0.5000):  50%|█████     | 5/10 [1:13:06<1:02:46, 753.22s/it]"
     ]
    },
    {
     "name": "stdout",
     "output_type": "stream",
     "text": [
      "82\n",
      "\n",
      "[FINISHED] Epoch 5, (Training Loss (per epoch): 290.8091 samp_prob: 0.5000)\n"
     ]
    },
    {
     "name": "stderr",
     "output_type": "stream",
     "text": [
      "\r",
      "Epoch 5, step 83/96, (Training Loss: 3.5096, samp_prob: 0.5000):  50%|█████     | 5/10 [1:13:13<1:02:46, 753.22s/it]"
     ]
    },
    {
     "name": "stdout",
     "output_type": "stream",
     "text": [
      "83\n",
      "\n",
      "[FINISHED] Epoch 5, (Training Loss (per epoch): 294.3187 samp_prob: 0.5000)\n"
     ]
    },
    {
     "name": "stderr",
     "output_type": "stream",
     "text": [
      "\r",
      "Epoch 5, step 84/96, (Training Loss: 3.4024, samp_prob: 0.5000):  50%|█████     | 5/10 [1:13:21<1:02:46, 753.22s/it]"
     ]
    },
    {
     "name": "stdout",
     "output_type": "stream",
     "text": [
      "84\n",
      "\n",
      "[FINISHED] Epoch 5, (Training Loss (per epoch): 297.7212 samp_prob: 0.5000)\n"
     ]
    },
    {
     "name": "stderr",
     "output_type": "stream",
     "text": [
      "\r",
      "Epoch 5, step 85/96, (Training Loss: 3.5314, samp_prob: 0.5000):  50%|█████     | 5/10 [1:13:29<1:02:46, 753.22s/it]"
     ]
    },
    {
     "name": "stdout",
     "output_type": "stream",
     "text": [
      "85\n",
      "\n",
      "[FINISHED] Epoch 5, (Training Loss (per epoch): 301.2525 samp_prob: 0.5000)\n"
     ]
    },
    {
     "name": "stderr",
     "output_type": "stream",
     "text": [
      "\r",
      "Epoch 5, step 86/96, (Training Loss: 3.3570, samp_prob: 0.5000):  50%|█████     | 5/10 [1:13:36<1:02:46, 753.22s/it]"
     ]
    },
    {
     "name": "stdout",
     "output_type": "stream",
     "text": [
      "86\n",
      "\n",
      "[FINISHED] Epoch 5, (Training Loss (per epoch): 304.6095 samp_prob: 0.5000)\n"
     ]
    },
    {
     "name": "stderr",
     "output_type": "stream",
     "text": [
      "\r",
      "Epoch 5, step 87/96, (Training Loss: 3.5133, samp_prob: 0.5000):  50%|█████     | 5/10 [1:13:44<1:02:46, 753.22s/it]"
     ]
    },
    {
     "name": "stdout",
     "output_type": "stream",
     "text": [
      "87\n",
      "\n",
      "[FINISHED] Epoch 5, (Training Loss (per epoch): 308.1228 samp_prob: 0.5000)\n"
     ]
    },
    {
     "name": "stderr",
     "output_type": "stream",
     "text": [
      "\r",
      "Epoch 5, step 88/96, (Training Loss: 3.4956, samp_prob: 0.5000):  50%|█████     | 5/10 [1:13:51<1:02:46, 753.22s/it]"
     ]
    },
    {
     "name": "stdout",
     "output_type": "stream",
     "text": [
      "88\n",
      "\n",
      "[FINISHED] Epoch 5, (Training Loss (per epoch): 311.6184 samp_prob: 0.5000)\n"
     ]
    },
    {
     "name": "stderr",
     "output_type": "stream",
     "text": [
      "\r",
      "Epoch 5, step 89/96, (Training Loss: 3.4235, samp_prob: 0.5000):  50%|█████     | 5/10 [1:13:59<1:02:46, 753.22s/it]"
     ]
    },
    {
     "name": "stdout",
     "output_type": "stream",
     "text": [
      "89\n",
      "\n",
      "[FINISHED] Epoch 5, (Training Loss (per epoch): 315.0419 samp_prob: 0.5000)\n"
     ]
    },
    {
     "name": "stderr",
     "output_type": "stream",
     "text": [
      "\r",
      "Epoch 5, step 90/96, (Training Loss: 3.3993, samp_prob: 0.5000):  50%|█████     | 5/10 [1:14:07<1:02:46, 753.22s/it]"
     ]
    },
    {
     "name": "stdout",
     "output_type": "stream",
     "text": [
      "90\n",
      "\n",
      "[FINISHED] Epoch 5, (Training Loss (per epoch): 318.4412 samp_prob: 0.5000)\n"
     ]
    },
    {
     "name": "stderr",
     "output_type": "stream",
     "text": [
      "\r",
      "Epoch 5, step 91/96, (Training Loss: 3.4915, samp_prob: 0.5000):  50%|█████     | 5/10 [1:14:15<1:02:46, 753.22s/it]"
     ]
    },
    {
     "name": "stdout",
     "output_type": "stream",
     "text": [
      "[[  1   4   7 ...   2   2   2]\n",
      " [  1   4 105 ...   2   2   2]\n",
      " [  1   4  24 ...   2   2   2]\n",
      " ...\n",
      " [  1   4   7 ...   2   2   2]\n",
      " [  1   4   7 ...   2   2   2]\n",
      " [  1   4   7 ...   2   2   2]]\n",
      "\n",
      "[Train. Prediction] Epoch 5, step 91/96......\n",
      "\n",
      "id: 163\n",
      "answer: ['<BOS>', 'someone', 'is', 'dicing', 'a', 'green', 'onion']\n",
      "prediction: ['<BOS>', 'a', 'woman', 'is', 'cutting']\n",
      "91\n",
      "\n",
      "[FINISHED] Epoch 5, (Training Loss (per epoch): 321.9327 samp_prob: 0.5000)\n"
     ]
    },
    {
     "name": "stderr",
     "output_type": "stream",
     "text": [
      "\r",
      "Epoch 5, step 92/96, (Training Loss: 3.3335, samp_prob: 0.5000):  50%|█████     | 5/10 [1:14:22<1:02:46, 753.22s/it]"
     ]
    },
    {
     "name": "stdout",
     "output_type": "stream",
     "text": [
      "92\n",
      "\n",
      "[FINISHED] Epoch 5, (Training Loss (per epoch): 325.2662 samp_prob: 0.5000)\n"
     ]
    },
    {
     "name": "stderr",
     "output_type": "stream",
     "text": [
      "\r",
      "Epoch 5, step 93/96, (Training Loss: 3.3687, samp_prob: 0.5000):  50%|█████     | 5/10 [1:14:30<1:02:46, 753.22s/it]"
     ]
    },
    {
     "name": "stdout",
     "output_type": "stream",
     "text": [
      "93\n",
      "\n",
      "[FINISHED] Epoch 5, (Training Loss (per epoch): 328.6349 samp_prob: 0.5000)\n"
     ]
    },
    {
     "name": "stderr",
     "output_type": "stream",
     "text": [
      "\r",
      "Epoch 5, step 94/96, (Training Loss: 3.5314, samp_prob: 0.5000):  50%|█████     | 5/10 [1:14:37<1:02:46, 753.22s/it]"
     ]
    },
    {
     "name": "stdout",
     "output_type": "stream",
     "text": [
      "94\n",
      "\n",
      "[FINISHED] Epoch 5, (Training Loss (per epoch): 332.1662 samp_prob: 0.5000)\n"
     ]
    },
    {
     "name": "stderr",
     "output_type": "stream",
     "text": [
      "Epoch 5, step 95/96, (Training Loss: 3.4790, samp_prob: 0.5000):  60%|██████    | 6/10 [1:14:45<49:50, 747.72s/it]  "
     ]
    },
    {
     "name": "stdout",
     "output_type": "stream",
     "text": [
      "95\n",
      "\n",
      "[FINISHED] Epoch 5, (Training Loss (per epoch): 335.6452 samp_prob: 0.5000)\n"
     ]
    },
    {
     "name": "stderr",
     "output_type": "stream",
     "text": [
      "\r",
      "Epoch 6, step 0/96, (Training Loss: 3.5204, samp_prob: 0.4013):  60%|██████    | 6/10 [1:14:53<49:50, 747.72s/it] "
     ]
    },
    {
     "name": "stdout",
     "output_type": "stream",
     "text": [
      "0\n",
      "\n",
      "[FINISHED] Epoch 6, (Training Loss (per epoch): 3.5204 samp_prob: 0.4013)\n"
     ]
    },
    {
     "name": "stderr",
     "output_type": "stream",
     "text": [
      "\r",
      "Epoch 6, step 1/96, (Training Loss: 3.4857, samp_prob: 0.4013):  60%|██████    | 6/10 [1:15:01<49:50, 747.72s/it]"
     ]
    },
    {
     "name": "stdout",
     "output_type": "stream",
     "text": [
      "[[ 1  4 24 ...  2  2  2]\n",
      " [ 1  4  8 ...  2  2  2]\n",
      " [ 1  4  7 ...  2  2  2]\n",
      " ...\n",
      " [ 1  6 12 ...  2  2  2]\n",
      " [ 1  4  8 ...  2  2  2]\n",
      " [ 1  4  7 ...  2  2  2]]\n",
      "\n",
      "[Train. Prediction] Epoch 6, step 1/96......\n",
      "\n",
      "id: 139\n",
      "answer: ['<BOS>', 'someone', 'cut', 'up', 'the', 'orange', 'bell', 'pepper']\n",
      "prediction: ['<BOS>', 'the', 'woman', 'is', 'slicing', 'cutting']\n",
      "1\n",
      "\n",
      "[FINISHED] Epoch 6, (Training Loss (per epoch): 7.0062 samp_prob: 0.4013)\n"
     ]
    },
    {
     "name": "stderr",
     "output_type": "stream",
     "text": [
      "\r",
      "Epoch 6, step 2/96, (Training Loss: 3.4296, samp_prob: 0.4013):  60%|██████    | 6/10 [1:15:08<49:50, 747.72s/it]"
     ]
    },
    {
     "name": "stdout",
     "output_type": "stream",
     "text": [
      "2\n",
      "\n",
      "[FINISHED] Epoch 6, (Training Loss (per epoch): 10.4358 samp_prob: 0.4013)\n"
     ]
    },
    {
     "name": "stderr",
     "output_type": "stream",
     "text": [
      "\r",
      "Epoch 6, step 3/96, (Training Loss: 3.4917, samp_prob: 0.4013):  60%|██████    | 6/10 [1:15:16<49:50, 747.72s/it]"
     ]
    },
    {
     "name": "stdout",
     "output_type": "stream",
     "text": [
      "3\n",
      "\n",
      "[FINISHED] Epoch 6, (Training Loss (per epoch): 13.9275 samp_prob: 0.4013)\n"
     ]
    },
    {
     "name": "stderr",
     "output_type": "stream",
     "text": [
      "\r",
      "Epoch 6, step 4/96, (Training Loss: 3.3573, samp_prob: 0.4013):  60%|██████    | 6/10 [1:15:23<49:50, 747.72s/it]"
     ]
    },
    {
     "name": "stdout",
     "output_type": "stream",
     "text": [
      "4\n",
      "\n",
      "[FINISHED] Epoch 6, (Training Loss (per epoch): 17.2848 samp_prob: 0.4013)\n"
     ]
    },
    {
     "name": "stderr",
     "output_type": "stream",
     "text": [
      "\r",
      "Epoch 6, step 5/96, (Training Loss: 3.3800, samp_prob: 0.4013):  60%|██████    | 6/10 [1:15:31<49:50, 747.72s/it]"
     ]
    },
    {
     "name": "stdout",
     "output_type": "stream",
     "text": [
      "5\n",
      "\n",
      "[FINISHED] Epoch 6, (Training Loss (per epoch): 20.6649 samp_prob: 0.4013)\n"
     ]
    },
    {
     "name": "stderr",
     "output_type": "stream",
     "text": [
      "\r",
      "Epoch 6, step 6/96, (Training Loss: 3.3848, samp_prob: 0.4013):  60%|██████    | 6/10 [1:15:39<49:50, 747.72s/it]"
     ]
    },
    {
     "name": "stdout",
     "output_type": "stream",
     "text": [
      "6\n",
      "\n",
      "[FINISHED] Epoch 6, (Training Loss (per epoch): 24.0497 samp_prob: 0.4013)\n"
     ]
    },
    {
     "name": "stderr",
     "output_type": "stream",
     "text": [
      "\r",
      "Epoch 6, step 7/96, (Training Loss: 3.4353, samp_prob: 0.4013):  60%|██████    | 6/10 [1:15:46<49:50, 747.72s/it]"
     ]
    },
    {
     "name": "stdout",
     "output_type": "stream",
     "text": [
      "7\n",
      "\n",
      "[FINISHED] Epoch 6, (Training Loss (per epoch): 27.4850 samp_prob: 0.4013)\n"
     ]
    },
    {
     "name": "stderr",
     "output_type": "stream",
     "text": [
      "\r",
      "Epoch 6, step 8/96, (Training Loss: 3.4001, samp_prob: 0.4013):  60%|██████    | 6/10 [1:15:54<49:50, 747.72s/it]"
     ]
    },
    {
     "name": "stdout",
     "output_type": "stream",
     "text": [
      "8\n",
      "\n",
      "[FINISHED] Epoch 6, (Training Loss (per epoch): 30.8851 samp_prob: 0.4013)\n"
     ]
    },
    {
     "name": "stderr",
     "output_type": "stream",
     "text": [
      "\r",
      "Epoch 6, step 9/96, (Training Loss: 3.4378, samp_prob: 0.4013):  60%|██████    | 6/10 [1:16:01<49:50, 747.72s/it]"
     ]
    },
    {
     "name": "stdout",
     "output_type": "stream",
     "text": [
      "9\n",
      "\n",
      "[FINISHED] Epoch 6, (Training Loss (per epoch): 34.3230 samp_prob: 0.4013)\n"
     ]
    },
    {
     "name": "stderr",
     "output_type": "stream",
     "text": [
      "\r",
      "Epoch 6, step 10/96, (Training Loss: 3.3602, samp_prob: 0.4013):  60%|██████    | 6/10 [1:16:09<49:50, 747.72s/it]"
     ]
    },
    {
     "name": "stdout",
     "output_type": "stream",
     "text": [
      "10\n",
      "\n",
      "[FINISHED] Epoch 6, (Training Loss (per epoch): 37.6832 samp_prob: 0.4013)\n"
     ]
    },
    {
     "name": "stderr",
     "output_type": "stream",
     "text": [
      "\r",
      "Epoch 6, step 11/96, (Training Loss: 3.4171, samp_prob: 0.4013):  60%|██████    | 6/10 [1:16:17<49:50, 747.72s/it]"
     ]
    },
    {
     "name": "stdout",
     "output_type": "stream",
     "text": [
      "11\n",
      "\n",
      "[FINISHED] Epoch 6, (Training Loss (per epoch): 41.1003 samp_prob: 0.4013)\n"
     ]
    },
    {
     "name": "stderr",
     "output_type": "stream",
     "text": [
      "\r",
      "Epoch 6, step 12/96, (Training Loss: 3.4532, samp_prob: 0.4013):  60%|██████    | 6/10 [1:16:24<49:50, 747.72s/it]"
     ]
    },
    {
     "name": "stdout",
     "output_type": "stream",
     "text": [
      "12\n",
      "\n",
      "[FINISHED] Epoch 6, (Training Loss (per epoch): 44.5535 samp_prob: 0.4013)\n"
     ]
    },
    {
     "name": "stderr",
     "output_type": "stream",
     "text": [
      "\r",
      "Epoch 6, step 13/96, (Training Loss: 3.5436, samp_prob: 0.4013):  60%|██████    | 6/10 [1:16:32<49:50, 747.72s/it]"
     ]
    },
    {
     "name": "stdout",
     "output_type": "stream",
     "text": [
      "13\n",
      "\n",
      "[FINISHED] Epoch 6, (Training Loss (per epoch): 48.0971 samp_prob: 0.4013)\n"
     ]
    },
    {
     "name": "stderr",
     "output_type": "stream",
     "text": [
      "\r",
      "Epoch 6, step 14/96, (Training Loss: 3.5102, samp_prob: 0.4013):  60%|██████    | 6/10 [1:16:39<49:50, 747.72s/it]"
     ]
    },
    {
     "name": "stdout",
     "output_type": "stream",
     "text": [
      "14\n",
      "\n",
      "[FINISHED] Epoch 6, (Training Loss (per epoch): 51.6073 samp_prob: 0.4013)\n"
     ]
    },
    {
     "name": "stderr",
     "output_type": "stream",
     "text": [
      "\r",
      "Epoch 6, step 15/96, (Training Loss: 3.4368, samp_prob: 0.4013):  60%|██████    | 6/10 [1:16:47<49:50, 747.72s/it]"
     ]
    },
    {
     "name": "stdout",
     "output_type": "stream",
     "text": [
      "15\n",
      "\n",
      "[FINISHED] Epoch 6, (Training Loss (per epoch): 55.0441 samp_prob: 0.4013)\n"
     ]
    },
    {
     "name": "stderr",
     "output_type": "stream",
     "text": [
      "\r",
      "Epoch 6, step 16/96, (Training Loss: 3.4168, samp_prob: 0.4013):  60%|██████    | 6/10 [1:16:55<49:50, 747.72s/it]"
     ]
    },
    {
     "name": "stdout",
     "output_type": "stream",
     "text": [
      "[[ 1  4 23 ...  2  2  2]\n",
      " [ 1  4  8 ...  2  2  2]\n",
      " [ 1  6 56 ...  2  2  2]\n",
      " ...\n",
      " [ 1  4 24 ...  2  2  2]\n",
      " [ 1  4  8 ...  2  2  2]\n",
      " [ 1  4  8 ...  2  2  2]]\n",
      "\n",
      "[Train. Prediction] Epoch 6, step 16/96......\n",
      "\n",
      "id: 191\n",
      "answer: ['<BOS>', 'a', 'man', 'is', 'feeding', 'a', 'baby', 'panda']\n",
      "prediction: ['<BOS>', 'a', 'are', 'are', 'in', 'a', 'in']\n",
      "16\n",
      "\n",
      "[FINISHED] Epoch 6, (Training Loss (per epoch): 58.4609 samp_prob: 0.4013)\n"
     ]
    },
    {
     "name": "stderr",
     "output_type": "stream",
     "text": [
      "\r",
      "Epoch 6, step 17/96, (Training Loss: 3.3963, samp_prob: 0.4013):  60%|██████    | 6/10 [1:17:03<49:50, 747.72s/it]"
     ]
    },
    {
     "name": "stdout",
     "output_type": "stream",
     "text": [
      "17\n",
      "\n",
      "[FINISHED] Epoch 6, (Training Loss (per epoch): 61.8572 samp_prob: 0.4013)\n"
     ]
    },
    {
     "name": "stderr",
     "output_type": "stream",
     "text": [
      "\r",
      "Epoch 6, step 18/96, (Training Loss: 3.2614, samp_prob: 0.4013):  60%|██████    | 6/10 [1:17:10<49:50, 747.72s/it]"
     ]
    },
    {
     "name": "stdout",
     "output_type": "stream",
     "text": [
      "18\n",
      "\n",
      "[FINISHED] Epoch 6, (Training Loss (per epoch): 65.1186 samp_prob: 0.4013)\n"
     ]
    },
    {
     "name": "stderr",
     "output_type": "stream",
     "text": [
      "\r",
      "Epoch 6, step 19/96, (Training Loss: 3.1255, samp_prob: 0.4013):  60%|██████    | 6/10 [1:17:18<49:50, 747.72s/it]"
     ]
    },
    {
     "name": "stdout",
     "output_type": "stream",
     "text": [
      "19\n",
      "\n",
      "[FINISHED] Epoch 6, (Training Loss (per epoch): 68.2440 samp_prob: 0.4013)\n"
     ]
    },
    {
     "name": "stderr",
     "output_type": "stream",
     "text": [
      "\r",
      "Epoch 6, step 20/96, (Training Loss: 3.4296, samp_prob: 0.4013):  60%|██████    | 6/10 [1:17:26<49:50, 747.72s/it]"
     ]
    },
    {
     "name": "stdout",
     "output_type": "stream",
     "text": [
      "20\n",
      "\n",
      "[FINISHED] Epoch 6, (Training Loss (per epoch): 71.6736 samp_prob: 0.4013)\n"
     ]
    },
    {
     "name": "stderr",
     "output_type": "stream",
     "text": [
      "\r",
      "Epoch 6, step 21/96, (Training Loss: 3.3309, samp_prob: 0.4013):  60%|██████    | 6/10 [1:17:33<49:50, 747.72s/it]"
     ]
    },
    {
     "name": "stdout",
     "output_type": "stream",
     "text": [
      "21\n",
      "\n",
      "[FINISHED] Epoch 6, (Training Loss (per epoch): 75.0045 samp_prob: 0.4013)\n"
     ]
    },
    {
     "name": "stderr",
     "output_type": "stream",
     "text": [
      "\r",
      "Epoch 6, step 22/96, (Training Loss: 3.3400, samp_prob: 0.4013):  60%|██████    | 6/10 [1:17:41<49:50, 747.72s/it]"
     ]
    },
    {
     "name": "stdout",
     "output_type": "stream",
     "text": [
      "22\n",
      "\n",
      "[FINISHED] Epoch 6, (Training Loss (per epoch): 78.3445 samp_prob: 0.4013)\n"
     ]
    },
    {
     "name": "stderr",
     "output_type": "stream",
     "text": [
      "\r",
      "Epoch 6, step 23/96, (Training Loss: 3.4410, samp_prob: 0.4013):  60%|██████    | 6/10 [1:17:48<49:50, 747.72s/it]"
     ]
    },
    {
     "name": "stdout",
     "output_type": "stream",
     "text": [
      "23\n",
      "\n",
      "[FINISHED] Epoch 6, (Training Loss (per epoch): 81.7855 samp_prob: 0.4013)\n"
     ]
    },
    {
     "name": "stderr",
     "output_type": "stream",
     "text": [
      "\r",
      "Epoch 6, step 24/96, (Training Loss: 3.5891, samp_prob: 0.4013):  60%|██████    | 6/10 [1:17:56<49:50, 747.72s/it]"
     ]
    },
    {
     "name": "stdout",
     "output_type": "stream",
     "text": [
      "24\n",
      "\n",
      "[FINISHED] Epoch 6, (Training Loss (per epoch): 85.3746 samp_prob: 0.4013)\n"
     ]
    },
    {
     "name": "stderr",
     "output_type": "stream",
     "text": [
      "\r",
      "Epoch 6, step 25/96, (Training Loss: 3.3229, samp_prob: 0.4013):  60%|██████    | 6/10 [1:18:04<49:50, 747.72s/it]"
     ]
    },
    {
     "name": "stdout",
     "output_type": "stream",
     "text": [
      "25\n",
      "\n",
      "[FINISHED] Epoch 6, (Training Loss (per epoch): 88.6975 samp_prob: 0.4013)\n"
     ]
    },
    {
     "name": "stderr",
     "output_type": "stream",
     "text": [
      "\r",
      "Epoch 6, step 26/96, (Training Loss: 3.4402, samp_prob: 0.4013):  60%|██████    | 6/10 [1:18:11<49:50, 747.72s/it]"
     ]
    },
    {
     "name": "stdout",
     "output_type": "stream",
     "text": [
      "26\n",
      "\n",
      "[FINISHED] Epoch 6, (Training Loss (per epoch): 92.1377 samp_prob: 0.4013)\n"
     ]
    },
    {
     "name": "stderr",
     "output_type": "stream",
     "text": [
      "\r",
      "Epoch 6, step 27/96, (Training Loss: 3.3040, samp_prob: 0.4013):  60%|██████    | 6/10 [1:18:19<49:50, 747.72s/it]"
     ]
    },
    {
     "name": "stdout",
     "output_type": "stream",
     "text": [
      "27\n",
      "\n",
      "[FINISHED] Epoch 6, (Training Loss (per epoch): 95.4417 samp_prob: 0.4013)\n"
     ]
    },
    {
     "name": "stderr",
     "output_type": "stream",
     "text": [
      "\r",
      "Epoch 6, step 28/96, (Training Loss: 3.2471, samp_prob: 0.4013):  60%|██████    | 6/10 [1:18:26<49:50, 747.72s/it]"
     ]
    },
    {
     "name": "stdout",
     "output_type": "stream",
     "text": [
      "28\n",
      "\n",
      "[FINISHED] Epoch 6, (Training Loss (per epoch): 98.6887 samp_prob: 0.4013)\n"
     ]
    },
    {
     "name": "stderr",
     "output_type": "stream",
     "text": [
      "\r",
      "Epoch 6, step 29/96, (Training Loss: 3.3660, samp_prob: 0.4013):  60%|██████    | 6/10 [1:18:34<49:50, 747.72s/it]"
     ]
    },
    {
     "name": "stdout",
     "output_type": "stream",
     "text": [
      "29\n",
      "\n",
      "[FINISHED] Epoch 6, (Training Loss (per epoch): 102.0548 samp_prob: 0.4013)\n"
     ]
    },
    {
     "name": "stderr",
     "output_type": "stream",
     "text": [
      "\r",
      "Epoch 6, step 30/96, (Training Loss: 3.4955, samp_prob: 0.4013):  60%|██████    | 6/10 [1:18:42<49:50, 747.72s/it]"
     ]
    },
    {
     "name": "stdout",
     "output_type": "stream",
     "text": [
      "30\n",
      "\n",
      "[FINISHED] Epoch 6, (Training Loss (per epoch): 105.5503 samp_prob: 0.4013)\n"
     ]
    },
    {
     "name": "stderr",
     "output_type": "stream",
     "text": [
      "\r",
      "Epoch 6, step 31/96, (Training Loss: 3.4049, samp_prob: 0.4013):  60%|██████    | 6/10 [1:18:50<49:50, 747.72s/it]"
     ]
    },
    {
     "name": "stdout",
     "output_type": "stream",
     "text": [
      "[[ 1  4 39 ...  2  2  2]\n",
      " [ 1  4  7 ...  2  2  2]\n",
      " [ 1  4  7 ...  2  2  2]\n",
      " ...\n",
      " [ 1  4  7 ...  2  2  2]\n",
      " [ 1  4  7 ...  2  2  2]\n",
      " [ 1  4  8 ...  2  2  2]]\n",
      "\n",
      "[Train. Prediction] Epoch 6, step 31/96......\n",
      "\n",
      "id: 39\n",
      "answer: ['<BOS>', 'the', 'woman', 'is', 'cutting', 'broccoli']\n",
      "prediction: ['<BOS>', 'a', 'woman', 'is', 'slicing', 'a']\n",
      "31\n",
      "\n",
      "[FINISHED] Epoch 6, (Training Loss (per epoch): 108.9552 samp_prob: 0.4013)\n"
     ]
    },
    {
     "name": "stderr",
     "output_type": "stream",
     "text": [
      "\r",
      "Epoch 6, step 32/96, (Training Loss: 3.3546, samp_prob: 0.4013):  60%|██████    | 6/10 [1:18:58<49:50, 747.72s/it]"
     ]
    },
    {
     "name": "stdout",
     "output_type": "stream",
     "text": [
      "32\n",
      "\n",
      "[FINISHED] Epoch 6, (Training Loss (per epoch): 112.3098 samp_prob: 0.4013)\n"
     ]
    },
    {
     "name": "stderr",
     "output_type": "stream",
     "text": [
      "\r",
      "Epoch 6, step 33/96, (Training Loss: 3.4073, samp_prob: 0.4013):  60%|██████    | 6/10 [1:19:05<49:50, 747.72s/it]"
     ]
    },
    {
     "name": "stdout",
     "output_type": "stream",
     "text": [
      "33\n",
      "\n",
      "[FINISHED] Epoch 6, (Training Loss (per epoch): 115.7171 samp_prob: 0.4013)\n"
     ]
    },
    {
     "name": "stderr",
     "output_type": "stream",
     "text": [
      "\r",
      "Epoch 6, step 34/96, (Training Loss: 3.4005, samp_prob: 0.4013):  60%|██████    | 6/10 [1:19:13<49:50, 747.72s/it]"
     ]
    },
    {
     "name": "stdout",
     "output_type": "stream",
     "text": [
      "34\n",
      "\n",
      "[FINISHED] Epoch 6, (Training Loss (per epoch): 119.1176 samp_prob: 0.4013)\n"
     ]
    },
    {
     "name": "stderr",
     "output_type": "stream",
     "text": [
      "\r",
      "Epoch 6, step 35/96, (Training Loss: 3.4261, samp_prob: 0.4013):  60%|██████    | 6/10 [1:19:20<49:50, 747.72s/it]"
     ]
    },
    {
     "name": "stdout",
     "output_type": "stream",
     "text": [
      "35\n",
      "\n",
      "[FINISHED] Epoch 6, (Training Loss (per epoch): 122.5437 samp_prob: 0.4013)\n"
     ]
    },
    {
     "name": "stderr",
     "output_type": "stream",
     "text": [
      "\r",
      "Epoch 6, step 36/96, (Training Loss: 3.4374, samp_prob: 0.4013):  60%|██████    | 6/10 [1:19:28<49:50, 747.72s/it]"
     ]
    },
    {
     "name": "stdout",
     "output_type": "stream",
     "text": [
      "36\n",
      "\n",
      "[FINISHED] Epoch 6, (Training Loss (per epoch): 125.9811 samp_prob: 0.4013)\n"
     ]
    },
    {
     "name": "stderr",
     "output_type": "stream",
     "text": [
      "\r",
      "Epoch 6, step 37/96, (Training Loss: 3.4131, samp_prob: 0.4013):  60%|██████    | 6/10 [1:19:36<49:50, 747.72s/it]"
     ]
    },
    {
     "name": "stdout",
     "output_type": "stream",
     "text": [
      "37\n",
      "\n",
      "[FINISHED] Epoch 6, (Training Loss (per epoch): 129.3942 samp_prob: 0.4013)\n"
     ]
    },
    {
     "name": "stderr",
     "output_type": "stream",
     "text": [
      "\r",
      "Epoch 6, step 38/96, (Training Loss: 3.3795, samp_prob: 0.4013):  60%|██████    | 6/10 [1:19:43<49:50, 747.72s/it]"
     ]
    },
    {
     "name": "stdout",
     "output_type": "stream",
     "text": [
      "38\n",
      "\n",
      "[FINISHED] Epoch 6, (Training Loss (per epoch): 132.7737 samp_prob: 0.4013)\n"
     ]
    },
    {
     "name": "stderr",
     "output_type": "stream",
     "text": [
      "\r",
      "Epoch 6, step 39/96, (Training Loss: 3.3799, samp_prob: 0.4013):  60%|██████    | 6/10 [1:19:51<49:50, 747.72s/it]"
     ]
    },
    {
     "name": "stdout",
     "output_type": "stream",
     "text": [
      "39\n",
      "\n",
      "[FINISHED] Epoch 6, (Training Loss (per epoch): 136.1535 samp_prob: 0.4013)\n"
     ]
    },
    {
     "name": "stderr",
     "output_type": "stream",
     "text": [
      "\r",
      "Epoch 6, step 40/96, (Training Loss: 3.2892, samp_prob: 0.4013):  60%|██████    | 6/10 [1:19:59<49:50, 747.72s/it]"
     ]
    },
    {
     "name": "stdout",
     "output_type": "stream",
     "text": [
      "40\n",
      "\n",
      "[FINISHED] Epoch 6, (Training Loss (per epoch): 139.4428 samp_prob: 0.4013)\n"
     ]
    },
    {
     "name": "stderr",
     "output_type": "stream",
     "text": [
      "\r",
      "Epoch 6, step 41/96, (Training Loss: 3.3274, samp_prob: 0.4013):  60%|██████    | 6/10 [1:20:06<49:50, 747.72s/it]"
     ]
    },
    {
     "name": "stdout",
     "output_type": "stream",
     "text": [
      "41\n",
      "\n",
      "[FINISHED] Epoch 6, (Training Loss (per epoch): 142.7702 samp_prob: 0.4013)\n"
     ]
    },
    {
     "name": "stderr",
     "output_type": "stream",
     "text": [
      "\r",
      "Epoch 6, step 42/96, (Training Loss: 3.4331, samp_prob: 0.4013):  60%|██████    | 6/10 [1:20:14<49:50, 747.72s/it]"
     ]
    },
    {
     "name": "stdout",
     "output_type": "stream",
     "text": [
      "42\n",
      "\n",
      "[FINISHED] Epoch 6, (Training Loss (per epoch): 146.2032 samp_prob: 0.4013)\n"
     ]
    },
    {
     "name": "stderr",
     "output_type": "stream",
     "text": [
      "\r",
      "Epoch 6, step 43/96, (Training Loss: 3.4005, samp_prob: 0.4013):  60%|██████    | 6/10 [1:20:22<49:50, 747.72s/it]"
     ]
    },
    {
     "name": "stdout",
     "output_type": "stream",
     "text": [
      "43\n",
      "\n",
      "[FINISHED] Epoch 6, (Training Loss (per epoch): 149.6037 samp_prob: 0.4013)\n"
     ]
    },
    {
     "name": "stderr",
     "output_type": "stream",
     "text": [
      "\r",
      "Epoch 6, step 44/96, (Training Loss: 3.3313, samp_prob: 0.4013):  60%|██████    | 6/10 [1:20:29<49:50, 747.72s/it]"
     ]
    },
    {
     "name": "stdout",
     "output_type": "stream",
     "text": [
      "44\n",
      "\n",
      "[FINISHED] Epoch 6, (Training Loss (per epoch): 152.9350 samp_prob: 0.4013)\n"
     ]
    },
    {
     "name": "stderr",
     "output_type": "stream",
     "text": [
      "\r",
      "Epoch 6, step 45/96, (Training Loss: 3.3673, samp_prob: 0.4013):  60%|██████    | 6/10 [1:20:37<49:50, 747.72s/it]"
     ]
    },
    {
     "name": "stdout",
     "output_type": "stream",
     "text": [
      "45\n",
      "\n",
      "[FINISHED] Epoch 6, (Training Loss (per epoch): 156.3024 samp_prob: 0.4013)\n"
     ]
    },
    {
     "name": "stderr",
     "output_type": "stream",
     "text": [
      "\r",
      "Epoch 6, step 46/96, (Training Loss: 3.4353, samp_prob: 0.4013):  60%|██████    | 6/10 [1:20:45<49:50, 747.72s/it]"
     ]
    },
    {
     "name": "stdout",
     "output_type": "stream",
     "text": [
      "[[ 1  4  7 ...  2  2  2]\n",
      " [ 1  4  7 ...  2  2  2]\n",
      " [ 1  4  7 ...  2  2  2]\n",
      " ...\n",
      " [ 1  4 12 ...  2  2  2]\n",
      " [ 1 20 56 ...  2  2  2]\n",
      " [ 1  4  8 ...  2  2  2]]\n",
      "\n",
      "[Train. Prediction] Epoch 6, step 46/96......\n",
      "\n",
      "id: 142\n",
      "answer: ['<BOS>', 'a', 'squirrel', 'is', 'dancing', 'in', 'the', 'grass']\n",
      "prediction: ['<BOS>', 'a', 'baby', 'is', 'is']\n",
      "46\n",
      "\n",
      "[FINISHED] Epoch 6, (Training Loss (per epoch): 159.7377 samp_prob: 0.4013)\n"
     ]
    },
    {
     "name": "stderr",
     "output_type": "stream",
     "text": [
      "\r",
      "Epoch 6, step 47/96, (Training Loss: 3.3665, samp_prob: 0.4013):  60%|██████    | 6/10 [1:20:53<49:50, 747.72s/it]"
     ]
    },
    {
     "name": "stdout",
     "output_type": "stream",
     "text": [
      "47\n",
      "\n",
      "[FINISHED] Epoch 6, (Training Loss (per epoch): 163.1042 samp_prob: 0.4013)\n"
     ]
    },
    {
     "name": "stderr",
     "output_type": "stream",
     "text": [
      "\r",
      "Epoch 6, step 48/96, (Training Loss: 3.3538, samp_prob: 0.4013):  60%|██████    | 6/10 [1:21:00<49:50, 747.72s/it]"
     ]
    },
    {
     "name": "stdout",
     "output_type": "stream",
     "text": [
      "48\n",
      "\n",
      "[FINISHED] Epoch 6, (Training Loss (per epoch): 166.4580 samp_prob: 0.4013)\n"
     ]
    },
    {
     "name": "stderr",
     "output_type": "stream",
     "text": [
      "\r",
      "Epoch 6, step 49/96, (Training Loss: 3.4020, samp_prob: 0.4013):  60%|██████    | 6/10 [1:21:08<49:50, 747.72s/it]"
     ]
    },
    {
     "name": "stdout",
     "output_type": "stream",
     "text": [
      "49\n",
      "\n",
      "[FINISHED] Epoch 6, (Training Loss (per epoch): 169.8600 samp_prob: 0.4013)\n"
     ]
    },
    {
     "name": "stderr",
     "output_type": "stream",
     "text": [
      "\r",
      "Epoch 6, step 50/96, (Training Loss: 3.4924, samp_prob: 0.4013):  60%|██████    | 6/10 [1:21:16<49:50, 747.72s/it]"
     ]
    },
    {
     "name": "stdout",
     "output_type": "stream",
     "text": [
      "50\n",
      "\n",
      "[FINISHED] Epoch 6, (Training Loss (per epoch): 173.3523 samp_prob: 0.4013)\n"
     ]
    },
    {
     "name": "stderr",
     "output_type": "stream",
     "text": [
      "\r",
      "Epoch 6, step 51/96, (Training Loss: 3.3123, samp_prob: 0.4013):  60%|██████    | 6/10 [1:21:23<49:50, 747.72s/it]"
     ]
    },
    {
     "name": "stdout",
     "output_type": "stream",
     "text": [
      "51\n",
      "\n",
      "[FINISHED] Epoch 6, (Training Loss (per epoch): 176.6646 samp_prob: 0.4013)\n"
     ]
    },
    {
     "name": "stderr",
     "output_type": "stream",
     "text": [
      "\r",
      "Epoch 6, step 52/96, (Training Loss: 3.3370, samp_prob: 0.4013):  60%|██████    | 6/10 [1:21:31<49:50, 747.72s/it]"
     ]
    },
    {
     "name": "stdout",
     "output_type": "stream",
     "text": [
      "52\n",
      "\n",
      "[FINISHED] Epoch 6, (Training Loss (per epoch): 180.0016 samp_prob: 0.4013)\n"
     ]
    },
    {
     "name": "stderr",
     "output_type": "stream",
     "text": [
      "\r",
      "Epoch 6, step 53/96, (Training Loss: 3.4835, samp_prob: 0.4013):  60%|██████    | 6/10 [1:21:39<49:50, 747.72s/it]"
     ]
    },
    {
     "name": "stdout",
     "output_type": "stream",
     "text": [
      "53\n",
      "\n",
      "[FINISHED] Epoch 6, (Training Loss (per epoch): 183.4851 samp_prob: 0.4013)\n"
     ]
    },
    {
     "name": "stderr",
     "output_type": "stream",
     "text": [
      "\r",
      "Epoch 6, step 54/96, (Training Loss: 3.3232, samp_prob: 0.4013):  60%|██████    | 6/10 [1:21:46<49:50, 747.72s/it]"
     ]
    },
    {
     "name": "stdout",
     "output_type": "stream",
     "text": [
      "54\n",
      "\n",
      "[FINISHED] Epoch 6, (Training Loss (per epoch): 186.8084 samp_prob: 0.4013)\n"
     ]
    },
    {
     "name": "stderr",
     "output_type": "stream",
     "text": [
      "\r",
      "Epoch 6, step 55/96, (Training Loss: 3.4035, samp_prob: 0.4013):  60%|██████    | 6/10 [1:21:54<49:50, 747.72s/it]"
     ]
    },
    {
     "name": "stdout",
     "output_type": "stream",
     "text": [
      "55\n",
      "\n",
      "[FINISHED] Epoch 6, (Training Loss (per epoch): 190.2118 samp_prob: 0.4013)\n"
     ]
    },
    {
     "name": "stderr",
     "output_type": "stream",
     "text": [
      "\r",
      "Epoch 6, step 56/96, (Training Loss: 3.3071, samp_prob: 0.4013):  60%|██████    | 6/10 [1:22:01<49:50, 747.72s/it]"
     ]
    },
    {
     "name": "stdout",
     "output_type": "stream",
     "text": [
      "56\n",
      "\n",
      "[FINISHED] Epoch 6, (Training Loss (per epoch): 193.5190 samp_prob: 0.4013)\n"
     ]
    },
    {
     "name": "stderr",
     "output_type": "stream",
     "text": [
      "\r",
      "Epoch 6, step 57/96, (Training Loss: 3.2398, samp_prob: 0.4013):  60%|██████    | 6/10 [1:22:09<49:50, 747.72s/it]"
     ]
    },
    {
     "name": "stdout",
     "output_type": "stream",
     "text": [
      "57\n",
      "\n",
      "[FINISHED] Epoch 6, (Training Loss (per epoch): 196.7588 samp_prob: 0.4013)\n"
     ]
    },
    {
     "name": "stderr",
     "output_type": "stream",
     "text": [
      "\r",
      "Epoch 6, step 58/96, (Training Loss: 3.2953, samp_prob: 0.4013):  60%|██████    | 6/10 [1:22:17<49:50, 747.72s/it]"
     ]
    },
    {
     "name": "stdout",
     "output_type": "stream",
     "text": [
      "58\n",
      "\n",
      "[FINISHED] Epoch 6, (Training Loss (per epoch): 200.0541 samp_prob: 0.4013)\n"
     ]
    },
    {
     "name": "stderr",
     "output_type": "stream",
     "text": [
      "\r",
      "Epoch 6, step 59/96, (Training Loss: 3.3807, samp_prob: 0.4013):  60%|██████    | 6/10 [1:22:24<49:50, 747.72s/it]"
     ]
    },
    {
     "name": "stdout",
     "output_type": "stream",
     "text": [
      "59\n",
      "\n",
      "[FINISHED] Epoch 6, (Training Loss (per epoch): 203.4348 samp_prob: 0.4013)\n"
     ]
    },
    {
     "name": "stderr",
     "output_type": "stream",
     "text": [
      "\r",
      "Epoch 6, step 60/96, (Training Loss: 3.3130, samp_prob: 0.4013):  60%|██████    | 6/10 [1:22:32<49:50, 747.72s/it]"
     ]
    },
    {
     "name": "stdout",
     "output_type": "stream",
     "text": [
      "60\n",
      "\n",
      "[FINISHED] Epoch 6, (Training Loss (per epoch): 206.7478 samp_prob: 0.4013)\n"
     ]
    },
    {
     "name": "stderr",
     "output_type": "stream",
     "text": [
      "\r",
      "Epoch 6, step 61/96, (Training Loss: 3.4675, samp_prob: 0.4013):  60%|██████    | 6/10 [1:22:40<49:50, 747.72s/it]"
     ]
    },
    {
     "name": "stdout",
     "output_type": "stream",
     "text": [
      "[[ 1  4  8 ...  2  2  2]\n",
      " [ 1  4  7 ...  2  2  2]\n",
      " [ 1  4  7 ...  2  2  2]\n",
      " ...\n",
      " [ 1  4 23 ...  2  2  2]\n",
      " [ 1  4  8 ...  2  2  2]\n",
      " [ 1  4 12 ...  2  2  2]]\n",
      "\n",
      "[Train. Prediction] Epoch 6, step 61/96......\n",
      "\n",
      "id: 62\n",
      "answer: ['<BOS>', 'two', 'men', 'are', 'walking', 'together']\n",
      "prediction: ['<BOS>', 'two', 'men', 'are', 'are']\n",
      "61\n",
      "\n",
      "[FINISHED] Epoch 6, (Training Loss (per epoch): 210.2154 samp_prob: 0.4013)\n"
     ]
    },
    {
     "name": "stderr",
     "output_type": "stream",
     "text": [
      "\r",
      "Epoch 6, step 62/96, (Training Loss: 3.3940, samp_prob: 0.4013):  60%|██████    | 6/10 [1:22:48<49:50, 747.72s/it]"
     ]
    },
    {
     "name": "stdout",
     "output_type": "stream",
     "text": [
      "62\n",
      "\n",
      "[FINISHED] Epoch 6, (Training Loss (per epoch): 213.6094 samp_prob: 0.4013)\n"
     ]
    },
    {
     "name": "stderr",
     "output_type": "stream",
     "text": [
      "\r",
      "Epoch 6, step 63/96, (Training Loss: 3.4137, samp_prob: 0.4013):  60%|██████    | 6/10 [1:22:55<49:50, 747.72s/it]"
     ]
    },
    {
     "name": "stdout",
     "output_type": "stream",
     "text": [
      "63\n",
      "\n",
      "[FINISHED] Epoch 6, (Training Loss (per epoch): 217.0230 samp_prob: 0.4013)\n"
     ]
    },
    {
     "name": "stderr",
     "output_type": "stream",
     "text": [
      "\r",
      "Epoch 6, step 64/96, (Training Loss: 3.4666, samp_prob: 0.4013):  60%|██████    | 6/10 [1:23:03<49:50, 747.72s/it]"
     ]
    },
    {
     "name": "stdout",
     "output_type": "stream",
     "text": [
      "64\n",
      "\n",
      "[FINISHED] Epoch 6, (Training Loss (per epoch): 220.4896 samp_prob: 0.4013)\n"
     ]
    },
    {
     "name": "stderr",
     "output_type": "stream",
     "text": [
      "\r",
      "Epoch 6, step 65/96, (Training Loss: 3.1886, samp_prob: 0.4013):  60%|██████    | 6/10 [1:23:11<49:50, 747.72s/it]"
     ]
    },
    {
     "name": "stdout",
     "output_type": "stream",
     "text": [
      "65\n",
      "\n",
      "[FINISHED] Epoch 6, (Training Loss (per epoch): 223.6781 samp_prob: 0.4013)\n"
     ]
    },
    {
     "name": "stderr",
     "output_type": "stream",
     "text": [
      "\r",
      "Epoch 6, step 66/96, (Training Loss: 3.4877, samp_prob: 0.4013):  60%|██████    | 6/10 [1:23:18<49:50, 747.72s/it]"
     ]
    },
    {
     "name": "stdout",
     "output_type": "stream",
     "text": [
      "66\n",
      "\n",
      "[FINISHED] Epoch 6, (Training Loss (per epoch): 227.1659 samp_prob: 0.4013)\n"
     ]
    },
    {
     "name": "stderr",
     "output_type": "stream",
     "text": [
      "\r",
      "Epoch 6, step 67/96, (Training Loss: 3.4793, samp_prob: 0.4013):  60%|██████    | 6/10 [1:23:26<49:50, 747.72s/it]"
     ]
    },
    {
     "name": "stdout",
     "output_type": "stream",
     "text": [
      "67\n",
      "\n",
      "[FINISHED] Epoch 6, (Training Loss (per epoch): 230.6452 samp_prob: 0.4013)\n"
     ]
    },
    {
     "name": "stderr",
     "output_type": "stream",
     "text": [
      "\r",
      "Epoch 6, step 68/96, (Training Loss: 3.3492, samp_prob: 0.4013):  60%|██████    | 6/10 [1:23:34<49:50, 747.72s/it]"
     ]
    },
    {
     "name": "stdout",
     "output_type": "stream",
     "text": [
      "68\n",
      "\n",
      "[FINISHED] Epoch 6, (Training Loss (per epoch): 233.9944 samp_prob: 0.4013)\n"
     ]
    },
    {
     "name": "stderr",
     "output_type": "stream",
     "text": [
      "\r",
      "Epoch 6, step 69/96, (Training Loss: 3.2586, samp_prob: 0.4013):  60%|██████    | 6/10 [1:23:41<49:50, 747.72s/it]"
     ]
    },
    {
     "name": "stdout",
     "output_type": "stream",
     "text": [
      "69\n",
      "\n",
      "[FINISHED] Epoch 6, (Training Loss (per epoch): 237.2530 samp_prob: 0.4013)\n"
     ]
    },
    {
     "name": "stderr",
     "output_type": "stream",
     "text": [
      "\r",
      "Epoch 6, step 70/96, (Training Loss: 3.4384, samp_prob: 0.4013):  60%|██████    | 6/10 [1:23:49<49:50, 747.72s/it]"
     ]
    },
    {
     "name": "stdout",
     "output_type": "stream",
     "text": [
      "70\n",
      "\n",
      "[FINISHED] Epoch 6, (Training Loss (per epoch): 240.6914 samp_prob: 0.4013)\n"
     ]
    },
    {
     "name": "stderr",
     "output_type": "stream",
     "text": [
      "\r",
      "Epoch 6, step 71/96, (Training Loss: 3.3106, samp_prob: 0.4013):  60%|██████    | 6/10 [1:23:56<49:50, 747.72s/it]"
     ]
    },
    {
     "name": "stdout",
     "output_type": "stream",
     "text": [
      "71\n",
      "\n",
      "[FINISHED] Epoch 6, (Training Loss (per epoch): 244.0020 samp_prob: 0.4013)\n"
     ]
    },
    {
     "name": "stderr",
     "output_type": "stream",
     "text": [
      "\r",
      "Epoch 6, step 72/96, (Training Loss: 3.4580, samp_prob: 0.4013):  60%|██████    | 6/10 [1:24:04<49:50, 747.72s/it]"
     ]
    },
    {
     "name": "stdout",
     "output_type": "stream",
     "text": [
      "72\n",
      "\n",
      "[FINISHED] Epoch 6, (Training Loss (per epoch): 247.4600 samp_prob: 0.4013)\n"
     ]
    },
    {
     "name": "stderr",
     "output_type": "stream",
     "text": [
      "\r",
      "Epoch 6, step 73/96, (Training Loss: 3.3431, samp_prob: 0.4013):  60%|██████    | 6/10 [1:24:12<49:50, 747.72s/it]"
     ]
    },
    {
     "name": "stdout",
     "output_type": "stream",
     "text": [
      "73\n",
      "\n",
      "[FINISHED] Epoch 6, (Training Loss (per epoch): 250.8031 samp_prob: 0.4013)\n"
     ]
    },
    {
     "name": "stderr",
     "output_type": "stream",
     "text": [
      "\r",
      "Epoch 6, step 74/96, (Training Loss: 3.3770, samp_prob: 0.4013):  60%|██████    | 6/10 [1:24:19<49:50, 747.72s/it]"
     ]
    },
    {
     "name": "stdout",
     "output_type": "stream",
     "text": [
      "74\n",
      "\n",
      "[FINISHED] Epoch 6, (Training Loss (per epoch): 254.1801 samp_prob: 0.4013)\n"
     ]
    },
    {
     "name": "stderr",
     "output_type": "stream",
     "text": [
      "\r",
      "Epoch 6, step 75/96, (Training Loss: 3.3903, samp_prob: 0.4013):  60%|██████    | 6/10 [1:24:27<49:50, 747.72s/it]"
     ]
    },
    {
     "name": "stdout",
     "output_type": "stream",
     "text": [
      "75\n",
      "\n",
      "[FINISHED] Epoch 6, (Training Loss (per epoch): 257.5704 samp_prob: 0.4013)\n"
     ]
    },
    {
     "name": "stderr",
     "output_type": "stream",
     "text": [
      "\r",
      "Epoch 6, step 76/96, (Training Loss: 3.4217, samp_prob: 0.4013):  60%|██████    | 6/10 [1:24:35<49:50, 747.72s/it]"
     ]
    },
    {
     "name": "stdout",
     "output_type": "stream",
     "text": [
      "[[ 1  4  8 ...  2  2  2]\n",
      " [ 1  4 12 ...  2  2  2]\n",
      " [ 1  4  8 ...  2  2  2]\n",
      " ...\n",
      " [ 1  4  7 ...  2  2  2]\n",
      " [ 1  4  8 ...  2  2  2]\n",
      " [ 1  4  7 ...  2  2  2]]\n",
      "\n",
      "[Train. Prediction] Epoch 6, step 76/96......\n",
      "\n",
      "id: 147\n",
      "answer: ['<BOS>', 'a', 'woman', 'is', 'putting', 'sticks', 'lengthwise', 'into', 'large', 'pieces', 'of', 'uncooked', 'shrimp']\n",
      "prediction: ['<BOS>', 'a', 'woman', 'is', 'the']\n",
      "76\n",
      "\n",
      "[FINISHED] Epoch 6, (Training Loss (per epoch): 260.9921 samp_prob: 0.4013)\n"
     ]
    },
    {
     "name": "stderr",
     "output_type": "stream",
     "text": [
      "\r",
      "Epoch 6, step 77/96, (Training Loss: 3.3444, samp_prob: 0.4013):  60%|██████    | 6/10 [1:24:43<49:50, 747.72s/it]"
     ]
    },
    {
     "name": "stdout",
     "output_type": "stream",
     "text": [
      "77\n",
      "\n",
      "[FINISHED] Epoch 6, (Training Loss (per epoch): 264.3365 samp_prob: 0.4013)\n"
     ]
    },
    {
     "name": "stderr",
     "output_type": "stream",
     "text": [
      "\r",
      "Epoch 6, step 78/96, (Training Loss: 3.2288, samp_prob: 0.4013):  60%|██████    | 6/10 [1:24:50<49:50, 747.72s/it]"
     ]
    },
    {
     "name": "stdout",
     "output_type": "stream",
     "text": [
      "78\n",
      "\n",
      "[FINISHED] Epoch 6, (Training Loss (per epoch): 267.5653 samp_prob: 0.4013)\n"
     ]
    },
    {
     "name": "stderr",
     "output_type": "stream",
     "text": [
      "\r",
      "Epoch 6, step 79/96, (Training Loss: 3.2620, samp_prob: 0.4013):  60%|██████    | 6/10 [1:24:58<49:50, 747.72s/it]"
     ]
    },
    {
     "name": "stdout",
     "output_type": "stream",
     "text": [
      "79\n",
      "\n",
      "[FINISHED] Epoch 6, (Training Loss (per epoch): 270.8273 samp_prob: 0.4013)\n"
     ]
    },
    {
     "name": "stderr",
     "output_type": "stream",
     "text": [
      "\r",
      "Epoch 6, step 80/96, (Training Loss: 3.3793, samp_prob: 0.4013):  60%|██████    | 6/10 [1:25:06<49:50, 747.72s/it]"
     ]
    },
    {
     "name": "stdout",
     "output_type": "stream",
     "text": [
      "80\n",
      "\n",
      "[FINISHED] Epoch 6, (Training Loss (per epoch): 274.2066 samp_prob: 0.4013)\n"
     ]
    },
    {
     "name": "stderr",
     "output_type": "stream",
     "text": [
      "\r",
      "Epoch 6, step 81/96, (Training Loss: 3.2235, samp_prob: 0.4013):  60%|██████    | 6/10 [1:25:13<49:50, 747.72s/it]"
     ]
    },
    {
     "name": "stdout",
     "output_type": "stream",
     "text": [
      "81\n",
      "\n",
      "[FINISHED] Epoch 6, (Training Loss (per epoch): 277.4301 samp_prob: 0.4013)\n"
     ]
    },
    {
     "name": "stderr",
     "output_type": "stream",
     "text": [
      "\r",
      "Epoch 6, step 82/96, (Training Loss: 3.4946, samp_prob: 0.4013):  60%|██████    | 6/10 [1:25:21<49:50, 747.72s/it]"
     ]
    },
    {
     "name": "stdout",
     "output_type": "stream",
     "text": [
      "82\n",
      "\n",
      "[FINISHED] Epoch 6, (Training Loss (per epoch): 280.9247 samp_prob: 0.4013)\n"
     ]
    },
    {
     "name": "stderr",
     "output_type": "stream",
     "text": [
      "\r",
      "Epoch 6, step 83/96, (Training Loss: 3.4030, samp_prob: 0.4013):  60%|██████    | 6/10 [1:25:28<49:50, 747.72s/it]"
     ]
    },
    {
     "name": "stdout",
     "output_type": "stream",
     "text": [
      "83\n",
      "\n",
      "[FINISHED] Epoch 6, (Training Loss (per epoch): 284.3278 samp_prob: 0.4013)\n"
     ]
    },
    {
     "name": "stderr",
     "output_type": "stream",
     "text": [
      "\r",
      "Epoch 6, step 84/96, (Training Loss: 3.3076, samp_prob: 0.4013):  60%|██████    | 6/10 [1:25:36<49:50, 747.72s/it]"
     ]
    },
    {
     "name": "stdout",
     "output_type": "stream",
     "text": [
      "84\n",
      "\n",
      "[FINISHED] Epoch 6, (Training Loss (per epoch): 287.6353 samp_prob: 0.4013)\n"
     ]
    },
    {
     "name": "stderr",
     "output_type": "stream",
     "text": [
      "\r",
      "Epoch 6, step 85/96, (Training Loss: 3.4420, samp_prob: 0.4013):  60%|██████    | 6/10 [1:25:44<49:50, 747.72s/it]"
     ]
    },
    {
     "name": "stdout",
     "output_type": "stream",
     "text": [
      "85\n",
      "\n",
      "[FINISHED] Epoch 6, (Training Loss (per epoch): 291.0773 samp_prob: 0.4013)\n"
     ]
    },
    {
     "name": "stderr",
     "output_type": "stream",
     "text": [
      "\r",
      "Epoch 6, step 86/96, (Training Loss: 3.2788, samp_prob: 0.4013):  60%|██████    | 6/10 [1:25:51<49:50, 747.72s/it]"
     ]
    },
    {
     "name": "stdout",
     "output_type": "stream",
     "text": [
      "86\n",
      "\n",
      "[FINISHED] Epoch 6, (Training Loss (per epoch): 294.3561 samp_prob: 0.4013)\n"
     ]
    },
    {
     "name": "stderr",
     "output_type": "stream",
     "text": [
      "\r",
      "Epoch 6, step 87/96, (Training Loss: 3.4081, samp_prob: 0.4013):  60%|██████    | 6/10 [1:25:59<49:50, 747.72s/it]"
     ]
    },
    {
     "name": "stdout",
     "output_type": "stream",
     "text": [
      "87\n",
      "\n",
      "[FINISHED] Epoch 6, (Training Loss (per epoch): 297.7642 samp_prob: 0.4013)\n"
     ]
    },
    {
     "name": "stderr",
     "output_type": "stream",
     "text": [
      "\r",
      "Epoch 6, step 88/96, (Training Loss: 3.3878, samp_prob: 0.4013):  60%|██████    | 6/10 [1:26:07<49:50, 747.72s/it]"
     ]
    },
    {
     "name": "stdout",
     "output_type": "stream",
     "text": [
      "88\n",
      "\n",
      "[FINISHED] Epoch 6, (Training Loss (per epoch): 301.1520 samp_prob: 0.4013)\n"
     ]
    },
    {
     "name": "stderr",
     "output_type": "stream",
     "text": [
      "\r",
      "Epoch 6, step 89/96, (Training Loss: 3.3704, samp_prob: 0.4013):  60%|██████    | 6/10 [1:26:14<49:50, 747.72s/it]"
     ]
    },
    {
     "name": "stdout",
     "output_type": "stream",
     "text": [
      "89\n",
      "\n",
      "[FINISHED] Epoch 6, (Training Loss (per epoch): 304.5224 samp_prob: 0.4013)\n"
     ]
    },
    {
     "name": "stderr",
     "output_type": "stream",
     "text": [
      "\r",
      "Epoch 6, step 90/96, (Training Loss: 3.2704, samp_prob: 0.4013):  60%|██████    | 6/10 [1:26:22<49:50, 747.72s/it]"
     ]
    },
    {
     "name": "stdout",
     "output_type": "stream",
     "text": [
      "90\n",
      "\n",
      "[FINISHED] Epoch 6, (Training Loss (per epoch): 307.7928 samp_prob: 0.4013)\n"
     ]
    },
    {
     "name": "stderr",
     "output_type": "stream",
     "text": [
      "\r",
      "Epoch 6, step 91/96, (Training Loss: 3.3709, samp_prob: 0.4013):  60%|██████    | 6/10 [1:26:30<49:50, 747.72s/it]"
     ]
    },
    {
     "name": "stdout",
     "output_type": "stream",
     "text": [
      "[[ 1  4  7 ...  2  2  2]\n",
      " [ 1  4 12 ...  2  2  2]\n",
      " [ 1  4 24 ...  2  2  2]\n",
      " ...\n",
      " [ 1  4  7 ...  2  2  2]\n",
      " [ 1  4  8 ...  2  2  2]\n",
      " [ 1  4  7 ...  2  2  2]]\n",
      "\n",
      "[Train. Prediction] Epoch 6, step 91/96......\n",
      "\n",
      "id: 27\n",
      "answer: ['<BOS>', 'a', 'baby', 'is', 'hugging', 'a', 'stuffed', 'animal']\n",
      "prediction: ['<BOS>', 'a', 'baby', 'is', 'playing', 'a', 'a']\n",
      "91\n",
      "\n",
      "[FINISHED] Epoch 6, (Training Loss (per epoch): 311.1637 samp_prob: 0.4013)\n"
     ]
    },
    {
     "name": "stderr",
     "output_type": "stream",
     "text": [
      "\r",
      "Epoch 6, step 92/96, (Training Loss: 3.2214, samp_prob: 0.4013):  60%|██████    | 6/10 [1:26:38<49:50, 747.72s/it]"
     ]
    },
    {
     "name": "stdout",
     "output_type": "stream",
     "text": [
      "92\n",
      "\n",
      "[FINISHED] Epoch 6, (Training Loss (per epoch): 314.3852 samp_prob: 0.4013)\n"
     ]
    },
    {
     "name": "stderr",
     "output_type": "stream",
     "text": [
      "\r",
      "Epoch 6, step 93/96, (Training Loss: 3.2832, samp_prob: 0.4013):  60%|██████    | 6/10 [1:26:45<49:50, 747.72s/it]"
     ]
    },
    {
     "name": "stdout",
     "output_type": "stream",
     "text": [
      "93\n",
      "\n",
      "[FINISHED] Epoch 6, (Training Loss (per epoch): 317.6684 samp_prob: 0.4013)\n"
     ]
    },
    {
     "name": "stderr",
     "output_type": "stream",
     "text": [
      "\r",
      "Epoch 6, step 94/96, (Training Loss: 3.4118, samp_prob: 0.4013):  60%|██████    | 6/10 [1:26:53<49:50, 747.72s/it]"
     ]
    },
    {
     "name": "stdout",
     "output_type": "stream",
     "text": [
      "94\n",
      "\n",
      "[FINISHED] Epoch 6, (Training Loss (per epoch): 321.0802 samp_prob: 0.4013)\n"
     ]
    },
    {
     "name": "stderr",
     "output_type": "stream",
     "text": [
      "Epoch 6, step 95/96, (Training Loss: 3.3693, samp_prob: 0.4013):  70%|███████   | 7/10 [1:27:01<37:12, 744.03s/it]"
     ]
    },
    {
     "name": "stdout",
     "output_type": "stream",
     "text": [
      "95\n",
      "\n",
      "[FINISHED] Epoch 6, (Training Loss (per epoch): 324.4495 samp_prob: 0.4013)\n"
     ]
    },
    {
     "name": "stderr",
     "output_type": "stream",
     "text": [
      "\r",
      "Epoch 7, step 0/96, (Training Loss: 3.4267, samp_prob: 0.3100):  70%|███████   | 7/10 [1:27:08<37:12, 744.03s/it] "
     ]
    },
    {
     "name": "stdout",
     "output_type": "stream",
     "text": [
      "0\n",
      "\n",
      "[FINISHED] Epoch 7, (Training Loss (per epoch): 3.4267 samp_prob: 0.3100)\n"
     ]
    },
    {
     "name": "stderr",
     "output_type": "stream",
     "text": [
      "\r",
      "Epoch 7, step 1/96, (Training Loss: 3.3737, samp_prob: 0.3100):  70%|███████   | 7/10 [1:27:16<37:12, 744.03s/it]"
     ]
    },
    {
     "name": "stdout",
     "output_type": "stream",
     "text": [
      "[[ 1  4 24 ...  2  2  2]\n",
      " [ 1  4 17 ...  2  2  2]\n",
      " [ 1  4  7 ...  2  2  2]\n",
      " ...\n",
      " [ 1  6 12 ...  2  2  2]\n",
      " [ 1  4  8 ...  2  2  2]\n",
      " [ 1  4  7 ...  2  2  2]]\n",
      "\n",
      "[Train. Prediction] Epoch 7, step 1/96......\n",
      "\n",
      "id: 113\n",
      "answer: ['<BOS>', 'a', 'woman', 'is', 'cutting', 'an', 'onion']\n",
      "prediction: ['<BOS>', 'a', 'woman', 'is', 'a', 'onion']\n",
      "1\n",
      "\n",
      "[FINISHED] Epoch 7, (Training Loss (per epoch): 6.8004 samp_prob: 0.3100)\n"
     ]
    },
    {
     "name": "stderr",
     "output_type": "stream",
     "text": [
      "\r",
      "Epoch 7, step 2/96, (Training Loss: 3.3448, samp_prob: 0.3100):  70%|███████   | 7/10 [1:27:24<37:12, 744.03s/it]"
     ]
    },
    {
     "name": "stdout",
     "output_type": "stream",
     "text": [
      "2\n",
      "\n",
      "[FINISHED] Epoch 7, (Training Loss (per epoch): 10.1452 samp_prob: 0.3100)\n"
     ]
    },
    {
     "name": "stderr",
     "output_type": "stream",
     "text": [
      "\r",
      "Epoch 7, step 3/96, (Training Loss: 3.4077, samp_prob: 0.3100):  70%|███████   | 7/10 [1:27:32<37:12, 744.03s/it]"
     ]
    },
    {
     "name": "stdout",
     "output_type": "stream",
     "text": [
      "3\n",
      "\n",
      "[FINISHED] Epoch 7, (Training Loss (per epoch): 13.5530 samp_prob: 0.3100)\n"
     ]
    },
    {
     "name": "stderr",
     "output_type": "stream",
     "text": [
      "\r",
      "Epoch 7, step 4/96, (Training Loss: 3.2589, samp_prob: 0.3100):  70%|███████   | 7/10 [1:27:39<37:12, 744.03s/it]"
     ]
    },
    {
     "name": "stdout",
     "output_type": "stream",
     "text": [
      "4\n",
      "\n",
      "[FINISHED] Epoch 7, (Training Loss (per epoch): 16.8118 samp_prob: 0.3100)\n"
     ]
    },
    {
     "name": "stderr",
     "output_type": "stream",
     "text": [
      "\r",
      "Epoch 7, step 5/96, (Training Loss: 3.2700, samp_prob: 0.3100):  70%|███████   | 7/10 [1:27:47<37:12, 744.03s/it]"
     ]
    },
    {
     "name": "stdout",
     "output_type": "stream",
     "text": [
      "5\n",
      "\n",
      "[FINISHED] Epoch 7, (Training Loss (per epoch): 20.0818 samp_prob: 0.3100)\n"
     ]
    },
    {
     "name": "stderr",
     "output_type": "stream",
     "text": [
      "\r",
      "Epoch 7, step 6/96, (Training Loss: 3.2944, samp_prob: 0.3100):  70%|███████   | 7/10 [1:27:55<37:12, 744.03s/it]"
     ]
    },
    {
     "name": "stdout",
     "output_type": "stream",
     "text": [
      "6\n",
      "\n",
      "[FINISHED] Epoch 7, (Training Loss (per epoch): 23.3762 samp_prob: 0.3100)\n"
     ]
    },
    {
     "name": "stderr",
     "output_type": "stream",
     "text": [
      "\r",
      "Epoch 7, step 7/96, (Training Loss: 3.3435, samp_prob: 0.3100):  70%|███████   | 7/10 [1:28:02<37:12, 744.03s/it]"
     ]
    },
    {
     "name": "stdout",
     "output_type": "stream",
     "text": [
      "7\n",
      "\n",
      "[FINISHED] Epoch 7, (Training Loss (per epoch): 26.7197 samp_prob: 0.3100)\n"
     ]
    },
    {
     "name": "stderr",
     "output_type": "stream",
     "text": [
      "\r",
      "Epoch 7, step 8/96, (Training Loss: 3.3153, samp_prob: 0.3100):  70%|███████   | 7/10 [1:28:10<37:12, 744.03s/it]"
     ]
    },
    {
     "name": "stdout",
     "output_type": "stream",
     "text": [
      "8\n",
      "\n",
      "[FINISHED] Epoch 7, (Training Loss (per epoch): 30.0351 samp_prob: 0.3100)\n"
     ]
    },
    {
     "name": "stderr",
     "output_type": "stream",
     "text": [
      "\r",
      "Epoch 7, step 9/96, (Training Loss: 3.3270, samp_prob: 0.3100):  70%|███████   | 7/10 [1:28:18<37:12, 744.03s/it]"
     ]
    },
    {
     "name": "stdout",
     "output_type": "stream",
     "text": [
      "9\n",
      "\n",
      "[FINISHED] Epoch 7, (Training Loss (per epoch): 33.3621 samp_prob: 0.3100)\n"
     ]
    },
    {
     "name": "stderr",
     "output_type": "stream",
     "text": [
      "\r",
      "Epoch 7, step 10/96, (Training Loss: 3.2851, samp_prob: 0.3100):  70%|███████   | 7/10 [1:28:25<37:12, 744.03s/it]"
     ]
    },
    {
     "name": "stdout",
     "output_type": "stream",
     "text": [
      "10\n",
      "\n",
      "[FINISHED] Epoch 7, (Training Loss (per epoch): 36.6471 samp_prob: 0.3100)\n"
     ]
    },
    {
     "name": "stderr",
     "output_type": "stream",
     "text": [
      "\r",
      "Epoch 7, step 11/96, (Training Loss: 3.3351, samp_prob: 0.3100):  70%|███████   | 7/10 [1:28:33<37:12, 744.03s/it]"
     ]
    },
    {
     "name": "stdout",
     "output_type": "stream",
     "text": [
      "11\n",
      "\n",
      "[FINISHED] Epoch 7, (Training Loss (per epoch): 39.9822 samp_prob: 0.3100)\n"
     ]
    },
    {
     "name": "stderr",
     "output_type": "stream",
     "text": [
      "\r",
      "Epoch 7, step 12/96, (Training Loss: 3.3338, samp_prob: 0.3100):  70%|███████   | 7/10 [1:28:41<37:12, 744.03s/it]"
     ]
    },
    {
     "name": "stdout",
     "output_type": "stream",
     "text": [
      "12\n",
      "\n",
      "[FINISHED] Epoch 7, (Training Loss (per epoch): 43.3160 samp_prob: 0.3100)\n"
     ]
    },
    {
     "name": "stderr",
     "output_type": "stream",
     "text": [
      "\r",
      "Epoch 7, step 13/96, (Training Loss: 3.4402, samp_prob: 0.3100):  70%|███████   | 7/10 [1:28:48<37:12, 744.03s/it]"
     ]
    },
    {
     "name": "stdout",
     "output_type": "stream",
     "text": [
      "13\n",
      "\n",
      "[FINISHED] Epoch 7, (Training Loss (per epoch): 46.7562 samp_prob: 0.3100)\n"
     ]
    },
    {
     "name": "stderr",
     "output_type": "stream",
     "text": [
      "\r",
      "Epoch 7, step 14/96, (Training Loss: 3.4247, samp_prob: 0.3100):  70%|███████   | 7/10 [1:28:56<37:12, 744.03s/it]"
     ]
    },
    {
     "name": "stdout",
     "output_type": "stream",
     "text": [
      "14\n",
      "\n",
      "[FINISHED] Epoch 7, (Training Loss (per epoch): 50.1809 samp_prob: 0.3100)\n"
     ]
    },
    {
     "name": "stderr",
     "output_type": "stream",
     "text": [
      "\r",
      "Epoch 7, step 15/96, (Training Loss: 3.3925, samp_prob: 0.3100):  70%|███████   | 7/10 [1:29:04<37:12, 744.03s/it]"
     ]
    },
    {
     "name": "stdout",
     "output_type": "stream",
     "text": [
      "15\n",
      "\n",
      "[FINISHED] Epoch 7, (Training Loss (per epoch): 53.5734 samp_prob: 0.3100)\n"
     ]
    },
    {
     "name": "stderr",
     "output_type": "stream",
     "text": [
      "\r",
      "Epoch 7, step 16/96, (Training Loss: 3.2884, samp_prob: 0.3100):  70%|███████   | 7/10 [1:29:12<37:12, 744.03s/it]"
     ]
    },
    {
     "name": "stdout",
     "output_type": "stream",
     "text": [
      "[[ 1  4 23 ...  2  2  2]\n",
      " [ 1  4  8 ...  2  2  2]\n",
      " [ 1  4 56 ...  2  2  2]\n",
      " ...\n",
      " [ 1  4 23 ...  2  2  2]\n",
      " [ 1  4  8 ...  2  2  2]\n",
      " [ 1  4  8 ...  2  2  2]]\n",
      "\n",
      "[Train. Prediction] Epoch 7, step 16/96......\n",
      "\n",
      "id: 126\n",
      "answer: ['<BOS>', 'a', 'lady', 'sliced', 'a', 'lemon', 'with', 'a', 'tool']\n",
      "prediction: ['<BOS>', 'a', 'is', 'is', 'a', 'a']\n",
      "16\n",
      "\n",
      "[FINISHED] Epoch 7, (Training Loss (per epoch): 56.8618 samp_prob: 0.3100)\n"
     ]
    },
    {
     "name": "stderr",
     "output_type": "stream",
     "text": [
      "\r",
      "Epoch 7, step 17/96, (Training Loss: 3.2631, samp_prob: 0.3100):  70%|███████   | 7/10 [1:29:19<37:12, 744.03s/it]"
     ]
    },
    {
     "name": "stdout",
     "output_type": "stream",
     "text": [
      "17\n",
      "\n",
      "[FINISHED] Epoch 7, (Training Loss (per epoch): 60.1248 samp_prob: 0.3100)\n"
     ]
    },
    {
     "name": "stderr",
     "output_type": "stream",
     "text": [
      "\r",
      "Epoch 7, step 18/96, (Training Loss: 3.1743, samp_prob: 0.3100):  70%|███████   | 7/10 [1:29:27<37:12, 744.03s/it]"
     ]
    },
    {
     "name": "stdout",
     "output_type": "stream",
     "text": [
      "18\n",
      "\n",
      "[FINISHED] Epoch 7, (Training Loss (per epoch): 63.2991 samp_prob: 0.3100)\n"
     ]
    },
    {
     "name": "stderr",
     "output_type": "stream",
     "text": [
      "\r",
      "Epoch 7, step 19/96, (Training Loss: 3.0374, samp_prob: 0.3100):  70%|███████   | 7/10 [1:29:35<37:12, 744.03s/it]"
     ]
    },
    {
     "name": "stdout",
     "output_type": "stream",
     "text": [
      "19\n",
      "\n",
      "[FINISHED] Epoch 7, (Training Loss (per epoch): 66.3365 samp_prob: 0.3100)\n"
     ]
    },
    {
     "name": "stderr",
     "output_type": "stream",
     "text": [
      "\r",
      "Epoch 7, step 20/96, (Training Loss: 3.3731, samp_prob: 0.3100):  70%|███████   | 7/10 [1:29:42<37:12, 744.03s/it]"
     ]
    },
    {
     "name": "stdout",
     "output_type": "stream",
     "text": [
      "20\n",
      "\n",
      "[FINISHED] Epoch 7, (Training Loss (per epoch): 69.7096 samp_prob: 0.3100)\n"
     ]
    },
    {
     "name": "stderr",
     "output_type": "stream",
     "text": [
      "\r",
      "Epoch 7, step 21/96, (Training Loss: 3.2575, samp_prob: 0.3100):  70%|███████   | 7/10 [1:29:50<37:12, 744.03s/it]"
     ]
    },
    {
     "name": "stdout",
     "output_type": "stream",
     "text": [
      "21\n",
      "\n",
      "[FINISHED] Epoch 7, (Training Loss (per epoch): 72.9671 samp_prob: 0.3100)\n"
     ]
    },
    {
     "name": "stderr",
     "output_type": "stream",
     "text": [
      "\r",
      "Epoch 7, step 22/96, (Training Loss: 3.2142, samp_prob: 0.3100):  70%|███████   | 7/10 [1:29:58<37:12, 744.03s/it]"
     ]
    },
    {
     "name": "stdout",
     "output_type": "stream",
     "text": [
      "22\n",
      "\n",
      "[FINISHED] Epoch 7, (Training Loss (per epoch): 76.1813 samp_prob: 0.3100)\n"
     ]
    },
    {
     "name": "stderr",
     "output_type": "stream",
     "text": [
      "\r",
      "Epoch 7, step 23/96, (Training Loss: 3.3624, samp_prob: 0.3100):  70%|███████   | 7/10 [1:30:05<37:12, 744.03s/it]"
     ]
    },
    {
     "name": "stdout",
     "output_type": "stream",
     "text": [
      "23\n",
      "\n",
      "[FINISHED] Epoch 7, (Training Loss (per epoch): 79.5437 samp_prob: 0.3100)\n"
     ]
    },
    {
     "name": "stderr",
     "output_type": "stream",
     "text": [
      "\r",
      "Epoch 7, step 24/96, (Training Loss: 3.4892, samp_prob: 0.3100):  70%|███████   | 7/10 [1:30:13<37:12, 744.03s/it]"
     ]
    },
    {
     "name": "stdout",
     "output_type": "stream",
     "text": [
      "24\n",
      "\n",
      "[FINISHED] Epoch 7, (Training Loss (per epoch): 83.0328 samp_prob: 0.3100)\n"
     ]
    },
    {
     "name": "stderr",
     "output_type": "stream",
     "text": [
      "\r",
      "Epoch 7, step 25/96, (Training Loss: 3.2484, samp_prob: 0.3100):  70%|███████   | 7/10 [1:30:20<37:12, 744.03s/it]"
     ]
    },
    {
     "name": "stdout",
     "output_type": "stream",
     "text": [
      "25\n",
      "\n",
      "[FINISHED] Epoch 7, (Training Loss (per epoch): 86.2812 samp_prob: 0.3100)\n"
     ]
    },
    {
     "name": "stderr",
     "output_type": "stream",
     "text": [
      "\r",
      "Epoch 7, step 26/96, (Training Loss: 3.2999, samp_prob: 0.3100):  70%|███████   | 7/10 [1:30:28<37:12, 744.03s/it]"
     ]
    },
    {
     "name": "stdout",
     "output_type": "stream",
     "text": [
      "26\n",
      "\n",
      "[FINISHED] Epoch 7, (Training Loss (per epoch): 89.5812 samp_prob: 0.3100)\n"
     ]
    },
    {
     "name": "stderr",
     "output_type": "stream",
     "text": [
      "\r",
      "Epoch 7, step 27/96, (Training Loss: 3.2030, samp_prob: 0.3100):  70%|███████   | 7/10 [1:30:36<37:12, 744.03s/it]"
     ]
    },
    {
     "name": "stdout",
     "output_type": "stream",
     "text": [
      "27\n",
      "\n",
      "[FINISHED] Epoch 7, (Training Loss (per epoch): 92.7842 samp_prob: 0.3100)\n"
     ]
    },
    {
     "name": "stderr",
     "output_type": "stream",
     "text": [
      "\r",
      "Epoch 7, step 28/96, (Training Loss: 3.1667, samp_prob: 0.3100):  70%|███████   | 7/10 [1:30:43<37:12, 744.03s/it]"
     ]
    },
    {
     "name": "stdout",
     "output_type": "stream",
     "text": [
      "28\n",
      "\n",
      "[FINISHED] Epoch 7, (Training Loss (per epoch): 95.9509 samp_prob: 0.3100)\n"
     ]
    },
    {
     "name": "stderr",
     "output_type": "stream",
     "text": [
      "\r",
      "Epoch 7, step 29/96, (Training Loss: 3.2708, samp_prob: 0.3100):  70%|███████   | 7/10 [1:30:51<37:12, 744.03s/it]"
     ]
    },
    {
     "name": "stdout",
     "output_type": "stream",
     "text": [
      "29\n",
      "\n",
      "[FINISHED] Epoch 7, (Training Loss (per epoch): 99.2216 samp_prob: 0.3100)\n"
     ]
    },
    {
     "name": "stderr",
     "output_type": "stream",
     "text": [
      "\r",
      "Epoch 7, step 30/96, (Training Loss: 3.3990, samp_prob: 0.3100):  70%|███████   | 7/10 [1:30:59<37:12, 744.03s/it]"
     ]
    },
    {
     "name": "stdout",
     "output_type": "stream",
     "text": [
      "30\n",
      "\n",
      "[FINISHED] Epoch 7, (Training Loss (per epoch): 102.6206 samp_prob: 0.3100)\n"
     ]
    },
    {
     "name": "stderr",
     "output_type": "stream",
     "text": [
      "\r",
      "Epoch 7, step 31/96, (Training Loss: 3.3093, samp_prob: 0.3100):  70%|███████   | 7/10 [1:31:07<37:12, 744.03s/it]"
     ]
    },
    {
     "name": "stdout",
     "output_type": "stream",
     "text": [
      "[[ 1  4 12 ...  2  2  2]\n",
      " [ 1  4  7 ...  2  2  2]\n",
      " [ 1  4  7 ...  2  2  2]\n",
      " ...\n",
      " [ 1  4  7 ...  2  2  2]\n",
      " [ 1  4  7 ...  2  2  2]\n",
      " [ 1  4  8 ...  2  2  2]]\n",
      "\n",
      "[Train. Prediction] Epoch 7, step 31/96......\n",
      "\n",
      "id: 113\n",
      "answer: ['<BOS>', 'a', 'small', 'panda', 'is', 'laying', 'close', 'to', 'a', 'larger', 'panda']\n",
      "prediction: ['<BOS>', 'a', 'panda', 'are', 'on']\n",
      "31\n",
      "\n",
      "[FINISHED] Epoch 7, (Training Loss (per epoch): 105.9299 samp_prob: 0.3100)\n"
     ]
    },
    {
     "name": "stderr",
     "output_type": "stream",
     "text": [
      "\r",
      "Epoch 7, step 32/96, (Training Loss: 3.2727, samp_prob: 0.3100):  70%|███████   | 7/10 [1:31:14<37:12, 744.03s/it]"
     ]
    },
    {
     "name": "stdout",
     "output_type": "stream",
     "text": [
      "32\n",
      "\n",
      "[FINISHED] Epoch 7, (Training Loss (per epoch): 109.2026 samp_prob: 0.3100)\n"
     ]
    },
    {
     "name": "stderr",
     "output_type": "stream",
     "text": [
      "\r",
      "Epoch 7, step 33/96, (Training Loss: 3.3521, samp_prob: 0.3100):  70%|███████   | 7/10 [1:31:22<37:12, 744.03s/it]"
     ]
    },
    {
     "name": "stdout",
     "output_type": "stream",
     "text": [
      "33\n",
      "\n",
      "[FINISHED] Epoch 7, (Training Loss (per epoch): 112.5547 samp_prob: 0.3100)\n"
     ]
    },
    {
     "name": "stderr",
     "output_type": "stream",
     "text": [
      "\r",
      "Epoch 7, step 34/96, (Training Loss: 3.3097, samp_prob: 0.3100):  70%|███████   | 7/10 [1:31:30<37:12, 744.03s/it]"
     ]
    },
    {
     "name": "stdout",
     "output_type": "stream",
     "text": [
      "34\n",
      "\n",
      "[FINISHED] Epoch 7, (Training Loss (per epoch): 115.8644 samp_prob: 0.3100)\n"
     ]
    },
    {
     "name": "stderr",
     "output_type": "stream",
     "text": [
      "\r",
      "Epoch 7, step 35/96, (Training Loss: 3.3188, samp_prob: 0.3100):  70%|███████   | 7/10 [1:31:37<37:12, 744.03s/it]"
     ]
    },
    {
     "name": "stdout",
     "output_type": "stream",
     "text": [
      "35\n",
      "\n",
      "[FINISHED] Epoch 7, (Training Loss (per epoch): 119.1833 samp_prob: 0.3100)\n"
     ]
    },
    {
     "name": "stderr",
     "output_type": "stream",
     "text": [
      "\r",
      "Epoch 7, step 36/96, (Training Loss: 3.3599, samp_prob: 0.3100):  70%|███████   | 7/10 [1:31:45<37:12, 744.03s/it]"
     ]
    },
    {
     "name": "stdout",
     "output_type": "stream",
     "text": [
      "36\n",
      "\n",
      "[FINISHED] Epoch 7, (Training Loss (per epoch): 122.5432 samp_prob: 0.3100)\n"
     ]
    },
    {
     "name": "stderr",
     "output_type": "stream",
     "text": [
      "\r",
      "Epoch 7, step 37/96, (Training Loss: 3.3119, samp_prob: 0.3100):  70%|███████   | 7/10 [1:31:53<37:12, 744.03s/it]"
     ]
    },
    {
     "name": "stdout",
     "output_type": "stream",
     "text": [
      "37\n",
      "\n",
      "[FINISHED] Epoch 7, (Training Loss (per epoch): 125.8551 samp_prob: 0.3100)\n"
     ]
    },
    {
     "name": "stderr",
     "output_type": "stream",
     "text": [
      "\r",
      "Epoch 7, step 38/96, (Training Loss: 3.2918, samp_prob: 0.3100):  70%|███████   | 7/10 [1:32:00<37:12, 744.03s/it]"
     ]
    },
    {
     "name": "stdout",
     "output_type": "stream",
     "text": [
      "38\n",
      "\n",
      "[FINISHED] Epoch 7, (Training Loss (per epoch): 129.1470 samp_prob: 0.3100)\n"
     ]
    },
    {
     "name": "stderr",
     "output_type": "stream",
     "text": [
      "\r",
      "Epoch 7, step 39/96, (Training Loss: 3.2834, samp_prob: 0.3100):  70%|███████   | 7/10 [1:32:08<37:12, 744.03s/it]"
     ]
    },
    {
     "name": "stdout",
     "output_type": "stream",
     "text": [
      "39\n",
      "\n",
      "[FINISHED] Epoch 7, (Training Loss (per epoch): 132.4304 samp_prob: 0.3100)\n"
     ]
    },
    {
     "name": "stderr",
     "output_type": "stream",
     "text": [
      "\r",
      "Epoch 7, step 40/96, (Training Loss: 3.2076, samp_prob: 0.3100):  70%|███████   | 7/10 [1:32:15<37:12, 744.03s/it]"
     ]
    },
    {
     "name": "stdout",
     "output_type": "stream",
     "text": [
      "40\n",
      "\n",
      "[FINISHED] Epoch 7, (Training Loss (per epoch): 135.6380 samp_prob: 0.3100)\n"
     ]
    },
    {
     "name": "stderr",
     "output_type": "stream",
     "text": [
      "\r",
      "Epoch 7, step 41/96, (Training Loss: 3.2346, samp_prob: 0.3100):  70%|███████   | 7/10 [1:32:23<37:12, 744.03s/it]"
     ]
    },
    {
     "name": "stdout",
     "output_type": "stream",
     "text": [
      "41\n",
      "\n",
      "[FINISHED] Epoch 7, (Training Loss (per epoch): 138.8726 samp_prob: 0.3100)\n"
     ]
    },
    {
     "name": "stderr",
     "output_type": "stream",
     "text": [
      "\r",
      "Epoch 7, step 42/96, (Training Loss: 3.3432, samp_prob: 0.3100):  70%|███████   | 7/10 [1:32:31<37:12, 744.03s/it]"
     ]
    },
    {
     "name": "stdout",
     "output_type": "stream",
     "text": [
      "42\n",
      "\n",
      "[FINISHED] Epoch 7, (Training Loss (per epoch): 142.2158 samp_prob: 0.3100)\n"
     ]
    },
    {
     "name": "stderr",
     "output_type": "stream",
     "text": [
      "\r",
      "Epoch 7, step 43/96, (Training Loss: 3.3022, samp_prob: 0.3100):  70%|███████   | 7/10 [1:32:38<37:12, 744.03s/it]"
     ]
    },
    {
     "name": "stdout",
     "output_type": "stream",
     "text": [
      "43\n",
      "\n",
      "[FINISHED] Epoch 7, (Training Loss (per epoch): 145.5180 samp_prob: 0.3100)\n"
     ]
    },
    {
     "name": "stderr",
     "output_type": "stream",
     "text": [
      "\r",
      "Epoch 7, step 44/96, (Training Loss: 3.2473, samp_prob: 0.3100):  70%|███████   | 7/10 [1:32:46<37:12, 744.03s/it]"
     ]
    },
    {
     "name": "stdout",
     "output_type": "stream",
     "text": [
      "44\n",
      "\n",
      "[FINISHED] Epoch 7, (Training Loss (per epoch): 148.7652 samp_prob: 0.3100)\n"
     ]
    },
    {
     "name": "stderr",
     "output_type": "stream",
     "text": [
      "\r",
      "Epoch 7, step 45/96, (Training Loss: 3.2667, samp_prob: 0.3100):  70%|███████   | 7/10 [1:32:54<37:12, 744.03s/it]"
     ]
    },
    {
     "name": "stdout",
     "output_type": "stream",
     "text": [
      "45\n",
      "\n",
      "[FINISHED] Epoch 7, (Training Loss (per epoch): 152.0319 samp_prob: 0.3100)\n"
     ]
    },
    {
     "name": "stderr",
     "output_type": "stream",
     "text": [
      "\r",
      "Epoch 7, step 46/96, (Training Loss: 3.3500, samp_prob: 0.3100):  70%|███████   | 7/10 [1:33:02<37:12, 744.03s/it]"
     ]
    },
    {
     "name": "stdout",
     "output_type": "stream",
     "text": [
      "[[ 1  6  7 ...  2  2  2]\n",
      " [ 1  4 23 ...  2  2  2]\n",
      " [ 1  4  7 ...  2  2  2]\n",
      " ...\n",
      " [ 1  4 12 ...  2  2  2]\n",
      " [ 1 56 56 ...  2  2  2]\n",
      " [ 1  4  8 ...  2  2  2]]\n",
      "\n",
      "[Train. Prediction] Epoch 7, step 46/96......\n",
      "\n",
      "id: 247\n",
      "answer: ['<BOS>', 'several', 'men', 'in', 'a', 'group', 'start', 'fighting', 'each', 'other']\n",
      "prediction: ['<BOS>', 'a', 'are', 'are', 'are']\n",
      "46\n",
      "\n",
      "[FINISHED] Epoch 7, (Training Loss (per epoch): 155.3819 samp_prob: 0.3100)\n"
     ]
    },
    {
     "name": "stderr",
     "output_type": "stream",
     "text": [
      "\r",
      "Epoch 7, step 47/96, (Training Loss: 3.2601, samp_prob: 0.3100):  70%|███████   | 7/10 [1:33:09<37:12, 744.03s/it]"
     ]
    },
    {
     "name": "stdout",
     "output_type": "stream",
     "text": [
      "47\n",
      "\n",
      "[FINISHED] Epoch 7, (Training Loss (per epoch): 158.6421 samp_prob: 0.3100)\n"
     ]
    },
    {
     "name": "stderr",
     "output_type": "stream",
     "text": [
      "\r",
      "Epoch 7, step 48/96, (Training Loss: 3.2546, samp_prob: 0.3100):  70%|███████   | 7/10 [1:33:17<37:12, 744.03s/it]"
     ]
    },
    {
     "name": "stdout",
     "output_type": "stream",
     "text": [
      "48\n",
      "\n",
      "[FINISHED] Epoch 7, (Training Loss (per epoch): 161.8967 samp_prob: 0.3100)\n"
     ]
    },
    {
     "name": "stderr",
     "output_type": "stream",
     "text": [
      "\r",
      "Epoch 7, step 49/96, (Training Loss: 3.3009, samp_prob: 0.3100):  70%|███████   | 7/10 [1:33:24<37:12, 744.03s/it]"
     ]
    },
    {
     "name": "stdout",
     "output_type": "stream",
     "text": [
      "49\n",
      "\n",
      "[FINISHED] Epoch 7, (Training Loss (per epoch): 165.1976 samp_prob: 0.3100)\n"
     ]
    },
    {
     "name": "stderr",
     "output_type": "stream",
     "text": [
      "\r",
      "Epoch 7, step 50/96, (Training Loss: 3.3951, samp_prob: 0.3100):  70%|███████   | 7/10 [1:33:32<37:12, 744.03s/it]"
     ]
    },
    {
     "name": "stdout",
     "output_type": "stream",
     "text": [
      "50\n",
      "\n",
      "[FINISHED] Epoch 7, (Training Loss (per epoch): 168.5927 samp_prob: 0.3100)\n"
     ]
    },
    {
     "name": "stderr",
     "output_type": "stream",
     "text": [
      "\r",
      "Epoch 7, step 51/96, (Training Loss: 3.2132, samp_prob: 0.3100):  70%|███████   | 7/10 [1:33:40<37:12, 744.03s/it]"
     ]
    },
    {
     "name": "stdout",
     "output_type": "stream",
     "text": [
      "51\n",
      "\n",
      "[FINISHED] Epoch 7, (Training Loss (per epoch): 171.8059 samp_prob: 0.3100)\n"
     ]
    },
    {
     "name": "stderr",
     "output_type": "stream",
     "text": [
      "\r",
      "Epoch 7, step 52/96, (Training Loss: 3.2120, samp_prob: 0.3100):  70%|███████   | 7/10 [1:33:48<37:12, 744.03s/it]"
     ]
    },
    {
     "name": "stdout",
     "output_type": "stream",
     "text": [
      "52\n",
      "\n",
      "[FINISHED] Epoch 7, (Training Loss (per epoch): 175.0179 samp_prob: 0.3100)\n"
     ]
    },
    {
     "name": "stderr",
     "output_type": "stream",
     "text": [
      "\r",
      "Epoch 7, step 53/96, (Training Loss: 3.3742, samp_prob: 0.3100):  70%|███████   | 7/10 [1:33:55<37:12, 744.03s/it]"
     ]
    },
    {
     "name": "stdout",
     "output_type": "stream",
     "text": [
      "53\n",
      "\n",
      "[FINISHED] Epoch 7, (Training Loss (per epoch): 178.3922 samp_prob: 0.3100)\n"
     ]
    },
    {
     "name": "stderr",
     "output_type": "stream",
     "text": [
      "\r",
      "Epoch 7, step 54/96, (Training Loss: 3.1937, samp_prob: 0.3100):  70%|███████   | 7/10 [1:34:03<37:12, 744.03s/it]"
     ]
    },
    {
     "name": "stdout",
     "output_type": "stream",
     "text": [
      "54\n",
      "\n",
      "[FINISHED] Epoch 7, (Training Loss (per epoch): 181.5859 samp_prob: 0.3100)\n"
     ]
    },
    {
     "name": "stderr",
     "output_type": "stream",
     "text": [
      "\r",
      "Epoch 7, step 55/96, (Training Loss: 3.2589, samp_prob: 0.3100):  70%|███████   | 7/10 [1:34:11<37:12, 744.03s/it]"
     ]
    },
    {
     "name": "stdout",
     "output_type": "stream",
     "text": [
      "55\n",
      "\n",
      "[FINISHED] Epoch 7, (Training Loss (per epoch): 184.8447 samp_prob: 0.3100)\n"
     ]
    },
    {
     "name": "stderr",
     "output_type": "stream",
     "text": [
      "\r",
      "Epoch 7, step 56/96, (Training Loss: 3.2234, samp_prob: 0.3100):  70%|███████   | 7/10 [1:34:18<37:12, 744.03s/it]"
     ]
    },
    {
     "name": "stdout",
     "output_type": "stream",
     "text": [
      "56\n",
      "\n",
      "[FINISHED] Epoch 7, (Training Loss (per epoch): 188.0681 samp_prob: 0.3100)\n"
     ]
    },
    {
     "name": "stderr",
     "output_type": "stream",
     "text": [
      "\r",
      "Epoch 7, step 57/96, (Training Loss: 3.0999, samp_prob: 0.3100):  70%|███████   | 7/10 [1:34:26<37:12, 744.03s/it]"
     ]
    },
    {
     "name": "stdout",
     "output_type": "stream",
     "text": [
      "57\n",
      "\n",
      "[FINISHED] Epoch 7, (Training Loss (per epoch): 191.1680 samp_prob: 0.3100)\n"
     ]
    },
    {
     "name": "stderr",
     "output_type": "stream",
     "text": [
      "\r",
      "Epoch 7, step 58/96, (Training Loss: 3.1835, samp_prob: 0.3100):  70%|███████   | 7/10 [1:34:34<37:12, 744.03s/it]"
     ]
    },
    {
     "name": "stdout",
     "output_type": "stream",
     "text": [
      "58\n",
      "\n",
      "[FINISHED] Epoch 7, (Training Loss (per epoch): 194.3515 samp_prob: 0.3100)\n"
     ]
    },
    {
     "name": "stderr",
     "output_type": "stream",
     "text": [
      "\r",
      "Epoch 7, step 59/96, (Training Loss: 3.2622, samp_prob: 0.3100):  70%|███████   | 7/10 [1:34:41<37:12, 744.03s/it]"
     ]
    },
    {
     "name": "stdout",
     "output_type": "stream",
     "text": [
      "59\n",
      "\n",
      "[FINISHED] Epoch 7, (Training Loss (per epoch): 197.6137 samp_prob: 0.3100)\n"
     ]
    },
    {
     "name": "stderr",
     "output_type": "stream",
     "text": [
      "\r",
      "Epoch 7, step 60/96, (Training Loss: 3.2247, samp_prob: 0.3100):  70%|███████   | 7/10 [1:34:49<37:12, 744.03s/it]"
     ]
    },
    {
     "name": "stdout",
     "output_type": "stream",
     "text": [
      "60\n",
      "\n",
      "[FINISHED] Epoch 7, (Training Loss (per epoch): 200.8384 samp_prob: 0.3100)\n"
     ]
    },
    {
     "name": "stderr",
     "output_type": "stream",
     "text": [
      "\r",
      "Epoch 7, step 61/96, (Training Loss: 3.3539, samp_prob: 0.3100):  70%|███████   | 7/10 [1:34:57<37:12, 744.03s/it]"
     ]
    },
    {
     "name": "stdout",
     "output_type": "stream",
     "text": [
      "[[ 1  4 12 ...  2  2  2]\n",
      " [ 1  4  7 ...  2  2  2]\n",
      " [ 1  4  7 ...  2  2  2]\n",
      " ...\n",
      " [ 1  4 23 ...  2  2  2]\n",
      " [ 1  4 17 ...  2  2  2]\n",
      " [ 1 20 12 ...  2  2  2]]\n",
      "\n",
      "[Train. Prediction] Epoch 7, step 61/96......\n",
      "\n",
      "id: 193\n",
      "answer: ['<BOS>', 'someone', 'is', 'playing', 'a', 'piano']\n",
      "prediction: ['<BOS>', 'a', 'man', 'is', 'the', 'a', 'the']\n",
      "61\n",
      "\n",
      "[FINISHED] Epoch 7, (Training Loss (per epoch): 204.1923 samp_prob: 0.3100)\n"
     ]
    },
    {
     "name": "stderr",
     "output_type": "stream",
     "text": [
      "\r",
      "Epoch 7, step 62/96, (Training Loss: 3.2875, samp_prob: 0.3100):  70%|███████   | 7/10 [1:35:05<37:12, 744.03s/it]"
     ]
    },
    {
     "name": "stdout",
     "output_type": "stream",
     "text": [
      "62\n",
      "\n",
      "[FINISHED] Epoch 7, (Training Loss (per epoch): 207.4798 samp_prob: 0.3100)\n"
     ]
    },
    {
     "name": "stderr",
     "output_type": "stream",
     "text": [
      "\r",
      "Epoch 7, step 63/96, (Training Loss: 3.3140, samp_prob: 0.3100):  70%|███████   | 7/10 [1:35:12<37:12, 744.03s/it]"
     ]
    },
    {
     "name": "stdout",
     "output_type": "stream",
     "text": [
      "63\n",
      "\n",
      "[FINISHED] Epoch 7, (Training Loss (per epoch): 210.7939 samp_prob: 0.3100)\n"
     ]
    },
    {
     "name": "stderr",
     "output_type": "stream",
     "text": [
      "\r",
      "Epoch 7, step 64/96, (Training Loss: 3.3539, samp_prob: 0.3100):  70%|███████   | 7/10 [1:35:20<37:12, 744.03s/it]"
     ]
    },
    {
     "name": "stdout",
     "output_type": "stream",
     "text": [
      "64\n",
      "\n",
      "[FINISHED] Epoch 7, (Training Loss (per epoch): 214.1478 samp_prob: 0.3100)\n"
     ]
    },
    {
     "name": "stderr",
     "output_type": "stream",
     "text": [
      "\r",
      "Epoch 7, step 65/96, (Training Loss: 3.1101, samp_prob: 0.3100):  70%|███████   | 7/10 [1:35:28<37:12, 744.03s/it]"
     ]
    },
    {
     "name": "stdout",
     "output_type": "stream",
     "text": [
      "65\n",
      "\n",
      "[FINISHED] Epoch 7, (Training Loss (per epoch): 217.2579 samp_prob: 0.3100)\n"
     ]
    },
    {
     "name": "stderr",
     "output_type": "stream",
     "text": [
      "\r",
      "Epoch 7, step 66/96, (Training Loss: 3.4054, samp_prob: 0.3100):  70%|███████   | 7/10 [1:35:35<37:12, 744.03s/it]"
     ]
    },
    {
     "name": "stdout",
     "output_type": "stream",
     "text": [
      "66\n",
      "\n",
      "[FINISHED] Epoch 7, (Training Loss (per epoch): 220.6633 samp_prob: 0.3100)\n"
     ]
    },
    {
     "name": "stderr",
     "output_type": "stream",
     "text": [
      "\r",
      "Epoch 7, step 67/96, (Training Loss: 3.3881, samp_prob: 0.3100):  70%|███████   | 7/10 [1:35:43<37:12, 744.03s/it]"
     ]
    },
    {
     "name": "stdout",
     "output_type": "stream",
     "text": [
      "67\n",
      "\n",
      "[FINISHED] Epoch 7, (Training Loss (per epoch): 224.0513 samp_prob: 0.3100)\n"
     ]
    },
    {
     "name": "stderr",
     "output_type": "stream",
     "text": [
      "\r",
      "Epoch 7, step 68/96, (Training Loss: 3.2410, samp_prob: 0.3100):  70%|███████   | 7/10 [1:35:51<37:12, 744.03s/it]"
     ]
    },
    {
     "name": "stdout",
     "output_type": "stream",
     "text": [
      "68\n",
      "\n",
      "[FINISHED] Epoch 7, (Training Loss (per epoch): 227.2924 samp_prob: 0.3100)\n"
     ]
    },
    {
     "name": "stderr",
     "output_type": "stream",
     "text": [
      "\r",
      "Epoch 7, step 69/96, (Training Loss: 3.1240, samp_prob: 0.3100):  70%|███████   | 7/10 [1:35:58<37:12, 744.03s/it]"
     ]
    },
    {
     "name": "stdout",
     "output_type": "stream",
     "text": [
      "69\n",
      "\n",
      "[FINISHED] Epoch 7, (Training Loss (per epoch): 230.4164 samp_prob: 0.3100)\n"
     ]
    },
    {
     "name": "stderr",
     "output_type": "stream",
     "text": [
      "\r",
      "Epoch 7, step 70/96, (Training Loss: 3.3625, samp_prob: 0.3100):  70%|███████   | 7/10 [1:36:06<37:12, 744.03s/it]"
     ]
    },
    {
     "name": "stdout",
     "output_type": "stream",
     "text": [
      "70\n",
      "\n",
      "[FINISHED] Epoch 7, (Training Loss (per epoch): 233.7789 samp_prob: 0.3100)\n"
     ]
    },
    {
     "name": "stderr",
     "output_type": "stream",
     "text": [
      "\r",
      "Epoch 7, step 71/96, (Training Loss: 3.1848, samp_prob: 0.3100):  70%|███████   | 7/10 [1:36:14<37:12, 744.03s/it]"
     ]
    },
    {
     "name": "stdout",
     "output_type": "stream",
     "text": [
      "71\n",
      "\n",
      "[FINISHED] Epoch 7, (Training Loss (per epoch): 236.9637 samp_prob: 0.3100)\n"
     ]
    },
    {
     "name": "stderr",
     "output_type": "stream",
     "text": [
      "\r",
      "Epoch 7, step 72/96, (Training Loss: 3.3284, samp_prob: 0.3100):  70%|███████   | 7/10 [1:36:21<37:12, 744.03s/it]"
     ]
    },
    {
     "name": "stdout",
     "output_type": "stream",
     "text": [
      "72\n",
      "\n",
      "[FINISHED] Epoch 7, (Training Loss (per epoch): 240.2922 samp_prob: 0.3100)\n"
     ]
    },
    {
     "name": "stderr",
     "output_type": "stream",
     "text": [
      "\r",
      "Epoch 7, step 73/96, (Training Loss: 3.2529, samp_prob: 0.3100):  70%|███████   | 7/10 [1:36:29<37:12, 744.03s/it]"
     ]
    },
    {
     "name": "stdout",
     "output_type": "stream",
     "text": [
      "73\n",
      "\n",
      "[FINISHED] Epoch 7, (Training Loss (per epoch): 243.5450 samp_prob: 0.3100)\n"
     ]
    },
    {
     "name": "stderr",
     "output_type": "stream",
     "text": [
      "\r",
      "Epoch 7, step 74/96, (Training Loss: 3.2457, samp_prob: 0.3100):  70%|███████   | 7/10 [1:36:36<37:12, 744.03s/it]"
     ]
    },
    {
     "name": "stdout",
     "output_type": "stream",
     "text": [
      "74\n",
      "\n",
      "[FINISHED] Epoch 7, (Training Loss (per epoch): 246.7908 samp_prob: 0.3100)\n"
     ]
    },
    {
     "name": "stderr",
     "output_type": "stream",
     "text": [
      "\r",
      "Epoch 7, step 75/96, (Training Loss: 3.3108, samp_prob: 0.3100):  70%|███████   | 7/10 [1:36:44<37:12, 744.03s/it]"
     ]
    },
    {
     "name": "stdout",
     "output_type": "stream",
     "text": [
      "75\n",
      "\n",
      "[FINISHED] Epoch 7, (Training Loss (per epoch): 250.1016 samp_prob: 0.3100)\n"
     ]
    },
    {
     "name": "stderr",
     "output_type": "stream",
     "text": [
      "\r",
      "Epoch 7, step 76/96, (Training Loss: 3.3294, samp_prob: 0.3100):  70%|███████   | 7/10 [1:36:52<37:12, 744.03s/it]"
     ]
    },
    {
     "name": "stdout",
     "output_type": "stream",
     "text": [
      "[[ 1  4  8 ...  2  2  2]\n",
      " [ 1  4 39 ...  2  2  2]\n",
      " [ 1  4  8 ...  2  2  2]\n",
      " ...\n",
      " [ 1  4  7 ...  2  2  2]\n",
      " [ 1  4  8 ...  2  2  2]\n",
      " [ 1  4  7 ...  2  2  2]]\n",
      "\n",
      "[Train. Prediction] Epoch 7, step 76/96......\n",
      "\n",
      "id: 150\n",
      "answer: ['<BOS>', 'a', 'cat', 'is', 'running', 'up', 'a', 'wall']\n",
      "prediction: ['<BOS>', 'a', 'cat', 'is', 'on', 'a']\n",
      "76\n",
      "\n",
      "[FINISHED] Epoch 7, (Training Loss (per epoch): 253.4310 samp_prob: 0.3100)\n"
     ]
    },
    {
     "name": "stderr",
     "output_type": "stream",
     "text": [
      "\r",
      "Epoch 7, step 77/96, (Training Loss: 3.2152, samp_prob: 0.3100):  70%|███████   | 7/10 [1:37:00<37:12, 744.03s/it]"
     ]
    },
    {
     "name": "stdout",
     "output_type": "stream",
     "text": [
      "77\n",
      "\n",
      "[FINISHED] Epoch 7, (Training Loss (per epoch): 256.6462 samp_prob: 0.3100)\n"
     ]
    },
    {
     "name": "stderr",
     "output_type": "stream",
     "text": [
      "\r",
      "Epoch 7, step 78/96, (Training Loss: 3.1280, samp_prob: 0.3100):  70%|███████   | 7/10 [1:37:07<37:12, 744.03s/it]"
     ]
    },
    {
     "name": "stdout",
     "output_type": "stream",
     "text": [
      "78\n",
      "\n",
      "[FINISHED] Epoch 7, (Training Loss (per epoch): 259.7742 samp_prob: 0.3100)\n"
     ]
    },
    {
     "name": "stderr",
     "output_type": "stream",
     "text": [
      "\r",
      "Epoch 7, step 79/96, (Training Loss: 3.1594, samp_prob: 0.3100):  70%|███████   | 7/10 [1:37:15<37:12, 744.03s/it]"
     ]
    },
    {
     "name": "stdout",
     "output_type": "stream",
     "text": [
      "79\n",
      "\n",
      "[FINISHED] Epoch 7, (Training Loss (per epoch): 262.9336 samp_prob: 0.3100)\n"
     ]
    },
    {
     "name": "stderr",
     "output_type": "stream",
     "text": [
      "\r",
      "Epoch 7, step 80/96, (Training Loss: 3.2882, samp_prob: 0.3100):  70%|███████   | 7/10 [1:37:23<37:12, 744.03s/it]"
     ]
    },
    {
     "name": "stdout",
     "output_type": "stream",
     "text": [
      "80\n",
      "\n",
      "[FINISHED] Epoch 7, (Training Loss (per epoch): 266.2218 samp_prob: 0.3100)\n"
     ]
    },
    {
     "name": "stderr",
     "output_type": "stream",
     "text": [
      "\r",
      "Epoch 7, step 81/96, (Training Loss: 3.1300, samp_prob: 0.3100):  70%|███████   | 7/10 [1:37:31<37:12, 744.03s/it]"
     ]
    },
    {
     "name": "stdout",
     "output_type": "stream",
     "text": [
      "81\n",
      "\n",
      "[FINISHED] Epoch 7, (Training Loss (per epoch): 269.3518 samp_prob: 0.3100)\n"
     ]
    },
    {
     "name": "stderr",
     "output_type": "stream",
     "text": [
      "\r",
      "Epoch 7, step 82/96, (Training Loss: 3.3667, samp_prob: 0.3100):  70%|███████   | 7/10 [1:37:38<37:12, 744.03s/it]"
     ]
    },
    {
     "name": "stdout",
     "output_type": "stream",
     "text": [
      "82\n",
      "\n",
      "[FINISHED] Epoch 7, (Training Loss (per epoch): 272.7186 samp_prob: 0.3100)\n"
     ]
    },
    {
     "name": "stderr",
     "output_type": "stream",
     "text": [
      "\r",
      "Epoch 7, step 83/96, (Training Loss: 3.2727, samp_prob: 0.3100):  70%|███████   | 7/10 [1:37:46<37:12, 744.03s/it]"
     ]
    },
    {
     "name": "stdout",
     "output_type": "stream",
     "text": [
      "83\n",
      "\n",
      "[FINISHED] Epoch 7, (Training Loss (per epoch): 275.9913 samp_prob: 0.3100)\n"
     ]
    },
    {
     "name": "stderr",
     "output_type": "stream",
     "text": [
      "\r",
      "Epoch 7, step 84/96, (Training Loss: 3.2109, samp_prob: 0.3100):  70%|███████   | 7/10 [1:37:53<37:12, 744.03s/it]"
     ]
    },
    {
     "name": "stdout",
     "output_type": "stream",
     "text": [
      "84\n",
      "\n",
      "[FINISHED] Epoch 7, (Training Loss (per epoch): 279.2022 samp_prob: 0.3100)\n"
     ]
    },
    {
     "name": "stderr",
     "output_type": "stream",
     "text": [
      "\r",
      "Epoch 7, step 85/96, (Training Loss: 3.3413, samp_prob: 0.3100):  70%|███████   | 7/10 [1:38:01<37:12, 744.03s/it]"
     ]
    },
    {
     "name": "stdout",
     "output_type": "stream",
     "text": [
      "85\n",
      "\n",
      "[FINISHED] Epoch 7, (Training Loss (per epoch): 282.5435 samp_prob: 0.3100)\n"
     ]
    },
    {
     "name": "stderr",
     "output_type": "stream",
     "text": [
      "\r",
      "Epoch 7, step 86/96, (Training Loss: 3.1436, samp_prob: 0.3100):  70%|███████   | 7/10 [1:38:09<37:12, 744.03s/it]"
     ]
    },
    {
     "name": "stdout",
     "output_type": "stream",
     "text": [
      "86\n",
      "\n",
      "[FINISHED] Epoch 7, (Training Loss (per epoch): 285.6871 samp_prob: 0.3100)\n"
     ]
    },
    {
     "name": "stderr",
     "output_type": "stream",
     "text": [
      "\r",
      "Epoch 7, step 87/96, (Training Loss: 3.3053, samp_prob: 0.3100):  70%|███████   | 7/10 [1:38:16<37:12, 744.03s/it]"
     ]
    },
    {
     "name": "stdout",
     "output_type": "stream",
     "text": [
      "87\n",
      "\n",
      "[FINISHED] Epoch 7, (Training Loss (per epoch): 288.9924 samp_prob: 0.3100)\n"
     ]
    },
    {
     "name": "stderr",
     "output_type": "stream",
     "text": [
      "\r",
      "Epoch 7, step 88/96, (Training Loss: 3.3061, samp_prob: 0.3100):  70%|███████   | 7/10 [1:38:24<37:12, 744.03s/it]"
     ]
    },
    {
     "name": "stdout",
     "output_type": "stream",
     "text": [
      "88\n",
      "\n",
      "[FINISHED] Epoch 7, (Training Loss (per epoch): 292.2985 samp_prob: 0.3100)\n"
     ]
    },
    {
     "name": "stderr",
     "output_type": "stream",
     "text": [
      "\r",
      "Epoch 7, step 89/96, (Training Loss: 3.2496, samp_prob: 0.3100):  70%|███████   | 7/10 [1:38:32<37:12, 744.03s/it]"
     ]
    },
    {
     "name": "stdout",
     "output_type": "stream",
     "text": [
      "89\n",
      "\n",
      "[FINISHED] Epoch 7, (Training Loss (per epoch): 295.5481 samp_prob: 0.3100)\n"
     ]
    },
    {
     "name": "stderr",
     "output_type": "stream",
     "text": [
      "\r",
      "Epoch 7, step 90/96, (Training Loss: 3.1898, samp_prob: 0.3100):  70%|███████   | 7/10 [1:38:39<37:12, 744.03s/it]"
     ]
    },
    {
     "name": "stdout",
     "output_type": "stream",
     "text": [
      "90\n",
      "\n",
      "[FINISHED] Epoch 7, (Training Loss (per epoch): 298.7379 samp_prob: 0.3100)\n"
     ]
    },
    {
     "name": "stderr",
     "output_type": "stream",
     "text": [
      "\r",
      "Epoch 7, step 91/96, (Training Loss: 3.2693, samp_prob: 0.3100):  70%|███████   | 7/10 [1:38:47<37:12, 744.03s/it]"
     ]
    },
    {
     "name": "stdout",
     "output_type": "stream",
     "text": [
      "[[ 1  4  7 ...  2  2  2]\n",
      " [ 1  6 12 ...  2  2  2]\n",
      " [ 1  4 38 ...  2  2  2]\n",
      " ...\n",
      " [ 1  4  7 ...  2  2  2]\n",
      " [ 1  4  8 ...  2  2  2]\n",
      " [ 1  4  7 ...  2  2  2]]\n",
      "\n",
      "[Train. Prediction] Epoch 7, step 91/96......\n",
      "\n",
      "id: 101\n",
      "answer: ['<BOS>', 'a', 'monkey', 'is', 'riding', 'a', 'bicycle', 'around', 'a', 'stage']\n",
      "prediction: ['<BOS>', 'a', 'man', 'is', 'riding', 'a', 'a', 'a']\n",
      "91\n",
      "\n",
      "[FINISHED] Epoch 7, (Training Loss (per epoch): 302.0072 samp_prob: 0.3100)\n"
     ]
    },
    {
     "name": "stderr",
     "output_type": "stream",
     "text": [
      "\r",
      "Epoch 7, step 92/96, (Training Loss: 3.1303, samp_prob: 0.3100):  70%|███████   | 7/10 [1:38:55<37:12, 744.03s/it]"
     ]
    },
    {
     "name": "stdout",
     "output_type": "stream",
     "text": [
      "92\n",
      "\n",
      "[FINISHED] Epoch 7, (Training Loss (per epoch): 305.1375 samp_prob: 0.3100)\n"
     ]
    },
    {
     "name": "stderr",
     "output_type": "stream",
     "text": [
      "\r",
      "Epoch 7, step 93/96, (Training Loss: 3.1730, samp_prob: 0.3100):  70%|███████   | 7/10 [1:39:03<37:12, 744.03s/it]"
     ]
    },
    {
     "name": "stdout",
     "output_type": "stream",
     "text": [
      "93\n",
      "\n",
      "[FINISHED] Epoch 7, (Training Loss (per epoch): 308.3105 samp_prob: 0.3100)\n"
     ]
    },
    {
     "name": "stderr",
     "output_type": "stream",
     "text": [
      "\r",
      "Epoch 7, step 94/96, (Training Loss: 3.3230, samp_prob: 0.3100):  70%|███████   | 7/10 [1:39:10<37:12, 744.03s/it]"
     ]
    },
    {
     "name": "stdout",
     "output_type": "stream",
     "text": [
      "94\n",
      "\n",
      "[FINISHED] Epoch 7, (Training Loss (per epoch): 311.6334 samp_prob: 0.3100)\n"
     ]
    },
    {
     "name": "stderr",
     "output_type": "stream",
     "text": [
      "Epoch 7, step 95/96, (Training Loss: 3.2820, samp_prob: 0.3100):  80%|████████  | 8/10 [1:39:18<24:44, 742.08s/it]"
     ]
    },
    {
     "name": "stdout",
     "output_type": "stream",
     "text": [
      "95\n",
      "\n",
      "[FINISHED] Epoch 7, (Training Loss (per epoch): 314.9154 samp_prob: 0.3100)\n"
     ]
    },
    {
     "name": "stderr",
     "output_type": "stream",
     "text": [
      "\r",
      "Epoch 8, step 0/96, (Training Loss: 3.2878, samp_prob: 0.2315):  80%|████████  | 8/10 [1:39:26<24:44, 742.08s/it] "
     ]
    },
    {
     "name": "stdout",
     "output_type": "stream",
     "text": [
      "0\n",
      "\n",
      "[FINISHED] Epoch 8, (Training Loss (per epoch): 3.2878 samp_prob: 0.2315)\n"
     ]
    },
    {
     "name": "stderr",
     "output_type": "stream",
     "text": [
      "\r",
      "Epoch 8, step 1/96, (Training Loss: 3.2780, samp_prob: 0.2315):  80%|████████  | 8/10 [1:39:34<24:44, 742.08s/it]"
     ]
    },
    {
     "name": "stdout",
     "output_type": "stream",
     "text": [
      "[[ 1  4 24 ...  2  2  2]\n",
      " [ 1  4 17 ...  2  2  2]\n",
      " [ 1  4  7 ...  2  2  2]\n",
      " ...\n",
      " [ 1  4 12 ...  2  2  2]\n",
      " [ 1  4  8 ...  2  2  2]\n",
      " [ 1  4  7 ...  2  2  2]]\n",
      "\n",
      "[Train. Prediction] Epoch 8, step 1/96......\n",
      "\n",
      "id: 5\n",
      "answer: ['<BOS>', 'a', 'woman', 'squeezes', 'juice', 'out', 'of', 'a', 'handful', 'of', 'pickles']\n",
      "prediction: ['<BOS>', 'a', 'woman', 'is', 'a']\n",
      "1\n",
      "\n",
      "[FINISHED] Epoch 8, (Training Loss (per epoch): 6.5658 samp_prob: 0.2315)\n"
     ]
    },
    {
     "name": "stderr",
     "output_type": "stream",
     "text": [
      "\r",
      "Epoch 8, step 2/96, (Training Loss: 3.2160, samp_prob: 0.2315):  80%|████████  | 8/10 [1:39:41<24:44, 742.08s/it]"
     ]
    },
    {
     "name": "stdout",
     "output_type": "stream",
     "text": [
      "2\n",
      "\n",
      "[FINISHED] Epoch 8, (Training Loss (per epoch): 9.7817 samp_prob: 0.2315)\n"
     ]
    },
    {
     "name": "stderr",
     "output_type": "stream",
     "text": [
      "\r",
      "Epoch 8, step 3/96, (Training Loss: 3.3359, samp_prob: 0.2315):  80%|████████  | 8/10 [1:39:49<24:44, 742.08s/it]"
     ]
    },
    {
     "name": "stdout",
     "output_type": "stream",
     "text": [
      "3\n",
      "\n",
      "[FINISHED] Epoch 8, (Training Loss (per epoch): 13.1176 samp_prob: 0.2315)\n"
     ]
    },
    {
     "name": "stderr",
     "output_type": "stream",
     "text": [
      "\r",
      "Epoch 8, step 4/96, (Training Loss: 3.1463, samp_prob: 0.2315):  80%|████████  | 8/10 [1:39:57<24:44, 742.08s/it]"
     ]
    },
    {
     "name": "stdout",
     "output_type": "stream",
     "text": [
      "4\n",
      "\n",
      "[FINISHED] Epoch 8, (Training Loss (per epoch): 16.2640 samp_prob: 0.2315)\n"
     ]
    },
    {
     "name": "stderr",
     "output_type": "stream",
     "text": [
      "\r",
      "Epoch 8, step 5/96, (Training Loss: 3.1778, samp_prob: 0.2315):  80%|████████  | 8/10 [1:40:04<24:44, 742.08s/it]"
     ]
    },
    {
     "name": "stdout",
     "output_type": "stream",
     "text": [
      "5\n",
      "\n",
      "[FINISHED] Epoch 8, (Training Loss (per epoch): 19.4417 samp_prob: 0.2315)\n"
     ]
    },
    {
     "name": "stderr",
     "output_type": "stream",
     "text": [
      "\r",
      "Epoch 8, step 6/96, (Training Loss: 3.1715, samp_prob: 0.2315):  80%|████████  | 8/10 [1:40:12<24:44, 742.08s/it]"
     ]
    },
    {
     "name": "stdout",
     "output_type": "stream",
     "text": [
      "6\n",
      "\n",
      "[FINISHED] Epoch 8, (Training Loss (per epoch): 22.6132 samp_prob: 0.2315)\n"
     ]
    },
    {
     "name": "stderr",
     "output_type": "stream",
     "text": [
      "\r",
      "Epoch 8, step 7/96, (Training Loss: 3.2261, samp_prob: 0.2315):  80%|████████  | 8/10 [1:40:20<24:44, 742.08s/it]"
     ]
    },
    {
     "name": "stdout",
     "output_type": "stream",
     "text": [
      "7\n",
      "\n",
      "[FINISHED] Epoch 8, (Training Loss (per epoch): 25.8393 samp_prob: 0.2315)\n"
     ]
    },
    {
     "name": "stderr",
     "output_type": "stream",
     "text": [
      "\r",
      "Epoch 8, step 8/96, (Training Loss: 3.2053, samp_prob: 0.2315):  80%|████████  | 8/10 [1:40:27<24:44, 742.08s/it]"
     ]
    },
    {
     "name": "stdout",
     "output_type": "stream",
     "text": [
      "8\n",
      "\n",
      "[FINISHED] Epoch 8, (Training Loss (per epoch): 29.0445 samp_prob: 0.2315)\n"
     ]
    },
    {
     "name": "stderr",
     "output_type": "stream",
     "text": [
      "\r",
      "Epoch 8, step 9/96, (Training Loss: 3.2401, samp_prob: 0.2315):  80%|████████  | 8/10 [1:40:35<24:44, 742.08s/it]"
     ]
    },
    {
     "name": "stdout",
     "output_type": "stream",
     "text": [
      "9\n",
      "\n",
      "[FINISHED] Epoch 8, (Training Loss (per epoch): 32.2846 samp_prob: 0.2315)\n"
     ]
    },
    {
     "name": "stderr",
     "output_type": "stream",
     "text": [
      "\r",
      "Epoch 8, step 10/96, (Training Loss: 3.1411, samp_prob: 0.2315):  80%|████████  | 8/10 [1:40:42<24:44, 742.08s/it]"
     ]
    },
    {
     "name": "stdout",
     "output_type": "stream",
     "text": [
      "10\n",
      "\n",
      "[FINISHED] Epoch 8, (Training Loss (per epoch): 35.4257 samp_prob: 0.2315)\n"
     ]
    },
    {
     "name": "stderr",
     "output_type": "stream",
     "text": [
      "\r",
      "Epoch 8, step 11/96, (Training Loss: 3.1926, samp_prob: 0.2315):  80%|████████  | 8/10 [1:40:50<24:44, 742.08s/it]"
     ]
    },
    {
     "name": "stdout",
     "output_type": "stream",
     "text": [
      "11\n",
      "\n",
      "[FINISHED] Epoch 8, (Training Loss (per epoch): 38.6183 samp_prob: 0.2315)\n"
     ]
    },
    {
     "name": "stderr",
     "output_type": "stream",
     "text": [
      "\r",
      "Epoch 8, step 12/96, (Training Loss: 3.2849, samp_prob: 0.2315):  80%|████████  | 8/10 [1:40:58<24:44, 742.08s/it]"
     ]
    },
    {
     "name": "stdout",
     "output_type": "stream",
     "text": [
      "12\n",
      "\n",
      "[FINISHED] Epoch 8, (Training Loss (per epoch): 41.9032 samp_prob: 0.2315)\n"
     ]
    },
    {
     "name": "stderr",
     "output_type": "stream",
     "text": [
      "\r",
      "Epoch 8, step 13/96, (Training Loss: 3.3208, samp_prob: 0.2315):  80%|████████  | 8/10 [1:41:05<24:44, 742.08s/it]"
     ]
    },
    {
     "name": "stdout",
     "output_type": "stream",
     "text": [
      "13\n",
      "\n",
      "[FINISHED] Epoch 8, (Training Loss (per epoch): 45.2240 samp_prob: 0.2315)\n"
     ]
    },
    {
     "name": "stderr",
     "output_type": "stream",
     "text": [
      "\r",
      "Epoch 8, step 14/96, (Training Loss: 3.2920, samp_prob: 0.2315):  80%|████████  | 8/10 [1:41:13<24:44, 742.08s/it]"
     ]
    },
    {
     "name": "stdout",
     "output_type": "stream",
     "text": [
      "14\n",
      "\n",
      "[FINISHED] Epoch 8, (Training Loss (per epoch): 48.5160 samp_prob: 0.2315)\n"
     ]
    },
    {
     "name": "stderr",
     "output_type": "stream",
     "text": [
      "\r",
      "Epoch 8, step 15/96, (Training Loss: 3.2601, samp_prob: 0.2315):  80%|████████  | 8/10 [1:41:21<24:44, 742.08s/it]"
     ]
    },
    {
     "name": "stdout",
     "output_type": "stream",
     "text": [
      "15\n",
      "\n",
      "[FINISHED] Epoch 8, (Training Loss (per epoch): 51.7761 samp_prob: 0.2315)\n"
     ]
    },
    {
     "name": "stderr",
     "output_type": "stream",
     "text": [
      "\r",
      "Epoch 8, step 16/96, (Training Loss: 3.1954, samp_prob: 0.2315):  80%|████████  | 8/10 [1:41:29<24:44, 742.08s/it]"
     ]
    },
    {
     "name": "stdout",
     "output_type": "stream",
     "text": [
      "[[ 1  4 23 ...  2  2  2]\n",
      " [ 1  4  8 ...  2  2  2]\n",
      " [ 1 56 56 ...  2  2  2]\n",
      " ...\n",
      " [ 1  4 23 ...  2  2  2]\n",
      " [ 1  4  8 ...  2  2  2]\n",
      " [ 1  4  8 ...  2  2  2]]\n",
      "\n",
      "[Train. Prediction] Epoch 8, step 16/96......\n",
      "\n",
      "id: 83\n",
      "answer: ['<BOS>', 'superman', 'is', 'lifting', 'heavy', 'rocks']\n",
      "prediction: ['<BOS>', 'a', 'woman', 'is', 'a', 'the']\n",
      "16\n",
      "\n",
      "[FINISHED] Epoch 8, (Training Loss (per epoch): 54.9716 samp_prob: 0.2315)\n"
     ]
    },
    {
     "name": "stderr",
     "output_type": "stream",
     "text": [
      "\r",
      "Epoch 8, step 17/96, (Training Loss: 3.1716, samp_prob: 0.2315):  80%|████████  | 8/10 [1:41:37<24:44, 742.08s/it]"
     ]
    },
    {
     "name": "stdout",
     "output_type": "stream",
     "text": [
      "17\n",
      "\n",
      "[FINISHED] Epoch 8, (Training Loss (per epoch): 58.1432 samp_prob: 0.2315)\n"
     ]
    },
    {
     "name": "stderr",
     "output_type": "stream",
     "text": [
      "\r",
      "Epoch 8, step 18/96, (Training Loss: 3.0680, samp_prob: 0.2315):  80%|████████  | 8/10 [1:41:44<24:44, 742.08s/it]"
     ]
    },
    {
     "name": "stdout",
     "output_type": "stream",
     "text": [
      "18\n",
      "\n",
      "[FINISHED] Epoch 8, (Training Loss (per epoch): 61.2112 samp_prob: 0.2315)\n"
     ]
    },
    {
     "name": "stderr",
     "output_type": "stream",
     "text": [
      "\r",
      "Epoch 8, step 19/96, (Training Loss: 2.9190, samp_prob: 0.2315):  80%|████████  | 8/10 [1:41:52<24:44, 742.08s/it]"
     ]
    },
    {
     "name": "stdout",
     "output_type": "stream",
     "text": [
      "19\n",
      "\n",
      "[FINISHED] Epoch 8, (Training Loss (per epoch): 64.1302 samp_prob: 0.2315)\n"
     ]
    },
    {
     "name": "stderr",
     "output_type": "stream",
     "text": [
      "\r",
      "Epoch 8, step 20/96, (Training Loss: 3.2629, samp_prob: 0.2315):  80%|████████  | 8/10 [1:41:59<24:44, 742.08s/it]"
     ]
    },
    {
     "name": "stdout",
     "output_type": "stream",
     "text": [
      "20\n",
      "\n",
      "[FINISHED] Epoch 8, (Training Loss (per epoch): 67.3931 samp_prob: 0.2315)\n"
     ]
    },
    {
     "name": "stderr",
     "output_type": "stream",
     "text": [
      "\r",
      "Epoch 8, step 21/96, (Training Loss: 3.1619, samp_prob: 0.2315):  80%|████████  | 8/10 [1:42:07<24:44, 742.08s/it]"
     ]
    },
    {
     "name": "stdout",
     "output_type": "stream",
     "text": [
      "21\n",
      "\n",
      "[FINISHED] Epoch 8, (Training Loss (per epoch): 70.5550 samp_prob: 0.2315)\n"
     ]
    },
    {
     "name": "stderr",
     "output_type": "stream",
     "text": [
      "\r",
      "Epoch 8, step 22/96, (Training Loss: 3.1363, samp_prob: 0.2315):  80%|████████  | 8/10 [1:42:15<24:44, 742.08s/it]"
     ]
    },
    {
     "name": "stdout",
     "output_type": "stream",
     "text": [
      "22\n",
      "\n",
      "[FINISHED] Epoch 8, (Training Loss (per epoch): 73.6913 samp_prob: 0.2315)\n"
     ]
    },
    {
     "name": "stderr",
     "output_type": "stream",
     "text": [
      "\r",
      "Epoch 8, step 23/96, (Training Loss: 3.2478, samp_prob: 0.2315):  80%|████████  | 8/10 [1:42:22<24:44, 742.08s/it]"
     ]
    },
    {
     "name": "stdout",
     "output_type": "stream",
     "text": [
      "23\n",
      "\n",
      "[FINISHED] Epoch 8, (Training Loss (per epoch): 76.9391 samp_prob: 0.2315)\n"
     ]
    },
    {
     "name": "stderr",
     "output_type": "stream",
     "text": [
      "\r",
      "Epoch 8, step 24/96, (Training Loss: 3.4400, samp_prob: 0.2315):  80%|████████  | 8/10 [1:42:30<24:44, 742.08s/it]"
     ]
    },
    {
     "name": "stdout",
     "output_type": "stream",
     "text": [
      "24\n",
      "\n",
      "[FINISHED] Epoch 8, (Training Loss (per epoch): 80.3791 samp_prob: 0.2315)\n"
     ]
    },
    {
     "name": "stderr",
     "output_type": "stream",
     "text": [
      "\r",
      "Epoch 8, step 25/96, (Training Loss: 3.1047, samp_prob: 0.2315):  80%|████████  | 8/10 [1:42:38<24:44, 742.08s/it]"
     ]
    },
    {
     "name": "stdout",
     "output_type": "stream",
     "text": [
      "25\n",
      "\n",
      "[FINISHED] Epoch 8, (Training Loss (per epoch): 83.4838 samp_prob: 0.2315)\n"
     ]
    },
    {
     "name": "stderr",
     "output_type": "stream",
     "text": [
      "\r",
      "Epoch 8, step 26/96, (Training Loss: 3.1995, samp_prob: 0.2315):  80%|████████  | 8/10 [1:42:45<24:44, 742.08s/it]"
     ]
    },
    {
     "name": "stdout",
     "output_type": "stream",
     "text": [
      "26\n",
      "\n",
      "[FINISHED] Epoch 8, (Training Loss (per epoch): 86.6834 samp_prob: 0.2315)\n"
     ]
    },
    {
     "name": "stderr",
     "output_type": "stream",
     "text": [
      "\r",
      "Epoch 8, step 27/96, (Training Loss: 3.0916, samp_prob: 0.2315):  80%|████████  | 8/10 [1:42:53<24:44, 742.08s/it]"
     ]
    },
    {
     "name": "stdout",
     "output_type": "stream",
     "text": [
      "27\n",
      "\n",
      "[FINISHED] Epoch 8, (Training Loss (per epoch): 89.7750 samp_prob: 0.2315)\n"
     ]
    },
    {
     "name": "stderr",
     "output_type": "stream",
     "text": [
      "\r",
      "Epoch 8, step 28/96, (Training Loss: 3.0588, samp_prob: 0.2315):  80%|████████  | 8/10 [1:43:01<24:44, 742.08s/it]"
     ]
    },
    {
     "name": "stdout",
     "output_type": "stream",
     "text": [
      "28\n",
      "\n",
      "[FINISHED] Epoch 8, (Training Loss (per epoch): 92.8338 samp_prob: 0.2315)\n"
     ]
    },
    {
     "name": "stderr",
     "output_type": "stream",
     "text": [
      "\r",
      "Epoch 8, step 29/96, (Training Loss: 3.1683, samp_prob: 0.2315):  80%|████████  | 8/10 [1:43:08<24:44, 742.08s/it]"
     ]
    },
    {
     "name": "stdout",
     "output_type": "stream",
     "text": [
      "29\n",
      "\n",
      "[FINISHED] Epoch 8, (Training Loss (per epoch): 96.0021 samp_prob: 0.2315)\n"
     ]
    },
    {
     "name": "stderr",
     "output_type": "stream",
     "text": [
      "\r",
      "Epoch 8, step 30/96, (Training Loss: 3.3232, samp_prob: 0.2315):  80%|████████  | 8/10 [1:43:16<24:44, 742.08s/it]"
     ]
    },
    {
     "name": "stdout",
     "output_type": "stream",
     "text": [
      "30\n",
      "\n",
      "[FINISHED] Epoch 8, (Training Loss (per epoch): 99.3253 samp_prob: 0.2315)\n"
     ]
    },
    {
     "name": "stderr",
     "output_type": "stream",
     "text": [
      "\r",
      "Epoch 8, step 31/96, (Training Loss: 3.2069, samp_prob: 0.2315):  80%|████████  | 8/10 [1:43:24<24:44, 742.08s/it]"
     ]
    },
    {
     "name": "stdout",
     "output_type": "stream",
     "text": [
      "[[ 1 20 12 ...  2  2  2]\n",
      " [ 1  4  7 ...  2  2  2]\n",
      " [ 1  4  7 ...  2  2  2]\n",
      " ...\n",
      " [ 1  4  7 ...  2  2  2]\n",
      " [ 1  4  5 ...  2  2  2]\n",
      " [ 1  4  8 ...  2  2  2]]\n",
      "\n",
      "[Train. Prediction] Epoch 8, step 31/96......\n",
      "\n",
      "id: 69\n",
      "answer: ['<BOS>', 'the', 'tv', 'reporter', 'is', 'reporting', 'the', 'news']\n",
      "prediction: ['<BOS>', 'a', 'man', 'is', 'a', 'a']\n",
      "31\n",
      "\n",
      "[FINISHED] Epoch 8, (Training Loss (per epoch): 102.5322 samp_prob: 0.2315)\n"
     ]
    },
    {
     "name": "stderr",
     "output_type": "stream",
     "text": [
      "\r",
      "Epoch 8, step 32/96, (Training Loss: 3.1680, samp_prob: 0.2315):  80%|████████  | 8/10 [1:43:32<24:44, 742.08s/it]"
     ]
    },
    {
     "name": "stdout",
     "output_type": "stream",
     "text": [
      "32\n",
      "\n",
      "[FINISHED] Epoch 8, (Training Loss (per epoch): 105.7002 samp_prob: 0.2315)\n"
     ]
    },
    {
     "name": "stderr",
     "output_type": "stream",
     "text": [
      "\r",
      "Epoch 8, step 33/96, (Training Loss: 3.2176, samp_prob: 0.2315):  80%|████████  | 8/10 [1:43:39<24:44, 742.08s/it]"
     ]
    },
    {
     "name": "stdout",
     "output_type": "stream",
     "text": [
      "33\n",
      "\n",
      "[FINISHED] Epoch 8, (Training Loss (per epoch): 108.9178 samp_prob: 0.2315)\n"
     ]
    },
    {
     "name": "stderr",
     "output_type": "stream",
     "text": [
      "\r",
      "Epoch 8, step 34/96, (Training Loss: 3.2398, samp_prob: 0.2315):  80%|████████  | 8/10 [1:43:47<24:44, 742.08s/it]"
     ]
    },
    {
     "name": "stdout",
     "output_type": "stream",
     "text": [
      "34\n",
      "\n",
      "[FINISHED] Epoch 8, (Training Loss (per epoch): 112.1576 samp_prob: 0.2315)\n"
     ]
    },
    {
     "name": "stderr",
     "output_type": "stream",
     "text": [
      "\r",
      "Epoch 8, step 35/96, (Training Loss: 3.2181, samp_prob: 0.2315):  80%|████████  | 8/10 [1:43:54<24:44, 742.08s/it]"
     ]
    },
    {
     "name": "stdout",
     "output_type": "stream",
     "text": [
      "35\n",
      "\n",
      "[FINISHED] Epoch 8, (Training Loss (per epoch): 115.3757 samp_prob: 0.2315)\n"
     ]
    },
    {
     "name": "stderr",
     "output_type": "stream",
     "text": [
      "\r",
      "Epoch 8, step 36/96, (Training Loss: 3.2507, samp_prob: 0.2315):  80%|████████  | 8/10 [1:44:02<24:44, 742.08s/it]"
     ]
    },
    {
     "name": "stdout",
     "output_type": "stream",
     "text": [
      "36\n",
      "\n",
      "[FINISHED] Epoch 8, (Training Loss (per epoch): 118.6264 samp_prob: 0.2315)\n"
     ]
    },
    {
     "name": "stderr",
     "output_type": "stream",
     "text": [
      "\r",
      "Epoch 8, step 37/96, (Training Loss: 3.1847, samp_prob: 0.2315):  80%|████████  | 8/10 [1:44:10<24:44, 742.08s/it]"
     ]
    },
    {
     "name": "stdout",
     "output_type": "stream",
     "text": [
      "37\n",
      "\n",
      "[FINISHED] Epoch 8, (Training Loss (per epoch): 121.8111 samp_prob: 0.2315)\n"
     ]
    },
    {
     "name": "stderr",
     "output_type": "stream",
     "text": [
      "\r",
      "Epoch 8, step 38/96, (Training Loss: 3.1717, samp_prob: 0.2315):  80%|████████  | 8/10 [1:44:17<24:44, 742.08s/it]"
     ]
    },
    {
     "name": "stdout",
     "output_type": "stream",
     "text": [
      "38\n",
      "\n",
      "[FINISHED] Epoch 8, (Training Loss (per epoch): 124.9828 samp_prob: 0.2315)\n"
     ]
    },
    {
     "name": "stderr",
     "output_type": "stream",
     "text": [
      "\r",
      "Epoch 8, step 39/96, (Training Loss: 3.2131, samp_prob: 0.2315):  80%|████████  | 8/10 [1:44:25<24:44, 742.08s/it]"
     ]
    },
    {
     "name": "stdout",
     "output_type": "stream",
     "text": [
      "39\n",
      "\n",
      "[FINISHED] Epoch 8, (Training Loss (per epoch): 128.1959 samp_prob: 0.2315)\n"
     ]
    },
    {
     "name": "stderr",
     "output_type": "stream",
     "text": [
      "\r",
      "Epoch 8, step 40/96, (Training Loss: 3.1041, samp_prob: 0.2315):  80%|████████  | 8/10 [1:44:32<24:44, 742.08s/it]"
     ]
    },
    {
     "name": "stdout",
     "output_type": "stream",
     "text": [
      "40\n",
      "\n",
      "[FINISHED] Epoch 8, (Training Loss (per epoch): 131.3000 samp_prob: 0.2315)\n"
     ]
    },
    {
     "name": "stderr",
     "output_type": "stream",
     "text": [
      "\r",
      "Epoch 8, step 41/96, (Training Loss: 3.1477, samp_prob: 0.2315):  80%|████████  | 8/10 [1:44:40<24:44, 742.08s/it]"
     ]
    },
    {
     "name": "stdout",
     "output_type": "stream",
     "text": [
      "41\n",
      "\n",
      "[FINISHED] Epoch 8, (Training Loss (per epoch): 134.4476 samp_prob: 0.2315)\n"
     ]
    },
    {
     "name": "stderr",
     "output_type": "stream",
     "text": [
      "\r",
      "Epoch 8, step 42/96, (Training Loss: 3.2217, samp_prob: 0.2315):  80%|████████  | 8/10 [1:44:48<24:44, 742.08s/it]"
     ]
    },
    {
     "name": "stdout",
     "output_type": "stream",
     "text": [
      "42\n",
      "\n",
      "[FINISHED] Epoch 8, (Training Loss (per epoch): 137.6693 samp_prob: 0.2315)\n"
     ]
    },
    {
     "name": "stderr",
     "output_type": "stream",
     "text": [
      "\r",
      "Epoch 8, step 43/96, (Training Loss: 3.2195, samp_prob: 0.2315):  80%|████████  | 8/10 [1:44:55<24:44, 742.08s/it]"
     ]
    },
    {
     "name": "stdout",
     "output_type": "stream",
     "text": [
      "43\n",
      "\n",
      "[FINISHED] Epoch 8, (Training Loss (per epoch): 140.8888 samp_prob: 0.2315)\n"
     ]
    },
    {
     "name": "stderr",
     "output_type": "stream",
     "text": [
      "\r",
      "Epoch 8, step 44/96, (Training Loss: 3.1402, samp_prob: 0.2315):  80%|████████  | 8/10 [1:45:03<24:44, 742.08s/it]"
     ]
    },
    {
     "name": "stdout",
     "output_type": "stream",
     "text": [
      "44\n",
      "\n",
      "[FINISHED] Epoch 8, (Training Loss (per epoch): 144.0290 samp_prob: 0.2315)\n"
     ]
    },
    {
     "name": "stderr",
     "output_type": "stream",
     "text": [
      "\r",
      "Epoch 8, step 45/96, (Training Loss: 3.1858, samp_prob: 0.2315):  80%|████████  | 8/10 [1:45:11<24:44, 742.08s/it]"
     ]
    },
    {
     "name": "stdout",
     "output_type": "stream",
     "text": [
      "45\n",
      "\n",
      "[FINISHED] Epoch 8, (Training Loss (per epoch): 147.2148 samp_prob: 0.2315)\n"
     ]
    },
    {
     "name": "stderr",
     "output_type": "stream",
     "text": [
      "\r",
      "Epoch 8, step 46/96, (Training Loss: 3.2598, samp_prob: 0.2315):  80%|████████  | 8/10 [1:45:19<24:44, 742.08s/it]"
     ]
    },
    {
     "name": "stdout",
     "output_type": "stream",
     "text": [
      "[[ 1  4 56 ...  2  2  2]\n",
      " [ 1  4 23 ...  2  2  2]\n",
      " [ 1  4  7 ...  2  2  2]\n",
      " ...\n",
      " [ 1 20 12 ...  2  2  2]\n",
      " [ 1  4 56 ...  2  2  2]\n",
      " [ 1  4  8 ...  2  2  2]]\n",
      "\n",
      "[Train. Prediction] Epoch 8, step 46/96......\n",
      "\n",
      "id: 126\n",
      "answer: ['<BOS>', 'the', 'man', 'is', 'playing', 'the', 'wooden', 'flute']\n",
      "prediction: ['<BOS>', 'a', 'man', 'is', 'playing', 'a', 'flute']\n",
      "46\n",
      "\n",
      "[FINISHED] Epoch 8, (Training Loss (per epoch): 150.4746 samp_prob: 0.2315)\n"
     ]
    },
    {
     "name": "stderr",
     "output_type": "stream",
     "text": [
      "\r",
      "Epoch 8, step 47/96, (Training Loss: 3.1588, samp_prob: 0.2315):  80%|████████  | 8/10 [1:45:26<24:44, 742.08s/it]"
     ]
    },
    {
     "name": "stdout",
     "output_type": "stream",
     "text": [
      "47\n",
      "\n",
      "[FINISHED] Epoch 8, (Training Loss (per epoch): 153.6334 samp_prob: 0.2315)\n"
     ]
    },
    {
     "name": "stderr",
     "output_type": "stream",
     "text": [
      "\r",
      "Epoch 8, step 48/96, (Training Loss: 3.1660, samp_prob: 0.2315):  80%|████████  | 8/10 [1:45:34<24:44, 742.08s/it]"
     ]
    },
    {
     "name": "stdout",
     "output_type": "stream",
     "text": [
      "48\n",
      "\n",
      "[FINISHED] Epoch 8, (Training Loss (per epoch): 156.7994 samp_prob: 0.2315)\n"
     ]
    },
    {
     "name": "stderr",
     "output_type": "stream",
     "text": [
      "\r",
      "Epoch 8, step 49/96, (Training Loss: 3.2391, samp_prob: 0.2315):  80%|████████  | 8/10 [1:45:42<24:44, 742.08s/it]"
     ]
    },
    {
     "name": "stdout",
     "output_type": "stream",
     "text": [
      "49\n",
      "\n",
      "[FINISHED] Epoch 8, (Training Loss (per epoch): 160.0384 samp_prob: 0.2315)\n"
     ]
    },
    {
     "name": "stderr",
     "output_type": "stream",
     "text": [
      "\r",
      "Epoch 8, step 50/96, (Training Loss: 3.3259, samp_prob: 0.2315):  80%|████████  | 8/10 [1:45:49<24:44, 742.08s/it]"
     ]
    },
    {
     "name": "stdout",
     "output_type": "stream",
     "text": [
      "50\n",
      "\n",
      "[FINISHED] Epoch 8, (Training Loss (per epoch): 163.3643 samp_prob: 0.2315)\n"
     ]
    },
    {
     "name": "stderr",
     "output_type": "stream",
     "text": [
      "\r",
      "Epoch 8, step 51/96, (Training Loss: 3.1352, samp_prob: 0.2315):  80%|████████  | 8/10 [1:45:57<24:44, 742.08s/it]"
     ]
    },
    {
     "name": "stdout",
     "output_type": "stream",
     "text": [
      "51\n",
      "\n",
      "[FINISHED] Epoch 8, (Training Loss (per epoch): 166.4995 samp_prob: 0.2315)\n"
     ]
    },
    {
     "name": "stderr",
     "output_type": "stream",
     "text": [
      "\r",
      "Epoch 8, step 52/96, (Training Loss: 3.1337, samp_prob: 0.2315):  80%|████████  | 8/10 [1:46:05<24:44, 742.08s/it]"
     ]
    },
    {
     "name": "stdout",
     "output_type": "stream",
     "text": [
      "52\n",
      "\n",
      "[FINISHED] Epoch 8, (Training Loss (per epoch): 169.6332 samp_prob: 0.2315)\n"
     ]
    },
    {
     "name": "stderr",
     "output_type": "stream",
     "text": [
      "\r",
      "Epoch 8, step 53/96, (Training Loss: 3.2943, samp_prob: 0.2315):  80%|████████  | 8/10 [1:46:12<24:44, 742.08s/it]"
     ]
    },
    {
     "name": "stdout",
     "output_type": "stream",
     "text": [
      "53\n",
      "\n",
      "[FINISHED] Epoch 8, (Training Loss (per epoch): 172.9275 samp_prob: 0.2315)\n"
     ]
    },
    {
     "name": "stderr",
     "output_type": "stream",
     "text": [
      "\r",
      "Epoch 8, step 54/96, (Training Loss: 3.1321, samp_prob: 0.2315):  80%|████████  | 8/10 [1:46:20<24:44, 742.08s/it]"
     ]
    },
    {
     "name": "stdout",
     "output_type": "stream",
     "text": [
      "54\n",
      "\n",
      "[FINISHED] Epoch 8, (Training Loss (per epoch): 176.0596 samp_prob: 0.2315)\n"
     ]
    },
    {
     "name": "stderr",
     "output_type": "stream",
     "text": [
      "\r",
      "Epoch 8, step 55/96, (Training Loss: 3.1460, samp_prob: 0.2315):  80%|████████  | 8/10 [1:46:27<24:44, 742.08s/it]"
     ]
    },
    {
     "name": "stdout",
     "output_type": "stream",
     "text": [
      "55\n",
      "\n",
      "[FINISHED] Epoch 8, (Training Loss (per epoch): 179.2056 samp_prob: 0.2315)\n"
     ]
    },
    {
     "name": "stderr",
     "output_type": "stream",
     "text": [
      "\r",
      "Epoch 8, step 56/96, (Training Loss: 3.0991, samp_prob: 0.2315):  80%|████████  | 8/10 [1:46:35<24:44, 742.08s/it]"
     ]
    },
    {
     "name": "stdout",
     "output_type": "stream",
     "text": [
      "56\n",
      "\n",
      "[FINISHED] Epoch 8, (Training Loss (per epoch): 182.3047 samp_prob: 0.2315)\n"
     ]
    },
    {
     "name": "stderr",
     "output_type": "stream",
     "text": [
      "\r",
      "Epoch 8, step 57/96, (Training Loss: 3.0394, samp_prob: 0.2315):  80%|████████  | 8/10 [1:46:43<24:44, 742.08s/it]"
     ]
    },
    {
     "name": "stdout",
     "output_type": "stream",
     "text": [
      "57\n",
      "\n",
      "[FINISHED] Epoch 8, (Training Loss (per epoch): 185.3440 samp_prob: 0.2315)\n"
     ]
    },
    {
     "name": "stderr",
     "output_type": "stream",
     "text": [
      "\r",
      "Epoch 8, step 58/96, (Training Loss: 3.1070, samp_prob: 0.2315):  80%|████████  | 8/10 [1:46:51<24:44, 742.08s/it]"
     ]
    },
    {
     "name": "stdout",
     "output_type": "stream",
     "text": [
      "58\n",
      "\n",
      "[FINISHED] Epoch 8, (Training Loss (per epoch): 188.4510 samp_prob: 0.2315)\n"
     ]
    },
    {
     "name": "stderr",
     "output_type": "stream",
     "text": [
      "\r",
      "Epoch 8, step 59/96, (Training Loss: 3.1989, samp_prob: 0.2315):  80%|████████  | 8/10 [1:46:58<24:44, 742.08s/it]"
     ]
    },
    {
     "name": "stdout",
     "output_type": "stream",
     "text": [
      "59\n",
      "\n",
      "[FINISHED] Epoch 8, (Training Loss (per epoch): 191.6499 samp_prob: 0.2315)\n"
     ]
    },
    {
     "name": "stderr",
     "output_type": "stream",
     "text": [
      "\r",
      "Epoch 8, step 60/96, (Training Loss: 3.1238, samp_prob: 0.2315):  80%|████████  | 8/10 [1:47:06<24:44, 742.08s/it]"
     ]
    },
    {
     "name": "stdout",
     "output_type": "stream",
     "text": [
      "60\n",
      "\n",
      "[FINISHED] Epoch 8, (Training Loss (per epoch): 194.7737 samp_prob: 0.2315)\n"
     ]
    },
    {
     "name": "stderr",
     "output_type": "stream",
     "text": [
      "\r",
      "Epoch 8, step 61/96, (Training Loss: 3.2556, samp_prob: 0.2315):  80%|████████  | 8/10 [1:47:14<24:44, 742.08s/it]"
     ]
    },
    {
     "name": "stdout",
     "output_type": "stream",
     "text": [
      "[[ 1  4  7 ...  2  2  2]\n",
      " [ 1  4  7 ...  2  2  2]\n",
      " [ 1  4  7 ...  2  2  2]\n",
      " ...\n",
      " [ 1  4 23 ...  2  2  2]\n",
      " [ 1  4  8 ...  2  2  2]\n",
      " [ 1  6 12 ...  2  2  2]]\n",
      "\n",
      "[Train. Prediction] Epoch 8, step 61/96......\n",
      "\n",
      "id: 45\n",
      "answer: ['<BOS>', 'a', 'tiger', 'is', 'wrestling', 'with', 'its', 'trainer']\n",
      "prediction: ['<BOS>', 'a', 'man', 'is', 'playing', 'a', 'a']\n",
      "61\n",
      "\n",
      "[FINISHED] Epoch 8, (Training Loss (per epoch): 198.0293 samp_prob: 0.2315)\n"
     ]
    },
    {
     "name": "stderr",
     "output_type": "stream",
     "text": [
      "\r",
      "Epoch 8, step 62/96, (Training Loss: 3.2184, samp_prob: 0.2315):  80%|████████  | 8/10 [1:47:21<24:44, 742.08s/it]"
     ]
    },
    {
     "name": "stdout",
     "output_type": "stream",
     "text": [
      "62\n",
      "\n",
      "[FINISHED] Epoch 8, (Training Loss (per epoch): 201.2477 samp_prob: 0.2315)\n"
     ]
    },
    {
     "name": "stderr",
     "output_type": "stream",
     "text": [
      "\r",
      "Epoch 8, step 63/96, (Training Loss: 3.2038, samp_prob: 0.2315):  80%|████████  | 8/10 [1:47:29<24:44, 742.08s/it]"
     ]
    },
    {
     "name": "stdout",
     "output_type": "stream",
     "text": [
      "63\n",
      "\n",
      "[FINISHED] Epoch 8, (Training Loss (per epoch): 204.4516 samp_prob: 0.2315)\n"
     ]
    },
    {
     "name": "stderr",
     "output_type": "stream",
     "text": [
      "\r",
      "Epoch 8, step 64/96, (Training Loss: 3.2799, samp_prob: 0.2315):  80%|████████  | 8/10 [1:47:37<24:44, 742.08s/it]"
     ]
    },
    {
     "name": "stdout",
     "output_type": "stream",
     "text": [
      "64\n",
      "\n",
      "[FINISHED] Epoch 8, (Training Loss (per epoch): 207.7314 samp_prob: 0.2315)\n"
     ]
    },
    {
     "name": "stderr",
     "output_type": "stream",
     "text": [
      "\r",
      "Epoch 8, step 65/96, (Training Loss: 3.0225, samp_prob: 0.2315):  80%|████████  | 8/10 [1:47:44<24:44, 742.08s/it]"
     ]
    },
    {
     "name": "stdout",
     "output_type": "stream",
     "text": [
      "65\n",
      "\n",
      "[FINISHED] Epoch 8, (Training Loss (per epoch): 210.7539 samp_prob: 0.2315)\n"
     ]
    },
    {
     "name": "stderr",
     "output_type": "stream",
     "text": [
      "\r",
      "Epoch 8, step 66/96, (Training Loss: 3.3196, samp_prob: 0.2315):  80%|████████  | 8/10 [1:47:52<24:44, 742.08s/it]"
     ]
    },
    {
     "name": "stdout",
     "output_type": "stream",
     "text": [
      "66\n",
      "\n",
      "[FINISHED] Epoch 8, (Training Loss (per epoch): 214.0736 samp_prob: 0.2315)\n"
     ]
    },
    {
     "name": "stderr",
     "output_type": "stream",
     "text": [
      "\r",
      "Epoch 8, step 67/96, (Training Loss: 3.3362, samp_prob: 0.2315):  80%|████████  | 8/10 [1:48:00<24:44, 742.08s/it]"
     ]
    },
    {
     "name": "stdout",
     "output_type": "stream",
     "text": [
      "67\n",
      "\n",
      "[FINISHED] Epoch 8, (Training Loss (per epoch): 217.4098 samp_prob: 0.2315)\n"
     ]
    },
    {
     "name": "stderr",
     "output_type": "stream",
     "text": [
      "\r",
      "Epoch 8, step 68/96, (Training Loss: 3.1655, samp_prob: 0.2315):  80%|████████  | 8/10 [1:48:07<24:44, 742.08s/it]"
     ]
    },
    {
     "name": "stdout",
     "output_type": "stream",
     "text": [
      "68\n",
      "\n",
      "[FINISHED] Epoch 8, (Training Loss (per epoch): 220.5753 samp_prob: 0.2315)\n"
     ]
    },
    {
     "name": "stderr",
     "output_type": "stream",
     "text": [
      "\r",
      "Epoch 8, step 69/96, (Training Loss: 3.0773, samp_prob: 0.2315):  80%|████████  | 8/10 [1:48:15<24:44, 742.08s/it]"
     ]
    },
    {
     "name": "stdout",
     "output_type": "stream",
     "text": [
      "69\n",
      "\n",
      "[FINISHED] Epoch 8, (Training Loss (per epoch): 223.6526 samp_prob: 0.2315)\n"
     ]
    },
    {
     "name": "stderr",
     "output_type": "stream",
     "text": [
      "\r",
      "Epoch 8, step 70/96, (Training Loss: 3.2559, samp_prob: 0.2315):  80%|████████  | 8/10 [1:48:23<24:44, 742.08s/it]"
     ]
    },
    {
     "name": "stdout",
     "output_type": "stream",
     "text": [
      "70\n",
      "\n",
      "[FINISHED] Epoch 8, (Training Loss (per epoch): 226.9085 samp_prob: 0.2315)\n"
     ]
    },
    {
     "name": "stderr",
     "output_type": "stream",
     "text": [
      "\r",
      "Epoch 8, step 71/96, (Training Loss: 3.1226, samp_prob: 0.2315):  80%|████████  | 8/10 [1:48:30<24:44, 742.08s/it]"
     ]
    },
    {
     "name": "stdout",
     "output_type": "stream",
     "text": [
      "71\n",
      "\n",
      "[FINISHED] Epoch 8, (Training Loss (per epoch): 230.0310 samp_prob: 0.2315)\n"
     ]
    },
    {
     "name": "stderr",
     "output_type": "stream",
     "text": [
      "\r",
      "Epoch 8, step 72/96, (Training Loss: 3.2573, samp_prob: 0.2315):  80%|████████  | 8/10 [1:48:38<24:44, 742.08s/it]"
     ]
    },
    {
     "name": "stdout",
     "output_type": "stream",
     "text": [
      "72\n",
      "\n",
      "[FINISHED] Epoch 8, (Training Loss (per epoch): 233.2883 samp_prob: 0.2315)\n"
     ]
    },
    {
     "name": "stderr",
     "output_type": "stream",
     "text": [
      "\r",
      "Epoch 8, step 73/96, (Training Loss: 3.1457, samp_prob: 0.2315):  80%|████████  | 8/10 [1:48:45<24:44, 742.08s/it]"
     ]
    },
    {
     "name": "stdout",
     "output_type": "stream",
     "text": [
      "73\n",
      "\n",
      "[FINISHED] Epoch 8, (Training Loss (per epoch): 236.4340 samp_prob: 0.2315)\n"
     ]
    },
    {
     "name": "stderr",
     "output_type": "stream",
     "text": [
      "\r",
      "Epoch 8, step 74/96, (Training Loss: 3.1803, samp_prob: 0.2315):  80%|████████  | 8/10 [1:48:53<24:44, 742.08s/it]"
     ]
    },
    {
     "name": "stdout",
     "output_type": "stream",
     "text": [
      "74\n",
      "\n",
      "[FINISHED] Epoch 8, (Training Loss (per epoch): 239.6143 samp_prob: 0.2315)\n"
     ]
    },
    {
     "name": "stderr",
     "output_type": "stream",
     "text": [
      "\r",
      "Epoch 8, step 75/96, (Training Loss: 3.2343, samp_prob: 0.2315):  80%|████████  | 8/10 [1:49:01<24:44, 742.08s/it]"
     ]
    },
    {
     "name": "stdout",
     "output_type": "stream",
     "text": [
      "75\n",
      "\n",
      "[FINISHED] Epoch 8, (Training Loss (per epoch): 242.8486 samp_prob: 0.2315)\n"
     ]
    },
    {
     "name": "stderr",
     "output_type": "stream",
     "text": [
      "\r",
      "Epoch 8, step 76/96, (Training Loss: 3.2381, samp_prob: 0.2315):  80%|████████  | 8/10 [1:49:09<24:44, 742.08s/it]"
     ]
    },
    {
     "name": "stdout",
     "output_type": "stream",
     "text": [
      "[[ 1  4 17 ...  2  2  2]\n",
      " [ 1  4  7 ...  2  2  2]\n",
      " [ 1  4  8 ...  2  2  2]\n",
      " ...\n",
      " [ 1  4 17 ...  2  2  2]\n",
      " [ 1  4  8 ...  2  2  2]\n",
      " [ 1  4  7 ...  2  2  2]]\n",
      "\n",
      "[Train. Prediction] Epoch 8, step 76/96......\n",
      "\n",
      "id: 201\n",
      "answer: ['<BOS>', 'a', 'woman', 'is', 'firing', 'shotgun']\n",
      "prediction: ['<BOS>', 'a', 'woman', 'is', 'a', 'a']\n",
      "76\n",
      "\n",
      "[FINISHED] Epoch 8, (Training Loss (per epoch): 246.0867 samp_prob: 0.2315)\n"
     ]
    },
    {
     "name": "stderr",
     "output_type": "stream",
     "text": [
      "\r",
      "Epoch 8, step 77/96, (Training Loss: 3.1325, samp_prob: 0.2315):  80%|████████  | 8/10 [1:49:16<24:44, 742.08s/it]"
     ]
    },
    {
     "name": "stdout",
     "output_type": "stream",
     "text": [
      "77\n",
      "\n",
      "[FINISHED] Epoch 8, (Training Loss (per epoch): 249.2192 samp_prob: 0.2315)\n"
     ]
    },
    {
     "name": "stderr",
     "output_type": "stream",
     "text": [
      "\r",
      "Epoch 8, step 78/96, (Training Loss: 3.0323, samp_prob: 0.2315):  80%|████████  | 8/10 [1:49:24<24:44, 742.08s/it]"
     ]
    },
    {
     "name": "stdout",
     "output_type": "stream",
     "text": [
      "78\n",
      "\n",
      "[FINISHED] Epoch 8, (Training Loss (per epoch): 252.2515 samp_prob: 0.2315)\n"
     ]
    },
    {
     "name": "stderr",
     "output_type": "stream",
     "text": [
      "\r",
      "Epoch 8, step 79/96, (Training Loss: 3.0714, samp_prob: 0.2315):  80%|████████  | 8/10 [1:49:31<24:44, 742.08s/it]"
     ]
    },
    {
     "name": "stdout",
     "output_type": "stream",
     "text": [
      "79\n",
      "\n",
      "[FINISHED] Epoch 8, (Training Loss (per epoch): 255.3229 samp_prob: 0.2315)\n"
     ]
    },
    {
     "name": "stderr",
     "output_type": "stream",
     "text": [
      "\r",
      "Epoch 8, step 80/96, (Training Loss: 3.1787, samp_prob: 0.2315):  80%|████████  | 8/10 [1:49:39<24:44, 742.08s/it]"
     ]
    },
    {
     "name": "stdout",
     "output_type": "stream",
     "text": [
      "80\n",
      "\n",
      "[FINISHED] Epoch 8, (Training Loss (per epoch): 258.5016 samp_prob: 0.2315)\n"
     ]
    },
    {
     "name": "stderr",
     "output_type": "stream",
     "text": [
      "\r",
      "Epoch 8, step 81/96, (Training Loss: 3.0145, samp_prob: 0.2315):  80%|████████  | 8/10 [1:49:47<24:44, 742.08s/it]"
     ]
    },
    {
     "name": "stdout",
     "output_type": "stream",
     "text": [
      "81\n",
      "\n",
      "[FINISHED] Epoch 8, (Training Loss (per epoch): 261.5161 samp_prob: 0.2315)\n"
     ]
    },
    {
     "name": "stderr",
     "output_type": "stream",
     "text": [
      "\r",
      "Epoch 8, step 82/96, (Training Loss: 3.2891, samp_prob: 0.2315):  80%|████████  | 8/10 [1:49:54<24:44, 742.08s/it]"
     ]
    },
    {
     "name": "stdout",
     "output_type": "stream",
     "text": [
      "82\n",
      "\n",
      "[FINISHED] Epoch 8, (Training Loss (per epoch): 264.8052 samp_prob: 0.2315)\n"
     ]
    },
    {
     "name": "stderr",
     "output_type": "stream",
     "text": [
      "\r",
      "Epoch 8, step 83/96, (Training Loss: 3.1975, samp_prob: 0.2315):  80%|████████  | 8/10 [1:50:02<24:44, 742.08s/it]"
     ]
    },
    {
     "name": "stdout",
     "output_type": "stream",
     "text": [
      "83\n",
      "\n",
      "[FINISHED] Epoch 8, (Training Loss (per epoch): 268.0027 samp_prob: 0.2315)\n"
     ]
    },
    {
     "name": "stderr",
     "output_type": "stream",
     "text": [
      "\r",
      "Epoch 8, step 84/96, (Training Loss: 3.1046, samp_prob: 0.2315):  80%|████████  | 8/10 [1:50:09<24:44, 742.08s/it]"
     ]
    },
    {
     "name": "stdout",
     "output_type": "stream",
     "text": [
      "84\n",
      "\n",
      "[FINISHED] Epoch 8, (Training Loss (per epoch): 271.1073 samp_prob: 0.2315)\n"
     ]
    },
    {
     "name": "stderr",
     "output_type": "stream",
     "text": [
      "\r",
      "Epoch 8, step 85/96, (Training Loss: 3.2081, samp_prob: 0.2315):  80%|████████  | 8/10 [1:50:17<24:44, 742.08s/it]"
     ]
    },
    {
     "name": "stdout",
     "output_type": "stream",
     "text": [
      "85\n",
      "\n",
      "[FINISHED] Epoch 8, (Training Loss (per epoch): 274.3154 samp_prob: 0.2315)\n"
     ]
    },
    {
     "name": "stderr",
     "output_type": "stream",
     "text": [
      "\r",
      "Epoch 8, step 86/96, (Training Loss: 3.0694, samp_prob: 0.2315):  80%|████████  | 8/10 [1:50:25<24:44, 742.08s/it]"
     ]
    },
    {
     "name": "stdout",
     "output_type": "stream",
     "text": [
      "86\n",
      "\n",
      "[FINISHED] Epoch 8, (Training Loss (per epoch): 277.3848 samp_prob: 0.2315)\n"
     ]
    },
    {
     "name": "stderr",
     "output_type": "stream",
     "text": [
      "\r",
      "Epoch 8, step 87/96, (Training Loss: 3.2146, samp_prob: 0.2315):  80%|████████  | 8/10 [1:50:32<24:44, 742.08s/it]"
     ]
    },
    {
     "name": "stdout",
     "output_type": "stream",
     "text": [
      "87\n",
      "\n",
      "[FINISHED] Epoch 8, (Training Loss (per epoch): 280.5994 samp_prob: 0.2315)\n"
     ]
    },
    {
     "name": "stderr",
     "output_type": "stream",
     "text": [
      "\r",
      "Epoch 8, step 88/96, (Training Loss: 3.2155, samp_prob: 0.2315):  80%|████████  | 8/10 [1:50:40<24:44, 742.08s/it]"
     ]
    },
    {
     "name": "stdout",
     "output_type": "stream",
     "text": [
      "88\n",
      "\n",
      "[FINISHED] Epoch 8, (Training Loss (per epoch): 283.8150 samp_prob: 0.2315)\n"
     ]
    },
    {
     "name": "stderr",
     "output_type": "stream",
     "text": [
      "\r",
      "Epoch 8, step 89/96, (Training Loss: 3.1580, samp_prob: 0.2315):  80%|████████  | 8/10 [1:50:47<24:44, 742.08s/it]"
     ]
    },
    {
     "name": "stdout",
     "output_type": "stream",
     "text": [
      "89\n",
      "\n",
      "[FINISHED] Epoch 8, (Training Loss (per epoch): 286.9730 samp_prob: 0.2315)\n"
     ]
    },
    {
     "name": "stderr",
     "output_type": "stream",
     "text": [
      "\r",
      "Epoch 8, step 90/96, (Training Loss: 3.1077, samp_prob: 0.2315):  80%|████████  | 8/10 [1:50:55<24:44, 742.08s/it]"
     ]
    },
    {
     "name": "stdout",
     "output_type": "stream",
     "text": [
      "90\n",
      "\n",
      "[FINISHED] Epoch 8, (Training Loss (per epoch): 290.0808 samp_prob: 0.2315)\n"
     ]
    },
    {
     "name": "stderr",
     "output_type": "stream",
     "text": [
      "\r",
      "Epoch 8, step 91/96, (Training Loss: 3.1627, samp_prob: 0.2315):  80%|████████  | 8/10 [1:51:03<24:44, 742.08s/it]"
     ]
    },
    {
     "name": "stdout",
     "output_type": "stream",
     "text": [
      "[[  1   4   7 ...   2   2   2]\n",
      " [  1   4 105 ...   2   2   2]\n",
      " [  1   4 132 ...   2   2   2]\n",
      " ...\n",
      " [  1   4   7 ...   2   2   2]\n",
      " [  1   4   8 ...   2   2   2]\n",
      " [  1   4   7 ...   2   2   2]]\n",
      "\n",
      "[Train. Prediction] Epoch 8, step 91/96......\n",
      "\n",
      "id: 155\n",
      "answer: ['<BOS>', 'a', 'man', 'pours', 'sauce', 'into', 'a', 'plastic', 'bag', 'full', 'of', 'meat']\n",
      "prediction: ['<BOS>', 'a', 'man', 'is', 'pouring', 'a', 'a']\n",
      "91\n",
      "\n",
      "[FINISHED] Epoch 8, (Training Loss (per epoch): 293.2434 samp_prob: 0.2315)\n"
     ]
    },
    {
     "name": "stderr",
     "output_type": "stream",
     "text": [
      "\r",
      "Epoch 8, step 92/96, (Training Loss: 3.0246, samp_prob: 0.2315):  80%|████████  | 8/10 [1:51:11<24:44, 742.08s/it]"
     ]
    },
    {
     "name": "stdout",
     "output_type": "stream",
     "text": [
      "92\n",
      "\n",
      "[FINISHED] Epoch 8, (Training Loss (per epoch): 296.2680 samp_prob: 0.2315)\n"
     ]
    },
    {
     "name": "stderr",
     "output_type": "stream",
     "text": [
      "\r",
      "Epoch 8, step 93/96, (Training Loss: 3.1028, samp_prob: 0.2315):  80%|████████  | 8/10 [1:51:18<24:44, 742.08s/it]"
     ]
    },
    {
     "name": "stdout",
     "output_type": "stream",
     "text": [
      "93\n",
      "\n",
      "[FINISHED] Epoch 8, (Training Loss (per epoch): 299.3709 samp_prob: 0.2315)\n"
     ]
    },
    {
     "name": "stderr",
     "output_type": "stream",
     "text": [
      "\r",
      "Epoch 8, step 94/96, (Training Loss: 3.2352, samp_prob: 0.2315):  80%|████████  | 8/10 [1:51:26<24:44, 742.08s/it]"
     ]
    },
    {
     "name": "stdout",
     "output_type": "stream",
     "text": [
      "94\n",
      "\n",
      "[FINISHED] Epoch 8, (Training Loss (per epoch): 302.6061 samp_prob: 0.2315)\n"
     ]
    },
    {
     "name": "stderr",
     "output_type": "stream",
     "text": [
      "Epoch 8, step 95/96, (Training Loss: 3.1707, samp_prob: 0.2315):  90%|█████████ | 9/10 [1:51:34<12:20, 740.12s/it]"
     ]
    },
    {
     "name": "stdout",
     "output_type": "stream",
     "text": [
      "95\n",
      "\n",
      "[FINISHED] Epoch 8, (Training Loss (per epoch): 305.7768 samp_prob: 0.2315)\n"
     ]
    },
    {
     "name": "stderr",
     "output_type": "stream",
     "text": [
      "\r",
      "Epoch 9, step 0/96, (Training Loss: 3.2114, samp_prob: 0.1680):  90%|█████████ | 9/10 [1:51:41<12:20, 740.12s/it] "
     ]
    },
    {
     "name": "stdout",
     "output_type": "stream",
     "text": [
      "0\n",
      "\n",
      "[FINISHED] Epoch 9, (Training Loss (per epoch): 3.2114 samp_prob: 0.1680)\n"
     ]
    },
    {
     "name": "stderr",
     "output_type": "stream",
     "text": [
      "\r",
      "Epoch 9, step 1/96, (Training Loss: 3.2086, samp_prob: 0.1680):  90%|█████████ | 9/10 [1:51:49<12:20, 740.12s/it]"
     ]
    },
    {
     "name": "stdout",
     "output_type": "stream",
     "text": [
      "[[ 1  4 24 ...  2  2  2]\n",
      " [ 1  6  5 ...  2  2  2]\n",
      " [ 1  4  7 ...  2  2  2]\n",
      " ...\n",
      " [ 1  4 12 ...  2  2  2]\n",
      " [ 1  4  8 ...  2  2  2]\n",
      " [ 1  4  7 ...  2  2  2]]\n",
      "\n",
      "[Train. Prediction] Epoch 9, step 1/96......\n",
      "\n",
      "id: 144\n",
      "answer: ['<BOS>', 'a', 'police', 'officer', 'points', 'the', 'gun', 'at', 'a', 'white', 'car', 'parked', 'on', 'one', 'side', 'of', 'a', 'highway', 'and', 'screams', 'at', 'the', 'person', 'inside', 'it']\n",
      "prediction: ['<BOS>', 'a', 'man', 'is', 'is', 'car', 'a']\n",
      "1\n",
      "\n",
      "[FINISHED] Epoch 9, (Training Loss (per epoch): 6.4200 samp_prob: 0.1680)\n"
     ]
    },
    {
     "name": "stderr",
     "output_type": "stream",
     "text": [
      "\r",
      "Epoch 9, step 2/96, (Training Loss: 3.1296, samp_prob: 0.1680):  90%|█████████ | 9/10 [1:51:57<12:20, 740.12s/it]"
     ]
    },
    {
     "name": "stdout",
     "output_type": "stream",
     "text": [
      "2\n",
      "\n",
      "[FINISHED] Epoch 9, (Training Loss (per epoch): 9.5496 samp_prob: 0.1680)\n"
     ]
    },
    {
     "name": "stderr",
     "output_type": "stream",
     "text": [
      "\r",
      "Epoch 9, step 3/96, (Training Loss: 3.2269, samp_prob: 0.1680):  90%|█████████ | 9/10 [1:52:04<12:20, 740.12s/it]"
     ]
    },
    {
     "name": "stdout",
     "output_type": "stream",
     "text": [
      "3\n",
      "\n",
      "[FINISHED] Epoch 9, (Training Loss (per epoch): 12.7765 samp_prob: 0.1680)\n"
     ]
    },
    {
     "name": "stderr",
     "output_type": "stream",
     "text": [
      "\r",
      "Epoch 9, step 4/96, (Training Loss: 3.0600, samp_prob: 0.1680):  90%|█████████ | 9/10 [1:52:12<12:20, 740.12s/it]"
     ]
    },
    {
     "name": "stdout",
     "output_type": "stream",
     "text": [
      "4\n",
      "\n",
      "[FINISHED] Epoch 9, (Training Loss (per epoch): 15.8365 samp_prob: 0.1680)\n"
     ]
    },
    {
     "name": "stderr",
     "output_type": "stream",
     "text": [
      "\r",
      "Epoch 9, step 5/96, (Training Loss: 3.0883, samp_prob: 0.1680):  90%|█████████ | 9/10 [1:52:20<12:20, 740.12s/it]"
     ]
    },
    {
     "name": "stdout",
     "output_type": "stream",
     "text": [
      "5\n",
      "\n",
      "[FINISHED] Epoch 9, (Training Loss (per epoch): 18.9248 samp_prob: 0.1680)\n"
     ]
    },
    {
     "name": "stderr",
     "output_type": "stream",
     "text": [
      "\r",
      "Epoch 9, step 6/96, (Training Loss: 3.0962, samp_prob: 0.1680):  90%|█████████ | 9/10 [1:52:27<12:20, 740.12s/it]"
     ]
    },
    {
     "name": "stdout",
     "output_type": "stream",
     "text": [
      "6\n",
      "\n",
      "[FINISHED] Epoch 9, (Training Loss (per epoch): 22.0211 samp_prob: 0.1680)\n"
     ]
    },
    {
     "name": "stderr",
     "output_type": "stream",
     "text": [
      "\r",
      "Epoch 9, step 7/96, (Training Loss: 3.1639, samp_prob: 0.1680):  90%|█████████ | 9/10 [1:52:35<12:20, 740.12s/it]"
     ]
    },
    {
     "name": "stdout",
     "output_type": "stream",
     "text": [
      "7\n",
      "\n",
      "[FINISHED] Epoch 9, (Training Loss (per epoch): 25.1850 samp_prob: 0.1680)\n"
     ]
    },
    {
     "name": "stderr",
     "output_type": "stream",
     "text": [
      "\r",
      "Epoch 9, step 8/96, (Training Loss: 3.1364, samp_prob: 0.1680):  90%|█████████ | 9/10 [1:52:42<12:20, 740.12s/it]"
     ]
    },
    {
     "name": "stdout",
     "output_type": "stream",
     "text": [
      "8\n",
      "\n",
      "[FINISHED] Epoch 9, (Training Loss (per epoch): 28.3214 samp_prob: 0.1680)\n"
     ]
    },
    {
     "name": "stderr",
     "output_type": "stream",
     "text": [
      "\r",
      "Epoch 9, step 9/96, (Training Loss: 3.1233, samp_prob: 0.1680):  90%|█████████ | 9/10 [1:52:50<12:20, 740.12s/it]"
     ]
    },
    {
     "name": "stdout",
     "output_type": "stream",
     "text": [
      "9\n",
      "\n",
      "[FINISHED] Epoch 9, (Training Loss (per epoch): 31.4447 samp_prob: 0.1680)\n"
     ]
    },
    {
     "name": "stderr",
     "output_type": "stream",
     "text": [
      "\r",
      "Epoch 9, step 10/96, (Training Loss: 3.0589, samp_prob: 0.1680):  90%|█████████ | 9/10 [1:52:58<12:20, 740.12s/it]"
     ]
    },
    {
     "name": "stdout",
     "output_type": "stream",
     "text": [
      "10\n",
      "\n",
      "[FINISHED] Epoch 9, (Training Loss (per epoch): 34.5036 samp_prob: 0.1680)\n"
     ]
    },
    {
     "name": "stderr",
     "output_type": "stream",
     "text": [
      "\r",
      "Epoch 9, step 11/96, (Training Loss: 3.1493, samp_prob: 0.1680):  90%|█████████ | 9/10 [1:53:05<12:20, 740.12s/it]"
     ]
    },
    {
     "name": "stdout",
     "output_type": "stream",
     "text": [
      "11\n",
      "\n",
      "[FINISHED] Epoch 9, (Training Loss (per epoch): 37.6529 samp_prob: 0.1680)\n"
     ]
    },
    {
     "name": "stderr",
     "output_type": "stream",
     "text": [
      "\r",
      "Epoch 9, step 12/96, (Training Loss: 3.1882, samp_prob: 0.1680):  90%|█████████ | 9/10 [1:53:13<12:20, 740.12s/it]"
     ]
    },
    {
     "name": "stdout",
     "output_type": "stream",
     "text": [
      "12\n",
      "\n",
      "[FINISHED] Epoch 9, (Training Loss (per epoch): 40.8411 samp_prob: 0.1680)\n"
     ]
    },
    {
     "name": "stderr",
     "output_type": "stream",
     "text": [
      "\r",
      "Epoch 9, step 13/96, (Training Loss: 3.2418, samp_prob: 0.1680):  90%|█████████ | 9/10 [1:53:21<12:20, 740.12s/it]"
     ]
    },
    {
     "name": "stdout",
     "output_type": "stream",
     "text": [
      "13\n",
      "\n",
      "[FINISHED] Epoch 9, (Training Loss (per epoch): 44.0828 samp_prob: 0.1680)\n"
     ]
    },
    {
     "name": "stderr",
     "output_type": "stream",
     "text": [
      "\r",
      "Epoch 9, step 14/96, (Training Loss: 3.2156, samp_prob: 0.1680):  90%|█████████ | 9/10 [1:53:28<12:20, 740.12s/it]"
     ]
    },
    {
     "name": "stdout",
     "output_type": "stream",
     "text": [
      "14\n",
      "\n",
      "[FINISHED] Epoch 9, (Training Loss (per epoch): 47.2985 samp_prob: 0.1680)\n"
     ]
    },
    {
     "name": "stderr",
     "output_type": "stream",
     "text": [
      "\r",
      "Epoch 9, step 15/96, (Training Loss: 3.1675, samp_prob: 0.1680):  90%|█████████ | 9/10 [1:53:36<12:20, 740.12s/it]"
     ]
    },
    {
     "name": "stdout",
     "output_type": "stream",
     "text": [
      "15\n",
      "\n",
      "[FINISHED] Epoch 9, (Training Loss (per epoch): 50.4660 samp_prob: 0.1680)\n"
     ]
    },
    {
     "name": "stderr",
     "output_type": "stream",
     "text": [
      "\r",
      "Epoch 9, step 16/96, (Training Loss: 3.1043, samp_prob: 0.1680):  90%|█████████ | 9/10 [1:53:44<12:20, 740.12s/it]"
     ]
    },
    {
     "name": "stdout",
     "output_type": "stream",
     "text": [
      "[[ 1  4 23 ...  2  2  2]\n",
      " [ 1  4  8 ...  2  2  2]\n",
      " [ 1  4 56 ...  2  2  2]\n",
      " ...\n",
      " [ 1  4 24 ...  2  2  2]\n",
      " [ 1  4  8 ...  2  2  2]\n",
      " [ 1  4  8 ...  2  2  2]]\n",
      "\n",
      "[Train. Prediction] Epoch 9, step 16/96......\n",
      "\n",
      "id: 232\n",
      "answer: ['<BOS>', 'several', 'teams', 'are', 'playing', 'soccer']\n",
      "prediction: ['<BOS>', 'men', 'men', 'soccer', 'are', 'the', 'soccer']\n",
      "16\n",
      "\n",
      "[FINISHED] Epoch 9, (Training Loss (per epoch): 53.5703 samp_prob: 0.1680)\n"
     ]
    },
    {
     "name": "stderr",
     "output_type": "stream",
     "text": [
      "\r",
      "Epoch 9, step 17/96, (Training Loss: 3.0537, samp_prob: 0.1680):  90%|█████████ | 9/10 [1:53:51<12:20, 740.12s/it]"
     ]
    },
    {
     "name": "stdout",
     "output_type": "stream",
     "text": [
      "17\n",
      "\n",
      "[FINISHED] Epoch 9, (Training Loss (per epoch): 56.6240 samp_prob: 0.1680)\n"
     ]
    },
    {
     "name": "stderr",
     "output_type": "stream",
     "text": [
      "\r",
      "Epoch 9, step 18/96, (Training Loss: 2.9847, samp_prob: 0.1680):  90%|█████████ | 9/10 [1:53:59<12:20, 740.12s/it]"
     ]
    },
    {
     "name": "stdout",
     "output_type": "stream",
     "text": [
      "18\n",
      "\n",
      "[FINISHED] Epoch 9, (Training Loss (per epoch): 59.6087 samp_prob: 0.1680)\n"
     ]
    },
    {
     "name": "stderr",
     "output_type": "stream",
     "text": [
      "\r",
      "Epoch 9, step 19/96, (Training Loss: 2.8623, samp_prob: 0.1680):  90%|█████████ | 9/10 [1:54:07<12:20, 740.12s/it]"
     ]
    },
    {
     "name": "stdout",
     "output_type": "stream",
     "text": [
      "19\n",
      "\n",
      "[FINISHED] Epoch 9, (Training Loss (per epoch): 62.4710 samp_prob: 0.1680)\n"
     ]
    },
    {
     "name": "stderr",
     "output_type": "stream",
     "text": [
      "\r",
      "Epoch 9, step 20/96, (Training Loss: 3.1806, samp_prob: 0.1680):  90%|█████████ | 9/10 [1:54:14<12:20, 740.12s/it]"
     ]
    },
    {
     "name": "stdout",
     "output_type": "stream",
     "text": [
      "20\n",
      "\n",
      "[FINISHED] Epoch 9, (Training Loss (per epoch): 65.6516 samp_prob: 0.1680)\n"
     ]
    },
    {
     "name": "stderr",
     "output_type": "stream",
     "text": [
      "\r",
      "Epoch 9, step 21/96, (Training Loss: 3.0802, samp_prob: 0.1680):  90%|█████████ | 9/10 [1:54:22<12:20, 740.12s/it]"
     ]
    },
    {
     "name": "stdout",
     "output_type": "stream",
     "text": [
      "21\n",
      "\n",
      "[FINISHED] Epoch 9, (Training Loss (per epoch): 68.7318 samp_prob: 0.1680)\n"
     ]
    },
    {
     "name": "stderr",
     "output_type": "stream",
     "text": [
      "\r",
      "Epoch 9, step 22/96, (Training Loss: 3.0543, samp_prob: 0.1680):  90%|█████████ | 9/10 [1:54:30<12:20, 740.12s/it]"
     ]
    },
    {
     "name": "stdout",
     "output_type": "stream",
     "text": [
      "22\n",
      "\n",
      "[FINISHED] Epoch 9, (Training Loss (per epoch): 71.7861 samp_prob: 0.1680)\n"
     ]
    },
    {
     "name": "stderr",
     "output_type": "stream",
     "text": [
      "\r",
      "Epoch 9, step 23/96, (Training Loss: 3.1677, samp_prob: 0.1680):  90%|█████████ | 9/10 [1:54:37<12:20, 740.12s/it]"
     ]
    },
    {
     "name": "stdout",
     "output_type": "stream",
     "text": [
      "23\n",
      "\n",
      "[FINISHED] Epoch 9, (Training Loss (per epoch): 74.9538 samp_prob: 0.1680)\n"
     ]
    },
    {
     "name": "stderr",
     "output_type": "stream",
     "text": [
      "\r",
      "Epoch 9, step 24/96, (Training Loss: 3.3242, samp_prob: 0.1680):  90%|█████████ | 9/10 [1:54:45<12:20, 740.12s/it]"
     ]
    },
    {
     "name": "stdout",
     "output_type": "stream",
     "text": [
      "24\n",
      "\n",
      "[FINISHED] Epoch 9, (Training Loss (per epoch): 78.2780 samp_prob: 0.1680)\n"
     ]
    },
    {
     "name": "stderr",
     "output_type": "stream",
     "text": [
      "\r",
      "Epoch 9, step 25/96, (Training Loss: 3.0523, samp_prob: 0.1680):  90%|█████████ | 9/10 [1:54:52<12:20, 740.12s/it]"
     ]
    },
    {
     "name": "stdout",
     "output_type": "stream",
     "text": [
      "25\n",
      "\n",
      "[FINISHED] Epoch 9, (Training Loss (per epoch): 81.3303 samp_prob: 0.1680)\n"
     ]
    },
    {
     "name": "stderr",
     "output_type": "stream",
     "text": [
      "\r",
      "Epoch 9, step 26/96, (Training Loss: 3.1015, samp_prob: 0.1680):  90%|█████████ | 9/10 [1:55:00<12:20, 740.12s/it]"
     ]
    },
    {
     "name": "stdout",
     "output_type": "stream",
     "text": [
      "26\n",
      "\n",
      "[FINISHED] Epoch 9, (Training Loss (per epoch): 84.4318 samp_prob: 0.1680)\n"
     ]
    },
    {
     "name": "stderr",
     "output_type": "stream",
     "text": [
      "\r",
      "Epoch 9, step 27/96, (Training Loss: 2.9918, samp_prob: 0.1680):  90%|█████████ | 9/10 [1:55:08<12:20, 740.12s/it]"
     ]
    },
    {
     "name": "stdout",
     "output_type": "stream",
     "text": [
      "27\n",
      "\n",
      "[FINISHED] Epoch 9, (Training Loss (per epoch): 87.4236 samp_prob: 0.1680)\n"
     ]
    },
    {
     "name": "stderr",
     "output_type": "stream",
     "text": [
      "\r",
      "Epoch 9, step 28/96, (Training Loss: 2.9659, samp_prob: 0.1680):  90%|█████████ | 9/10 [1:55:15<12:20, 740.12s/it]"
     ]
    },
    {
     "name": "stdout",
     "output_type": "stream",
     "text": [
      "28\n",
      "\n",
      "[FINISHED] Epoch 9, (Training Loss (per epoch): 90.3894 samp_prob: 0.1680)\n"
     ]
    },
    {
     "name": "stderr",
     "output_type": "stream",
     "text": [
      "\r",
      "Epoch 9, step 29/96, (Training Loss: 3.0595, samp_prob: 0.1680):  90%|█████████ | 9/10 [1:55:23<12:20, 740.12s/it]"
     ]
    },
    {
     "name": "stdout",
     "output_type": "stream",
     "text": [
      "29\n",
      "\n",
      "[FINISHED] Epoch 9, (Training Loss (per epoch): 93.4490 samp_prob: 0.1680)\n"
     ]
    },
    {
     "name": "stderr",
     "output_type": "stream",
     "text": [
      "\r",
      "Epoch 9, step 30/96, (Training Loss: 3.2254, samp_prob: 0.1680):  90%|█████████ | 9/10 [1:55:30<12:20, 740.12s/it]"
     ]
    },
    {
     "name": "stdout",
     "output_type": "stream",
     "text": [
      "30\n",
      "\n",
      "[FINISHED] Epoch 9, (Training Loss (per epoch): 96.6744 samp_prob: 0.1680)\n"
     ]
    },
    {
     "name": "stderr",
     "output_type": "stream",
     "text": [
      "\r",
      "Epoch 9, step 31/96, (Training Loss: 3.1123, samp_prob: 0.1680):  90%|█████████ | 9/10 [1:55:38<12:20, 740.12s/it]"
     ]
    },
    {
     "name": "stdout",
     "output_type": "stream",
     "text": [
      "[[ 1  4 39 ...  2  2  2]\n",
      " [ 1  4  7 ...  2  2  2]\n",
      " [ 1  4  7 ...  2  2  2]\n",
      " ...\n",
      " [ 1  4  7 ...  2  2  2]\n",
      " [ 1  6 17 ...  2  2  2]\n",
      " [ 1  4  8 ...  2  2  2]]\n",
      "\n",
      "[Train. Prediction] Epoch 9, step 31/96......\n",
      "\n",
      "id: 113\n",
      "answer: ['<BOS>', 'a', 'small', 'panda', 'is', 'laying', 'close', 'to', 'a', 'larger', 'panda']\n",
      "prediction: ['<BOS>', 'two', 'panda', 'panda', 'are', 'are']\n",
      "31\n",
      "\n",
      "[FINISHED] Epoch 9, (Training Loss (per epoch): 99.7867 samp_prob: 0.1680)\n"
     ]
    },
    {
     "name": "stderr",
     "output_type": "stream",
     "text": [
      "\r",
      "Epoch 9, step 32/96, (Training Loss: 3.0800, samp_prob: 0.1680):  90%|█████████ | 9/10 [1:55:46<12:20, 740.12s/it]"
     ]
    },
    {
     "name": "stdout",
     "output_type": "stream",
     "text": [
      "32\n",
      "\n",
      "[FINISHED] Epoch 9, (Training Loss (per epoch): 102.8668 samp_prob: 0.1680)\n"
     ]
    },
    {
     "name": "stderr",
     "output_type": "stream",
     "text": [
      "\r",
      "Epoch 9, step 33/96, (Training Loss: 3.1210, samp_prob: 0.1680):  90%|█████████ | 9/10 [1:55:54<12:20, 740.12s/it]"
     ]
    },
    {
     "name": "stdout",
     "output_type": "stream",
     "text": [
      "33\n",
      "\n",
      "[FINISHED] Epoch 9, (Training Loss (per epoch): 105.9877 samp_prob: 0.1680)\n"
     ]
    },
    {
     "name": "stderr",
     "output_type": "stream",
     "text": [
      "\r",
      "Epoch 9, step 34/96, (Training Loss: 3.1395, samp_prob: 0.1680):  90%|█████████ | 9/10 [1:56:01<12:20, 740.12s/it]"
     ]
    },
    {
     "name": "stdout",
     "output_type": "stream",
     "text": [
      "34\n",
      "\n",
      "[FINISHED] Epoch 9, (Training Loss (per epoch): 109.1272 samp_prob: 0.1680)\n"
     ]
    },
    {
     "name": "stderr",
     "output_type": "stream",
     "text": [
      "\r",
      "Epoch 9, step 35/96, (Training Loss: 3.1520, samp_prob: 0.1680):  90%|█████████ | 9/10 [1:56:09<12:20, 740.12s/it]"
     ]
    },
    {
     "name": "stdout",
     "output_type": "stream",
     "text": [
      "35\n",
      "\n",
      "[FINISHED] Epoch 9, (Training Loss (per epoch): 112.2792 samp_prob: 0.1680)\n"
     ]
    },
    {
     "name": "stderr",
     "output_type": "stream",
     "text": [
      "\r",
      "Epoch 9, step 36/96, (Training Loss: 3.1813, samp_prob: 0.1680):  90%|█████████ | 9/10 [1:56:16<12:20, 740.12s/it]"
     ]
    },
    {
     "name": "stdout",
     "output_type": "stream",
     "text": [
      "36\n",
      "\n",
      "[FINISHED] Epoch 9, (Training Loss (per epoch): 115.4605 samp_prob: 0.1680)\n"
     ]
    },
    {
     "name": "stderr",
     "output_type": "stream",
     "text": [
      "\r",
      "Epoch 9, step 37/96, (Training Loss: 3.1037, samp_prob: 0.1680):  90%|█████████ | 9/10 [1:56:24<12:20, 740.12s/it]"
     ]
    },
    {
     "name": "stdout",
     "output_type": "stream",
     "text": [
      "37\n",
      "\n",
      "[FINISHED] Epoch 9, (Training Loss (per epoch): 118.5642 samp_prob: 0.1680)\n"
     ]
    },
    {
     "name": "stderr",
     "output_type": "stream",
     "text": [
      "\r",
      "Epoch 9, step 38/96, (Training Loss: 3.0897, samp_prob: 0.1680):  90%|█████████ | 9/10 [1:56:32<12:20, 740.12s/it]"
     ]
    },
    {
     "name": "stdout",
     "output_type": "stream",
     "text": [
      "38\n",
      "\n",
      "[FINISHED] Epoch 9, (Training Loss (per epoch): 121.6539 samp_prob: 0.1680)\n"
     ]
    },
    {
     "name": "stderr",
     "output_type": "stream",
     "text": [
      "\r",
      "Epoch 9, step 39/96, (Training Loss: 3.1246, samp_prob: 0.1680):  90%|█████████ | 9/10 [1:56:39<12:20, 740.12s/it]"
     ]
    },
    {
     "name": "stdout",
     "output_type": "stream",
     "text": [
      "39\n",
      "\n",
      "[FINISHED] Epoch 9, (Training Loss (per epoch): 124.7785 samp_prob: 0.1680)\n"
     ]
    },
    {
     "name": "stderr",
     "output_type": "stream",
     "text": [
      "\r",
      "Epoch 9, step 40/96, (Training Loss: 3.0296, samp_prob: 0.1680):  90%|█████████ | 9/10 [1:56:47<12:20, 740.12s/it]"
     ]
    },
    {
     "name": "stdout",
     "output_type": "stream",
     "text": [
      "40\n",
      "\n",
      "[FINISHED] Epoch 9, (Training Loss (per epoch): 127.8081 samp_prob: 0.1680)\n"
     ]
    },
    {
     "name": "stderr",
     "output_type": "stream",
     "text": [
      "\r",
      "Epoch 9, step 41/96, (Training Loss: 3.0451, samp_prob: 0.1680):  90%|█████████ | 9/10 [1:56:54<12:20, 740.12s/it]"
     ]
    },
    {
     "name": "stdout",
     "output_type": "stream",
     "text": [
      "41\n",
      "\n",
      "[FINISHED] Epoch 9, (Training Loss (per epoch): 130.8532 samp_prob: 0.1680)\n"
     ]
    },
    {
     "name": "stderr",
     "output_type": "stream",
     "text": [
      "\r",
      "Epoch 9, step 42/96, (Training Loss: 3.1493, samp_prob: 0.1680):  90%|█████████ | 9/10 [1:57:02<12:20, 740.12s/it]"
     ]
    },
    {
     "name": "stdout",
     "output_type": "stream",
     "text": [
      "42\n",
      "\n",
      "[FINISHED] Epoch 9, (Training Loss (per epoch): 134.0025 samp_prob: 0.1680)\n"
     ]
    },
    {
     "name": "stderr",
     "output_type": "stream",
     "text": [
      "\r",
      "Epoch 9, step 43/96, (Training Loss: 3.1527, samp_prob: 0.1680):  90%|█████████ | 9/10 [1:57:10<12:20, 740.12s/it]"
     ]
    },
    {
     "name": "stdout",
     "output_type": "stream",
     "text": [
      "43\n",
      "\n",
      "[FINISHED] Epoch 9, (Training Loss (per epoch): 137.1552 samp_prob: 0.1680)\n"
     ]
    },
    {
     "name": "stderr",
     "output_type": "stream",
     "text": [
      "\r",
      "Epoch 9, step 44/96, (Training Loss: 3.0902, samp_prob: 0.1680):  90%|█████████ | 9/10 [1:57:17<12:20, 740.12s/it]"
     ]
    },
    {
     "name": "stdout",
     "output_type": "stream",
     "text": [
      "44\n",
      "\n",
      "[FINISHED] Epoch 9, (Training Loss (per epoch): 140.2454 samp_prob: 0.1680)\n"
     ]
    },
    {
     "name": "stderr",
     "output_type": "stream",
     "text": [
      "\r",
      "Epoch 9, step 45/96, (Training Loss: 3.0972, samp_prob: 0.1680):  90%|█████████ | 9/10 [1:57:25<12:20, 740.12s/it]"
     ]
    },
    {
     "name": "stdout",
     "output_type": "stream",
     "text": [
      "45\n",
      "\n",
      "[FINISHED] Epoch 9, (Training Loss (per epoch): 143.3426 samp_prob: 0.1680)\n"
     ]
    },
    {
     "name": "stderr",
     "output_type": "stream",
     "text": [
      "\r",
      "Epoch 9, step 46/96, (Training Loss: 3.1707, samp_prob: 0.1680):  90%|█████████ | 9/10 [1:57:33<12:20, 740.12s/it]"
     ]
    },
    {
     "name": "stdout",
     "output_type": "stream",
     "text": [
      "[[  1   4   7 ...   2   2   2]\n",
      " [  1   4  90 ...   2   2   2]\n",
      " [  1   4   7 ...   2   2   2]\n",
      " ...\n",
      " [  1  20  51 ...   2   2   2]\n",
      " [  1 103  56 ...   2   2   2]\n",
      " [  1   4   8 ...   2   2   2]]\n",
      "\n",
      "[Train. Prediction] Epoch 9, step 46/96......\n",
      "\n",
      "id: 108\n",
      "answer: ['<BOS>', 'a', 'dog', 'is', 'jumping', 'in', 'front', 'of', 'a', 'walking', 'baby']\n",
      "prediction: ['<BOS>', 'a', 'cat', 'is', 'a', 'a', 'a']\n",
      "46\n",
      "\n",
      "[FINISHED] Epoch 9, (Training Loss (per epoch): 146.5133 samp_prob: 0.1680)\n"
     ]
    },
    {
     "name": "stderr",
     "output_type": "stream",
     "text": [
      "\r",
      "Epoch 9, step 47/96, (Training Loss: 3.0847, samp_prob: 0.1680):  90%|█████████ | 9/10 [1:57:41<12:20, 740.12s/it]"
     ]
    },
    {
     "name": "stdout",
     "output_type": "stream",
     "text": [
      "47\n",
      "\n",
      "[FINISHED] Epoch 9, (Training Loss (per epoch): 149.5979 samp_prob: 0.1680)\n"
     ]
    },
    {
     "name": "stderr",
     "output_type": "stream",
     "text": [
      "\r",
      "Epoch 9, step 48/96, (Training Loss: 3.0969, samp_prob: 0.1680):  90%|█████████ | 9/10 [1:57:48<12:20, 740.12s/it]"
     ]
    },
    {
     "name": "stdout",
     "output_type": "stream",
     "text": [
      "48\n",
      "\n",
      "[FINISHED] Epoch 9, (Training Loss (per epoch): 152.6948 samp_prob: 0.1680)\n"
     ]
    },
    {
     "name": "stderr",
     "output_type": "stream",
     "text": [
      "\r",
      "Epoch 9, step 49/96, (Training Loss: 3.0867, samp_prob: 0.1680):  90%|█████████ | 9/10 [1:57:56<12:20, 740.12s/it]"
     ]
    },
    {
     "name": "stdout",
     "output_type": "stream",
     "text": [
      "49\n",
      "\n",
      "[FINISHED] Epoch 9, (Training Loss (per epoch): 155.7814 samp_prob: 0.1680)\n"
     ]
    },
    {
     "name": "stderr",
     "output_type": "stream",
     "text": [
      "\r",
      "Epoch 9, step 50/96, (Training Loss: 3.1990, samp_prob: 0.1680):  90%|█████████ | 9/10 [1:58:04<12:20, 740.12s/it]"
     ]
    },
    {
     "name": "stdout",
     "output_type": "stream",
     "text": [
      "50\n",
      "\n",
      "[FINISHED] Epoch 9, (Training Loss (per epoch): 158.9804 samp_prob: 0.1680)\n"
     ]
    },
    {
     "name": "stderr",
     "output_type": "stream",
     "text": [
      "\r",
      "Epoch 9, step 51/96, (Training Loss: 3.0236, samp_prob: 0.1680):  90%|█████████ | 9/10 [1:58:11<12:20, 740.12s/it]"
     ]
    },
    {
     "name": "stdout",
     "output_type": "stream",
     "text": [
      "51\n",
      "\n",
      "[FINISHED] Epoch 9, (Training Loss (per epoch): 162.0041 samp_prob: 0.1680)\n"
     ]
    },
    {
     "name": "stderr",
     "output_type": "stream",
     "text": [
      "\r",
      "Epoch 9, step 52/96, (Training Loss: 3.0278, samp_prob: 0.1680):  90%|█████████ | 9/10 [1:58:19<12:20, 740.12s/it]"
     ]
    },
    {
     "name": "stdout",
     "output_type": "stream",
     "text": [
      "52\n",
      "\n",
      "[FINISHED] Epoch 9, (Training Loss (per epoch): 165.0319 samp_prob: 0.1680)\n"
     ]
    },
    {
     "name": "stderr",
     "output_type": "stream",
     "text": [
      "\r",
      "Epoch 9, step 53/96, (Training Loss: 3.1681, samp_prob: 0.1680):  90%|█████████ | 9/10 [1:58:26<12:20, 740.12s/it]"
     ]
    },
    {
     "name": "stdout",
     "output_type": "stream",
     "text": [
      "53\n",
      "\n",
      "[FINISHED] Epoch 9, (Training Loss (per epoch): 168.2000 samp_prob: 0.1680)\n"
     ]
    },
    {
     "name": "stderr",
     "output_type": "stream",
     "text": [
      "\r",
      "Epoch 9, step 54/96, (Training Loss: 3.0438, samp_prob: 0.1680):  90%|█████████ | 9/10 [1:58:34<12:20, 740.12s/it]"
     ]
    },
    {
     "name": "stdout",
     "output_type": "stream",
     "text": [
      "54\n",
      "\n",
      "[FINISHED] Epoch 9, (Training Loss (per epoch): 171.2438 samp_prob: 0.1680)\n"
     ]
    },
    {
     "name": "stderr",
     "output_type": "stream",
     "text": [
      "\r",
      "Epoch 9, step 55/96, (Training Loss: 3.0769, samp_prob: 0.1680):  90%|█████████ | 9/10 [1:58:42<12:20, 740.12s/it]"
     ]
    },
    {
     "name": "stdout",
     "output_type": "stream",
     "text": [
      "55\n",
      "\n",
      "[FINISHED] Epoch 9, (Training Loss (per epoch): 174.3207 samp_prob: 0.1680)\n"
     ]
    },
    {
     "name": "stderr",
     "output_type": "stream",
     "text": [
      "\r",
      "Epoch 9, step 56/96, (Training Loss: 3.0275, samp_prob: 0.1680):  90%|█████████ | 9/10 [1:58:49<12:20, 740.12s/it]"
     ]
    },
    {
     "name": "stdout",
     "output_type": "stream",
     "text": [
      "56\n",
      "\n",
      "[FINISHED] Epoch 9, (Training Loss (per epoch): 177.3482 samp_prob: 0.1680)\n"
     ]
    },
    {
     "name": "stderr",
     "output_type": "stream",
     "text": [
      "\r",
      "Epoch 9, step 57/96, (Training Loss: 2.9481, samp_prob: 0.1680):  90%|█████████ | 9/10 [1:58:57<12:20, 740.12s/it]"
     ]
    },
    {
     "name": "stdout",
     "output_type": "stream",
     "text": [
      "57\n",
      "\n",
      "[FINISHED] Epoch 9, (Training Loss (per epoch): 180.2963 samp_prob: 0.1680)\n"
     ]
    },
    {
     "name": "stderr",
     "output_type": "stream",
     "text": [
      "\r",
      "Epoch 9, step 58/96, (Training Loss: 3.0056, samp_prob: 0.1680):  90%|█████████ | 9/10 [1:59:04<12:20, 740.12s/it]"
     ]
    },
    {
     "name": "stdout",
     "output_type": "stream",
     "text": [
      "58\n",
      "\n",
      "[FINISHED] Epoch 9, (Training Loss (per epoch): 183.3020 samp_prob: 0.1680)\n"
     ]
    },
    {
     "name": "stderr",
     "output_type": "stream",
     "text": [
      "\r",
      "Epoch 9, step 59/96, (Training Loss: 3.0919, samp_prob: 0.1680):  90%|█████████ | 9/10 [1:59:12<12:20, 740.12s/it]"
     ]
    },
    {
     "name": "stdout",
     "output_type": "stream",
     "text": [
      "59\n",
      "\n",
      "[FINISHED] Epoch 9, (Training Loss (per epoch): 186.3938 samp_prob: 0.1680)\n"
     ]
    },
    {
     "name": "stderr",
     "output_type": "stream",
     "text": [
      "\r",
      "Epoch 9, step 60/96, (Training Loss: 3.0355, samp_prob: 0.1680):  90%|█████████ | 9/10 [1:59:20<12:20, 740.12s/it]"
     ]
    },
    {
     "name": "stdout",
     "output_type": "stream",
     "text": [
      "60\n",
      "\n",
      "[FINISHED] Epoch 9, (Training Loss (per epoch): 189.4294 samp_prob: 0.1680)\n"
     ]
    },
    {
     "name": "stderr",
     "output_type": "stream",
     "text": [
      "\r",
      "Epoch 9, step 61/96, (Training Loss: 3.1627, samp_prob: 0.1680):  90%|█████████ | 9/10 [1:59:28<12:20, 740.12s/it]"
     ]
    },
    {
     "name": "stdout",
     "output_type": "stream",
     "text": [
      "[[  1   4   7 ...   2   2   2]\n",
      " [  1   4   7 ...   2   2   2]\n",
      " [  1   4   7 ...   2   2   2]\n",
      " ...\n",
      " [  1   4  23 ...   2   2   2]\n",
      " [  1   4  17 ...   2   2   2]\n",
      " [  1  20 105 ...   2   6   2]]\n",
      "\n",
      "[Train. Prediction] Epoch 9, step 61/96......\n",
      "\n",
      "id: 39\n",
      "answer: ['<BOS>', 'a', 'man', 'tight', 'roping', 'on', 'the', 'beach']\n",
      "prediction: ['<BOS>', 'a', 'man', 'is', 'a', 'on', 'on', 'on']\n",
      "61\n",
      "\n",
      "[FINISHED] Epoch 9, (Training Loss (per epoch): 192.5921 samp_prob: 0.1680)\n"
     ]
    },
    {
     "name": "stderr",
     "output_type": "stream",
     "text": [
      "\r",
      "Epoch 9, step 62/96, (Training Loss: 3.1539, samp_prob: 0.1680):  90%|█████████ | 9/10 [1:59:35<12:20, 740.12s/it]"
     ]
    },
    {
     "name": "stdout",
     "output_type": "stream",
     "text": [
      "62\n",
      "\n",
      "[FINISHED] Epoch 9, (Training Loss (per epoch): 195.7459 samp_prob: 0.1680)\n"
     ]
    },
    {
     "name": "stderr",
     "output_type": "stream",
     "text": [
      "\r",
      "Epoch 9, step 63/96, (Training Loss: 3.1243, samp_prob: 0.1680):  90%|█████████ | 9/10 [1:59:43<12:20, 740.12s/it]"
     ]
    },
    {
     "name": "stdout",
     "output_type": "stream",
     "text": [
      "63\n",
      "\n",
      "[FINISHED] Epoch 9, (Training Loss (per epoch): 198.8703 samp_prob: 0.1680)\n"
     ]
    },
    {
     "name": "stderr",
     "output_type": "stream",
     "text": [
      "\r",
      "Epoch 9, step 64/96, (Training Loss: 3.1708, samp_prob: 0.1680):  90%|█████████ | 9/10 [1:59:51<12:20, 740.12s/it]"
     ]
    },
    {
     "name": "stdout",
     "output_type": "stream",
     "text": [
      "64\n",
      "\n",
      "[FINISHED] Epoch 9, (Training Loss (per epoch): 202.0410 samp_prob: 0.1680)\n"
     ]
    },
    {
     "name": "stderr",
     "output_type": "stream",
     "text": [
      "\r",
      "Epoch 9, step 65/96, (Training Loss: 2.8905, samp_prob: 0.1680):  90%|█████████ | 9/10 [1:59:58<12:20, 740.12s/it]"
     ]
    },
    {
     "name": "stdout",
     "output_type": "stream",
     "text": [
      "65\n",
      "\n",
      "[FINISHED] Epoch 9, (Training Loss (per epoch): 204.9315 samp_prob: 0.1680)\n"
     ]
    },
    {
     "name": "stderr",
     "output_type": "stream",
     "text": [
      "\r",
      "Epoch 9, step 66/96, (Training Loss: 3.2088, samp_prob: 0.1680):  90%|█████████ | 9/10 [2:00:06<12:20, 740.12s/it]"
     ]
    },
    {
     "name": "stdout",
     "output_type": "stream",
     "text": [
      "66\n",
      "\n",
      "[FINISHED] Epoch 9, (Training Loss (per epoch): 208.1403 samp_prob: 0.1680)\n"
     ]
    },
    {
     "name": "stderr",
     "output_type": "stream",
     "text": [
      "\r",
      "Epoch 9, step 67/96, (Training Loss: 3.2239, samp_prob: 0.1680):  90%|█████████ | 9/10 [2:00:13<12:20, 740.12s/it]"
     ]
    },
    {
     "name": "stdout",
     "output_type": "stream",
     "text": [
      "67\n",
      "\n",
      "[FINISHED] Epoch 9, (Training Loss (per epoch): 211.3642 samp_prob: 0.1680)\n"
     ]
    },
    {
     "name": "stderr",
     "output_type": "stream",
     "text": [
      "\r",
      "Epoch 9, step 68/96, (Training Loss: 3.0698, samp_prob: 0.1680):  90%|█████████ | 9/10 [2:00:21<12:20, 740.12s/it]"
     ]
    },
    {
     "name": "stdout",
     "output_type": "stream",
     "text": [
      "68\n",
      "\n",
      "[FINISHED] Epoch 9, (Training Loss (per epoch): 214.4340 samp_prob: 0.1680)\n"
     ]
    },
    {
     "name": "stderr",
     "output_type": "stream",
     "text": [
      "\r",
      "Epoch 9, step 69/96, (Training Loss: 2.9337, samp_prob: 0.1680):  90%|█████████ | 9/10 [2:00:29<12:20, 740.12s/it]"
     ]
    },
    {
     "name": "stdout",
     "output_type": "stream",
     "text": [
      "69\n",
      "\n",
      "[FINISHED] Epoch 9, (Training Loss (per epoch): 217.3677 samp_prob: 0.1680)\n"
     ]
    },
    {
     "name": "stderr",
     "output_type": "stream",
     "text": [
      "\r",
      "Epoch 9, step 70/96, (Training Loss: 3.1841, samp_prob: 0.1680):  90%|█████████ | 9/10 [2:00:37<12:20, 740.12s/it]"
     ]
    },
    {
     "name": "stdout",
     "output_type": "stream",
     "text": [
      "70\n",
      "\n",
      "[FINISHED] Epoch 9, (Training Loss (per epoch): 220.5517 samp_prob: 0.1680)\n"
     ]
    },
    {
     "name": "stderr",
     "output_type": "stream",
     "text": [
      "\r",
      "Epoch 9, step 71/96, (Training Loss: 3.0077, samp_prob: 0.1680):  90%|█████████ | 9/10 [2:00:44<12:20, 740.12s/it]"
     ]
    },
    {
     "name": "stdout",
     "output_type": "stream",
     "text": [
      "71\n",
      "\n",
      "[FINISHED] Epoch 9, (Training Loss (per epoch): 223.5594 samp_prob: 0.1680)\n"
     ]
    },
    {
     "name": "stderr",
     "output_type": "stream",
     "text": [
      "\r",
      "Epoch 9, step 72/96, (Training Loss: 3.1475, samp_prob: 0.1680):  90%|█████████ | 9/10 [2:00:52<12:20, 740.12s/it]"
     ]
    },
    {
     "name": "stdout",
     "output_type": "stream",
     "text": [
      "72\n",
      "\n",
      "[FINISHED] Epoch 9, (Training Loss (per epoch): 226.7069 samp_prob: 0.1680)\n"
     ]
    },
    {
     "name": "stderr",
     "output_type": "stream",
     "text": [
      "\r",
      "Epoch 9, step 73/96, (Training Loss: 3.0322, samp_prob: 0.1680):  90%|█████████ | 9/10 [2:00:59<12:20, 740.12s/it]"
     ]
    },
    {
     "name": "stdout",
     "output_type": "stream",
     "text": [
      "73\n",
      "\n",
      "[FINISHED] Epoch 9, (Training Loss (per epoch): 229.7391 samp_prob: 0.1680)\n"
     ]
    },
    {
     "name": "stderr",
     "output_type": "stream",
     "text": [
      "\r",
      "Epoch 9, step 74/96, (Training Loss: 3.1045, samp_prob: 0.1680):  90%|█████████ | 9/10 [2:01:07<12:20, 740.12s/it]"
     ]
    },
    {
     "name": "stdout",
     "output_type": "stream",
     "text": [
      "74\n",
      "\n",
      "[FINISHED] Epoch 9, (Training Loss (per epoch): 232.8436 samp_prob: 0.1680)\n"
     ]
    },
    {
     "name": "stderr",
     "output_type": "stream",
     "text": [
      "\r",
      "Epoch 9, step 75/96, (Training Loss: 3.1369, samp_prob: 0.1680):  90%|█████████ | 9/10 [2:01:15<12:20, 740.12s/it]"
     ]
    },
    {
     "name": "stdout",
     "output_type": "stream",
     "text": [
      "75\n",
      "\n",
      "[FINISHED] Epoch 9, (Training Loss (per epoch): 235.9805 samp_prob: 0.1680)\n"
     ]
    },
    {
     "name": "stderr",
     "output_type": "stream",
     "text": [
      "\r",
      "Epoch 9, step 76/96, (Training Loss: 3.1672, samp_prob: 0.1680):  90%|█████████ | 9/10 [2:01:23<12:20, 740.12s/it]"
     ]
    },
    {
     "name": "stdout",
     "output_type": "stream",
     "text": [
      "[[ 1  4 17 ...  2  2  2]\n",
      " [ 1  6 39 ...  2  2  2]\n",
      " [ 1  4  8 ...  2  2  2]\n",
      " ...\n",
      " [ 1  4  7 ...  2  2  2]\n",
      " [ 1  4  8 ...  2  2  2]\n",
      " [ 1  4  7 ...  2  2  2]]\n",
      "\n",
      "[Train. Prediction] Epoch 9, step 76/96......\n",
      "\n",
      "id: 186\n",
      "answer: ['<BOS>', 'a', 'person', 'is', 'playing', 'a', 'football']\n",
      "prediction: ['<BOS>', 'a', 'man', 'is', 'kicking', 'a', 'a', 'ball']\n",
      "76\n",
      "\n",
      "[FINISHED] Epoch 9, (Training Loss (per epoch): 239.1478 samp_prob: 0.1680)\n"
     ]
    },
    {
     "name": "stderr",
     "output_type": "stream",
     "text": [
      "\r",
      "Epoch 9, step 77/96, (Training Loss: 3.0419, samp_prob: 0.1680):  90%|█████████ | 9/10 [2:01:30<12:20, 740.12s/it]"
     ]
    },
    {
     "name": "stdout",
     "output_type": "stream",
     "text": [
      "77\n",
      "\n",
      "[FINISHED] Epoch 9, (Training Loss (per epoch): 242.1897 samp_prob: 0.1680)\n"
     ]
    },
    {
     "name": "stderr",
     "output_type": "stream",
     "text": [
      "\r",
      "Epoch 9, step 78/96, (Training Loss: 2.9515, samp_prob: 0.1680):  90%|█████████ | 9/10 [2:01:38<12:20, 740.12s/it]"
     ]
    },
    {
     "name": "stdout",
     "output_type": "stream",
     "text": [
      "78\n",
      "\n",
      "[FINISHED] Epoch 9, (Training Loss (per epoch): 245.1412 samp_prob: 0.1680)\n"
     ]
    },
    {
     "name": "stderr",
     "output_type": "stream",
     "text": [
      "\r",
      "Epoch 9, step 79/96, (Training Loss: 3.0107, samp_prob: 0.1680):  90%|█████████ | 9/10 [2:01:45<12:20, 740.12s/it]"
     ]
    },
    {
     "name": "stdout",
     "output_type": "stream",
     "text": [
      "79\n",
      "\n",
      "[FINISHED] Epoch 9, (Training Loss (per epoch): 248.1519 samp_prob: 0.1680)\n"
     ]
    },
    {
     "name": "stderr",
     "output_type": "stream",
     "text": [
      "\r",
      "Epoch 9, step 80/96, (Training Loss: 3.0932, samp_prob: 0.1680):  90%|█████████ | 9/10 [2:01:53<12:20, 740.12s/it]"
     ]
    },
    {
     "name": "stdout",
     "output_type": "stream",
     "text": [
      "80\n",
      "\n",
      "[FINISHED] Epoch 9, (Training Loss (per epoch): 251.2451 samp_prob: 0.1680)\n"
     ]
    },
    {
     "name": "stderr",
     "output_type": "stream",
     "text": [
      "\r",
      "Epoch 9, step 81/96, (Training Loss: 2.9371, samp_prob: 0.1680):  90%|█████████ | 9/10 [2:02:01<12:20, 740.12s/it]"
     ]
    },
    {
     "name": "stdout",
     "output_type": "stream",
     "text": [
      "81\n",
      "\n",
      "[FINISHED] Epoch 9, (Training Loss (per epoch): 254.1821 samp_prob: 0.1680)\n"
     ]
    },
    {
     "name": "stderr",
     "output_type": "stream",
     "text": [
      "\r",
      "Epoch 9, step 82/96, (Training Loss: 3.1828, samp_prob: 0.1680):  90%|█████████ | 9/10 [2:02:08<12:20, 740.12s/it]"
     ]
    },
    {
     "name": "stdout",
     "output_type": "stream",
     "text": [
      "82\n",
      "\n",
      "[FINISHED] Epoch 9, (Training Loss (per epoch): 257.3650 samp_prob: 0.1680)\n"
     ]
    },
    {
     "name": "stderr",
     "output_type": "stream",
     "text": [
      "\r",
      "Epoch 9, step 83/96, (Training Loss: 3.0983, samp_prob: 0.1680):  90%|█████████ | 9/10 [2:02:16<12:20, 740.12s/it]"
     ]
    },
    {
     "name": "stdout",
     "output_type": "stream",
     "text": [
      "83\n",
      "\n",
      "[FINISHED] Epoch 9, (Training Loss (per epoch): 260.4632 samp_prob: 0.1680)\n"
     ]
    },
    {
     "name": "stderr",
     "output_type": "stream",
     "text": [
      "\r",
      "Epoch 9, step 84/96, (Training Loss: 3.0149, samp_prob: 0.1680):  90%|█████████ | 9/10 [2:02:23<12:20, 740.12s/it]"
     ]
    },
    {
     "name": "stdout",
     "output_type": "stream",
     "text": [
      "84\n",
      "\n",
      "[FINISHED] Epoch 9, (Training Loss (per epoch): 263.4781 samp_prob: 0.1680)\n"
     ]
    },
    {
     "name": "stderr",
     "output_type": "stream",
     "text": [
      "\r",
      "Epoch 9, step 85/96, (Training Loss: 3.1547, samp_prob: 0.1680):  90%|█████████ | 9/10 [2:02:31<12:20, 740.12s/it]"
     ]
    },
    {
     "name": "stdout",
     "output_type": "stream",
     "text": [
      "85\n",
      "\n",
      "[FINISHED] Epoch 9, (Training Loss (per epoch): 266.6328 samp_prob: 0.1680)\n"
     ]
    },
    {
     "name": "stderr",
     "output_type": "stream",
     "text": [
      "\r",
      "Epoch 9, step 86/96, (Training Loss: 2.9704, samp_prob: 0.1680):  90%|█████████ | 9/10 [2:02:39<12:20, 740.12s/it]"
     ]
    },
    {
     "name": "stdout",
     "output_type": "stream",
     "text": [
      "86\n",
      "\n",
      "[FINISHED] Epoch 9, (Training Loss (per epoch): 269.6032 samp_prob: 0.1680)\n"
     ]
    },
    {
     "name": "stderr",
     "output_type": "stream",
     "text": [
      "\r",
      "Epoch 9, step 87/96, (Training Loss: 3.1633, samp_prob: 0.1680):  90%|█████████ | 9/10 [2:02:46<12:20, 740.12s/it]"
     ]
    },
    {
     "name": "stdout",
     "output_type": "stream",
     "text": [
      "87\n",
      "\n",
      "[FINISHED] Epoch 9, (Training Loss (per epoch): 272.7665 samp_prob: 0.1680)\n"
     ]
    },
    {
     "name": "stderr",
     "output_type": "stream",
     "text": [
      "\r",
      "Epoch 9, step 88/96, (Training Loss: 3.1403, samp_prob: 0.1680):  90%|█████████ | 9/10 [2:02:54<12:20, 740.12s/it]"
     ]
    },
    {
     "name": "stdout",
     "output_type": "stream",
     "text": [
      "88\n",
      "\n",
      "[FINISHED] Epoch 9, (Training Loss (per epoch): 275.9067 samp_prob: 0.1680)\n"
     ]
    },
    {
     "name": "stderr",
     "output_type": "stream",
     "text": [
      "\r",
      "Epoch 9, step 89/96, (Training Loss: 3.0831, samp_prob: 0.1680):  90%|█████████ | 9/10 [2:03:02<12:20, 740.12s/it]"
     ]
    },
    {
     "name": "stdout",
     "output_type": "stream",
     "text": [
      "89\n",
      "\n",
      "[FINISHED] Epoch 9, (Training Loss (per epoch): 278.9898 samp_prob: 0.1680)\n"
     ]
    },
    {
     "name": "stderr",
     "output_type": "stream",
     "text": [
      "\r",
      "Epoch 9, step 90/96, (Training Loss: 3.0252, samp_prob: 0.1680):  90%|█████████ | 9/10 [2:03:09<12:20, 740.12s/it]"
     ]
    },
    {
     "name": "stdout",
     "output_type": "stream",
     "text": [
      "90\n",
      "\n",
      "[FINISHED] Epoch 9, (Training Loss (per epoch): 282.0150 samp_prob: 0.1680)\n"
     ]
    },
    {
     "name": "stderr",
     "output_type": "stream",
     "text": [
      "\r",
      "Epoch 9, step 91/96, (Training Loss: 3.0971, samp_prob: 0.1680):  90%|█████████ | 9/10 [2:03:17<12:20, 740.12s/it]"
     ]
    },
    {
     "name": "stdout",
     "output_type": "stream",
     "text": [
      "[[  1   4   7 ...   2   2   2]\n",
      " [  1  20  12 ...   2   2   2]\n",
      " [  1   4 132 ...   2   2   2]\n",
      " ...\n",
      " [  1   4   7 ...   2   2   2]\n",
      " [  1   4   8 ...   2   2   2]\n",
      " [  1   4   7 ...   2   2   2]]\n",
      "\n",
      "[Train. Prediction] Epoch 9, step 91/96......\n",
      "\n",
      "id: 16\n",
      "answer: ['<BOS>', 'someone', 'stirred', 'the', 'ot', 'of', 'chili']\n",
      "prediction: ['<BOS>', 'a', 'man', 'is', 'a', 'into', 'a']\n",
      "91\n",
      "\n",
      "[FINISHED] Epoch 9, (Training Loss (per epoch): 285.1122 samp_prob: 0.1680)\n"
     ]
    },
    {
     "name": "stderr",
     "output_type": "stream",
     "text": [
      "\r",
      "Epoch 9, step 92/96, (Training Loss: 2.9416, samp_prob: 0.1680):  90%|█████████ | 9/10 [2:03:25<12:20, 740.12s/it]"
     ]
    },
    {
     "name": "stdout",
     "output_type": "stream",
     "text": [
      "92\n",
      "\n",
      "[FINISHED] Epoch 9, (Training Loss (per epoch): 288.0537 samp_prob: 0.1680)\n"
     ]
    },
    {
     "name": "stderr",
     "output_type": "stream",
     "text": [
      "\r",
      "Epoch 9, step 93/96, (Training Loss: 3.0037, samp_prob: 0.1680):  90%|█████████ | 9/10 [2:03:33<12:20, 740.12s/it]"
     ]
    },
    {
     "name": "stdout",
     "output_type": "stream",
     "text": [
      "93\n",
      "\n",
      "[FINISHED] Epoch 9, (Training Loss (per epoch): 291.0574 samp_prob: 0.1680)\n"
     ]
    },
    {
     "name": "stderr",
     "output_type": "stream",
     "text": [
      "\r",
      "Epoch 9, step 94/96, (Training Loss: 3.1286, samp_prob: 0.1680):  90%|█████████ | 9/10 [2:03:40<12:20, 740.12s/it]"
     ]
    },
    {
     "name": "stdout",
     "output_type": "stream",
     "text": [
      "94\n",
      "\n",
      "[FINISHED] Epoch 9, (Training Loss (per epoch): 294.1860 samp_prob: 0.1680)\n"
     ]
    },
    {
     "name": "stderr",
     "output_type": "stream",
     "text": [
      "Epoch 9, step 95/96, (Training Loss: 3.0916, samp_prob: 0.1680): 100%|██████████| 10/10 [2:03:48<00:00, 742.82s/it]"
     ]
    },
    {
     "name": "stdout",
     "output_type": "stream",
     "text": [
      "95\n",
      "\n",
      "[FINISHED] Epoch 9, (Training Loss (per epoch): 297.2776 samp_prob: 0.1680)\n"
     ]
    },
    {
     "name": "stderr",
     "output_type": "stream",
     "text": [
      "\n"
     ]
    }
   ],
   "source": [
    " \n",
    "train_sess.run(init)\n",
    "\n",
    "samp_prob = inv_sigmoid(num_epochs)\n",
    "pbar = tqdm(range(0, num_epochs))\n",
    "\n",
    "loss_list = []\n",
    "\n",
    "for epo in pbar:\n",
    "    num_steps = n_batches\n",
    "    epo_loss = 0\n",
    "    for i in range(0, num_steps):\n",
    "        data_batch = np.array(vid_batch[i])\n",
    "        label_batch = np.array(intencode_batch[i])\n",
    "        id_batch_train = id_batch[i]\n",
    "        \n",
    "        caption_lens_batch = np.array(cap_len_batch[i])\n",
    "        \n",
    "        #data_batch, label_batch, caption_lens_batch, id_batch = datasetTrain.next_batch()\n",
    "        \n",
    "        samp = schedule_sampling(samp_prob[epo], caption_lens_batch)\n",
    "        \n",
    "        if i % num_display_steps == 1:\n",
    "            # training \n",
    "            run_options = tf.RunOptions(trace_level=tf.RunOptions.FULL_TRACE)\n",
    "            _, loss, p, summ = train_sess.run([train_op, loss_op, dec_pred, summary], \n",
    "                            feed_dict={feat: data_batch,\n",
    "                                       captions: label_batch,\n",
    "                                       cap_len: caption_lens_batch,\n",
    "                                       sampling: samp},\n",
    "                            options=run_options)\n",
    "            \n",
    "            #print(p)\n",
    "            \n",
    "            loss_list.append(loss)\n",
    "            \n",
    "            #summary_writer.add_summary(summ, global_step=(epo * num_steps) + i)\n",
    "            print(\"\\n[Train. Prediction] Epoch \" + str(epo) + \", step \" + str(i) + \"/\" + str(num_steps) + \"......\",)\n",
    "            \n",
    "            seq = pred_print(p, caption_lens_batch, label_batch, index2token, batch_size, id_batch_train)\n",
    "\n",
    "        else:\n",
    "            _, loss, p = train_sess.run([train_op, loss_op, dec_pred], \n",
    "                            feed_dict={feat: data_batch,\n",
    "                                       captions: label_batch,\n",
    "                                       cap_len: caption_lens_batch,\n",
    "                                       sampling: samp})\n",
    "            \n",
    "            loss_list.append(loss)\n",
    "\n",
    "\n",
    "        epo_loss += loss\n",
    "    \n",
    "        pbar.set_description(\"Epoch \" + str(epo) + \", step \" + str(i) + \"/\" + str(num_steps) + \\\n",
    "            \", (Training Loss: \" + \"{:.4f}\".format(loss) + \\\n",
    "            \", samp_prob: \" + \"{:.4f}\".format(samp_prob[epo]) + \")\" )\n",
    "\n",
    "    print(\"\\n[FINISHED] Epoch \" + str(epo) + \", (Training Loss (per epoch): \" + \"{:.4f}\".format(epo_loss) + \" samp_prob: \" + \"{:.4f}\".format(samp_prob[epo]) + \")\")\n",
    "\n",
    "    if epo % num_saver_epoches == 1:\n",
    "        ckpt_path = saver.save(train_sess,ckpt_path, global_step=(epo * num_steps) + num_steps - 1)\n",
    "        val_saver.restore(val_sess, ckpt_path)\n",
    "\n",
    "        num_steps_val = n_batches_test\n",
    "        epo_loss_val = 0\n",
    "        txt = open(output_filename, 'w')\n",
    "        for j in range(0,n_batches_test):\n",
    "            data_batch_val = np.array(vid_batch_test[i])\n",
    "            label_batch_val = np.array(intencode_batch_test[i])\n",
    "            id_batch_val = id_batch_test[i]\n",
    "            caption_lens_batch_val = np.array(cap_len_batch_test[i])\n",
    "            \n",
    "            loss_val, p_val, summ = val_sess.run([loss_op_val, dec_pred_val, summary_val], \n",
    "                                        feed_dict={feat_val: data_batch_val,\n",
    "                                                   captions_val: label_batch_val,\n",
    "                                                   cap_len_val: caption_lens_batch_val})\n",
    "            \n",
    "            seq_val = pred_print(p_val, caption_lens_batch, label_batch_val, index2token, batch_size_test, id_batch_val)\n",
    "            total_loss_val += loss_val\n",
    "            \n",
    "            for k in range(0, batch_size_test):\n",
    "                    txt.write(id_batch_val[k] + \",\" + seq_val[k] + \"\\n\")\n",
    "                    \n",
    "            print('\\nSave file: ' + output_filename)\n",
    "            txt.close()\n",
    "            call(['python3', 'MLDS_hw2_1_data/bleu_eval.py', output_filename])\n",
    "            \n",
    "            print(\"Validation: \" + str((j+1) * batch_size_test) + \"/\" + \\\n",
    "                    str(n_batches_test) + \", done...\" \\\n",
    "                    + \"Total Loss: \" + \"{:.4f}\".format(total_loss_val))\n"
   ]
  },
  {
   "cell_type": "code",
   "execution_count": 21,
   "metadata": {},
   "outputs": [],
   "source": [
    "# model = Video_Caption_Generator(dim_image=n_features, \n",
    "#                                 n_words = n_words, \n",
    "#                                 dim_hidden = n_hidden, \n",
    "#                                 batch_size=batch_size, \n",
    "#                                 n_lstm_steps=80,\n",
    "#                                 n_video_lstm_step=80,\n",
    "#                                 n_caption_lstm_step=80,\n",
    "#                                 bias_init_vector=bias_init_vector)"
   ]
  },
  {
   "cell_type": "code",
   "execution_count": 22,
   "metadata": {},
   "outputs": [],
   "source": [
    "# tf_loss, tf_video, tf_video_mask, tf_caption, tf_caption_mask, tf_probs = model.build_model()\n"
   ]
  },
  {
   "cell_type": "code",
   "execution_count": 23,
   "metadata": {},
   "outputs": [],
   "source": [
    "# n_words = n_words\n",
    "\n",
    "# with tf.Graph().as_default() as graph:\n",
    "    \n",
    "\n",
    "#     weights_enc = tf.Variable(tf.random_uniform([n_features, n_hidden],-0.1,0.1),name=\"weights_enc\")\n",
    "#     bias_enc = tf.Variable(tf.zeros([n_hidden]),name=\"bias_enc\")\n",
    "\n",
    "#     weights_dec = tf.Variable(tf.random_uniform([n_hidden, n_words],-0.1,0.1),name=\"weights_dec\")\n",
    "#     bias_dec = tf.Variable(tf.zeros([n_words]),name=\"bias_dec\")\n",
    "\n",
    "\n",
    "#     x_video = tf.placeholder(tf.float32, (None, no_of_frames, n_features),'video_features') #inputs\n",
    "\n",
    "#     batch_size = tf.shape(x_video)[0]\n",
    "    \n",
    "#     x_video_drop = tf.nn.dropout(x_video, 0.5)\n",
    "    \n",
    "#     x_video_flat = tf.reshape(x_video_drop,[-1,n_features])\n",
    "\n",
    "#     y_label = tf.placeholder(tf.int32,(None, sizeof_sentence),'captions') #outputs\n",
    "\n",
    "\n",
    "#     #sampling = tf.placeholder(tf.bool, [sizeof_sentence], name='sampling')\n",
    "#     padding = tf.zeros([batch_size, n_hidden])\n",
    "\n",
    "#     loss = 0.0\n",
    "\n",
    "#     ########## DATA ###########\n",
    "#     # Example: For i = 0\n",
    "#     #batch_x = np.array(vid_batch[0])\n",
    "#     #batch_y = np.array(intencode_batch[0])\n",
    "#     ###########################\n",
    "\n",
    "#     input_embedding = tf.matmul(x_video_flat,weights_enc) + bias_enc\n",
    "#     input_embedding = tf.reshape(input_embedding,[-1, no_of_frames,n_hidden])\n",
    "#     input_embed = tf.transpose(input_embedding, perm=[1, 0, 2])\n",
    "\n",
    "#     with tf.device(\"/cpu:0\"):\n",
    "#         output_embedding = tf.Variable(tf.random_uniform((n_words, n_hidden),-0.1,0.1), name='dec_embedding')\n",
    "#     # output_embed = tf.nn.embedding_lookup(output_embedding,y_label)\n",
    "    \n",
    "#     ## ENCODING #################################\n",
    "    \n",
    "#     with tf.variable_scope(\"LSTM1\"):\n",
    "#         lstm1 = tf.nn.rnn_cell.BasicLSTMCell(n_hidden,state_is_tuple=True)\n",
    "#         lstm1 = tf.contrib.rnn.DropoutWrapper(lstm1, output_keep_prob=0.5)    \n",
    "\n",
    "#     with tf.variable_scope(\"LSTM2\"):\n",
    "#         lstm2 = tf.nn.rnn_cell.BasicLSTMCell(n_hidden, state_is_tuple=True)\n",
    "#         lstm2 = tf.contrib.rnn.DropoutWrapper(lstm2, output_keep_prob=0.5)    \n",
    "\n",
    "\n",
    "#     state1 = lstm1.zero_state(batch_size, dtype=tf.float32)\n",
    "#     state2 = lstm2.zero_state(batch_size, dtype=tf.float32)\n",
    "    \n",
    "#     for i in range(0, no_of_frames):\n",
    "        \n",
    "#         if i > 0:\n",
    "#                 tf.get_variable_scope().reuse_variables()\n",
    "                \n",
    "#         with tf.variable_scope(\"LSTM1\"):\n",
    "#             output1, state1 = lstm1(input_embed[i,:,:], state1)\n",
    "\n",
    "#         with tf.variable_scope(\"LSTM2\"):\n",
    "#             output2, state2 = lstm2(tf.concat([padding, output1], axis=1), state2)\n",
    "    \n",
    "#     ## DECODING ##################################\n",
    "    \n",
    "#     bos = tf.ones([batch_size, n_hidden])\n",
    "#     padding_in = tf.zeros([batch_size, n_hidden])\n",
    "\n",
    "#     logits = []\n",
    "#     cross_ent_list=[]\n",
    "#     max_prob_index = None\n",
    "\n",
    "\n",
    "#     for i in range(0, MAX_WORDS):\n",
    "        \n",
    "#         tf.get_variable_scope().reuse_variables()\n",
    "\n",
    "        \n",
    "#         with tf.variable_scope(\"LSTM1\"):\n",
    "#             output1, state1 = lstm1(padding_in, state1)\n",
    "            \n",
    "#         if i == 0:\n",
    "            \n",
    "#             with tf.variable_scope(\"LSTM2\"):\n",
    "#                 con = tf.concat([bos, output1], axis=1)\n",
    "#                 output2, state2 = lstm2(con, state2)\n",
    "                \n",
    "#         else:\n",
    "            \n",
    "#             with tf.device(\"/cpu:0\"):\n",
    "            \n",
    "#                 feed_in = y_label[:,i]\n",
    "#                 #feed_in = tf.argmax()\n",
    "#                 output_embed = tf.nn.embedding_lookup(output_embedding,feed_in)\n",
    "                \n",
    "#             with tf.variable_scope(\"LSTM2\"):\n",
    "#                 con = tf.concat([output_embed, output1], axis=1)\n",
    "#                 output2, state2 = lstm2(con, state2)\n",
    "\n",
    "#         logit_words = tf.matmul(output2, weights_dec) + bias_dec\n",
    "#         logits.append(logit_words)\n",
    "\n",
    "#         word_i = y_label[:,i]\n",
    "\n",
    "#         one_hot_labels = tf.one_hot(word_i, n_words, on_value = 1, off_value = None, axis = 1) \n",
    "#         cross_entropy = tf.nn.softmax_cross_entropy_with_logits(logits=logit_words, labels=one_hot_labels)\n",
    "#         cross_ent_list.append(cross_entropy)\n",
    "        \n",
    "        \n",
    "#         #current_loss = tf.reduce_sum(cross_entropy)/batch_size\n",
    "#         #loss = loss + current_loss\n",
    "\n",
    "#     cross_entropy_tensor = tf.stack(cross_ent_list, 1)\n",
    "#     loss = tf.reduce_sum(cross_entropy_tensor, axis=1)\n",
    "#     loss = tf.divide(loss, tf.cast(tf.Variable(sizeof_sentence), tf.float32))\n",
    "\n",
    "#     loss = tf.reduce_mean(loss, axis=0)\n",
    "    \n",
    "#     summary = tf.summary.scalar('training_loss', loss)\n",
    "\n",
    "#     params = tf.trainable_variables()\n",
    "#     #optimizer = tf.train.AdamOptimizer(learning_rate)#.minimize(loss_op)\n",
    "#     optimizer = tf.train.GradientDescentOptimizer(learning_rate)\n",
    "#     train_op = optimizer.minimize(loss)\n",
    "\n",
    "#     #train_step = optimizer.minimize(loss)\n",
    "    \n",
    "# #     gradients, variables = zip(*optimizer.compute_gradients(loss))\n",
    "# #     gradients, _ = tf.clip_by_global_norm(gradients, 5.0)\n",
    "# #     train_op = optimizer.apply_gradients(zip(gradients, params))\n",
    "    \n",
    "# #     logits = tf.stack(logits, axis = 0)\n",
    "# #     logits = tf.reshape(logits, (sizeof_sentence, batch_size, n_words))\n",
    "# #     logits = tf.transpose(logits, [1, 0, 2])\n",
    "# #     preds = tf.argmax(logits,2)\n",
    "# #     correct_pred = tf.equal(tf.argmax(preds,1), tf.argmax(y_label,1))\n",
    "# #     accuracy = tf.reduce_mean(correct_pred)\n",
    "\n",
    "#     logits = tf.stack(logits,axis=0)\n",
    "#     logits = tf.transpose(logits, [1, 0, 2])\n",
    "#     output_preds = tf.argmax(logits,2)\n",
    "    \n",
    "#     #correct_pred = tf.equal(tf.argmax(output_preds, 1), tf.argmax(y_label, 1))\n",
    "#     #accuracy = tf.reduce_mean(tf.cast(correct_pred, tf.float32))\n",
    "    \n",
    "#     saver = tf.train.Saver(max_to_keep=3)\n"
   ]
  },
  {
   "cell_type": "code",
   "execution_count": 24,
   "metadata": {},
   "outputs": [],
   "source": [
    "# loss"
   ]
  },
  {
   "cell_type": "code",
   "execution_count": 25,
   "metadata": {},
   "outputs": [],
   "source": [
    "# run_opts = tf.RunOptions(report_tensor_allocations_upon_oom = True)\n",
    "\n",
    "# gpu_config = tf.ConfigProto()\n",
    "\n",
    "# with tf.Session(graph=graph,config=gpu_config) as sess:\n",
    "\n",
    "#     loss_list_train = []\n",
    "#     loss_list_test = []\n",
    "#     preds_dict = {}\n",
    "\n",
    "#     sess.run(tf.global_variables_initializer())\n",
    "#     epochs = 10\n",
    "\n",
    "#     #training\n",
    "#     n=0\n",
    "\n",
    "#     for epoch in range(epochs):\n",
    "\n",
    "#         for i in range(n_batches):\n",
    "\n",
    "#             batch_x = np.array(vid_batch[i])\n",
    "#             #batch_x = np.reshape(batch_x,[-1,n_features])\n",
    "#             batch_y = np.array(intencode_batch[i])\n",
    "\n",
    "#             _, batch_loss, preds = sess.run([train_op, loss, logits], feed_dict = {x_video: batch_x, y_label: batch_y})        \n",
    "\n",
    "#             loss_list_train.append(batch_loss)\n",
    "#             print(\"train: %f \" % (batch_loss))\n",
    "\n",
    "            \n",
    "#             n = n+1\n",
    "\n",
    "       \n",
    "#     #testing\n",
    "    \n",
    "#         saver.save(sess,ckpt_path, global_step=n)\n",
    "#         print('Model saved at ' + ckpt_path)\n",
    "        \n",
    "    \n",
    "#     for i in range(n_batches_test):\n",
    "\n",
    "#         batch_x_test = np.array(vid_batch_test[i])\n",
    "#         #batch_x = np.reshape(batch_x,[-1,n_features])\n",
    "#         batch_y_test = np.array(intencode_batch_test[i])\n",
    "\n",
    "#         acc = sess.run(accuracy, feed_dict = {x_video: batch_x_test, y_label: batch_y_test})        \n",
    "#         print(\"accuracy %f\" % acc)\n",
    "\n",
    "# #         loss_list_test.append(batch_loss)\n",
    "# #         print(\"test:\", batch_loss)\n",
    "    \n",
    "# #         preds_dict[i] = batch_preds "
   ]
  },
  {
   "cell_type": "code",
   "execution_count": null,
   "metadata": {},
   "outputs": [],
   "source": []
  },
  {
   "cell_type": "code",
   "execution_count": 26,
   "metadata": {},
   "outputs": [],
   "source": [
    "# with tf.variable_scope(\"encoding\") as encoding_scope:\n",
    "#     lstm_enc = tf.contrib.rnn.BasicLSTMCell(n_hidden)\n",
    "#     _, last_state = tf.nn.dynamic_rnn(lstm_enc, inputs=input_embed, dtype=tf.float32)"
   ]
  },
  {
   "cell_type": "code",
   "execution_count": 27,
   "metadata": {},
   "outputs": [],
   "source": [
    "# with tf.variable_scope(\"decoding\") as decoding_scope:\n",
    "#     # TODO: create the decoder LSTMs, this is very similar to the above\n",
    "#     # you will need to set initial_state=last_state from the encoder\n",
    "#     lstm_dec = tf.contrib.rnn.BasicLSTMCell(n_hidden)\n",
    "#     dec_outputs, _ = tf.nn.dynamic_rnn(lstm_dec,inputs=output_embed, dtype=tf.float32)"
   ]
  },
  {
   "cell_type": "code",
   "execution_count": 28,
   "metadata": {},
   "outputs": [],
   "source": [
    "# #connect outputs to \n",
    "# logits = tf.contrib.layers.fully_connected(dec_outputs, num_outputs=len(index2token), activation_fn=None) \n",
    "\n",
    "# with tf.name_scope(\"optimization\"):\n",
    "#     # Loss function\n",
    "#     loss = tf.contrib.seq2seq.sequence_loss(logits, targets, tf.ones([batch_size, sizeof_sentence]))\n",
    "#     # Optimizer\n",
    "#     optimizer = tf.train.RMSPropOptimizer(1e-3).minimize(loss)"
   ]
  },
  {
   "cell_type": "code",
   "execution_count": 29,
   "metadata": {},
   "outputs": [],
   "source": [
    "# output_dec.get_shape().as_list()"
   ]
  },
  {
   "cell_type": "code",
   "execution_count": 30,
   "metadata": {},
   "outputs": [],
   "source": [
    "# state_dec[0].get_shape().as_list()"
   ]
  },
  {
   "cell_type": "code",
   "execution_count": 31,
   "metadata": {},
   "outputs": [],
   "source": [
    "# x_video.get_shape().as_list()"
   ]
  },
  {
   "cell_type": "code",
   "execution_count": 32,
   "metadata": {
    "scrolled": true
   },
   "outputs": [],
   "source": [
    "# from utilities import show_graph\n",
    "# show_graph(tf.get_default_graph().as_graph_def())"
   ]
  },
  {
   "cell_type": "code",
   "execution_count": 33,
   "metadata": {
    "scrolled": true
   },
   "outputs": [],
   "source": [
    "# def RNN(x, weights1, biases1):\n",
    "    \n",
    "#     x = tf.unstack(x,no_of_frames,1)\n",
    "    \n",
    "#     lstm_encoder = tf.keras.layers.LSTM(n_hidden, return_state=True) #reuse=tf.AUTO_REUSE)\n",
    "#     output_encoder,state_h,state_c = lstm_encoder(x) #,dtype=tf.float32)\n",
    "#     encoder_states = [state_h,state_c]\n",
    "    \n",
    "#     decoder\n",
    "    \n",
    "#     return tf.matmul(output1[-1],weights1) + bias1"
   ]
  },
  {
   "cell_type": "code",
   "execution_count": 34,
   "metadata": {},
   "outputs": [],
   "source": [
    "# np.shape(vid_batch[1])"
   ]
  },
  {
   "cell_type": "code",
   "execution_count": 35,
   "metadata": {},
   "outputs": [],
   "source": [
    "# logits = RNN(x_video,weights1,bias1)\n",
    "# prediction = tf.nn.softmax(logits)\n",
    "\n",
    "\n",
    "# loss_op = tf.reduce_mean(tf.nn.softmax_cross_entropy_with_logits(logits=logits, labels=y_label))\n",
    "\n",
    "\n",
    "# optimizer = tf.train.GradientDescentOptimizer(learning_rate=learning_rate)\n",
    "# train_op = optimizer.minimize(loss_op)\n",
    "\n",
    "# # Evaluate model (with test logits, for dropout to be disabled)\n",
    "# correct_pred = tf.equal(tf.argmax(prediction, 1), tf.argmax(y_label, 1))\n",
    "# accuracy = tf.reduce_mean(tf.cast(correct_pred, tf.float32))"
   ]
  },
  {
   "cell_type": "code",
   "execution_count": 36,
   "metadata": {},
   "outputs": [],
   "source": [
    "# batch_y = np.array(intencode_batch[1])\n",
    "# np.shape(batch_y)"
   ]
  },
  {
   "cell_type": "code",
   "execution_count": 37,
   "metadata": {},
   "outputs": [],
   "source": [
    "# batch_x = np.array(vid_batch[0])\n",
    "# print(np.shape(batch_x))\n",
    "# batch_x = np.reshape(batch_x,[-1,n_features])\n",
    "# np.shape(batch_x)"
   ]
  },
  {
   "cell_type": "code",
   "execution_count": null,
   "metadata": {},
   "outputs": [],
   "source": []
  },
  {
   "cell_type": "code",
   "execution_count": 38,
   "metadata": {},
   "outputs": [],
   "source": [
    "# preds_dict[0]\n",
    "# def predicted_sentence(preds_dict):\n",
    "    "
   ]
  },
  {
   "cell_type": "code",
   "execution_count": 39,
   "metadata": {},
   "outputs": [],
   "source": [
    "# batch_x = np.array(vid_batch[0])\n",
    "# batch_y = np.array(intencode_batch[0])\n",
    "\n",
    "# with tf.Session() as sess:\n",
    "#     sess.run(init)\n",
    "\n",
    "#     sess.run(train_op, feed_dict={x_video: batch_x, y_label: batch_y})"
   ]
  },
  {
   "cell_type": "code",
   "execution_count": 40,
   "metadata": {},
   "outputs": [],
   "source": [
    "\n",
    "\n",
    "# image_emb = tf.nn.xw_plus_b(x_video, weights1, bias1) \n",
    "# #image_emb = tf.reshape(image_emb, [batch_size, no_of_frames, n_hidden])\n",
    "\n",
    "# #lstm2 = tf.keras.layers.LSTMCell(n_hidden)\n",
    "\n",
    "# padding = tf.zeros([batch_size, n_hidden])\n",
    "\n",
    "\n",
    "# #Only read the frames\n",
    "\n",
    "\n",
    "        \n",
    "\n",
    "            \n",
    "                \n",
    "# logit_words = tf.nn.xw_plus_b(output2, weights2, bias2)\n",
    "# cross_entropy = tf.nn.softmax_cross_entropy_with_logits(logit_words,onehot_encoded)\n",
    "\n",
    "# loss = tf.reduce_sum(cross_entropy)"
   ]
  },
  {
   "cell_type": "code",
   "execution_count": 41,
   "metadata": {},
   "outputs": [],
   "source": [
    "# with tf.Session() as sess:\n",
    "#     with sess.as_default():\n",
    "#         print(tf.nn.embedding_lookup(onehot_encoded,[1]).eval())"
   ]
  },
  {
   "cell_type": "code",
   "execution_count": 42,
   "metadata": {
    "scrolled": true
   },
   "outputs": [],
   "source": [
    "# inputs"
   ]
  },
  {
   "cell_type": "code",
   "execution_count": null,
   "metadata": {},
   "outputs": [],
   "source": []
  }
 ],
 "metadata": {
  "kernelspec": {
   "display_name": "Class",
   "language": "python",
   "name": "tf_class"
  },
  "language_info": {
   "codemirror_mode": {
    "name": "ipython",
    "version": 3
   },
   "file_extension": ".py",
   "mimetype": "text/x-python",
   "name": "python",
   "nbconvert_exporter": "python",
   "pygments_lexer": "ipython3",
   "version": "3.7.7"
  }
 },
 "nbformat": 4,
 "nbformat_minor": 4
}
