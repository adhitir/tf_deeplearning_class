{
 "cells": [
  {
   "cell_type": "code",
   "execution_count": 2,
   "metadata": {},
   "outputs": [],
   "source": [
    "from __future__ import absolute_import, division, print_function, unicode_literals\n",
    "\n",
    "import tensorflow as tf\n",
    "\n",
    "import matplotlib.pyplot as plt\n",
    "import matplotlib.ticker as ticker\n",
    "from sklearn.model_selection import train_test_split\n",
    "\n",
    "import unicodedata\n",
    "import re\n",
    "import numpy as np\n",
    "import os\n",
    "import io\n",
    "import time\n",
    "import collections\n",
    "import json\n",
    "import string\n",
    "\n",
    "from sklearn.preprocessing import LabelEncoder\n",
    "from sklearn.preprocessing import OneHotEncoder"
   ]
  },
  {
   "cell_type": "code",
   "execution_count": 3,
   "metadata": {},
   "outputs": [],
   "source": [
    "#def dictionary"
   ]
  },
  {
   "cell_type": "code",
   "execution_count": 4,
   "metadata": {},
   "outputs": [],
   "source": [
    "def tokenize(line,token='word'):\n",
    "    if token == 'word':\n",
    "        return [line.split(' ')]\n",
    "    elif token == 'char':\n",
    "        return [list(line)]\n",
    "    else:\n",
    "        print('ERROR: unknown token type '+token)"
   ]
  },
  {
   "cell_type": "code",
   "execution_count": 5,
   "metadata": {},
   "outputs": [],
   "source": [
    "def count_tokens(tokanized_sentences):\n",
    "    # Flatten a list of token lists into a list of tokens\n",
    "    tokens = [tk for line in tokanized_sentences for tk in line]\n",
    "    return collections.Counter(tokens)"
   ]
  },
  {
   "cell_type": "code",
   "execution_count": 6,
   "metadata": {},
   "outputs": [],
   "source": [
    "filename = 'MLDS_hw2_1_data/training_label.json'\n",
    "with open(filename, 'r') as f:\n",
    "    datastore = json.load(f)"
   ]
  },
  {
   "cell_type": "code",
   "execution_count": 7,
   "metadata": {},
   "outputs": [],
   "source": [
    "vid_feat_set = {}\n",
    "vid_sentence_set = {}\n",
    "\n",
    "for data in datastore:\n",
    "    video_id = data[\"id\"]\n",
    "    vid_feat_set[video_id]=None\n",
    "    vid_sentence_set[video_id]=None"
   ]
  },
  {
   "cell_type": "code",
   "execution_count": 8,
   "metadata": {},
   "outputs": [],
   "source": [
    "for data in datastore:\n",
    "    video_id = data[\"id\"]\n",
    "    #print(\"reading features in: %s\" % video_id)\n",
    "    features = np.load(\"MLDS_hw2_1_data/training_data/feat/{}.npy\".format(video_id))\n",
    "    #print(video_id)\n",
    "    \n",
    "    vid_framefeats = []\n",
    "\n",
    "    for array in features:\n",
    "        vid_framefeats.append(array)\n",
    "    \n",
    "    vid_feat_set[video_id] = vid_framefeats\n",
    "    \n",
    "    #print(\"reading sentences in: %s\" % video_id)\n",
    "    sentences = data[\"caption\"]\n",
    "    sentences = [word.lower() for word in sentences] #Normalize the case\n",
    "    table = str.maketrans('', '', string.punctuation) #Normalize the punctuation\n",
    "    sentences = [word.translate(table) for word in sentences]\n",
    "    vid_sentence_set[video_id] = sentences"
   ]
  },
  {
   "cell_type": "code",
   "execution_count": 9,
   "metadata": {},
   "outputs": [
    {
     "name": "stdout",
     "output_type": "stream",
     "text": [
      "The number of videos in the training set are 1450 and each video has 80 frames with 4096 features/units each\n"
     ]
    }
   ],
   "source": [
    "#sentence_set\n",
    "print(\"The number of videos in the training set are %d and each video has 80 frames with 4096 features/units each\" % len(vid_feat_set))"
   ]
  },
  {
   "cell_type": "code",
   "execution_count": 10,
   "metadata": {},
   "outputs": [],
   "source": [
    "# for set_i in vid_sentence_set:\n",
    "#     print(set_i)\n",
    "#     print(vid_sentence_set[set_i])\n"
   ]
  },
  {
   "cell_type": "code",
   "execution_count": 11,
   "metadata": {},
   "outputs": [],
   "source": [
    "# #vid_feat_set['WqQonRVs7WA_0_10.avi']\n",
    "\n",
    "# count = 0\n",
    "# for x in vid_sentence_set: \n",
    "#     if isinstance(vid_sentence_set[x], list): \n",
    "#         count += len(vid_sentence_set[x]) \n",
    "# print(count) "
   ]
  },
  {
   "cell_type": "code",
   "execution_count": 12,
   "metadata": {},
   "outputs": [],
   "source": [
    "# Mapping string tokens to numertical indices.\n",
    "def listVocab(vid_sentence_set):\n",
    "    \n",
    "    PAD_token = 0\n",
    "    BOS_token = 1\n",
    "    EOS_token = 2\n",
    "    UNK_token = 3\n",
    "    \n",
    "    all_tokens = []\n",
    "    values = [0,1,2,3]\n",
    "    token_index = [(PAD_token, \"<PAD>\"), (BOS_token, \"<BOS>\"), (EOS_token, \"<EOS>\"), (UNK_token, \"<UNK>\")]\n",
    "    for set_i in vid_sentence_set:\n",
    "        sentence_set = vid_sentence_set[set_i]\n",
    "        for line in sentence_set: \n",
    "            tokenized_captions = tokenize(line) #Seperate the words\n",
    "            all_tokens += tokenized_captions\n",
    "    \n",
    "    counter = count_tokens(all_tokens) #Count the word repeatitions in each set\n",
    "    \n",
    "    counter_dict = counter.items()\n",
    "    counter_sort = sorted(counter_dict, key=lambda x:x[1],reverse=True) #sort by frequency of occurance \n",
    "    #print(counter_sort)\n",
    "\n",
    "    i = len(token_index)\n",
    "    for token, freq in counter_sort:\n",
    "        token_index.append((i,token))\n",
    "        values+=[i]\n",
    "        i+=1\n",
    "    \n",
    "    return [values, token_index, len(token_index)]"
   ]
  },
  {
   "cell_type": "code",
   "execution_count": 13,
   "metadata": {},
   "outputs": [
    {
     "name": "stdout",
     "output_type": "stream",
     "text": [
      "There are 6061 unique words in the captions dataset\n",
      "[   0    1    2 ... 6058 6059 6060]\n"
     ]
    }
   ],
   "source": [
    "values, token_index, nums = listVocab(vid_sentence_set)\n",
    "print(\"There are %d unique words in the captions dataset\" % nums)\n",
    "\n",
    "# integer encode\n",
    "label_encoder = LabelEncoder()\n",
    "integer_encoded = label_encoder.fit_transform(values)\n",
    "print(integer_encoded)\n",
    "\n",
    "# binary encode\n",
    "onehot_encoder = OneHotEncoder(sparse=False)\n",
    "integer_encoded = integer_encoded.reshape(len(integer_encoded), 1)\n",
    "onehot_encoded = onehot_encoder.fit_transform(integer_encoded)\n"
   ]
  },
  {
   "cell_type": "code",
   "execution_count": 14,
   "metadata": {},
   "outputs": [
    {
     "ename": "NameError",
     "evalue": "name 'counter_dict' is not defined",
     "output_type": "error",
     "traceback": [
      "\u001b[0;31m---------------------------------------------------------------------------\u001b[0m",
      "\u001b[0;31mNameError\u001b[0m                                 Traceback (most recent call last)",
      "\u001b[0;32m<ipython-input-14-11b4ad6cdcea>\u001b[0m in \u001b[0;36m<module>\u001b[0;34m\u001b[0m\n\u001b[0;32m----> 1\u001b[0;31m \u001b[0mcounter_dict\u001b[0m\u001b[0;34m\u001b[0m\u001b[0;34m\u001b[0m\u001b[0m\n\u001b[0m",
      "\u001b[0;31mNameError\u001b[0m: name 'counter_dict' is not defined"
     ]
    }
   ],
   "source": [
    "#counter_dict"
   ]
  },
  {
   "cell_type": "code",
   "execution_count": null,
   "metadata": {},
   "outputs": [],
   "source": [
    "#np.shape(onehot_encoded)"
   ]
  },
  {
   "cell_type": "code",
   "execution_count": 14,
   "metadata": {},
   "outputs": [],
   "source": [
    "def flattenList(nestedList,output): \n",
    "    for i in nestedList: \n",
    "        if type(i) == list: \n",
    "            flattenList(i,output) \n",
    "        else: \n",
    "            output.append(i) \n",
    "            \n",
    "    return output"
   ]
  },
  {
   "cell_type": "code",
   "execution_count": 15,
   "metadata": {},
   "outputs": [],
   "source": [
    "MAX_WORDS = 50\n",
    "\n",
    "def num_encode(test_sentence,token_index,tokenized_sentence=[],num_encoded_sentence=[],onehot_encoded_sentence=[]):\n",
    "    \n",
    "    tokenized_sentence.clear()\n",
    "    num_encoded_sentence.clear()\n",
    "    onehot_encoded_sentence.clear()\n",
    "    \n",
    "    tokenized_sentence = [\"<BOS>\"] + tokenize(test_sentence) + [\"<EOS>\"]\n",
    "    #print(tokenized_sentence)\n",
    "    output=[]\n",
    "    tokenized_sentence = flattenList(tokenized_sentence,output)\n",
    "\n",
    "    while len(tokenized_sentence) < MAX_WORDS:\n",
    "        tokenized_sentence.append(\"<PAD>\")\n",
    "    #print(len(tokenized_sentence))\n",
    "   \n",
    "    for token in tokenized_sentence:\n",
    "        for i in range(0,len(token_index)):\n",
    "            if token == token_index[i][1]: \n",
    "                num_encoded_sentence.append(i) \n",
    "                onehot_encoded_sentence.append(onehot_encoded[i])\n",
    "        \n",
    "    return tokenized_sentence, num_encoded_sentence, onehot_encoded_sentence\n"
   ]
  },
  {
   "cell_type": "code",
   "execution_count": 16,
   "metadata": {},
   "outputs": [],
   "source": [
    "#for set_i in sentence_set:\n",
    "num_encoded_dict = {}\n",
    "onehot_encoded_dict = {}\n",
    "\n",
    "for data in datastore:\n",
    "    video_id = data[\"id\"]\n",
    "    num_encoded_dict[video_id]=None\n",
    "    onehot_encoded_dict[video_id]=None\n",
    "  \n",
    "    \n",
    "for vid in vid_sentence_set:\n",
    "    sentence_set = vid_sentence_set[vid]\n",
    "    \n",
    "    num_encoded_per_set = []\n",
    "    onehot_encoded_per_set = []\n",
    "\n",
    "    for line in sentence_set:\n",
    "        #print(line)\n",
    "        _,encoded_sentence,onehot_encoded_sentence = num_encode(line,token_index)\n",
    "        #print(len(tokenized_sen))\n",
    "        encoded_sentence = list(encoded_sentence)\n",
    "        onehot_encoded_sentence = list(onehot_encoded_sentence)\n",
    "\n",
    "        #print(type(encoded_sentence)) \n",
    "        #print(\"nxt\")\n",
    "        num_encoded_per_set.append(encoded_sentence)\n",
    "        #print(num_encoded_per_set)\n",
    "\n",
    "        \n",
    "        onehot_encoded_per_set.append(onehot_encoded_sentence)\n",
    "\n",
    "    #print(num_encoded_per_set)\n",
    "    \n",
    "    num_encoded_dict[vid] = num_encoded_per_set\n",
    "    onehot_encoded_dict[vid] = onehot_encoded_per_set"
   ]
  },
  {
   "cell_type": "code",
   "execution_count": 22,
   "metadata": {},
   "outputs": [
    {
     "data": {
      "text/plain": [
       "240"
      ]
     },
     "execution_count": 22,
     "metadata": {},
     "output_type": "execute_result"
    }
   ],
   "source": [
    "d={}\n",
    "import sys\n",
    "sys.getsizeof(d)"
   ]
  },
  {
   "cell_type": "code",
   "execution_count": null,
   "metadata": {},
   "outputs": [],
   "source": [
    "# f = open(\"vid_feat_dict.txt\",\"w\")\n",
    "# f.write(str(vid_framefeats))\n",
    "# f.close()"
   ]
  },
  {
   "cell_type": "code",
   "execution_count": null,
   "metadata": {},
   "outputs": [],
   "source": [
    "# f = open(\"vid_sentences_dict.txt\",\"w\")\n",
    "# f.write(str(vid_sentence_set))\n",
    "# f.close()"
   ]
  },
  {
   "cell_type": "code",
   "execution_count": null,
   "metadata": {},
   "outputs": [],
   "source": [
    "#np.save('vid_feat_dict.npy',vid_feat_set)"
   ]
  },
  {
   "cell_type": "code",
   "execution_count": null,
   "metadata": {},
   "outputs": [],
   "source": [
    "#np.save('vid_sentences_dict.npy',num_encoded_dict)"
   ]
  },
  {
   "cell_type": "code",
   "execution_count": null,
   "metadata": {},
   "outputs": [],
   "source": []
  },
  {
   "cell_type": "code",
   "execution_count": 19,
   "metadata": {},
   "outputs": [],
   "source": [
    "import pickle\n",
    "\n",
    "with open('vid_feat_set.pickle', 'wb') as handle:\n",
    "    pickle.dump(vid_feat_set, handle, protocol=pickle.HIGHEST_PROTOCOL)"
   ]
  },
  {
   "cell_type": "code",
   "execution_count": 24,
   "metadata": {},
   "outputs": [],
   "source": [
    "with open('num_encoded_dict.pickle', 'wb') as handle:\n",
    "    pickle.dump(num_encoded_dict, handle, protocol=pickle.HIGHEST_PROTOCOL)"
   ]
  },
  {
   "cell_type": "code",
   "execution_count": 25,
   "metadata": {},
   "outputs": [
    {
     "ename": "MemoryError",
     "evalue": "",
     "output_type": "error",
     "traceback": [
      "\u001b[0;31m---------------------------------------------------------------------------\u001b[0m",
      "\u001b[0;31mMemoryError\u001b[0m                               Traceback (most recent call last)",
      "\u001b[0;32m<ipython-input-25-48511bc8364b>\u001b[0m in \u001b[0;36m<module>\u001b[0;34m\u001b[0m\n\u001b[1;32m      1\u001b[0m \u001b[0;32mwith\u001b[0m \u001b[0mopen\u001b[0m\u001b[0;34m(\u001b[0m\u001b[0;34m'onehot_encoded_dict.pickle'\u001b[0m\u001b[0;34m,\u001b[0m \u001b[0;34m'wb'\u001b[0m\u001b[0;34m)\u001b[0m \u001b[0;32mas\u001b[0m \u001b[0mhandle\u001b[0m\u001b[0;34m:\u001b[0m\u001b[0;34m\u001b[0m\u001b[0;34m\u001b[0m\u001b[0m\n\u001b[0;32m----> 2\u001b[0;31m     \u001b[0mpickle\u001b[0m\u001b[0;34m.\u001b[0m\u001b[0mdump\u001b[0m\u001b[0;34m(\u001b[0m\u001b[0monehot_encoded_dict\u001b[0m\u001b[0;34m,\u001b[0m \u001b[0mhandle\u001b[0m\u001b[0;34m,\u001b[0m \u001b[0mprotocol\u001b[0m\u001b[0;34m=\u001b[0m\u001b[0mpickle\u001b[0m\u001b[0;34m.\u001b[0m\u001b[0mHIGHEST_PROTOCOL\u001b[0m\u001b[0;34m)\u001b[0m\u001b[0;34m\u001b[0m\u001b[0;34m\u001b[0m\u001b[0m\n\u001b[0m",
      "\u001b[0;31mMemoryError\u001b[0m: "
     ]
    }
   ],
   "source": [
    "with open('onehot_encoded_dict.pickle', 'wb') as handle:\n",
    "    pickle.dump(onehot_encoded_dict, handle, protocol=pickle.HIGHEST_PROTOCOL)"
   ]
  },
  {
   "cell_type": "code",
   "execution_count": 26,
   "metadata": {},
   "outputs": [
    {
     "name": "stderr",
     "output_type": "stream",
     "text": [
      "/home/adhitir/anaconda3/envs/tf_class/lib/python3.6/site-packages/sklearn/externals/joblib/__init__.py:15: FutureWarning: sklearn.externals.joblib is deprecated in 0.21 and will be removed in 0.23. Please import this functionality directly from joblib, which can be installed with: pip install joblib. If this warning is raised when loading pickled models, you may need to re-serialize those models with scikit-learn 0.21+.\n",
      "  warnings.warn(msg, category=FutureWarning)\n"
     ]
    },
    {
     "data": {
      "text/plain": [
       "['onehot_encoded_dict.sav']"
      ]
     },
     "execution_count": 26,
     "metadata": {},
     "output_type": "execute_result"
    }
   ],
   "source": [
    "from sklearn.externals import joblib\n",
    "filename = 'onehot_encoded_dict.sav'\n",
    "joblib.dump(onehot_encoded_dict, filename)  "
   ]
  },
  {
   "cell_type": "code",
   "execution_count": null,
   "metadata": {},
   "outputs": [],
   "source": []
  }
 ],
 "metadata": {
  "kernelspec": {
   "display_name": "Python 3",
   "language": "python",
   "name": "python3"
  },
  "language_info": {
   "codemirror_mode": {
    "name": "ipython",
    "version": 3
   },
   "file_extension": ".py",
   "mimetype": "text/x-python",
   "name": "python",
   "nbconvert_exporter": "python",
   "pygments_lexer": "ipython3",
   "version": "3.6.10"
  }
 },
 "nbformat": 4,
 "nbformat_minor": 4
}
